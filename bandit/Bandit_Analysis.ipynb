{
 "cells": [
  {
   "cell_type": "code",
   "execution_count": 1,
   "id": "c1f55d81",
   "metadata": {},
   "outputs": [],
   "source": [
    "import pickle\n",
    "import numpy as np\n",
    "import pandas as pd\n",
    "from tqdm import tqdm\n",
    "import matplotlib.pyplot as plt\n",
    "from IPython.display import display"
   ]
  },
  {
   "cell_type": "code",
   "execution_count": 2,
   "id": "c4a18a28",
   "metadata": {},
   "outputs": [
    {
     "name": "stdout",
     "output_type": "stream",
     "text": [
      "Bandit_Analysis.ipynb\r\n",
      "Bandit_experiment.ipynb\r\n",
      "UCB_BernoulliArm_1.0_Naive_results.pkl\r\n",
      "UCB_GaussianArm_1.0_Naive_results.pkl\r\n",
      "\u001b[1m\u001b[36m__pycache__\u001b[m\u001b[m\r\n",
      "arms.py\r\n",
      "base_analysis.ipynb\r\n",
      "cfg.py\r\n",
      "data.py\r\n",
      "eGreedyMAB_BernoulliArm_0.5_Naive_results.pkl\r\n",
      "eGreedyMAB_BernoulliArm_0.5_Optimistic_results.pkl\r\n",
      "eGreedyMAB_BernoulliArm_1.0_Naive_results.pkl\r\n",
      "eGreedyMAB_BernoulliArm_1.0_Optimistic_results.pkl\r\n",
      "eGreedyMAB_GaussianArm_0.5_Naive_results.pkl\r\n",
      "eGreedyMAB_GaussianArm_0.5_Optimistic_results.pkl\r\n",
      "eGreedyMAB_GaussianArm_1.0_Naive_results.pkl\r\n",
      "eGreedyMAB_GaussianArm_1.0_Optimistic_results.pkl\r\n",
      "linucb.py\r\n",
      "mab.py\r\n",
      "main.py\r\n"
     ]
    }
   ],
   "source": [
    "!ls"
   ]
  },
  {
   "cell_type": "code",
   "execution_count": 3,
   "id": "6c727ae8",
   "metadata": {},
   "outputs": [],
   "source": [
    "def process(df, is_ucb=True):\n",
    "    ## get cumulative reward\n",
    "    cumsum_base = np.array([], dtype='float')\n",
    "    for e in df['sim'].unique():\n",
    "        rundf = df[df['sim'] == e]\n",
    "        run_cumsum = np.cumsum(rundf['reward'])\n",
    "        cumsum_base = np.append(cumsum_base, run_cumsum)\n",
    "    df['cumulative_reward'] = cumsum_base\n",
    "    \n",
    "    ## check if the optimal arm is selected at each run\n",
    "    df['chosen_optimal'] = (df['chosen_arm'] == df['optimal_arm']).astype('int')\n",
    "    \n",
    "    ## groupby\n",
    "    if is_ucb:\n",
    "        result = df[['conf', 'step', 'reward', 'chosen_optimal']].groupby(by=['epsilon', 'step']).mean(numeric_only=False)\n",
    "    else:\n",
    "        result = df[['epsilon', 'step', 'reward', 'chosen_optimal']].groupby(by=['epsilon', 'step']).mean(numeric_only=False)\n",
    "    result.reset_index(drop=False, inplace=True)\n",
    "    \n",
    "    return result"
   ]
  },
  {
   "cell_type": "code",
   "execution_count": 4,
   "id": "592b536b",
   "metadata": {},
   "outputs": [],
   "source": [
    "def plot_results(dfs, column, title, figsize=(12, 8), is_ucb=True):\n",
    "    split = column.split('_')\n",
    "    split[0] = split[0][0].upper() + split[0][1:]\n",
    "    ylabel = ' '.join(split)\n",
    "    \n",
    "    plt.figure(figsize=figsize)\n",
    "    for item in dfs:\n",
    "        if is_ucb:\n",
    "            plt.plot(item[column], label=f\"eps={item['conf'].iloc[0]}\")\n",
    "        else:\n",
    "            plt.plot(item[column], label=f\"eps={item['epsilon'].iloc[0]}\")\n",
    "    plt.grid(True)\n",
    "    plt.xlabel(\"Step\")\n",
    "    plt.ylabel(ylabel)\n",
    "    plt.legend()\n",
    "    plt.title(title)\n",
    "    plt.show()"
   ]
  },
  {
   "cell_type": "markdown",
   "id": "b358cb3f",
   "metadata": {},
   "source": [
    "# Naive approach"
   ]
  },
  {
   "cell_type": "markdown",
   "id": "597b5360",
   "metadata": {},
   "source": [
    "## alpha = 1"
   ]
  },
  {
   "cell_type": "code",
   "execution_count": 5,
   "id": "1ee53dfa",
   "metadata": {},
   "outputs": [],
   "source": [
    "with open(\"./eGreedyMAB_BernoulliArm_1.0_Naive_results.pkl\", 'rb') as f:\n",
    "    bernoulli = pickle.load(f)\n",
    "    \n",
    "with open(\"./eGreedyMAB_GaussianArm_1.0_Naive_results.pkl\", 'rb') as f:\n",
    "    gaussian = pickle.load(f)"
   ]
  },
  {
   "cell_type": "code",
   "execution_count": 6,
   "id": "3320b7cc",
   "metadata": {},
   "outputs": [
    {
     "name": "stderr",
     "output_type": "stream",
     "text": [
      "  0%|                                                                                                        | 0/6 [00:02<?, ?it/s]\n"
     ]
    },
    {
     "ename": "KeyError",
     "evalue": "\"['c'] not in index\"",
     "output_type": "error",
     "traceback": [
      "\u001b[0;31m---------------------------------------------------------------------------\u001b[0m",
      "\u001b[0;31mKeyError\u001b[0m                                  Traceback (most recent call last)",
      "\u001b[0;32m/var/folders/h_/ptp7_f_n1qd09d3cd2gz5dbw0000gn/T/ipykernel_16358/1947349768.py\u001b[0m in \u001b[0;36m<module>\u001b[0;34m\u001b[0m\n\u001b[1;32m      1\u001b[0m \u001b[0mbern_results_naive_1\u001b[0m \u001b[0;34m=\u001b[0m \u001b[0;34m[\u001b[0m\u001b[0;34m]\u001b[0m\u001b[0;34m\u001b[0m\u001b[0;34m\u001b[0m\u001b[0m\n\u001b[1;32m      2\u001b[0m \u001b[0;32mfor\u001b[0m \u001b[0mdf\u001b[0m \u001b[0;32min\u001b[0m \u001b[0mtqdm\u001b[0m\u001b[0;34m(\u001b[0m\u001b[0mbernoulli\u001b[0m\u001b[0;34m)\u001b[0m\u001b[0;34m:\u001b[0m\u001b[0;34m\u001b[0m\u001b[0;34m\u001b[0m\u001b[0m\n\u001b[0;32m----> 3\u001b[0;31m     \u001b[0mbern_results_naive_1\u001b[0m\u001b[0;34m.\u001b[0m\u001b[0mappend\u001b[0m\u001b[0;34m(\u001b[0m\u001b[0mprocess\u001b[0m\u001b[0;34m(\u001b[0m\u001b[0mdf\u001b[0m\u001b[0;34m)\u001b[0m\u001b[0;34m)\u001b[0m\u001b[0;34m\u001b[0m\u001b[0;34m\u001b[0m\u001b[0m\n\u001b[0m\u001b[1;32m      4\u001b[0m \u001b[0;34m\u001b[0m\u001b[0m\n\u001b[1;32m      5\u001b[0m \u001b[0mgaus_results_naive_1\u001b[0m \u001b[0;34m=\u001b[0m \u001b[0;34m[\u001b[0m\u001b[0;34m]\u001b[0m\u001b[0;34m\u001b[0m\u001b[0;34m\u001b[0m\u001b[0m\n",
      "\u001b[0;32m/var/folders/h_/ptp7_f_n1qd09d3cd2gz5dbw0000gn/T/ipykernel_16358/3185039017.py\u001b[0m in \u001b[0;36mprocess\u001b[0;34m(df)\u001b[0m\n\u001b[1;32m     12\u001b[0m \u001b[0;34m\u001b[0m\u001b[0m\n\u001b[1;32m     13\u001b[0m     \u001b[0;31m## groupby\u001b[0m\u001b[0;34m\u001b[0m\u001b[0;34m\u001b[0m\u001b[0m\n\u001b[0;32m---> 14\u001b[0;31m     \u001b[0mresult\u001b[0m \u001b[0;34m=\u001b[0m \u001b[0mdf\u001b[0m\u001b[0;34m[\u001b[0m\u001b[0;34m[\u001b[0m\u001b[0;34m'epsilon'\u001b[0m\u001b[0;34m,\u001b[0m \u001b[0;34m'step'\u001b[0m\u001b[0;34m,\u001b[0m \u001b[0;34m'reward'\u001b[0m\u001b[0;34m,\u001b[0m \u001b[0;34m'chosen_optimal'\u001b[0m\u001b[0;34m,\u001b[0m \u001b[0;34m'c'\u001b[0m\u001b[0;34m]\u001b[0m\u001b[0;34m]\u001b[0m\u001b[0;34m.\u001b[0m\u001b[0mgroupby\u001b[0m\u001b[0;34m(\u001b[0m\u001b[0mby\u001b[0m\u001b[0;34m=\u001b[0m\u001b[0;34m[\u001b[0m\u001b[0;34m'epsilon'\u001b[0m\u001b[0;34m,\u001b[0m \u001b[0;34m'step'\u001b[0m\u001b[0;34m]\u001b[0m\u001b[0;34m)\u001b[0m\u001b[0;34m.\u001b[0m\u001b[0mmean\u001b[0m\u001b[0;34m(\u001b[0m\u001b[0mnumeric_only\u001b[0m\u001b[0;34m=\u001b[0m\u001b[0;32mFalse\u001b[0m\u001b[0;34m)\u001b[0m\u001b[0;34m\u001b[0m\u001b[0;34m\u001b[0m\u001b[0m\n\u001b[0m\u001b[1;32m     15\u001b[0m     \u001b[0mresult\u001b[0m\u001b[0;34m.\u001b[0m\u001b[0mreset_index\u001b[0m\u001b[0;34m(\u001b[0m\u001b[0mdrop\u001b[0m\u001b[0;34m=\u001b[0m\u001b[0;32mFalse\u001b[0m\u001b[0;34m,\u001b[0m \u001b[0minplace\u001b[0m\u001b[0;34m=\u001b[0m\u001b[0;32mTrue\u001b[0m\u001b[0;34m)\u001b[0m\u001b[0;34m\u001b[0m\u001b[0;34m\u001b[0m\u001b[0m\n\u001b[1;32m     16\u001b[0m \u001b[0;34m\u001b[0m\u001b[0m\n",
      "\u001b[0;32m~/opt/anaconda3/lib/python3.9/site-packages/pandas/core/frame.py\u001b[0m in \u001b[0;36m__getitem__\u001b[0;34m(self, key)\u001b[0m\n\u001b[1;32m   3462\u001b[0m             \u001b[0;32mif\u001b[0m \u001b[0mis_iterator\u001b[0m\u001b[0;34m(\u001b[0m\u001b[0mkey\u001b[0m\u001b[0;34m)\u001b[0m\u001b[0;34m:\u001b[0m\u001b[0;34m\u001b[0m\u001b[0;34m\u001b[0m\u001b[0m\n\u001b[1;32m   3463\u001b[0m                 \u001b[0mkey\u001b[0m \u001b[0;34m=\u001b[0m \u001b[0mlist\u001b[0m\u001b[0;34m(\u001b[0m\u001b[0mkey\u001b[0m\u001b[0;34m)\u001b[0m\u001b[0;34m\u001b[0m\u001b[0;34m\u001b[0m\u001b[0m\n\u001b[0;32m-> 3464\u001b[0;31m             \u001b[0mindexer\u001b[0m \u001b[0;34m=\u001b[0m \u001b[0mself\u001b[0m\u001b[0;34m.\u001b[0m\u001b[0mloc\u001b[0m\u001b[0;34m.\u001b[0m\u001b[0m_get_listlike_indexer\u001b[0m\u001b[0;34m(\u001b[0m\u001b[0mkey\u001b[0m\u001b[0;34m,\u001b[0m \u001b[0maxis\u001b[0m\u001b[0;34m=\u001b[0m\u001b[0;36m1\u001b[0m\u001b[0;34m)\u001b[0m\u001b[0;34m[\u001b[0m\u001b[0;36m1\u001b[0m\u001b[0;34m]\u001b[0m\u001b[0;34m\u001b[0m\u001b[0;34m\u001b[0m\u001b[0m\n\u001b[0m\u001b[1;32m   3465\u001b[0m \u001b[0;34m\u001b[0m\u001b[0m\n\u001b[1;32m   3466\u001b[0m         \u001b[0;31m# take() does not accept boolean indexers\u001b[0m\u001b[0;34m\u001b[0m\u001b[0;34m\u001b[0m\u001b[0m\n",
      "\u001b[0;32m~/opt/anaconda3/lib/python3.9/site-packages/pandas/core/indexing.py\u001b[0m in \u001b[0;36m_get_listlike_indexer\u001b[0;34m(self, key, axis)\u001b[0m\n\u001b[1;32m   1312\u001b[0m             \u001b[0mkeyarr\u001b[0m\u001b[0;34m,\u001b[0m \u001b[0mindexer\u001b[0m\u001b[0;34m,\u001b[0m \u001b[0mnew_indexer\u001b[0m \u001b[0;34m=\u001b[0m \u001b[0max\u001b[0m\u001b[0;34m.\u001b[0m\u001b[0m_reindex_non_unique\u001b[0m\u001b[0;34m(\u001b[0m\u001b[0mkeyarr\u001b[0m\u001b[0;34m)\u001b[0m\u001b[0;34m\u001b[0m\u001b[0;34m\u001b[0m\u001b[0m\n\u001b[1;32m   1313\u001b[0m \u001b[0;34m\u001b[0m\u001b[0m\n\u001b[0;32m-> 1314\u001b[0;31m         \u001b[0mself\u001b[0m\u001b[0;34m.\u001b[0m\u001b[0m_validate_read_indexer\u001b[0m\u001b[0;34m(\u001b[0m\u001b[0mkeyarr\u001b[0m\u001b[0;34m,\u001b[0m \u001b[0mindexer\u001b[0m\u001b[0;34m,\u001b[0m \u001b[0maxis\u001b[0m\u001b[0;34m)\u001b[0m\u001b[0;34m\u001b[0m\u001b[0;34m\u001b[0m\u001b[0m\n\u001b[0m\u001b[1;32m   1315\u001b[0m \u001b[0;34m\u001b[0m\u001b[0m\n\u001b[1;32m   1316\u001b[0m         if needs_i8_conversion(ax.dtype) or isinstance(\n",
      "\u001b[0;32m~/opt/anaconda3/lib/python3.9/site-packages/pandas/core/indexing.py\u001b[0m in \u001b[0;36m_validate_read_indexer\u001b[0;34m(self, key, indexer, axis)\u001b[0m\n\u001b[1;32m   1375\u001b[0m \u001b[0;34m\u001b[0m\u001b[0m\n\u001b[1;32m   1376\u001b[0m             \u001b[0mnot_found\u001b[0m \u001b[0;34m=\u001b[0m \u001b[0mlist\u001b[0m\u001b[0;34m(\u001b[0m\u001b[0mensure_index\u001b[0m\u001b[0;34m(\u001b[0m\u001b[0mkey\u001b[0m\u001b[0;34m)\u001b[0m\u001b[0;34m[\u001b[0m\u001b[0mmissing_mask\u001b[0m\u001b[0;34m.\u001b[0m\u001b[0mnonzero\u001b[0m\u001b[0;34m(\u001b[0m\u001b[0;34m)\u001b[0m\u001b[0;34m[\u001b[0m\u001b[0;36m0\u001b[0m\u001b[0;34m]\u001b[0m\u001b[0;34m]\u001b[0m\u001b[0;34m.\u001b[0m\u001b[0munique\u001b[0m\u001b[0;34m(\u001b[0m\u001b[0;34m)\u001b[0m\u001b[0;34m)\u001b[0m\u001b[0;34m\u001b[0m\u001b[0;34m\u001b[0m\u001b[0m\n\u001b[0;32m-> 1377\u001b[0;31m             \u001b[0;32mraise\u001b[0m \u001b[0mKeyError\u001b[0m\u001b[0;34m(\u001b[0m\u001b[0;34mf\"{not_found} not in index\"\u001b[0m\u001b[0;34m)\u001b[0m\u001b[0;34m\u001b[0m\u001b[0;34m\u001b[0m\u001b[0m\n\u001b[0m\u001b[1;32m   1378\u001b[0m \u001b[0;34m\u001b[0m\u001b[0m\n\u001b[1;32m   1379\u001b[0m \u001b[0;34m\u001b[0m\u001b[0m\n",
      "\u001b[0;31mKeyError\u001b[0m: \"['c'] not in index\""
     ]
    }
   ],
   "source": [
    "bern_results_naive_1 = []\n",
    "for df in tqdm(bernoulli):\n",
    "    bern_results_naive_1.append(process(df), False)\n",
    "    \n",
    "gaus_results_naive_1 = []\n",
    "for df in tqdm(gaussian):\n",
    "    gaus_results_naive_1.append(process(df), False)"
   ]
  },
  {
   "cell_type": "markdown",
   "id": "348642a4",
   "metadata": {},
   "source": [
    "### Optimal Action %"
   ]
  },
  {
   "cell_type": "code",
   "execution_count": null,
   "id": "f8ee839d",
   "metadata": {},
   "outputs": [],
   "source": [
    "plot_results(bern_results_naive_1, column='chosen_optimal', title=\"Naive Approach - Bernoulli Arms, alpha=1\")"
   ]
  },
  {
   "cell_type": "code",
   "execution_count": null,
   "id": "03c96a70",
   "metadata": {
    "scrolled": false
   },
   "outputs": [],
   "source": [
    "plot_results(gaus_results_naive_1, column='chosen_optimal', title=\"Naive Approach - Gaussian Arms, alpha=1\")"
   ]
  },
  {
   "cell_type": "markdown",
   "id": "3e0c8e54",
   "metadata": {},
   "source": [
    "### Average Reward"
   ]
  },
  {
   "cell_type": "code",
   "execution_count": null,
   "id": "9f20221b",
   "metadata": {},
   "outputs": [],
   "source": [
    "plot_results(bern_results_naive_1, column='reward', title=\"Naive Approach - Bernoulli Arms, alpha=1\")"
   ]
  },
  {
   "cell_type": "code",
   "execution_count": null,
   "id": "9c5fd48c",
   "metadata": {},
   "outputs": [],
   "source": [
    "plot_results(gaus_results_naive_1, column='reward', title=\"Naive Approach - Gaussian Arms, alpha=1\")"
   ]
  },
  {
   "cell_type": "markdown",
   "id": "c5766f38",
   "metadata": {},
   "source": [
    "## alpha=0.5"
   ]
  },
  {
   "cell_type": "code",
   "execution_count": null,
   "id": "381b0a5f",
   "metadata": {},
   "outputs": [],
   "source": [
    "with open(\"./eGreedyMAB_BernoulliArm_0.5_Naive_results.pkl\", 'rb') as f:\n",
    "    bernoulli_naive_half = pickle.load(f)\n",
    "    \n",
    "with open(\"./eGreedyMAB_GaussianArm_0.5_Naive_results.pkl\", 'rb') as f:\n",
    "    gaussian_naive_half = pickle.load(f)"
   ]
  },
  {
   "cell_type": "code",
   "execution_count": null,
   "id": "2950d26c",
   "metadata": {},
   "outputs": [],
   "source": [
    "bern_results_naive_half = []\n",
    "for df in tqdm(bernoulli_naive_half):\n",
    "    bern_results_naive_half.append(process(df))\n",
    "    \n",
    "gaus_results_naive_half = []\n",
    "for df in tqdm(gaussian_naive_half):\n",
    "    gaus_results_naive_half.append(process(df))"
   ]
  },
  {
   "cell_type": "markdown",
   "id": "b1d38fdc",
   "metadata": {},
   "source": [
    "### Optimal action %"
   ]
  },
  {
   "cell_type": "code",
   "execution_count": null,
   "id": "a3d48a24",
   "metadata": {},
   "outputs": [],
   "source": [
    "plot_results(bern_results_naive_half, column='chosen_optimal', title=\"Naive Approach - Bernoulli Arms, alpha=0.5\")"
   ]
  },
  {
   "cell_type": "code",
   "execution_count": null,
   "id": "a2123668",
   "metadata": {},
   "outputs": [],
   "source": [
    "plot_results(gaus_results_naive_half, column='chosen_optimal', title=\"Naive Approach - Gaussian Arms, alpha=0.5\")"
   ]
  },
  {
   "cell_type": "markdown",
   "id": "bab04b6b",
   "metadata": {},
   "source": [
    "### Average Reward"
   ]
  },
  {
   "cell_type": "code",
   "execution_count": null,
   "id": "67d9e8c4",
   "metadata": {},
   "outputs": [],
   "source": [
    "plot_results(bern_results_naive_half, column='reward', title=\"Naive Approach - Bernoulli Arms, alpha=0.5\")"
   ]
  },
  {
   "cell_type": "code",
   "execution_count": null,
   "id": "cb0fe0a3",
   "metadata": {
    "scrolled": false
   },
   "outputs": [],
   "source": [
    "plot_results(gaus_results_naive_half, column='reward', title=\"Naive Approach - Gaussian Arms, alpha=0.5\")"
   ]
  },
  {
   "cell_type": "markdown",
   "id": "fccc962f",
   "metadata": {},
   "source": [
    "# Optimistic Approach"
   ]
  },
  {
   "cell_type": "markdown",
   "id": "bd239217",
   "metadata": {},
   "source": [
    "## alpha=1"
   ]
  },
  {
   "cell_type": "code",
   "execution_count": null,
   "id": "69f89a7d",
   "metadata": {},
   "outputs": [],
   "source": [
    "with open(\"./eGreedyMAB_BernoulliArm_1.0_Optimistic_results.pkl\", 'rb') as f:\n",
    "    bernoulli_opt_1 = pickle.load(f)\n",
    "    \n",
    "with open(\"./eGreedyMAB_GaussianArm_1.0_Optimistic_results.pkl\", 'rb') as f:\n",
    "    gaussian_opt_1 = pickle.load(f)"
   ]
  },
  {
   "cell_type": "code",
   "execution_count": null,
   "id": "cdeb47f6",
   "metadata": {},
   "outputs": [],
   "source": [
    "bern_results_opt_1 = []\n",
    "for df in tqdm(bernoulli_opt_1):\n",
    "    bern_results_opt_1.append(process(df))\n",
    "    \n",
    "gaus_results_opt_1 = []\n",
    "for df in tqdm(gaussian_opt_1):\n",
    "    gaus_results_opt_1.append(process(df))"
   ]
  },
  {
   "cell_type": "code",
   "execution_count": null,
   "id": "cbc5bab8",
   "metadata": {},
   "outputs": [],
   "source": [
    "print(f\"Bernoulli\\n\")\n",
    "print(\"Greedy\")\n",
    "display(bern_results_opt_1[0].head())\n",
    "print()\n",
    "display(bern_results_opt_1[0].tail())\n",
    "print()\n",
    "\n",
    "print(\"egreedy\")\n",
    "display(bern_results_opt_1[1].head())\n",
    "print()\n",
    "display(bern_results_opt_1[1].tail())"
   ]
  },
  {
   "cell_type": "markdown",
   "id": "14756d38",
   "metadata": {},
   "source": [
    "### Optimal action %"
   ]
  },
  {
   "cell_type": "code",
   "execution_count": null,
   "id": "ffac6864",
   "metadata": {},
   "outputs": [],
   "source": [
    "plot_results(bern_results_opt_1, column='chosen_optimal', title=\"Optimistic Approach - Bernoulli Arms, alpha=1.0\")"
   ]
  },
  {
   "cell_type": "code",
   "execution_count": null,
   "id": "6bb18d64",
   "metadata": {},
   "outputs": [],
   "source": [
    "plot_results(gaus_results_opt_1, column='chosen_optimal', title=\"Optimistic Approach - Gaussian Arms, alpha=1.0\")"
   ]
  },
  {
   "cell_type": "markdown",
   "id": "b0c6386c",
   "metadata": {},
   "source": [
    "### Average Reward"
   ]
  },
  {
   "cell_type": "code",
   "execution_count": null,
   "id": "565dfae1",
   "metadata": {},
   "outputs": [],
   "source": [
    "plot_results(bern_results_opt_1, column='reward', title=\"Optimistic Approach - Bernoulli Arms, alpha=1.0\")"
   ]
  },
  {
   "cell_type": "code",
   "execution_count": null,
   "id": "d7408704",
   "metadata": {
    "scrolled": false
   },
   "outputs": [],
   "source": [
    "plot_results(gaus_results_opt_1, column='reward', title=\"Optimistic Approach - Gaussian Arms, alpha=1.0\")"
   ]
  },
  {
   "cell_type": "markdown",
   "id": "a55a78c2",
   "metadata": {},
   "source": [
    "## alpha=0.5"
   ]
  },
  {
   "cell_type": "code",
   "execution_count": null,
   "id": "67d89d8e",
   "metadata": {},
   "outputs": [],
   "source": [
    "with open(\"./eGreedyMAB_BernoulliArm_0.5_Optimistic_results.pkl\", 'rb') as f:\n",
    "    bernoulli_opt_half = pickle.load(f)\n",
    "    \n",
    "with open(\"./eGreedyMAB_GaussianArm_0.5_Optimistic_results.pkl\", 'rb') as f:\n",
    "    gaussian_opt_half = pickle.load(f)"
   ]
  },
  {
   "cell_type": "code",
   "execution_count": null,
   "id": "e50ed469",
   "metadata": {},
   "outputs": [],
   "source": [
    "bern_results_opt_half = []\n",
    "for df in tqdm(bernoulli_opt_half):\n",
    "    bern_results_opt_half.append(process(df))\n",
    "    \n",
    "gaus_results_opt_half = []\n",
    "for df in tqdm(gaussian_opt_half):\n",
    "    gaus_results_opt_half.append(process(df))"
   ]
  },
  {
   "cell_type": "markdown",
   "id": "e67aa67e",
   "metadata": {},
   "source": [
    "### Optimal action %"
   ]
  },
  {
   "cell_type": "code",
   "execution_count": null,
   "id": "62dfba55",
   "metadata": {},
   "outputs": [],
   "source": [
    "plot_results(bern_results_opt_half, column='chosen_optimal', \n",
    "             title=\"Optimistic Approach - Bernoulli Arms, alpha=0.5\")"
   ]
  },
  {
   "cell_type": "code",
   "execution_count": null,
   "id": "1f5989c0",
   "metadata": {},
   "outputs": [],
   "source": [
    "plot_results(gaus_results_opt_half, column='chosen_optimal', \n",
    "             title=\"Optimistic Approach - Gaussian Arms, alpha=0.5\")"
   ]
  },
  {
   "cell_type": "markdown",
   "id": "47c4e41a",
   "metadata": {},
   "source": [
    "### Average Reward"
   ]
  },
  {
   "cell_type": "code",
   "execution_count": null,
   "id": "19c8fc97",
   "metadata": {},
   "outputs": [],
   "source": [
    "plot_results(bern_results_opt_half, column='reward', \n",
    "             title=\"Optimistic Approach - Bernoulli Arms, alpha=0.5\")"
   ]
  },
  {
   "cell_type": "code",
   "execution_count": null,
   "id": "fb649a2a",
   "metadata": {
    "scrolled": false
   },
   "outputs": [],
   "source": [
    "plot_results(gaus_results_opt_half, column='reward', \n",
    "             title=\"Optimistic Approach - Gaussian Arms, alpha=0.5\")"
   ]
  },
  {
   "cell_type": "markdown",
   "id": "109cd88b",
   "metadata": {},
   "source": [
    "# Comparison - Naive vs Optimistic"
   ]
  },
  {
   "cell_type": "markdown",
   "id": "9974f4f6",
   "metadata": {},
   "source": [
    "## Bernoulli alpha=1"
   ]
  },
  {
   "cell_type": "markdown",
   "id": "d63e5fa1",
   "metadata": {},
   "source": [
    "### Optimal action %"
   ]
  },
  {
   "cell_type": "code",
   "execution_count": null,
   "id": "abe4a81a",
   "metadata": {
    "scrolled": true
   },
   "outputs": [],
   "source": [
    "## find the best epsilon\n",
    "naive_mean_choices = [item['chosen_optimal'].mean() for item in bern_results_naive_1]\n",
    "naive_argmax = np.argmax(naive_mean_choices)\n",
    "\n",
    "print(f\"Naive Approach\\t Best epsilon - {bern_results_naive_1[naive_argmax]['epsilon'].iloc[0]}\")"
   ]
  },
  {
   "cell_type": "code",
   "execution_count": null,
   "id": "e865a350",
   "metadata": {},
   "outputs": [],
   "source": [
    "column = 'chosen_optimal'\n",
    "best_epsilon = bern_results_naive_1[naive_argmax]['epsilon'].iloc[0]\n",
    "figsize=(12, 8)\n",
    "\n",
    "split = column.split('_')\n",
    "split[0] = split[0][0].upper() + split[0][1:]\n",
    "ylabel = ' '.join(split)\n",
    "\n",
    "plt.figure(figsize=figsize)\n",
    "plt.plot(bern_results_naive_1[naive_argmax][column], label=f\"Naive approach, eps={best_epsilon}\")\n",
    "plt.plot(bern_results_opt_1[0][column], label=f\"Optimistic approach, Greedy\")\n",
    "plt.grid(True)\n",
    "plt.xlabel(\"Step\")\n",
    "plt.ylabel(ylabel)\n",
    "plt.legend()\n",
    "plt.title(f\"Comparison {ylabel} - Naive vs Optimistic\")\n",
    "plt.show()"
   ]
  },
  {
   "cell_type": "markdown",
   "id": "3cc72167",
   "metadata": {},
   "source": [
    "### Average reward"
   ]
  },
  {
   "cell_type": "code",
   "execution_count": null,
   "id": "239aa16f",
   "metadata": {},
   "outputs": [],
   "source": [
    "## find the best epsilon\n",
    "naive_mean_reward = [item['reward'].mean() for item in bern_results_naive_1]\n",
    "naive_argmax = np.argmax(naive_mean_reward)\n",
    "\n",
    "print(f\"Naive Approach\\t Best epsilon - {bern_results_naive_1[naive_argmax]['epsilon'].iloc[0]}\")"
   ]
  },
  {
   "cell_type": "code",
   "execution_count": null,
   "id": "665e38c2",
   "metadata": {
    "scrolled": false
   },
   "outputs": [],
   "source": [
    "column = 'reward'\n",
    "best_epsilon = bern_results_naive_1[naive_argmax]['epsilon'].iloc[0]\n",
    "figsize=(12, 8)\n",
    "\n",
    "split = column.split('_')\n",
    "split[0] = split[0][0].upper() + split[0][1:]\n",
    "ylabel = ' '.join(split)\n",
    "\n",
    "plt.figure(figsize=figsize)\n",
    "plt.plot(bern_results_naive_1[naive_argmax][column], label=f\"Naive approach, eps={best_epsilon}\")\n",
    "plt.plot(bern_results_opt_1[0][column], label=f\"Optimistic approach, Greedy\")\n",
    "plt.grid(True)\n",
    "plt.xlabel(\"Step\")\n",
    "plt.ylabel(ylabel)\n",
    "plt.legend()\n",
    "plt.title(f\"Comparison {ylabel} - Naive vs Optimistic\")\n",
    "plt.show()"
   ]
  },
  {
   "cell_type": "markdown",
   "id": "fdc7fe63",
   "metadata": {},
   "source": [
    "## Bernoulli alpha=0.5"
   ]
  },
  {
   "cell_type": "markdown",
   "id": "d228a9fe",
   "metadata": {},
   "source": [
    "### Optimal action %"
   ]
  },
  {
   "cell_type": "code",
   "execution_count": null,
   "id": "9b2a0af4",
   "metadata": {
    "scrolled": true
   },
   "outputs": [],
   "source": [
    "## find the best epsilon\n",
    "naive_mean_choices = [item['chosen_optimal'].mean() for item in bern_results_naive_half]\n",
    "naive_argmax = np.argmax(naive_mean_choices)\n",
    "\n",
    "print(f\"Naive Approach\\t Best epsilon - {bern_results_naive_half[naive_argmax]['epsilon'].iloc[0]}\")"
   ]
  },
  {
   "cell_type": "code",
   "execution_count": null,
   "id": "1c385a52",
   "metadata": {},
   "outputs": [],
   "source": [
    "column = 'chosen_optimal'\n",
    "best_epsilon = bern_results_naive_half[naive_argmax]['epsilon'].iloc[0]\n",
    "figsize=(12, 8)\n",
    "\n",
    "split = column.split('_')\n",
    "split[0] = split[0][0].upper() + split[0][1:]\n",
    "ylabel = ' '.join(split)\n",
    "\n",
    "plt.figure(figsize=figsize)\n",
    "plt.plot(bern_results_naive_half[naive_argmax][column], label=f\"Naive approach, eps={best_epsilon}\")\n",
    "plt.plot(bern_results_opt_half[0][column], label=f\"Optimistic approach, Greedy\")\n",
    "plt.grid(True)\n",
    "plt.xlabel(\"Step\")\n",
    "plt.ylabel(ylabel)\n",
    "plt.legend()\n",
    "plt.title(f\"Comparison {ylabel} - Naive vs Optimistic\")\n",
    "plt.show()"
   ]
  },
  {
   "cell_type": "markdown",
   "id": "af257761",
   "metadata": {},
   "source": [
    "### Average reward"
   ]
  },
  {
   "cell_type": "code",
   "execution_count": null,
   "id": "84ffe350",
   "metadata": {},
   "outputs": [],
   "source": [
    "## find the best epsilon\n",
    "naive_mean_reward = [item['reward'].mean() for item in bern_results_naive_half]\n",
    "naive_argmax = np.argmax(naive_mean_reward)\n",
    "\n",
    "print(f\"Naive Approach\\t Best epsilon - {bern_results_naive_half[naive_argmax]['epsilon'].iloc[0]}\")"
   ]
  },
  {
   "cell_type": "code",
   "execution_count": null,
   "id": "8fa8d562",
   "metadata": {
    "scrolled": false
   },
   "outputs": [],
   "source": [
    "column = 'reward'\n",
    "best_epsilon = bern_results_naive_half[naive_argmax]['epsilon'].iloc[0]\n",
    "figsize=(12, 8)\n",
    "\n",
    "split = column.split('_')\n",
    "split[0] = split[0][0].upper() + split[0][1:]\n",
    "ylabel = ' '.join(split)\n",
    "\n",
    "plt.figure(figsize=figsize)\n",
    "plt.plot(bern_results_naive_half[naive_argmax][column], label=f\"Naive approach, eps={best_epsilon}\")\n",
    "plt.plot(bern_results_opt_half[0][column], label=f\"Optimistic approach, Greedy\")\n",
    "plt.grid(True)\n",
    "plt.xlabel(\"Step\")\n",
    "plt.ylabel(ylabel)\n",
    "plt.legend()\n",
    "plt.title(f\"Comparison {ylabel} - Naive vs Optimistic\")\n",
    "plt.show()"
   ]
  },
  {
   "cell_type": "markdown",
   "id": "02187daa",
   "metadata": {},
   "source": [
    "## Gaussian alpha=1"
   ]
  },
  {
   "cell_type": "markdown",
   "id": "52ee8345",
   "metadata": {},
   "source": [
    "### Optimal action %"
   ]
  },
  {
   "cell_type": "code",
   "execution_count": null,
   "id": "044b815c",
   "metadata": {
    "scrolled": true
   },
   "outputs": [],
   "source": [
    "## find the best epsilon\n",
    "naive_mean_choices = [item['chosen_optimal'].mean() for item in gaus_results_naive_1]\n",
    "naive_argmax = np.argmax(naive_mean_choices)\n",
    "\n",
    "print(f\"Naive Approach\\t Best epsilon - {gaus_results_naive_1[naive_argmax]['epsilon'].iloc[0]}\")"
   ]
  },
  {
   "cell_type": "code",
   "execution_count": null,
   "id": "8b791d67",
   "metadata": {},
   "outputs": [],
   "source": [
    "column = 'chosen_optimal'\n",
    "best_epsilon = gaus_results_naive_1[naive_argmax]['epsilon'].iloc[0]\n",
    "figsize=(12, 8)\n",
    "\n",
    "split = column.split('_')\n",
    "split[0] = split[0][0].upper() + split[0][1:]\n",
    "ylabel = ' '.join(split)\n",
    "\n",
    "plt.figure(figsize=figsize)\n",
    "plt.plot(gaus_results_naive_1[naive_argmax][column], label=f\"Naive approach, eps={best_epsilon}\")\n",
    "plt.plot(gaus_results_opt_1[0][column], label=f\"Optimistic approach, Greedy\")\n",
    "plt.grid(True)\n",
    "plt.xlabel(\"Step\")\n",
    "plt.ylabel(ylabel)\n",
    "plt.legend()\n",
    "plt.title(f\"Comparison {ylabel} - Naive vs Optimistic\")\n",
    "plt.show()"
   ]
  },
  {
   "cell_type": "markdown",
   "id": "4dfdc51b",
   "metadata": {},
   "source": [
    "### Average reward"
   ]
  },
  {
   "cell_type": "code",
   "execution_count": null,
   "id": "a63b484c",
   "metadata": {},
   "outputs": [],
   "source": [
    "## find the best epsilon\n",
    "naive_mean_reward = [item['reward'].mean() for item in gaus_results_naive_1]\n",
    "naive_argmax = np.argmax(naive_mean_reward)\n",
    "\n",
    "print(f\"Naive Approach\\t Best epsilon - {gaus_results_naive_1[naive_argmax]['epsilon'].iloc[0]}\")"
   ]
  },
  {
   "cell_type": "code",
   "execution_count": null,
   "id": "8421e595",
   "metadata": {
    "scrolled": false
   },
   "outputs": [],
   "source": [
    "column = 'reward'\n",
    "best_epsilon = gaus_results_naive_1[naive_argmax]['epsilon'].iloc[0]\n",
    "figsize=(12, 8)\n",
    "\n",
    "split = column.split('_')\n",
    "split[0] = split[0][0].upper() + split[0][1:]\n",
    "ylabel = ' '.join(split)\n",
    "\n",
    "plt.figure(figsize=figsize)\n",
    "plt.plot(gaus_results_naive_1[naive_argmax][column], label=f\"Naive approach, eps={best_epsilon}\")\n",
    "plt.plot(gaus_results_opt_1[0][column], label=f\"Optimistic approach, Greedy\")\n",
    "plt.grid(True)\n",
    "plt.xlabel(\"Step\")\n",
    "plt.ylabel(ylabel)\n",
    "plt.legend()\n",
    "plt.title(f\"Comparison {ylabel} - Naive vs Optimistic\")\n",
    "plt.show()"
   ]
  },
  {
   "cell_type": "markdown",
   "id": "766ace29",
   "metadata": {},
   "source": [
    "## Bernoulli alpha=0.5"
   ]
  },
  {
   "cell_type": "markdown",
   "id": "385c3ae6",
   "metadata": {},
   "source": [
    "### Optimal action %"
   ]
  },
  {
   "cell_type": "code",
   "execution_count": null,
   "id": "d5f1a99f",
   "metadata": {
    "scrolled": true
   },
   "outputs": [],
   "source": [
    "## find the best epsilon\n",
    "naive_mean_choices = [item['chosen_optimal'].mean() for item in gaus_results_naive_half]\n",
    "naive_argmax = np.argmax(naive_mean_choices)\n",
    "\n",
    "print(f\"Naive Approach\\t Best epsilon - {gaus_results_naive_half[naive_argmax]['epsilon'].iloc[0]}\")"
   ]
  },
  {
   "cell_type": "code",
   "execution_count": null,
   "id": "51a959e8",
   "metadata": {},
   "outputs": [],
   "source": [
    "column = 'chosen_optimal'\n",
    "best_epsilon = gaus_results_naive_half[naive_argmax]['epsilon'].iloc[0]\n",
    "figsize=(12, 8)\n",
    "\n",
    "split = column.split('_')\n",
    "split[0] = split[0][0].upper() + split[0][1:]\n",
    "ylabel = ' '.join(split)\n",
    "\n",
    "plt.figure(figsize=figsize)\n",
    "plt.plot(gaus_results_naive_half[naive_argmax][column], label=f\"Naive approach, eps={best_epsilon}\")\n",
    "plt.plot(gaus_results_opt_half[0][column], label=f\"Optimistic approach, Greedy\")\n",
    "plt.grid(True)\n",
    "plt.xlabel(\"Step\")\n",
    "plt.ylabel(ylabel)\n",
    "plt.legend()\n",
    "plt.title(f\"Comparison {ylabel} - Naive vs Optimistic\")\n",
    "plt.show()"
   ]
  },
  {
   "cell_type": "markdown",
   "id": "6033f487",
   "metadata": {},
   "source": [
    "### Average reward"
   ]
  },
  {
   "cell_type": "code",
   "execution_count": null,
   "id": "1fe86af9",
   "metadata": {},
   "outputs": [],
   "source": [
    "## find the best epsilon\n",
    "naive_mean_reward = [item['reward'].mean() for item in gaus_results_naive_half]\n",
    "naive_argmax = np.argmax(naive_mean_reward)\n",
    "\n",
    "print(f\"Naive Approach\\t Best epsilon - {gaus_results_naive_half[naive_argmax]['epsilon'].iloc[0]}\")"
   ]
  },
  {
   "cell_type": "code",
   "execution_count": null,
   "id": "8387f7e4",
   "metadata": {
    "scrolled": false
   },
   "outputs": [],
   "source": [
    "column = 'reward'\n",
    "best_epsilon = gaus_results_naive_half[naive_argmax]['epsilon'].iloc[0]\n",
    "figsize=(12, 8)\n",
    "\n",
    "split = column.split('_')\n",
    "split[0] = split[0][0].upper() + split[0][1:]\n",
    "ylabel = ' '.join(split)\n",
    "\n",
    "plt.figure(figsize=figsize)\n",
    "plt.plot(gaus_results_naive_half[naive_argmax][column], label=f\"Naive approach, eps={best_epsilon}\")\n",
    "plt.plot(gaus_results_opt_half[0][column], label=f\"Optimistic approach, Greedy\")\n",
    "plt.grid(True)\n",
    "plt.xlabel(\"Step\")\n",
    "plt.ylabel(ylabel)\n",
    "plt.legend()\n",
    "plt.title(f\"Comparison {ylabel} - Naive vs Optimistic\")\n",
    "plt.show()"
   ]
  },
  {
   "cell_type": "markdown",
   "id": "f727d814",
   "metadata": {},
   "source": [
    "# UCB"
   ]
  },
  {
   "cell_type": "code",
   "execution_count": null,
   "id": "3b2fdc4b",
   "metadata": {},
   "outputs": [],
   "source": [
    "with open(\"./UCB_BernoulliArm_1.0_Naive_results.pkl\", 'rb') as f:\n",
    "    ucb_bernoulli = pickle.load(f)\n",
    "    \n",
    "with open(\"./UCB_GaussianArm_1.0_Naive_results.pkl\", 'rb') as f:\n",
    "    ucb_gaussian = pickle.load(f)"
   ]
  },
  {
   "cell_type": "code",
   "execution_count": null,
   "id": "94dce1df",
   "metadata": {},
   "outputs": [],
   "source": [
    "ucb_bern_results = []\n",
    "for df in tqdm(ucb_bernoulli):\n",
    "    ucb_bern_results.append(process(df))\n",
    "    \n",
    "ucb_gaus_results = []\n",
    "for df in tqdm(ucb_gaussian):\n",
    "    ucb_gaus_results.append(process(df))"
   ]
  },
  {
   "cell_type": "markdown",
   "id": "357be4a7",
   "metadata": {},
   "source": [
    "### Optimal Action %"
   ]
  },
  {
   "cell_type": "code",
   "execution_count": null,
   "id": "3eed2caa",
   "metadata": {},
   "outputs": [],
   "source": [
    "plot_results(ucb_bern_results, column='chosen_optimal', title=\"Naive Approach - Bernoulli Arms, alpha=1\")"
   ]
  },
  {
   "cell_type": "code",
   "execution_count": null,
   "id": "731afde2",
   "metadata": {
    "scrolled": false
   },
   "outputs": [],
   "source": [
    "plot_results(ucb_gaus_results, column='chosen_optimal', title=\"Naive Approach - Gaussian Arms, alpha=1\")"
   ]
  },
  {
   "cell_type": "markdown",
   "id": "00a61851",
   "metadata": {},
   "source": [
    "### Average Reward"
   ]
  },
  {
   "cell_type": "code",
   "execution_count": null,
   "id": "bc72d33c",
   "metadata": {},
   "outputs": [],
   "source": [
    "plot_results(ucb_bern_results, column='reward', title=\"Naive Approach - Bernoulli Arms, alpha=1\")"
   ]
  },
  {
   "cell_type": "code",
   "execution_count": null,
   "id": "0cbcd1de",
   "metadata": {},
   "outputs": [],
   "source": [
    "plot_results(ucb_gaus_results, column='reward', title=\"Naive Approach - Gaussian Arms, alpha=1\")"
   ]
  },
  {
   "cell_type": "code",
   "execution_count": null,
   "id": "03f8cabb",
   "metadata": {},
   "outputs": [],
   "source": []
  }
 ],
 "metadata": {
  "kernelspec": {
   "display_name": "Python 3 (ipykernel)",
   "language": "python",
   "name": "python3"
  },
  "language_info": {
   "codemirror_mode": {
    "name": "ipython",
    "version": 3
   },
   "file_extension": ".py",
   "mimetype": "text/x-python",
   "name": "python",
   "nbconvert_exporter": "python",
   "pygments_lexer": "ipython3",
   "version": "3.9.7"
  }
 },
 "nbformat": 4,
 "nbformat_minor": 5
}
