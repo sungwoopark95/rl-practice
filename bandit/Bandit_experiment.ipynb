{
 "cells": [
  {
   "cell_type": "code",
   "execution_count": 1,
   "id": "bb444f43",
   "metadata": {},
   "outputs": [
    {
     "name": "stdout",
     "output_type": "stream",
     "text": [
      "Bandit_Analysis.ipynb\r\n",
      "Bandit_experiment.ipynb\r\n",
      "UCB_BernoulliArm_1.0_Naive_results.pkl\r\n",
      "UCB_GaussianArm_1.0_Naive_results.pkl\r\n",
      "\u001b[1m\u001b[36m__pycache__\u001b[m\u001b[m\r\n",
      "arms.py\r\n",
      "base_analysis.ipynb\r\n",
      "cfg.py\r\n",
      "data.py\r\n",
      "eGreedyMAB_BernoulliArm_0.5_Naive_results.pkl\r\n",
      "eGreedyMAB_BernoulliArm_0.5_Optimistic_results.pkl\r\n",
      "eGreedyMAB_BernoulliArm_1.0_Naive_results.pkl\r\n",
      "eGreedyMAB_BernoulliArm_1.0_Optimistic_results.pkl\r\n",
      "eGreedyMAB_GaussianArm_0.5_Naive_results.pkl\r\n",
      "eGreedyMAB_GaussianArm_0.5_Optimistic_results.pkl\r\n",
      "eGreedyMAB_GaussianArm_1.0_Naive_results.pkl\r\n",
      "eGreedyMAB_GaussianArm_1.0_Optimistic_results.pkl\r\n",
      "linucb.py\r\n",
      "mab.py\r\n",
      "main.py\r\n"
     ]
    }
   ],
   "source": [
    "import pickle\n",
    "import numpy as np\n",
    "import pandas as pd\n",
    "from tqdm import tqdm\n",
    "import matplotlib.pyplot as plt\n",
    "from IPython.display import display\n",
    "\n",
    "!ls"
   ]
  },
  {
   "cell_type": "code",
   "execution_count": 2,
   "id": "5863881a",
   "metadata": {},
   "outputs": [],
   "source": [
    "!rm -rf -r *.pkl"
   ]
  },
  {
   "cell_type": "code",
   "execution_count": 3,
   "id": "e814fe9e",
   "metadata": {},
   "outputs": [
    {
     "name": "stdout",
     "output_type": "stream",
     "text": [
      "Bandit_Analysis.ipynb   base_analysis.ipynb     mab.py\r\n",
      "Bandit_experiment.ipynb cfg.py                  main.py\r\n",
      "\u001b[1m\u001b[36m__pycache__\u001b[m\u001b[m             data.py\r\n",
      "arms.py                 linucb.py\r\n"
     ]
    }
   ],
   "source": [
    "!ls"
   ]
  },
  {
   "cell_type": "code",
   "execution_count": 2,
   "id": "d7b9001e",
   "metadata": {},
   "outputs": [
    {
     "name": "stdout",
     "output_type": "stream",
     "text": [
      "Naive mab bandit\n",
      "Action profile: [0.76, 0.67, 0.62, 0.15, 0.24]\n",
      "Optimal arm: 0\n",
      "100%|███████████████████████████████████████| 2000/2000 [00:21<00:00, 93.74it/s]\n",
      "100%|███████████████████████████████████████| 2000/2000 [00:21<00:00, 93.92it/s]\n",
      "100%|███████████████████████████████████████| 2000/2000 [00:21<00:00, 91.61it/s]\n",
      "100%|██████████████████████████████████████| 2000/2000 [00:19<00:00, 102.98it/s]\n",
      "100%|██████████████████████████████████████| 2000/2000 [00:17<00:00, 111.17it/s]\n",
      "100%|██████████████████████████████████████| 2000/2000 [00:15<00:00, 132.16it/s]\n",
      "===================================\n",
      "Naive mab bandit\n",
      "Action profile: [ 8 12  5  3  0]\n",
      "Optimal arm: 1\n",
      "100%|███████████████████████████████████████| 2000/2000 [00:24<00:00, 82.42it/s]\n",
      "100%|███████████████████████████████████████| 2000/2000 [00:24<00:00, 83.11it/s]\n",
      "100%|███████████████████████████████████████| 2000/2000 [00:23<00:00, 83.37it/s]\n",
      "100%|███████████████████████████████████████| 2000/2000 [00:23<00:00, 86.42it/s]\n",
      "100%|███████████████████████████████████████| 2000/2000 [00:21<00:00, 94.77it/s]\n",
      "100%|██████████████████████████████████████| 2000/2000 [00:17<00:00, 115.51it/s]\n",
      "===================================\n",
      "Naive mab bandit\n",
      "Action profile: [0.76, 0.67, 0.62, 0.15, 0.24]\n",
      "Optimal arm: 0\n",
      "100%|███████████████████████████████████████| 2000/2000 [00:21<00:00, 93.99it/s]\n",
      "100%|███████████████████████████████████████| 2000/2000 [00:21<00:00, 92.59it/s]\n",
      "100%|███████████████████████████████████████| 2000/2000 [00:21<00:00, 93.51it/s]\n",
      "100%|███████████████████████████████████████| 2000/2000 [00:21<00:00, 93.10it/s]\n",
      "100%|███████████████████████████████████████| 2000/2000 [00:21<00:00, 93.19it/s]\n",
      "100%|███████████████████████████████████████| 2000/2000 [00:21<00:00, 93.10it/s]\n",
      "===================================\n",
      "Naive mab bandit\n",
      "Action profile: [ 8 12  5  3  0]\n",
      "Optimal arm: 1\n",
      "100%|███████████████████████████████████████| 2000/2000 [00:24<00:00, 81.76it/s]\n",
      "100%|███████████████████████████████████████| 2000/2000 [00:25<00:00, 78.98it/s]\n",
      "100%|███████████████████████████████████████| 2000/2000 [00:25<00:00, 79.84it/s]\n",
      "100%|███████████████████████████████████████| 2000/2000 [00:24<00:00, 81.62it/s]\n",
      "100%|███████████████████████████████████████| 2000/2000 [00:24<00:00, 81.40it/s]\n",
      "100%|███████████████████████████████████████| 2000/2000 [00:24<00:00, 81.87it/s]\n"
     ]
    }
   ],
   "source": [
    "!python3 main.py --nsim 2000 --nsteps 400 --bernoulli --n_arms 5 --tqdm --model mab --seed 777\n",
    "print(f\"=\" * 35)\n",
    "!python3 main.py --nsim 2000 --nsteps 400 --n_arms 5 --tqdm --model mab --seed 777\n",
    "print(f\"=\" * 35)\n",
    "!python3 main.py --nsim 2000 --nsteps 400 --bernoulli --n_arms 5 --tqdm --alpha 0.5 --model mab --seed 777\n",
    "print(f\"=\" * 35)\n",
    "!python3 main.py --nsim 2000 --nsteps 400 --n_arms 5 --tqdm --alpha 0.5 --model mab --seed 777"
   ]
  },
  {
   "cell_type": "code",
   "execution_count": 3,
   "id": "a538bf26",
   "metadata": {},
   "outputs": [
    {
     "name": "stdout",
     "output_type": "stream",
     "text": [
      "Optimistic mab bandit\n",
      "Action profile: [0.76, 0.67, 0.62, 0.15, 0.24]\n",
      "Optimal arm: 0\n",
      "100%|███████████████████████████████████████| 2000/2000 [00:21<00:00, 93.98it/s]\n",
      "100%|███████████████████████████████████████| 2000/2000 [00:21<00:00, 93.97it/s]\n",
      "100%|███████████████████████████████████████| 2000/2000 [00:20<00:00, 97.34it/s]\n",
      "100%|██████████████████████████████████████| 2000/2000 [00:19<00:00, 103.86it/s]\n",
      "100%|██████████████████████████████████████| 2000/2000 [00:17<00:00, 112.56it/s]\n",
      "100%|██████████████████████████████████████| 2000/2000 [00:14<00:00, 141.35it/s]\n",
      "===================================\n",
      "Optimistic mab bandit\n",
      "Action profile: [ 8 12  5  3  0]\n",
      "Optimal arm: 1\n",
      "100%|███████████████████████████████████████| 2000/2000 [00:24<00:00, 80.42it/s]\n",
      "100%|███████████████████████████████████████| 2000/2000 [00:24<00:00, 81.26it/s]\n",
      "100%|███████████████████████████████████████| 2000/2000 [00:24<00:00, 83.28it/s]\n",
      "100%|███████████████████████████████████████| 2000/2000 [00:22<00:00, 87.91it/s]\n",
      "100%|███████████████████████████████████████| 2000/2000 [00:21<00:00, 93.38it/s]\n",
      "100%|██████████████████████████████████████| 2000/2000 [00:17<00:00, 113.98it/s]\n",
      "===================================\n",
      "Optimistic mab bandit\n",
      "Action profile: [0.76, 0.67, 0.62, 0.15, 0.24]\n",
      "Optimal arm: 0\n",
      "  0%|                                                  | 0/2000 [00:00<?, ?it/s]\n",
      "Traceback (most recent call last):\n",
      "  File \"/Users/sungwoo/Desktop/Computer/gsds/ohlab/rl-practice/bandit/main.py\", line 34, in run\n",
      "    epsilons.append(learner.epsilon)\n",
      "UnboundLocalError: local variable 'epsilons' referenced before assignment\n",
      "\n",
      "During handling of the above exception, another exception occurred:\n",
      "\n",
      "Traceback (most recent call last):\n",
      "  File \"/Users/sungwoo/Desktop/Computer/gsds/ohlab/rl-practice/bandit/main.py\", line 95, in <module>\n",
      "    result = run(nsim=cfg.nsim, nsteps=cfg.nsteps, learner=learner, arms=arms, optimal_arm=optimal_arm)\n",
      "  File \"/Users/sungwoo/Desktop/Computer/gsds/ohlab/rl-practice/bandit/main.py\", line 36, in run\n",
      "    epsilons.append(0.)\n",
      "UnboundLocalError: local variable 'epsilons' referenced before assignment\n",
      "===================================\n",
      "Optimistic mab bandit\n",
      "Action profile: [ 8 12  5  3  0]\n",
      "Optimal arm: 1\n",
      "  0%|                                                  | 0/2000 [00:00<?, ?it/s]\n",
      "Traceback (most recent call last):\n",
      "  File \"/Users/sungwoo/Desktop/Computer/gsds/ohlab/rl-practice/bandit/main.py\", line 34, in run\n",
      "    epsilons.append(learner.epsilon)\n",
      "UnboundLocalError: local variable 'epsilons' referenced before assignment\n",
      "\n",
      "During handling of the above exception, another exception occurred:\n",
      "\n",
      "Traceback (most recent call last):\n",
      "  File \"/Users/sungwoo/Desktop/Computer/gsds/ohlab/rl-practice/bandit/main.py\", line 95, in <module>\n",
      "    result = run(nsim=cfg.nsim, nsteps=cfg.nsteps, learner=learner, arms=arms, optimal_arm=optimal_arm)\n",
      "  File \"/Users/sungwoo/Desktop/Computer/gsds/ohlab/rl-practice/bandit/main.py\", line 36, in run\n",
      "    epsilons.append(0.)\n",
      "UnboundLocalError: local variable 'epsilons' referenced before assignment\n"
     ]
    }
   ],
   "source": [
    "!python3 main.py --nsim 2000 --nsteps 400 --bernoulli --n_arms 5 --tqdm --model mab --initial 5 --seed 777\n",
    "print(f\"=\" * 35)\n",
    "!python3 main.py --nsim 2000 --nsteps 400 --n_arms 5 --tqdm --model mab --initial 5 --seed 777\n",
    "print(f\"=\" * 35)\n",
    "!python3 main.py --nsim 2000 --nsteps 400 --bernoulli --n_arms 5 --tqdm --alpha 0.5 --model mab --initial 5 --seed 777\n",
    "print(f\"=\" * 35)\n",
    "!python3 main.py --nsim 2000 --nsteps 400 --n_arms 5 --tqdm --alpha 0.5 --model mab --initial 5 --seed 777"
   ]
  },
  {
   "cell_type": "code",
   "execution_count": 6,
   "id": "91a96d49",
   "metadata": {},
   "outputs": [
    {
     "name": "stdout",
     "output_type": "stream",
     "text": [
      "Naive ucb bandit\n",
      "Action profile: [0.76, 0.67, 0.62, 0.15, 0.24]\n",
      "Optimal arm: 0\n",
      "100%|███████████████████████████████████████| 2000/2000 [00:27<00:00, 73.67it/s]\n",
      "100%|███████████████████████████████████████| 2000/2000 [00:27<00:00, 74.00it/s]\n",
      "100%|███████████████████████████████████████| 2000/2000 [00:27<00:00, 74.06it/s]\n",
      "100%|███████████████████████████████████████| 2000/2000 [00:26<00:00, 74.25it/s]\n",
      "100%|███████████████████████████████████████| 2000/2000 [00:27<00:00, 73.85it/s]\n",
      "===================================\n",
      "Naive ucb bandit\n",
      "Action profile: [ 8 12  5  3  0]\n",
      "Optimal arm: 1\n",
      "100%|███████████████████████████████████████| 2000/2000 [00:30<00:00, 66.05it/s]\n",
      "100%|███████████████████████████████████████| 2000/2000 [00:30<00:00, 65.88it/s]\n",
      "100%|███████████████████████████████████████| 2000/2000 [00:30<00:00, 65.48it/s]\n",
      "100%|███████████████████████████████████████| 2000/2000 [00:30<00:00, 65.59it/s]\n",
      "100%|███████████████████████████████████████| 2000/2000 [00:30<00:00, 65.49it/s]\n",
      "===================================\n"
     ]
    }
   ],
   "source": [
    "!python3 main.py --nsim 2000 --nsteps 400 --bernoulli --n_arms 5 --tqdm --model ucb --seed 777\n",
    "print(f\"=\" * 35)\n",
    "!python3 main.py --nsim 2000 --nsteps 400 --n_arms 5 --tqdm --model ucb --seed 777\n",
    "print(f\"=\" * 35)"
   ]
  },
  {
   "cell_type": "code",
   "execution_count": null,
   "id": "807c934f",
   "metadata": {},
   "outputs": [],
   "source": []
  }
 ],
 "metadata": {
  "kernelspec": {
   "display_name": "Python 3 (ipykernel)",
   "language": "python",
   "name": "python3"
  },
  "language_info": {
   "codemirror_mode": {
    "name": "ipython",
    "version": 3
   },
   "file_extension": ".py",
   "mimetype": "text/x-python",
   "name": "python",
   "nbconvert_exporter": "python",
   "pygments_lexer": "ipython3",
   "version": "3.9.7"
  }
 },
 "nbformat": 4,
 "nbformat_minor": 5
}
