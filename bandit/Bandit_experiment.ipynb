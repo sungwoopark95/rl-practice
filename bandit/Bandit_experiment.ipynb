{
 "cells": [
  {
   "cell_type": "code",
   "execution_count": 1,
   "id": "bb444f43",
   "metadata": {},
   "outputs": [
    {
     "name": "stdout",
     "output_type": "stream",
     "text": [
      "analysis.ipynb\r\n",
      "Analysis.ipynb\r\n",
      "Bandit_experiment.ipynb\r\n",
      "cfg.py\r\n",
      "data.py\r\n",
      "eGreedyMAB_3000_500_BernoulliArm_0.25_results.pkl\r\n",
      "eGreedyMAB_3000_500_BernoulliArm_1.0_results.pkl\r\n",
      "eGreedyMAB_3000_500_GaussianArm_0.25_results.pkl\r\n",
      "eGreedyMAB_3000_500_GaussianArm_1.0_results.pkl\r\n",
      "linucb.py\r\n",
      "mab.py\r\n",
      "main.py\r\n",
      "__pycache__\r\n",
      "run.sh\r\n"
     ]
    }
   ],
   "source": [
    "import pickle\n",
    "import numpy as np\n",
    "import pandas as pd\n",
    "from tqdm import tqdm\n",
    "import matplotlib.pyplot as plt\n",
    "from IPython.display import display\n",
    "\n",
    "!ls"
   ]
  },
  {
   "cell_type": "code",
   "execution_count": 2,
   "id": "5863881a",
   "metadata": {},
   "outputs": [],
   "source": [
    "!rm -rf -r *.pkl"
   ]
  },
  {
   "cell_type": "code",
   "execution_count": 3,
   "id": "e814fe9e",
   "metadata": {},
   "outputs": [
    {
     "name": "stdout",
     "output_type": "stream",
     "text": [
      "analysis.ipynb\tBandit_experiment.ipynb  data.py    mab.py   __pycache__\r\n",
      "Analysis.ipynb\tcfg.py\t\t\t linucb.py  main.py  run.sh\r\n"
     ]
    }
   ],
   "source": [
    "!ls"
   ]
  },
  {
   "cell_type": "code",
   "execution_count": 4,
   "id": "d7b9001e",
   "metadata": {},
   "outputs": [
    {
     "name": "stdout",
     "output_type": "stream",
     "text": [
      "Action profile: [0.91, 0.38, 0.57, 0.29, 0.81, 0.76, 0.95, 1.0, 0.67, 0.53]\n",
      "Optimal arm: 7\n",
      "100%|██████████████████████████████████████| 3000/3000 [00:26<00:00, 114.53it/s]\n",
      "100%|██████████████████████████████████████| 3000/3000 [00:25<00:00, 119.95it/s]\n",
      "100%|██████████████████████████████████████| 3000/3000 [00:24<00:00, 123.35it/s]\n",
      "100%|██████████████████████████████████████| 3000/3000 [00:24<00:00, 122.52it/s]\n",
      "100%|██████████████████████████████████████| 3000/3000 [00:22<00:00, 133.88it/s]\n",
      "100%|██████████████████████████████████████| 3000/3000 [00:19<00:00, 152.53it/s]\n",
      "100%|██████████████████████████████████████| 3000/3000 [00:17<00:00, 175.65it/s]\n",
      "100%|██████████████████████████████████████| 3000/3000 [00:15<00:00, 188.72it/s]\n"
     ]
    }
   ],
   "source": [
    "!python3 main.py --nsim 3000 --nsteps 500 --bernoulli --n_arms 10 --tqdm --model mab"
   ]
  },
  {
   "cell_type": "code",
   "execution_count": 5,
   "id": "a538bf26",
   "metadata": {},
   "outputs": [
    {
     "name": "stdout",
     "output_type": "stream",
     "text": [
      "Action profile: [ 0 10  8  3  7 14 11  5  4  2]\n",
      "Optimal arm: 5\n",
      "100%|██████████████████████████████████████| 3000/3000 [00:27<00:00, 109.94it/s]\n",
      "100%|██████████████████████████████████████| 3000/3000 [00:24<00:00, 124.23it/s]\n",
      "100%|██████████████████████████████████████| 3000/3000 [00:22<00:00, 134.14it/s]\n",
      "100%|██████████████████████████████████████| 3000/3000 [00:21<00:00, 139.02it/s]\n",
      "100%|██████████████████████████████████████| 3000/3000 [00:20<00:00, 144.88it/s]\n",
      "100%|██████████████████████████████████████| 3000/3000 [00:20<00:00, 148.02it/s]\n",
      "100%|██████████████████████████████████████| 3000/3000 [00:18<00:00, 163.96it/s]\n",
      "100%|██████████████████████████████████████| 3000/3000 [00:17<00:00, 174.18it/s]\n"
     ]
    }
   ],
   "source": [
    "!python3 main.py --nsim 3000 --nsteps 500 --n_arms 10 --tqdm --model mab"
   ]
  },
  {
   "cell_type": "code",
   "execution_count": 6,
   "id": "8eb38c74",
   "metadata": {},
   "outputs": [
    {
     "name": "stdout",
     "output_type": "stream",
     "text": [
      "Action profile: [0.15, 0.1, 0.62, 0.76, 0.72, 0.95, 0.43, 0.34, 0.38, 0.81]\n",
      "Optimal arm: 5\n",
      "100%|██████████████████████████████████████| 3000/3000 [00:25<00:00, 117.81it/s]\n",
      "100%|██████████████████████████████████████| 3000/3000 [00:25<00:00, 118.27it/s]\n",
      "100%|██████████████████████████████████████| 3000/3000 [00:25<00:00, 118.27it/s]\n",
      "100%|██████████████████████████████████████| 3000/3000 [00:25<00:00, 118.03it/s]\n",
      "100%|██████████████████████████████████████| 3000/3000 [00:25<00:00, 117.86it/s]\n",
      "100%|██████████████████████████████████████| 3000/3000 [00:25<00:00, 117.75it/s]\n",
      "100%|██████████████████████████████████████| 3000/3000 [00:25<00:00, 117.78it/s]\n",
      "100%|██████████████████████████████████████| 3000/3000 [00:25<00:00, 118.20it/s]\n"
     ]
    }
   ],
   "source": [
    "!python3 main.py --nsim 3000 --nsteps 500 --bernoulli --n_arms 10 --tqdm --alpha 0.25 --model mab"
   ]
  },
  {
   "cell_type": "code",
   "execution_count": 7,
   "id": "ad3b0737",
   "metadata": {},
   "outputs": [
    {
     "name": "stdout",
     "output_type": "stream",
     "text": [
      "Action profile: [ 1  4 13  2  5  8  9 10  3 12]\n",
      "Optimal arm: 2\n",
      "100%|██████████████████████████████████████| 3000/3000 [00:26<00:00, 111.21it/s]\n",
      "100%|██████████████████████████████████████| 3000/3000 [00:26<00:00, 111.54it/s]\n",
      "100%|██████████████████████████████████████| 3000/3000 [00:26<00:00, 111.29it/s]\n",
      "100%|██████████████████████████████████████| 3000/3000 [00:26<00:00, 111.21it/s]\n",
      "100%|██████████████████████████████████████| 3000/3000 [00:26<00:00, 111.57it/s]\n",
      "100%|██████████████████████████████████████| 3000/3000 [00:26<00:00, 111.51it/s]\n",
      "100%|██████████████████████████████████████| 3000/3000 [00:27<00:00, 110.88it/s]\n",
      "100%|██████████████████████████████████████| 3000/3000 [00:26<00:00, 111.34it/s]\n"
     ]
    }
   ],
   "source": [
    "!python3 main.py --nsim 3000 --nsteps 500 --n_arms 10 --tqdm --alpha 0.25 --model mab"
   ]
  },
  {
   "cell_type": "code",
   "execution_count": null,
   "id": "91a96d49",
   "metadata": {},
   "outputs": [],
   "source": []
  }
 ],
 "metadata": {
  "kernelspec": {
   "display_name": "Python 3",
   "language": "python",
   "name": "python3"
  },
  "language_info": {
   "codemirror_mode": {
    "name": "ipython",
    "version": 3
   },
   "file_extension": ".py",
   "mimetype": "text/x-python",
   "name": "python",
   "nbconvert_exporter": "python",
   "pygments_lexer": "ipython3",
   "version": "3.9.15"
  }
 },
 "nbformat": 4,
 "nbformat_minor": 5
}
