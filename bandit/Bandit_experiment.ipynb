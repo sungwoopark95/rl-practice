{
 "cells": [
  {
   "cell_type": "code",
   "execution_count": 1,
   "id": "bb444f43",
   "metadata": {},
   "outputs": [
    {
     "name": "stdout",
     "output_type": "stream",
     "text": [
      "Bandit_Analysis.ipynb   base_analysis.ipynb     mab.py\r\n",
      "Bandit_experiment.ipynb cfg.py                  main.py\r\n",
      "\u001b[1m\u001b[36m__pycache__\u001b[m\u001b[m             data.py\r\n",
      "arms.py                 linucb.py\r\n"
     ]
    }
   ],
   "source": [
    "import pickle\n",
    "import numpy as np\n",
    "import pandas as pd\n",
    "from tqdm import tqdm\n",
    "import matplotlib.pyplot as plt\n",
    "from IPython.display import display\n",
    "\n",
    "!ls"
   ]
  },
  {
   "cell_type": "code",
   "execution_count": 2,
   "id": "5863881a",
   "metadata": {},
   "outputs": [
    {
     "name": "stdout",
     "output_type": "stream",
     "text": [
      "zsh:1: no matches found: *.pkl\r\n"
     ]
    }
   ],
   "source": [
    "!rm -rf -r *.pkl"
   ]
  },
  {
   "cell_type": "code",
   "execution_count": 3,
   "id": "e814fe9e",
   "metadata": {},
   "outputs": [
    {
     "name": "stdout",
     "output_type": "stream",
     "text": [
      "Bandit_Analysis.ipynb   base_analysis.ipynb     mab.py\r\n",
      "Bandit_experiment.ipynb cfg.py                  main.py\r\n",
      "\u001b[1m\u001b[36m__pycache__\u001b[m\u001b[m             data.py\r\n",
      "arms.py                 linucb.py\r\n"
     ]
    }
   ],
   "source": [
    "!ls"
   ]
  },
  {
   "cell_type": "code",
   "execution_count": 4,
   "id": "d7b9001e",
   "metadata": {},
   "outputs": [
    {
     "name": "stdout",
     "output_type": "stream",
     "text": [
      "Naive mab bandit\n",
      "Action profile: [0.62, 0.57, 0.81, 0.76, 0.72]\n",
      "Optimal arm: 2\n",
      "100%|███████████████████████████████████████| 2000/2000 [00:20<00:00, 96.45it/s]\n",
      "100%|███████████████████████████████████████| 2000/2000 [00:20<00:00, 99.31it/s]\n",
      "100%|███████████████████████████████████████| 2000/2000 [00:20<00:00, 98.02it/s]\n",
      "100%|██████████████████████████████████████| 2000/2000 [00:18<00:00, 107.32it/s]\n",
      "100%|██████████████████████████████████████| 2000/2000 [00:17<00:00, 113.70it/s]\n",
      "100%|██████████████████████████████████████| 2000/2000 [00:14<00:00, 141.36it/s]\n",
      "100%|██████████████████████████████████████| 2000/2000 [00:13<00:00, 144.56it/s]\n",
      "===================================\n",
      "Naive mab bandit\n",
      "Action profile: [11 13 10  2  0]\n",
      "Optimal arm: 1\n",
      "100%|███████████████████████████████████████| 2000/2000 [00:24<00:00, 81.10it/s]\n",
      "100%|███████████████████████████████████████| 2000/2000 [00:24<00:00, 83.08it/s]\n",
      "100%|███████████████████████████████████████| 2000/2000 [00:23<00:00, 85.08it/s]\n",
      "100%|███████████████████████████████████████| 2000/2000 [00:22<00:00, 89.00it/s]\n",
      "100%|██████████████████████████████████████| 2000/2000 [00:19<00:00, 102.27it/s]\n",
      "100%|██████████████████████████████████████| 2000/2000 [00:18<00:00, 110.34it/s]\n",
      "100%|██████████████████████████████████████| 2000/2000 [00:17<00:00, 112.90it/s]\n",
      "===================================\n",
      "Naive mab bandit\n",
      "Action profile: [0.62, 0.57, 0.81, 0.76, 0.72]\n",
      "Optimal arm: 2\n",
      "100%|███████████████████████████████████████| 2000/2000 [00:21<00:00, 94.99it/s]\n",
      "100%|███████████████████████████████████████| 2000/2000 [00:21<00:00, 94.75it/s]\n",
      "100%|███████████████████████████████████████| 2000/2000 [00:21<00:00, 94.67it/s]\n",
      "100%|███████████████████████████████████████| 2000/2000 [00:21<00:00, 94.43it/s]\n",
      "100%|███████████████████████████████████████| 2000/2000 [00:21<00:00, 92.77it/s]\n",
      "100%|███████████████████████████████████████| 2000/2000 [00:21<00:00, 94.27it/s]\n",
      "100%|███████████████████████████████████████| 2000/2000 [00:21<00:00, 94.35it/s]\n",
      "===================================\n",
      "Naive mab bandit\n",
      "Action profile: [11 13 10  2  0]\n",
      "Optimal arm: 1\n",
      "100%|███████████████████████████████████████| 2000/2000 [00:24<00:00, 80.02it/s]\n",
      "100%|███████████████████████████████████████| 2000/2000 [00:25<00:00, 79.63it/s]\n",
      "100%|███████████████████████████████████████| 2000/2000 [00:24<00:00, 80.99it/s]\n",
      "100%|███████████████████████████████████████| 2000/2000 [00:24<00:00, 80.32it/s]\n",
      "100%|███████████████████████████████████████| 2000/2000 [00:24<00:00, 80.34it/s]\n",
      "100%|███████████████████████████████████████| 2000/2000 [00:24<00:00, 80.27it/s]\n",
      "100%|███████████████████████████████████████| 2000/2000 [00:24<00:00, 80.00it/s]\n"
     ]
    }
   ],
   "source": [
    "!python3 main.py --nsim 2000 --nsteps 400 --bernoulli --n_arms 5 --tqdm --model mab\n",
    "print(f\"=\" * 35)\n",
    "!python3 main.py --nsim 2000 --nsteps 400 --n_arms 5 --tqdm --model mab\n",
    "print(f\"=\" * 35)\n",
    "!python3 main.py --nsim 2000 --nsteps 400 --bernoulli --n_arms 5 --tqdm --alpha 0.5 --model mab\n",
    "print(f\"=\" * 35)\n",
    "!python3 main.py --nsim 2000 --nsteps 400 --n_arms 5 --tqdm --alpha 0.5 --model mab"
   ]
  },
  {
   "cell_type": "code",
   "execution_count": null,
   "id": "a538bf26",
   "metadata": {},
   "outputs": [
    {
     "name": "stdout",
     "output_type": "stream",
     "text": [
      "Optimistic mab bandit\n",
      "Action profile: [0.62, 0.57, 0.81, 0.76, 0.72]\n",
      "Optimal arm: 2\n",
      "100%|███████████████████████████████████████| 2000/2000 [00:21<00:00, 93.54it/s]\n",
      "100%|███████████████████████████████████████| 2000/2000 [00:20<00:00, 96.06it/s]\n",
      "100%|███████████████████████████████████████| 2000/2000 [00:20<00:00, 97.81it/s]\n",
      "100%|██████████████████████████████████████| 2000/2000 [00:18<00:00, 107.69it/s]\n",
      "100%|██████████████████████████████████████| 2000/2000 [00:17<00:00, 111.64it/s]\n",
      "100%|██████████████████████████████████████| 2000/2000 [00:14<00:00, 138.64it/s]\n",
      "  4%|█▊                                      | 90/2000 [00:00<00:13, 140.67it/s]"
     ]
    }
   ],
   "source": [
    "!python3 main.py --nsim 2000 --nsteps 400 --bernoulli --n_arms 5 --tqdm --model mab --initial 5\n",
    "print(f\"=\" * 35)\n",
    "!python3 main.py --nsim 2000 --nsteps 400 --n_arms 5 --tqdm --model mab --initial 5\n",
    "print(f\"=\" * 35)\n",
    "!python3 main.py --nsim 2000 --nsteps 400 --bernoulli --n_arms 5 --tqdm --alpha 0.5 --model mab --initial 5\n",
    "print(f\"=\" * 35)\n",
    "!python3 main.py --nsim 2000 --nsteps 400 --n_arms 5 --tqdm --alpha 0.5 --model mab --initial 5"
   ]
  },
  {
   "cell_type": "code",
   "execution_count": null,
   "id": "91a96d49",
   "metadata": {},
   "outputs": [],
   "source": [
    "!python3 main.py --nsim 2000 --nsteps 400 --bernoulli --n_arms 5 --tqdm --model ucb\n",
    "print(f\"=\" * 35)\n",
    "!python3 main.py --nsim 2000 --nsteps 400 --n_arms 5 --tqdm --model ucb\n",
    "print(f\"=\" * 35)\n",
    "!python3 main.py --nsim 2000 --nsteps 400 --bernoulli --n_arms 5 --tqdm --alpha 0.5 --model ucb\n",
    "print(f\"=\" * 35)\n",
    "!python3 main.py --nsim 2000 --nsteps 400 --n_arms 5 --tqdm --alpha 0.5 --model ucb"
   ]
  },
  {
   "cell_type": "code",
   "execution_count": null,
   "id": "b634cea3",
   "metadata": {},
   "outputs": [],
   "source": []
  }
 ],
 "metadata": {
  "kernelspec": {
   "display_name": "Python 3 (ipykernel)",
   "language": "python",
   "name": "python3"
  },
  "language_info": {
   "codemirror_mode": {
    "name": "ipython",
    "version": 3
   },
   "file_extension": ".py",
   "mimetype": "text/x-python",
   "name": "python",
   "nbconvert_exporter": "python",
   "pygments_lexer": "ipython3",
   "version": "3.9.7"
  }
 },
 "nbformat": 4,
 "nbformat_minor": 5
}
