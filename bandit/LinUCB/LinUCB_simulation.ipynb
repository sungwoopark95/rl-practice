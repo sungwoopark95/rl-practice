{
 "cells": [
  {
   "cell_type": "code",
   "execution_count": null,
   "id": "64b1457d",
   "metadata": {},
   "outputs": [],
   "source": [
    "import numpy as np\n",
    "import pandas as pd\n",
    "import matplotlib.pyplot as plt\n",
    "from linucb import LinUCB, eLinUCB, HybridLinUCB\n",
    "import os\n",
    "from tqdm.auto import tqdm\n",
    "from IPython.display import display\n",
    "from sklearn.preprocessing import LabelEncoder\n",
    "import warnings\n",
    "\n",
    "pd.set_option(\"display.max_columns\", None)\n",
    "warnings.filterwarnings('ignore')\n",
    "\n",
    "%matplotlib inline"
   ]
  },
  {
   "cell_type": "markdown",
   "id": "2ae43dbb",
   "metadata": {},
   "source": [
    "# Load Data"
   ]
  },
  {
   "cell_type": "code",
   "execution_count": null,
   "id": "9b9336da",
   "metadata": {},
   "outputs": [],
   "source": [
    "print(os.listdir(\"./datasets\"))\n",
    "\n",
    "dfs = []\n",
    "for fname in os.listdir(\"./datasets\"):\n",
    "    print(fname)\n",
    "    df = pd.read_csv(f\"./datasets/{fname}\", engine='python', low_memory=True)\n",
    "    dfs.append(df)"
   ]
  },
  {
   "cell_type": "code",
   "execution_count": null,
   "id": "661600a5",
   "metadata": {},
   "outputs": [],
   "source": [
    "users, movies, ratings = dfs\n",
    "display(users.head())\n",
    "print(f\"=\"*35)\n",
    "display(movies.head())\n",
    "print(f\"=\"*35)\n",
    "display(ratings.head())"
   ]
  },
  {
   "cell_type": "markdown",
   "id": "b14c0ed2",
   "metadata": {},
   "source": [
    "# Preprocess"
   ]
  },
  {
   "cell_type": "markdown",
   "id": "5085af38",
   "metadata": {},
   "source": [
    "## Users"
   ]
  },
  {
   "cell_type": "code",
   "execution_count": null,
   "id": "8d3c1573",
   "metadata": {},
   "outputs": [],
   "source": [
    "## gender one-hot\n",
    "users['gender'] = users['gender'].map(lambda x: 1 if x == \"F\" else 0)\n",
    "users.head()"
   ]
  },
  {
   "cell_type": "code",
   "execution_count": null,
   "id": "9a5430ce",
   "metadata": {},
   "outputs": [],
   "source": [
    "## age one-hot\n",
    "bins = [0, 20, 30, 40, 50, 60, np.inf]\n",
    "names = ['<20', '20-29', '30-39','40-49', '51-60', '60+']\n",
    "labels = [i for i in range(len(names))]\n",
    "\n",
    "name_label = dict()\n",
    "for name, label in zip(names, labels):\n",
    "    name_label[name] = label\n",
    "\n",
    "print(name_label)\n",
    "users['agegroup'] = pd.cut(users['age'], bins=bins, labels=names)\n",
    "users['agegroup'] = users['agegroup'].map(name_label)\n",
    "users.head()"
   ]
  },
  {
   "cell_type": "code",
   "execution_count": null,
   "id": "68db1b48",
   "metadata": {},
   "outputs": [],
   "source": [
    "users.drop('age', axis=1, inplace=True)\n",
    "\n",
    "age_onehot = np.zeros(shape=(users.shape[0], users['agegroup'].nunique()), dtype=np.uint8)\n",
    "for i in range(users.shape[0]):\n",
    "    group_idx = users['agegroup'].iloc[i]\n",
    "    age_onehot[i][group_idx] = 1\n",
    "\n",
    "for j in range(users['agegroup'].nunique()):\n",
    "    users[f\"agegroup_{j}\"] = age_onehot[:, j]\n",
    "\n",
    "users.drop('agegroup', axis=1, inplace=True)\n",
    "users.head()"
   ]
  },
  {
   "cell_type": "code",
   "execution_count": null,
   "id": "6a0c5e2c",
   "metadata": {},
   "outputs": [],
   "source": [
    "## occupation one-hot\n",
    "occupation_onehot = np.zeros(shape=(users.shape[0], users['occupation'].nunique()), dtype=np.uint8)\n",
    "for i in range(users.shape[0]):\n",
    "    group_idx = users['occupation'].iloc[i]\n",
    "    occupation_onehot[i][group_idx] = 1\n",
    "\n",
    "for j in range(users['occupation'].nunique()):\n",
    "    users[f\"occupation_{j}\"] = occupation_onehot[:, j]\n",
    "\n",
    "users.drop('occupation', axis=1, inplace=True)\n",
    "users.head()"
   ]
  },
  {
   "cell_type": "code",
   "execution_count": null,
   "id": "899314de",
   "metadata": {},
   "outputs": [],
   "source": [
    "## drop zipcode\n",
    "users.drop('zipcode', axis=1, inplace=True)\n",
    "users.head()"
   ]
  },
  {
   "cell_type": "markdown",
   "id": "31e8f159",
   "metadata": {},
   "source": [
    "## Movies"
   ]
  },
  {
   "cell_type": "code",
   "execution_count": null,
   "id": "82567426",
   "metadata": {},
   "outputs": [],
   "source": [
    "## drop title\n",
    "movies.drop('title', axis=1, inplace=True)"
   ]
  },
  {
   "cell_type": "code",
   "execution_count": null,
   "id": "6057fbfe",
   "metadata": {},
   "outputs": [],
   "source": [
    "genres = []\n",
    "for i in range(movies.shape[0]):\n",
    "    genre_string = movies['genre'].iloc[i]\n",
    "    genre_split = genre_string.split(', ')\n",
    "    for g in genre_split:\n",
    "        if g not in genres:\n",
    "            genres.append(g)\n",
    "genres = sorted(genres)\n",
    "print(genres)"
   ]
  },
  {
   "cell_type": "code",
   "execution_count": null,
   "id": "0af3a5d5",
   "metadata": {
    "scrolled": true
   },
   "outputs": [],
   "source": [
    "## genre one-hot\n",
    "genre_onehot = np.zeros(shape=(movies.shape[0], len(genres)), dtype=np.uint8)\n",
    "for i in range(movies.shape[0]):\n",
    "    g_split = movies['genre'].iloc[i].split(', ')\n",
    "    for g in g_split:\n",
    "        idx = genres.index(g)\n",
    "        genre_onehot[i, idx] = 1\n",
    "\n",
    "for j in range(len(genres)):\n",
    "    genre_name = genres[j]\n",
    "    movies[f\"is_{genre_name}\"] = genre_onehot[:, j]\n",
    "\n",
    "movies.drop('genre', axis=1, inplace=True)\n",
    "movies.head()"
   ]
  },
  {
   "cell_type": "markdown",
   "id": "a5d9d461",
   "metadata": {},
   "source": [
    "## Ratings"
   ]
  },
  {
   "cell_type": "code",
   "execution_count": null,
   "id": "435c1038",
   "metadata": {},
   "outputs": [],
   "source": [
    "ratings.drop('timestamp', axis=1, inplace=True)\n",
    "ratings['reward'] = ratings['ratings'].map(lambda x: 1 if x > 4 else 0)\n",
    "ratings.drop(['ratings'], axis=1, inplace=True)"
   ]
  },
  {
   "cell_type": "code",
   "execution_count": null,
   "id": "c9f5f1b7",
   "metadata": {},
   "outputs": [],
   "source": [
    "# user_mean = ratings[['userid', 'ratings']].groupby(by='userid').mean()\n",
    "# user_mean.reset_index(drop=False, inplace=True)\n",
    "# user_mean.head()"
   ]
  },
  {
   "cell_type": "code",
   "execution_count": null,
   "id": "3d9eea50",
   "metadata": {},
   "outputs": [],
   "source": [
    "# ratings = pd.merge(left=ratings, right=user_mean, on='userid', how='left')\n",
    "# ratings.head()"
   ]
  },
  {
   "cell_type": "code",
   "execution_count": null,
   "id": "193b0389",
   "metadata": {},
   "outputs": [],
   "source": [
    "# ratings['reward'] = (ratings['ratings_x'] > ratings['ratings_y']).astype(np.uint8)\n",
    "# ratings.drop(['ratings_x', 'ratings_y'], axis=1, inplace=True)\n",
    "# print(ratings.shape)\n",
    "ratings.head()"
   ]
  },
  {
   "cell_type": "code",
   "execution_count": null,
   "id": "1046b158",
   "metadata": {},
   "outputs": [],
   "source": [
    "n = 100\n",
    "\n",
    "top_movies = ratings[[\"movieid\", \"userid\"]].groupby(by=\"movieid\").count().sort_values(by=[\"userid\"], ascending=False)\n",
    "top_movies.reset_index(drop=False, inplace=True)\n",
    "top_movies.head()\n",
    "top_n_movies = movies[movies['movieid'].isin(top_movies.head(n)['movieid'])]\n",
    "top_n_movies.sort_values(by='movieid', inplace=True)\n",
    "top_n_movies.reset_index(drop=True, inplace=True)\n",
    "top_n_movies.head()"
   ]
  },
  {
   "cell_type": "code",
   "execution_count": null,
   "id": "84c149e2",
   "metadata": {},
   "outputs": [],
   "source": [
    "top_n_ratings = ratings[ratings['movieid'].isin(top_n_movies['movieid'])]\n",
    "top_n_ratings.reset_index(drop=True, inplace=True)\n",
    "print(top_n_ratings.shape)\n",
    "top_n_ratings.head()"
   ]
  },
  {
   "cell_type": "markdown",
   "id": "24ac43bd",
   "metadata": {},
   "source": [
    "# LinUCB Simulation"
   ]
  },
  {
   "cell_type": "code",
   "execution_count": null,
   "id": "aeebdf0c",
   "metadata": {},
   "outputs": [],
   "source": [
    "def run(learner, data, arms, users, nsim):\n",
    "    arm_features = arms.shape[1]\n",
    "    user_features = users.shape[1] - 1\n",
    "    d = arm_features + user_features\n",
    "    \n",
    "    aligned_ctr = []\n",
    "    aligned_timestep = 0\n",
    "    cum_reward = 0\n",
    "    \n",
    "    arm_list = arms['movieid']\n",
    "    for sim in range(nsim):\n",
    "        if sim == 0:\n",
    "            data = data.copy()\n",
    "            unused = []\n",
    "        else:\n",
    "            data = data.iloc[unused].copy()\n",
    "            unused = []\n",
    "        cnt = data.shape[0]\n",
    "        for i in tqdm(range(data.shape[0])):\n",
    "            user_id = data['userid'].iloc[i]\n",
    "            movie_id = data['movieid'].iloc[i]\n",
    "            user_feature = users[users['userid'] == user_id].iloc[:, 1:].to_numpy()\n",
    "            chosen_arm = learner.choose(user_feature)\n",
    "            if arm_list[chosen_arm] == movie_id:\n",
    "                reward = data['reward'].iloc[i]\n",
    "                aligned_timestep += 1\n",
    "                cum_reward += reward\n",
    "                aligned_ctr.append((cum_reward / aligned_timestep))\n",
    "                learner.update(user_feature, chosen_arm, reward)\n",
    "            else:\n",
    "                unused.append(i)\n",
    "        print(f\"Hit count: {cnt - len(unused)}\")\n",
    "    \n",
    "    return {\n",
    "        \"aligned_ctr\": aligned_ctr,\n",
    "        \"aligned_timestamp\": aligned_timestep,\n",
    "        \"cum_reward\": cum_reward,\n",
    "    }"
   ]
  },
  {
   "cell_type": "code",
   "execution_count": null,
   "id": "df4cdd08",
   "metadata": {},
   "outputs": [],
   "source": [
    "arm_to_use = top_n_movies.iloc[:, 1:].to_numpy()\n",
    "arm_features = movies.shape[1] - 1\n",
    "user_features = users.shape[1] - 1\n",
    "d = arm_features + user_features\n",
    "k = arm_features * user_features\n",
    "alphas = [0., 0.5, 1., 2.]\n",
    "reward_mean = top_n_ratings[\"reward\"].mean()\n",
    "print(f\"Mean reward: {reward_mean}\")"
   ]
  },
  {
   "cell_type": "code",
   "execution_count": null,
   "id": "6655382f",
   "metadata": {
    "scrolled": false
   },
   "outputs": [],
   "source": [
    "plt.figure(figsize=(8, 6))\n",
    "\n",
    "for i, alpha in enumerate(alphas):\n",
    "    print(f\"alpha={alpha}\")\n",
    "    learner = LinUCB(arms=arm_to_use, d=d, alpha=alpha)\n",
    "    result = run(\n",
    "        learner=learner, \n",
    "        data=top_n_ratings, \n",
    "        arms=top_n_movies,\n",
    "        users=users,\n",
    "        nsim=2\n",
    "    )\n",
    "\n",
    "    plt.plot(result['aligned_ctr'], label=f\"alpha={alpha}\")\n",
    "plt.axhline(y=reward_mean, color=\"red\")\n",
    "plt.ylim([reward_mean-0.3, 1.05])\n",
    "plt.title(f\"{learner.__class__.__name__}\")\n",
    "plt.grid(True)\n",
    "plt.legend()\n",
    "plt.show()"
   ]
  },
  {
   "cell_type": "code",
   "execution_count": null,
   "id": "da93aa5f",
   "metadata": {
    "scrolled": false
   },
   "outputs": [],
   "source": [
    "plt.figure(figsize=(8, 6))\n",
    "\n",
    "for i, alpha in enumerate(alphas):\n",
    "    print(f\"alpha={alpha}\")\n",
    "    learner = eLinUCB(arms=arm_to_use, d=d, alpha=alpha, epsilon=0.3)\n",
    "    result = run(\n",
    "        learner=learner, \n",
    "        data=top_n_ratings, \n",
    "        arms=top_n_movies,\n",
    "        users=users,\n",
    "        nsim=2\n",
    "    )\n",
    "\n",
    "    plt.plot(result['aligned_ctr'], label=f\"alpha={alpha}\")\n",
    "plt.axhline(y=reward_mean, color=\"red\")\n",
    "plt.ylim([reward_mean-0.3, 1.05])\n",
    "plt.title(f\"{learner.__class__.__name__}\")\n",
    "plt.grid(True)\n",
    "plt.legend()\n",
    "plt.show()"
   ]
  },
  {
   "cell_type": "code",
   "execution_count": null,
   "id": "368ffe33",
   "metadata": {
    "scrolled": true
   },
   "outputs": [],
   "source": [
    "plt.figure(figsize=(8, 6))\n",
    "\n",
    "for i, alpha in enumerate(alphas):\n",
    "    print(f\"alpha={alpha}\")\n",
    "    learner = HybridLinUCB(arms=arm_to_use, d=d, k=k, alpha=alpha)\n",
    "    result = run(\n",
    "        learner=learner,\n",
    "        data=top_n_ratings, \n",
    "        arms=top_n_movies,\n",
    "        users=users,\n",
    "        nsim=2\n",
    "    )\n",
    "\n",
    "    plt.plot(result['aligned_ctr'], label=f\"alpha={alpha}\")\n",
    "plt.axhline(y=reward_mean, color=\"red\")\n",
    "plt.ylim([reward_mean-0.3, 1.05])\n",
    "plt.title(f\"{learner.__class__.__name__}\")\n",
    "plt.grid(True)\n",
    "plt.legend()\n",
    "plt.show()"
   ]
  },
  {
   "cell_type": "code",
   "execution_count": null,
   "id": "aa2a94e5",
   "metadata": {},
   "outputs": [],
   "source": []
  }
 ],
 "metadata": {
  "kernelspec": {
   "display_name": "Python 3",
   "language": "python",
   "name": "python3"
  },
  "language_info": {
   "codemirror_mode": {
    "name": "ipython",
    "version": 3
   },
   "file_extension": ".py",
   "mimetype": "text/x-python",
   "name": "python",
   "nbconvert_exporter": "python",
   "pygments_lexer": "ipython3",
   "version": "3.9.15"
  }
 },
 "nbformat": 4,
 "nbformat_minor": 5
}
