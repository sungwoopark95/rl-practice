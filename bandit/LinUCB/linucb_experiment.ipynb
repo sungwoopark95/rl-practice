{
 "cells": [
  {
   "cell_type": "code",
   "execution_count": null,
   "id": "a57547c9",
   "metadata": {},
   "outputs": [
    {
     "name": "stdout",
     "output_type": "stream",
     "text": [
      "Mean reward: 0.42569487450366106\n",
      "LinUCB\n",
      "100%|██████████████████████████████████| 109804/109804 [10:07<00:00, 180.86it/s]\n",
      "Hit count: 2484\n",
      "100%|██████████████████████████████████| 107320/107320 [09:49<00:00, 181.97it/s]\n",
      "Hit count: 1979\n",
      "100%|██████████████████████████████████| 105341/105341 [09:33<00:00, 183.71it/s]\n",
      "Hit count: 1097\n",
      "Saved plot successfully!\n",
      "Mean reward: 0.42569487450366106\n",
      "eLinUCB\n",
      "  4%|█▌                                  | 4820/109804 [00:23<08:27, 206.90it/s]"
     ]
    }
   ],
   "source": [
    "!python3 /home/sungwoopark/rl-practice/bandit/LinUCB/main.py --model linucb --nsim 3 --topN 50 --alpha 0.5 --save_plot --tqdm\n",
    "!python3 /home/sungwoopark/rl-practice/bandit/LinUCB/main.py --model elinucb --nsim 3 --topN 50 --alpha 0.5 --save_plot --tqdm --epsilon 0.15\n",
    "!python3 /home/sungwoopark/rl-practice/bandit/LinUCB/main.py --model hybrid --nsim 3 --topN 50 --alpha 0.5 --save_plot --tqdm"
   ]
  },
  {
   "cell_type": "code",
   "execution_count": null,
   "id": "fd07e5f6",
   "metadata": {},
   "outputs": [],
   "source": [
    "!python3 /home/sungwoopark/rl-practice/bandit/LinUCB/main.py --model linucb --nsim 3 --topN 50 --alpha 1.5 --save_plot --tqdm\n",
    "!python3 /home/sungwoopark/rl-practice/bandit/LinUCB/main.py --model elinucb --nsim 3 --topN 50 --alpha 1.5 --save_plot --tqdm --epsilon 0.15"
   ]
  },
  {
   "cell_type": "code",
   "execution_count": null,
   "id": "0062413e",
   "metadata": {},
   "outputs": [],
   "source": [
    "!python3 /home/sungwoopark/rl-practice/bandit/LinUCB/main.py --model hybrid --nsim 3 --topN 50 --alpha 1.5 --save_plot --tqdm"
   ]
  },
  {
   "cell_type": "code",
   "execution_count": null,
   "id": "70db4d24",
   "metadata": {},
   "outputs": [],
   "source": [
    "!python3 /home/sungwoopark/rl-practice/bandit/LinUCB/main.py --model linucb --nsim 3 --topN 50 --alpha 2.5 --save_plot --tqdm\n",
    "!python3 /home/sungwoopark/rl-practice/bandit/LinUCB/main.py --model elinucb --nsim 3 --topN 50 --alpha 2.5 --save_plot --tqdm --epsilon 0.15\n",
    "!python3 /home/sungwoopark/rl-practice/bandit/LinUCB/main.py --model hybrid --nsim 3 --topN 50 --alpha 2.5 --save_plot --tqdm"
   ]
  },
  {
   "cell_type": "code",
   "execution_count": null,
   "id": "22c55e4d",
   "metadata": {},
   "outputs": [],
   "source": []
  }
 ],
 "metadata": {
  "kernelspec": {
   "display_name": "Python 3",
   "language": "python",
   "name": "python3"
  },
  "language_info": {
   "codemirror_mode": {
    "name": "ipython",
    "version": 3
   },
   "file_extension": ".py",
   "mimetype": "text/x-python",
   "name": "python",
   "nbconvert_exporter": "python",
   "pygments_lexer": "ipython3",
   "version": "3.9.15"
  }
 },
 "nbformat": 4,
 "nbformat_minor": 5
}
