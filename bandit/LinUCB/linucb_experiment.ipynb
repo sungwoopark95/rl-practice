{
 "cells": [
  {
   "cell_type": "code",
   "execution_count": null,
   "id": "a57547c9",
   "metadata": {},
   "outputs": [
    {
     "name": "stdout",
     "output_type": "stream",
     "text": [
      "Mean reward: 0.6990040515010211\n",
      "LinUCB\n",
      "100%|███████████████████████████████████| 183142/183142 [33:19<00:00, 91.62it/s]\n",
      "Hit count: 2269\n",
      "100%|███████████████████████████████████| 180873/180873 [33:18<00:00, 90.48it/s]\n",
      "Hit count: 2087\n",
      "100%|███████████████████████████████████| 178786/178786 [33:22<00:00, 89.30it/s]\n",
      "Hit count: 1763\n",
      " 39%|██████████████                      | 69437/177023 [13:01<19:48, 90.50it/s]"
     ]
    }
   ],
   "source": [
    "!python3 /home/sungwoopark/rl-practice/bandit/LinUCB/main.py --model linucb --nsim 5 --topN 100 --alpha 0.5 --save_plot --tqdm\n",
    "!python3 /home/sungwoopark/rl-practice/bandit/LinUCB/main.py --model elinucb --nsim 5 --topN 100 --alpha 0.5 --save_plot --tqdm --epsilon 0.15\n",
    "!python3 /home/sungwoopark/rl-practice/bandit/LinUCB/main.py --model hybrid --nsim 5 --topN 100 --alpha 0.5 --save_plot --tqdm"
   ]
  },
  {
   "cell_type": "code",
   "execution_count": null,
   "id": "fd07e5f6",
   "metadata": {},
   "outputs": [],
   "source": [
    "!python3 /home/sungwoopark/rl-practice/bandit/LinUCB/main.py --model linucb --nsim 5 --topN 100 --alpha 1.5 --save_plot --tqdm\n",
    "!python3 /home/sungwoopark/rl-practice/bandit/LinUCB/main.py --model elinucb --nsim 5 --topN 100 --alpha 1.5 --save_plot --tqdm --epsilon 0.15\n",
    "!python3 /home/sungwoopark/rl-practice/bandit/LinUCB/main.py --model hybrid --nsim 5 --topN 100 --alpha 1.5 --save_plot --tqdm"
   ]
  },
  {
   "cell_type": "code",
   "execution_count": null,
   "id": "8668a582",
   "metadata": {},
   "outputs": [],
   "source": [
    "!python3 /home/sungwoopark/rl-practice/bandit/LinUCB/main.py --model linucb --nsim 5 --topN 100 --alpha 2.5 --save_plot --tqdm\n",
    "!python3 /home/sungwoopark/rl-practice/bandit/LinUCB/main.py --model elinucb --nsim 5 --topN 100 --alpha 2.5 --save_plot --tqdm --epsilon 0.15\n",
    "!python3 /home/sungwoopark/rl-practice/bandit/LinUCB/main.py --model hybrid --nsim 5 --topN 100 --alpha 2.5 --save_plot --tqdm"
   ]
  },
  {
   "cell_type": "code",
   "execution_count": null,
   "id": "27a46cb1",
   "metadata": {},
   "outputs": [],
   "source": []
  }
 ],
 "metadata": {
  "kernelspec": {
   "display_name": "Python 3",
   "language": "python",
   "name": "python3"
  },
  "language_info": {
   "codemirror_mode": {
    "name": "ipython",
    "version": 3
   },
   "file_extension": ".py",
   "mimetype": "text/x-python",
   "name": "python",
   "nbconvert_exporter": "python",
   "pygments_lexer": "ipython3",
   "version": "3.9.15"
  }
 },
 "nbformat": 4,
 "nbformat_minor": 5
}
