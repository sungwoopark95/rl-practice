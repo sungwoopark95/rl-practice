{
 "cells": [
  {
   "cell_type": "code",
   "execution_count": 1,
   "id": "a57547c9",
   "metadata": {},
   "outputs": [
    {
     "name": "stdout",
     "output_type": "stream",
     "text": [
      "Mean reward: 0.7316126917052203\n",
      "LinUCB\n",
      "100%|██████████████████████████████████| 109804/109804 [10:07<00:00, 180.87it/s]\n",
      "Hit count: 2524\n",
      "100%|██████████████████████████████████| 107280/107280 [09:45<00:00, 183.28it/s]\n",
      "Hit count: 2172\n",
      "100%|██████████████████████████████████| 105108/105108 [09:44<00:00, 179.88it/s]\n",
      "Hit count: 1792\n",
      "Saved plot successfully!\n",
      "Mean reward: 0.7316126917052203\n",
      "eLinUCB\n",
      "100%|██████████████████████████████████| 109804/109804 [08:29<00:00, 215.39it/s]\n",
      "Hit count: 2563\n",
      "100%|██████████████████████████████████| 107241/107241 [08:26<00:00, 211.85it/s]\n",
      "Hit count: 2215\n",
      "100%|██████████████████████████████████| 105026/105026 [08:17<00:00, 210.98it/s]\n",
      "Hit count: 2066\n",
      "Saved plot successfully!\n",
      "Mean reward: 0.7316126917052203\n",
      "HybridLinUCB\n",
      "100%|███████████████████████████████████| 109804/109804 [50:10<00:00, 36.47it/s]\n",
      "Hit count: 2770\n",
      "100%|███████████████████████████████████| 107034/107034 [57:41<00:00, 30.92it/s]\n",
      "Hit count: 2201\n",
      "100%|███████████████████████████████████| 104833/104833 [55:20<00:00, 31.57it/s]\n",
      "Hit count: 1694\n",
      "Saved plot successfully!\n"
     ]
    }
   ],
   "source": [
    "!python3 /home/sungwoopark/rl-practice/bandit/LinUCB/main.py --model linucb --nsim 3 --topN 50 --alpha 0.5 --save_plot --tqdm\n",
    "!python3 /home/sungwoopark/rl-practice/bandit/LinUCB/main.py --model elinucb --nsim 3 --topN 50 --alpha 0.5 --save_plot --tqdm --epsilon 0.15\n",
    "!python3 /home/sungwoopark/rl-practice/bandit/LinUCB/main.py --model hybrid --nsim 3 --topN 50 --alpha 0.5 --save_plot --tqdm"
   ]
  },
  {
   "cell_type": "code",
   "execution_count": null,
   "id": "fd07e5f6",
   "metadata": {},
   "outputs": [
    {
     "name": "stdout",
     "output_type": "stream",
     "text": [
      "Mean reward: 0.7316126917052203\n",
      "LinUCB\n",
      "100%|██████████████████████████████████| 109804/109804 [12:30<00:00, 146.31it/s]\n",
      "Hit count: 2824\n",
      "100%|██████████████████████████████████| 106980/106980 [10:09<00:00, 175.50it/s]\n",
      "Hit count: 2825\n",
      "100%|██████████████████████████████████| 104155/104155 [09:50<00:00, 176.50it/s]\n",
      "Hit count: 2325\n",
      "Saved plot successfully!\n",
      "Mean reward: 0.7316126917052203\n",
      "eLinUCB\n",
      "100%|██████████████████████████████████| 109804/109804 [08:37<00:00, 212.22it/s]\n",
      "Hit count: 2579\n",
      "100%|██████████████████████████████████| 107225/107225 [08:23<00:00, 213.05it/s]\n",
      "Hit count: 2655\n",
      "100%|██████████████████████████████████| 104570/104570 [08:14<00:00, 211.58it/s]\n",
      "Hit count: 2398\n",
      "Saved plot successfully!\n",
      "Mean reward: 0.7316126917052203\n",
      "HybridLinUCB\n",
      " 12%|████▏                               | 12765/109804 [05:07<38:29, 42.02it/s]"
     ]
    }
   ],
   "source": [
    "!python3 /home/sungwoopark/rl-practice/bandit/LinUCB/main.py --model linucb --nsim 3 --topN 50 --alpha 1.5 --save_plot --tqdm\n",
    "!python3 /home/sungwoopark/rl-practice/bandit/LinUCB/main.py --model elinucb --nsim 3 --topN 50 --alpha 1.5 --save_plot --tqdm --epsilon 0.15\n",
    "!python3 /home/sungwoopark/rl-practice/bandit/LinUCB/main.py --model hybrid --nsim 3 --topN 50 --alpha 1.5 --save_plot --tqdm"
   ]
  },
  {
   "cell_type": "code",
   "execution_count": null,
   "id": "70db4d24",
   "metadata": {},
   "outputs": [],
   "source": [
    "!python3 /home/sungwoopark/rl-practice/bandit/LinUCB/main.py --model linucb --nsim 3 --topN 50 --alpha 2.5 --save_plot --tqdm\n",
    "!python3 /home/sungwoopark/rl-practice/bandit/LinUCB/main.py --model elinucb --nsim 3 --topN 50 --alpha 2.5 --save_plot --tqdm --epsilon 0.15\n",
    "!python3 /home/sungwoopark/rl-practice/bandit/LinUCB/main.py --model hybrid --nsim 3 --topN 50 --alpha 2.5 --save_plot --tqdm"
   ]
  },
  {
   "cell_type": "code",
   "execution_count": null,
   "id": "22c55e4d",
   "metadata": {},
   "outputs": [],
   "source": []
  }
 ],
 "metadata": {
  "kernelspec": {
   "display_name": "Python 3",
   "language": "python",
   "name": "python3"
  },
  "language_info": {
   "codemirror_mode": {
    "name": "ipython",
    "version": 3
   },
   "file_extension": ".py",
   "mimetype": "text/x-python",
   "name": "python",
   "nbconvert_exporter": "python",
   "pygments_lexer": "ipython3",
   "version": "3.9.15"
  }
 },
 "nbformat": 4,
 "nbformat_minor": 5
}
