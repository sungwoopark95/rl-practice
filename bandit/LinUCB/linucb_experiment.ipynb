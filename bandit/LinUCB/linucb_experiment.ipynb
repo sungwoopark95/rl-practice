{
 "cells": [
  {
   "cell_type": "code",
   "execution_count": 4,
   "id": "71ac023e",
   "metadata": {},
   "outputs": [
    {
     "name": "stdout",
     "output_type": "stream",
     "text": [
      "Mean reward: 0.7467960850051371\n",
      "LinUCB\n",
      "100%|████████████████████████████████████| 73972/73972 [04:31<00:00, 272.50it/s]\n",
      "Hit count: 2804\n",
      "100%|████████████████████████████████████| 71168/71168 [04:23<00:00, 270.00it/s]\n",
      "Hit count: 2189\n",
      "Figure(700x500)\n",
      "Mean reward: 0.7467960850051371\n",
      "eLinUCB\n",
      "100%|████████████████████████████████████| 73972/73972 [04:11<00:00, 294.48it/s]\n",
      "Hit count: 2836\n",
      "100%|████████████████████████████████████| 71136/71136 [03:59<00:00, 297.15it/s]\n",
      "Hit count: 2328\n",
      "Figure(700x500)\n",
      "Mean reward: 0.7467960850051371\n",
      "Traceback (most recent call last):\n",
      "  File \"/home/sungwoopark/rl-practice/bandit/LinUCB/main.py\", line 94, in <module>\n",
      "    learner = HybridLinUCB(arms=arm_to_use, d=d, k=k, alpha=cfg.alpha, epsilon=cfg.epsilon)\n",
      "TypeError: __init__() got an unexpected keyword argument 'epsilon'\n"
     ]
    }
   ],
   "source": [
    "!python3 /home/sungwoopark/rl-practice/bandit/LinUCB/main.py --model linucb --nsim 2 --topN 30 --alpha 0.5 --save_plot --tqdm\n",
    "!python3 /home/sungwoopark/rl-practice/bandit/LinUCB/main.py --model elinucb --nsim 2 --topN 30 --alpha 0.5 --save_plot --tqdm --epsilon 0.1"
   ]
  },
  {
   "cell_type": "code",
   "execution_count": null,
   "id": "74c88dc5",
   "metadata": {},
   "outputs": [
    {
     "name": "stdout",
     "output_type": "stream",
     "text": [
      "Mean reward: 0.7467960850051371\n",
      "HybridLinUCB\n",
      " 43%|███████████████▋                     | 31466/73972 [09:03<12:55, 54.83it/s]"
     ]
    }
   ],
   "source": [
    "!python3 /home/sungwoopark/rl-practice/bandit/LinUCB/main.py --model hybrid --nsim 2 --topN 30 --alpha 0.5 --save_plot --tqdm"
   ]
  },
  {
   "cell_type": "code",
   "execution_count": null,
   "id": "f4c54cf3",
   "metadata": {},
   "outputs": [],
   "source": []
  }
 ],
 "metadata": {
  "kernelspec": {
   "display_name": "Python 3",
   "language": "python",
   "name": "python3"
  },
  "language_info": {
   "codemirror_mode": {
    "name": "ipython",
    "version": 3
   },
   "file_extension": ".py",
   "mimetype": "text/x-python",
   "name": "python",
   "nbconvert_exporter": "python",
   "pygments_lexer": "ipython3",
   "version": "3.9.15"
  }
 },
 "nbformat": 4,
 "nbformat_minor": 5
}
