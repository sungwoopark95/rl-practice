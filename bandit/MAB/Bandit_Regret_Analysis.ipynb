{
 "cells": [
  {
   "cell_type": "code",
   "execution_count": 1,
   "id": "c3183423",
   "metadata": {},
   "outputs": [],
   "source": [
    "import pickle\n",
    "import numpy as np\n",
    "import pandas as pd\n",
    "from tqdm import tqdm\n",
    "import matplotlib.pyplot as plt\n",
    "from IPython.display import display\n",
    "import gc"
   ]
  },
  {
   "cell_type": "code",
   "execution_count": 2,
   "id": "9a8a271c",
   "metadata": {},
   "outputs": [],
   "source": [
    "def process(df, is_thompson):\n",
    "    ## get cumulative reward\n",
    "    cumsum_base = np.array([], dtype='float')\n",
    "    for e in df['sim'].unique():\n",
    "        rundf = df[df['sim'] == e]\n",
    "        run_cumsum = np.cumsum(rundf['reward'])\n",
    "        cumsum_base = np.append(cumsum_base, run_cumsum)\n",
    "    df['cumulative_reward'] = cumsum_base\n",
    "    \n",
    "    ## check if the optimal arm is selected at each run\n",
    "    df['chosen_optimal'] = (df['chosen_arm'] == df['optimal_arm']).astype('int')\n",
    "    \n",
    "    ## groupby\n",
    "    if is_thompson:\n",
    "        result = df[['step', 'reward', 'cumulative_reward', 'chosen_optimal']].groupby(by='step').mean(numeric_only=False)\n",
    "    else:\n",
    "        result = df[['param', 'step', 'reward', 'chosen_optimal']].groupby(by=['param', 'step']).mean(numeric_only=False)\n",
    "    result.reset_index(drop=False, inplace=True)\n",
    "    \n",
    "    return result"
   ]
  },
  {
   "cell_type": "code",
   "execution_count": 3,
   "id": "e5490735",
   "metadata": {},
   "outputs": [],
   "source": [
    "def plot_results(dfs, column, title, model, figsize=(12, 8)):\n",
    "    split = column.split('_')\n",
    "    split[0] = split[0][0].upper() + split[0][1:]\n",
    "    ylabel = ' '.join(split)\n",
    "    \n",
    "    plt.figure(figsize=figsize)\n",
    "    if model == \"thompson\":\n",
    "        plt.plot(dfs[column])\n",
    "    else:  \n",
    "        for item in dfs:\n",
    "            if model == \"ucb\":\n",
    "                plt.plot(item[column], label=f\"conf={item['param'].iloc[0]}\")\n",
    "            elif model == \"mab\":\n",
    "                plt.plot(item[column], label=f\"epsilon={item['param'].iloc[0]}\")\n",
    "            elif model == \"etc\":\n",
    "                plt.plot(item[column], label=f\"explore={item['param'].iloc[0]}\")\n",
    "        plt.legend()\n",
    "    plt.grid(True)\n",
    "    plt.xlabel(\"Step\")\n",
    "    plt.ylabel(ylabel)\n",
    "    plt.title(title)\n",
    "    plt.show()"
   ]
  },
  {
   "cell_type": "code",
   "execution_count": null,
   "id": "970b5fad",
   "metadata": {},
   "outputs": [],
   "source": []
  }
 ],
 "metadata": {
  "kernelspec": {
   "display_name": "Python 3",
   "language": "python",
   "name": "python3"
  },
  "language_info": {
   "codemirror_mode": {
    "name": "ipython",
    "version": 3
   },
   "file_extension": ".py",
   "mimetype": "text/x-python",
   "name": "python",
   "nbconvert_exporter": "python",
   "pygments_lexer": "ipython3",
   "version": "3.9.15"
  }
 },
 "nbformat": 4,
 "nbformat_minor": 5
}
