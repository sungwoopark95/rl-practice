{
 "cells": [
  {
   "cell_type": "code",
   "execution_count": 1,
   "id": "bb444f43",
   "metadata": {
    "execution": {
     "iopub.execute_input": "2023-02-20T03:22:42.071130Z",
     "iopub.status.busy": "2023-02-20T03:22:42.070466Z",
     "iopub.status.idle": "2023-02-20T03:22:45.497067Z",
     "shell.execute_reply": "2023-02-20T03:22:45.496381Z"
    }
   },
   "outputs": [],
   "source": [
    "import pickle\n",
    "import numpy as np\n",
    "import pandas as pd\n",
    "from tqdm import tqdm\n",
    "import matplotlib.pyplot as plt\n",
    "from IPython.display import display"
   ]
  },
  {
   "cell_type": "code",
   "execution_count": 2,
   "id": "5e26b4c9",
   "metadata": {
    "execution": {
     "iopub.execute_input": "2023-02-20T03:22:45.500218Z",
     "iopub.status.busy": "2023-02-20T03:22:45.500013Z",
     "iopub.status.idle": "2023-02-20T03:22:45.754556Z",
     "shell.execute_reply": "2023-02-20T03:22:45.753747Z"
    }
   },
   "outputs": [
    {
     "name": "stdout",
     "output_type": "stream",
     "text": [
      "===================================\n"
     ]
    }
   ],
   "source": [
    "!ls ./definite\n",
    "print(\"=\"*35)\n",
    "!ls ./indefinite"
   ]
  },
  {
   "cell_type": "code",
   "execution_count": 3,
   "id": "5863881a",
   "metadata": {
    "execution": {
     "iopub.execute_input": "2023-02-20T03:22:45.759078Z",
     "iopub.status.busy": "2023-02-20T03:22:45.758395Z",
     "iopub.status.idle": "2023-02-20T03:22:48.490620Z",
     "shell.execute_reply": "2023-02-20T03:22:48.489708Z"
    }
   },
   "outputs": [],
   "source": [
    "!rm -rf -r ./definite/*.pkl\n",
    "!rm -rf -r ./indefinite/*.pkl"
   ]
  },
  {
   "cell_type": "code",
   "execution_count": 4,
   "id": "e814fe9e",
   "metadata": {
    "execution": {
     "iopub.execute_input": "2023-02-20T03:22:48.495272Z",
     "iopub.status.busy": "2023-02-20T03:22:48.494789Z",
     "iopub.status.idle": "2023-02-20T03:22:48.743368Z",
     "shell.execute_reply": "2023-02-20T03:22:48.742515Z"
    }
   },
   "outputs": [
    {
     "name": "stdout",
     "output_type": "stream",
     "text": [
      "===================================\n"
     ]
    }
   ],
   "source": [
    "!ls ./definite\n",
    "print(\"=\"*35)\n",
    "!ls ./indefinite"
   ]
  },
  {
   "cell_type": "code",
   "execution_count": 5,
   "id": "038103dd",
   "metadata": {
    "execution": {
     "iopub.execute_input": "2023-02-20T03:22:48.747670Z",
     "iopub.status.busy": "2023-02-20T03:22:48.747206Z",
     "iopub.status.idle": "2023-02-20T03:22:48.751742Z",
     "shell.execute_reply": "2023-02-20T03:22:48.751187Z"
    }
   },
   "outputs": [],
   "source": [
    "NSIM = 1500\n",
    "NSTEPS = 1000\n",
    "N_ARMS = 10\n",
    "INITIAL = 5\n",
    "ALPHA = 0.5"
   ]
  },
  {
   "cell_type": "code",
   "execution_count": 6,
   "id": "d7b9001e",
   "metadata": {
    "execution": {
     "iopub.execute_input": "2023-02-20T03:22:48.754293Z",
     "iopub.status.busy": "2023-02-20T03:22:48.753998Z",
     "iopub.status.idle": "2023-02-20T04:01:27.755048Z",
     "shell.execute_reply": "2023-02-20T04:01:27.754050Z"
    },
    "scrolled": false
   },
   "outputs": [
    {
     "name": "stdout",
     "output_type": "stream",
     "text": [
      "Naive K-armed Bandit with definite Bernoulli arms\n",
      "Action profile: [0.19 0.1  0.04 0.22 0.07 0.9  0.01 0.13 0.25 0.16]\n",
      "Optimal arm: 5\n",
      "100%|███████████████████████████████████████| 1500/1500 [00:33<00:00, 44.62it/s]\n",
      "100%|███████████████████████████████████████| 1500/1500 [00:33<00:00, 44.24it/s]\n",
      "100%|███████████████████████████████████████| 1500/1500 [00:33<00:00, 45.45it/s]\n",
      "100%|███████████████████████████████████████| 1500/1500 [00:28<00:00, 51.88it/s]\n",
      "100%|███████████████████████████████████████| 1500/1500 [00:24<00:00, 61.58it/s]\n",
      "100%|███████████████████████████████████████| 1500/1500 [00:22<00:00, 66.02it/s]\n",
      "===================================\n",
      "Naive K-armed Bandit with definite Gaussian arms\n",
      "Action profile: [0.13 0.07 0.25 0.04 0.22 0.16 0.1  0.9  0.01 0.19]\n",
      "Optimal arm: 7\n",
      "100%|███████████████████████████████████████| 1500/1500 [00:37<00:00, 40.34it/s]\n",
      "100%|███████████████████████████████████████| 1500/1500 [00:37<00:00, 40.02it/s]\n",
      "100%|███████████████████████████████████████| 1500/1500 [00:36<00:00, 40.85it/s]\n",
      "100%|███████████████████████████████████████| 1500/1500 [00:32<00:00, 46.57it/s]\n",
      "100%|███████████████████████████████████████| 1500/1500 [00:27<00:00, 54.09it/s]\n",
      "100%|███████████████████████████████████████| 1500/1500 [00:25<00:00, 57.95it/s]\n",
      "===================================\n",
      "Naive K-armed Bandit with definite Bernoulli arms\n",
      "Action profile: [0.13 0.9  0.19 0.16 0.07 0.1  0.22 0.25 0.04 0.01]\n",
      "Optimal arm: 1\n",
      "100%|███████████████████████████████████████| 1500/1500 [00:32<00:00, 45.47it/s]\n",
      "100%|███████████████████████████████████████| 1500/1500 [00:33<00:00, 45.44it/s]\n",
      "100%|███████████████████████████████████████| 1500/1500 [00:33<00:00, 45.12it/s]\n",
      "100%|███████████████████████████████████████| 1500/1500 [00:32<00:00, 45.47it/s]\n",
      "100%|███████████████████████████████████████| 1500/1500 [00:33<00:00, 45.32it/s]\n",
      "100%|███████████████████████████████████████| 1500/1500 [00:33<00:00, 45.45it/s]\n",
      "===================================\n",
      "Naive K-armed Bandit with definite Gaussian arms\n",
      "Action profile: [0.04 0.19 0.25 0.1  0.22 0.01 0.16 0.07 0.9  0.13]\n",
      "Optimal arm: 8\n",
      "100%|███████████████████████████████████████| 1500/1500 [00:37<00:00, 39.91it/s]\n",
      "100%|███████████████████████████████████████| 1500/1500 [00:37<00:00, 39.63it/s]\n",
      "100%|███████████████████████████████████████| 1500/1500 [00:37<00:00, 39.69it/s]\n",
      "100%|███████████████████████████████████████| 1500/1500 [00:37<00:00, 39.61it/s]\n",
      "100%|███████████████████████████████████████| 1500/1500 [00:37<00:00, 39.57it/s]\n",
      "100%|███████████████████████████████████████| 1500/1500 [00:37<00:00, 40.00it/s]\n"
     ]
    }
   ],
   "source": [
    "!python3 main.py --nsim $NSIM --nsteps $NSTEPS --bernoulli --n_arms $N_ARMS --tqdm --model mab --is_definite\n",
    "print(f\"=\" * 35)\n",
    "!python3 main.py --nsim $NSIM --nsteps $NSTEPS --n_arms $N_ARMS --tqdm --model mab --is_definite\n",
    "print(f\"=\" * 35)\n",
    "!python3 main.py --nsim $NSIM --nsteps $NSTEPS --bernoulli --n_arms $N_ARMS --tqdm --alpha $ALPHA --model mab --is_definite\n",
    "print(f\"=\" * 35)\n",
    "!python3 main.py --nsim $NSIM --nsteps $NSTEPS --n_arms $N_ARMS --tqdm --alpha $ALPHA --model mab --is_definite"
   ]
  },
  {
   "cell_type": "code",
   "execution_count": 7,
   "id": "c8b92940",
   "metadata": {
    "execution": {
     "iopub.execute_input": "2023-02-20T04:01:27.760325Z",
     "iopub.status.busy": "2023-02-20T04:01:27.759744Z",
     "iopub.status.idle": "2023-02-20T04:39:56.270719Z",
     "shell.execute_reply": "2023-02-20T04:39:56.269732Z"
    },
    "scrolled": false
   },
   "outputs": [
    {
     "name": "stdout",
     "output_type": "stream",
     "text": [
      "Naive K-armed Bandit with ambiguous Bernoulli arms\n",
      "Action profile: [0.84 0.91 0.88 0.8  0.95 0.73 0.69 0.76 0.99 0.65]\n",
      "Optimal arm: 8\n",
      "100%|███████████████████████████████████████| 1500/1500 [00:33<00:00, 44.87it/s]\n",
      "100%|███████████████████████████████████████| 1500/1500 [00:33<00:00, 44.92it/s]\n",
      "100%|███████████████████████████████████████| 1500/1500 [00:32<00:00, 45.97it/s]\n",
      "100%|███████████████████████████████████████| 1500/1500 [00:28<00:00, 52.47it/s]\n",
      "100%|███████████████████████████████████████| 1500/1500 [00:24<00:00, 61.93it/s]\n",
      "100%|███████████████████████████████████████| 1500/1500 [00:22<00:00, 66.61it/s]\n",
      "===================================\n",
      "Naive K-armed Bandit with ambiguous Gaussian arms\n",
      "Action profile: [0.91 0.84 0.95 0.88 0.69 0.8  0.99 0.65 0.73 0.76]\n",
      "Optimal arm: 6\n",
      "100%|███████████████████████████████████████| 1500/1500 [00:38<00:00, 39.30it/s]\n",
      "100%|███████████████████████████████████████| 1500/1500 [00:38<00:00, 39.18it/s]\n",
      "100%|███████████████████████████████████████| 1500/1500 [00:37<00:00, 39.85it/s]\n",
      "100%|███████████████████████████████████████| 1500/1500 [00:33<00:00, 45.23it/s]\n",
      "100%|███████████████████████████████████████| 1500/1500 [00:28<00:00, 52.90it/s]\n",
      "100%|███████████████████████████████████████| 1500/1500 [00:26<00:00, 56.69it/s]\n",
      "===================================\n",
      "Naive K-armed Bandit with ambiguous Bernoulli arms\n",
      "Action profile: [0.76 0.99 0.95 0.88 0.91 0.84 0.65 0.8  0.73 0.69]\n",
      "Optimal arm: 1\n",
      "100%|███████████████████████████████████████| 1500/1500 [00:33<00:00, 45.34it/s]\n",
      "100%|███████████████████████████████████████| 1500/1500 [00:33<00:00, 45.07it/s]\n",
      "100%|███████████████████████████████████████| 1500/1500 [00:33<00:00, 45.27it/s]\n",
      "100%|███████████████████████████████████████| 1500/1500 [00:33<00:00, 44.80it/s]\n",
      "100%|███████████████████████████████████████| 1500/1500 [00:33<00:00, 44.74it/s]\n",
      "100%|███████████████████████████████████████| 1500/1500 [00:33<00:00, 44.86it/s]\n",
      "===================================\n",
      "Naive K-armed Bandit with ambiguous Gaussian arms\n",
      "Action profile: [0.65 0.88 0.99 0.76 0.8  0.91 0.84 0.73 0.69 0.95]\n",
      "Optimal arm: 2\n",
      "100%|███████████████████████████████████████| 1500/1500 [00:37<00:00, 40.21it/s]\n",
      "100%|███████████████████████████████████████| 1500/1500 [00:37<00:00, 40.09it/s]\n",
      "100%|███████████████████████████████████████| 1500/1500 [00:37<00:00, 40.16it/s]\n",
      "100%|███████████████████████████████████████| 1500/1500 [00:37<00:00, 40.16it/s]\n",
      "100%|███████████████████████████████████████| 1500/1500 [00:37<00:00, 40.02it/s]\n",
      "100%|███████████████████████████████████████| 1500/1500 [00:37<00:00, 40.01it/s]\n"
     ]
    }
   ],
   "source": [
    "!python3 main.py --nsim $NSIM --nsteps $NSTEPS --bernoulli --n_arms $N_ARMS --tqdm --model mab\n",
    "print(f\"=\" * 35)\n",
    "!python3 main.py --nsim $NSIM --nsteps $NSTEPS --n_arms $N_ARMS --tqdm --model mab\n",
    "print(f\"=\" * 35)\n",
    "!python3 main.py --nsim $NSIM --nsteps $NSTEPS --bernoulli --n_arms $N_ARMS --tqdm --alpha $ALPHA --model mab\n",
    "print(f\"=\" * 35)\n",
    "!python3 main.py --nsim $NSIM --nsteps $NSTEPS --n_arms $N_ARMS --tqdm --alpha $ALPHA --model mab"
   ]
  },
  {
   "cell_type": "code",
   "execution_count": 8,
   "id": "7611c6ce",
   "metadata": {
    "execution": {
     "iopub.execute_input": "2023-02-20T04:39:56.275692Z",
     "iopub.status.busy": "2023-02-20T04:39:56.275359Z",
     "iopub.status.idle": "2023-02-20T05:18:50.266274Z",
     "shell.execute_reply": "2023-02-20T05:18:50.265265Z"
    },
    "scrolled": false
   },
   "outputs": [
    {
     "name": "stdout",
     "output_type": "stream",
     "text": [
      "Optimistic K-armed Bandit with definite Bernoulli arms\n",
      "Action profile: [0.19 0.22 0.01 0.9  0.1  0.07 0.04 0.25 0.13 0.16]\n",
      "Optimal arm: 3\n",
      "100%|███████████████████████████████████████| 1500/1500 [00:33<00:00, 44.64it/s]\n",
      "100%|███████████████████████████████████████| 1500/1500 [00:33<00:00, 44.19it/s]\n",
      "100%|███████████████████████████████████████| 1500/1500 [00:33<00:00, 45.33it/s]\n",
      "100%|███████████████████████████████████████| 1500/1500 [00:29<00:00, 51.64it/s]\n",
      "100%|███████████████████████████████████████| 1500/1500 [00:24<00:00, 61.85it/s]\n",
      "100%|███████████████████████████████████████| 1500/1500 [00:22<00:00, 65.91it/s]\n",
      "===================================\n",
      "Optimistic K-armed Bandit with definite Gaussian arms\n",
      "Action profile: [0.04 0.25 0.01 0.07 0.22 0.16 0.1  0.19 0.13 0.9 ]\n",
      "Optimal arm: 9\n",
      "100%|███████████████████████████████████████| 1500/1500 [00:37<00:00, 39.57it/s]\n",
      "100%|███████████████████████████████████████| 1500/1500 [00:37<00:00, 39.67it/s]\n",
      "100%|███████████████████████████████████████| 1500/1500 [00:37<00:00, 40.35it/s]\n",
      "100%|███████████████████████████████████████| 1500/1500 [00:33<00:00, 45.31it/s]\n",
      "100%|███████████████████████████████████████| 1500/1500 [00:28<00:00, 52.60it/s]\n",
      "100%|███████████████████████████████████████| 1500/1500 [00:26<00:00, 56.29it/s]\n",
      "===================================\n",
      "Optimistic K-armed Bandit with definite Bernoulli arms\n",
      "Action profile: [0.9  0.16 0.01 0.19 0.1  0.22 0.25 0.13 0.04 0.07]\n",
      "Optimal arm: 0\n",
      "100%|███████████████████████████████████████| 1500/1500 [00:33<00:00, 44.95it/s]\n",
      "100%|███████████████████████████████████████| 1500/1500 [00:33<00:00, 44.43it/s]\n",
      "100%|███████████████████████████████████████| 1500/1500 [00:33<00:00, 44.72it/s]\n",
      "100%|███████████████████████████████████████| 1500/1500 [00:33<00:00, 44.94it/s]\n",
      "100%|███████████████████████████████████████| 1500/1500 [00:33<00:00, 44.59it/s]\n",
      "100%|███████████████████████████████████████| 1500/1500 [00:33<00:00, 44.57it/s]\n",
      "===================================\n",
      "Optimistic K-armed Bandit with definite Gaussian arms\n",
      "Action profile: [0.9  0.01 0.1  0.04 0.16 0.22 0.07 0.19 0.25 0.13]\n",
      "Optimal arm: 0\n",
      "100%|███████████████████████████████████████| 1500/1500 [00:38<00:00, 38.68it/s]\n",
      "100%|███████████████████████████████████████| 1500/1500 [00:38<00:00, 38.83it/s]\n",
      "100%|███████████████████████████████████████| 1500/1500 [00:38<00:00, 38.78it/s]\n",
      "100%|███████████████████████████████████████| 1500/1500 [00:38<00:00, 38.82it/s]\n",
      "100%|███████████████████████████████████████| 1500/1500 [00:38<00:00, 38.80it/s]\n",
      "100%|███████████████████████████████████████| 1500/1500 [00:38<00:00, 38.98it/s]\n"
     ]
    }
   ],
   "source": [
    "!python3 main.py --nsim $NSIM --nsteps $NSTEPS --bernoulli --n_arms $N_ARMS --tqdm --model mab --initial $INITIAL --is_definite\n",
    "print(f\"=\" * 35)\n",
    "!python3 main.py --nsim $NSIM --nsteps $NSTEPS --n_arms $N_ARMS --tqdm --model mab --initial $INITIAL --is_definite                                                     \n",
    "print(f\"=\" * 35)\n",
    "!python3 main.py --nsim $NSIM --nsteps $NSTEPS --bernoulli --n_arms $N_ARMS --tqdm --alpha $ALPHA --model mab --initial $INITIAL --is_definite\n",
    "print(f\"=\" * 35)\n",
    "!python3 main.py --nsim $NSIM --nsteps $NSTEPS --n_arms $N_ARMS --tqdm --alpha $ALPHA --model mab --initial $INITIAL --is_definite"
   ]
  },
  {
   "cell_type": "code",
   "execution_count": 9,
   "id": "32176091",
   "metadata": {
    "execution": {
     "iopub.execute_input": "2023-02-20T05:18:50.271261Z",
     "iopub.status.busy": "2023-02-20T05:18:50.270758Z",
     "iopub.status.idle": "2023-02-20T05:58:28.209902Z",
     "shell.execute_reply": "2023-02-20T05:58:28.208872Z"
    },
    "scrolled": false
   },
   "outputs": [
    {
     "name": "stdout",
     "output_type": "stream",
     "text": [
      "Optimistic K-armed Bandit with ambiguous Bernoulli arms\n",
      "Action profile: [0.99 0.84 0.69 0.73 0.88 0.8  0.95 0.76 0.65 0.91]\n",
      "Optimal arm: 0\n",
      "100%|███████████████████████████████████████| 1500/1500 [00:32<00:00, 45.89it/s]\n",
      "100%|███████████████████████████████████████| 1500/1500 [00:32<00:00, 45.49it/s]\n",
      "100%|███████████████████████████████████████| 1500/1500 [00:32<00:00, 46.73it/s]\n",
      "100%|███████████████████████████████████████| 1500/1500 [00:28<00:00, 53.44it/s]\n",
      "100%|███████████████████████████████████████| 1500/1500 [00:23<00:00, 64.16it/s]\n",
      "100%|███████████████████████████████████████| 1500/1500 [00:21<00:00, 68.84it/s]\n",
      "===================================\n",
      "Optimistic K-armed Bandit with ambiguous Gaussian arms\n",
      "Action profile: [0.99 0.76 0.95 0.88 0.69 0.73 0.8  0.91 0.84 0.65]\n",
      "Optimal arm: 0\n",
      "100%|███████████████████████████████████████| 1500/1500 [00:38<00:00, 39.44it/s]\n",
      "100%|███████████████████████████████████████| 1500/1500 [00:38<00:00, 39.03it/s]\n",
      "100%|███████████████████████████████████████| 1500/1500 [00:37<00:00, 39.89it/s]\n",
      "100%|███████████████████████████████████████| 1500/1500 [00:33<00:00, 45.08it/s]\n",
      "100%|███████████████████████████████████████| 1500/1500 [00:28<00:00, 52.75it/s]\n",
      "100%|███████████████████████████████████████| 1500/1500 [00:26<00:00, 56.39it/s]\n",
      "===================================\n",
      "Optimistic K-armed Bandit with ambiguous Bernoulli arms\n",
      "Action profile: [0.73 0.76 0.65 0.95 0.99 0.84 0.88 0.91 0.8  0.69]\n",
      "Optimal arm: 4\n",
      "100%|███████████████████████████████████████| 1500/1500 [00:32<00:00, 46.58it/s]\n",
      "100%|███████████████████████████████████████| 1500/1500 [00:32<00:00, 46.11it/s]\n",
      "100%|███████████████████████████████████████| 1500/1500 [00:32<00:00, 46.16it/s]\n",
      "100%|███████████████████████████████████████| 1500/1500 [00:32<00:00, 46.09it/s]\n",
      "100%|███████████████████████████████████████| 1500/1500 [00:32<00:00, 45.99it/s]\n",
      "100%|███████████████████████████████████████| 1500/1500 [00:32<00:00, 46.45it/s]\n",
      "===================================\n",
      "Optimistic K-armed Bandit with ambiguous Gaussian arms\n",
      "Action profile: [0.65 0.69 0.99 0.91 0.95 0.84 0.88 0.8  0.76 0.73]\n",
      "Optimal arm: 2\n",
      "100%|███████████████████████████████████████| 1500/1500 [00:36<00:00, 40.62it/s]\n",
      "100%|███████████████████████████████████████| 1500/1500 [00:37<00:00, 40.43it/s]\n",
      "100%|███████████████████████████████████████| 1500/1500 [00:37<00:00, 40.17it/s]\n",
      "100%|███████████████████████████████████████| 1500/1500 [00:37<00:00, 40.34it/s]\n",
      "100%|███████████████████████████████████████| 1500/1500 [00:37<00:00, 40.33it/s]\n",
      "100%|███████████████████████████████████████| 1500/1500 [00:36<00:00, 40.61it/s]\n"
     ]
    }
   ],
   "source": [
    "!python3 main.py --nsim $NSIM --nsteps $NSTEPS --bernoulli --n_arms $N_ARMS --tqdm --model mab --initial $INITIAL\n",
    "print(f\"=\" * 35)\n",
    "!python3 main.py --nsim $NSIM --nsteps $NSTEPS --n_arms $N_ARMS --tqdm --model mab --initial $INITIAL                                               \n",
    "print(f\"=\" * 35)\n",
    "!python3 main.py --nsim $NSIM --nsteps $NSTEPS --bernoulli --n_arms $N_ARMS --tqdm --alpha $ALPHA --model mab --initial $INITIAL\n",
    "print(f\"=\" * 35)\n",
    "!python3 main.py --nsim $NSIM --nsteps $NSTEPS --n_arms $N_ARMS --tqdm --alpha $ALPHA --model mab --initial $INITIAL"
   ]
  },
  {
   "cell_type": "code",
   "execution_count": 10,
   "id": "91a96d49",
   "metadata": {
    "execution": {
     "iopub.execute_input": "2023-02-20T05:58:28.214634Z",
     "iopub.status.busy": "2023-02-20T05:58:28.214252Z",
     "iopub.status.idle": "2023-02-20T06:47:09.669328Z",
     "shell.execute_reply": "2023-02-20T06:47:09.668377Z"
    }
   },
   "outputs": [
    {
     "name": "stdout",
     "output_type": "stream",
     "text": [
      "Naive Naive UCB Approach with definite Bernoulli arms\n",
      "Action profile: [0.01 0.25 0.04 0.16 0.22 0.07 0.19 0.1  0.13 0.9 ]\n",
      "Optimal arm: 9\n",
      "100%|███████████████████████████████████████| 1500/1500 [00:36<00:00, 40.70it/s]\n",
      "100%|███████████████████████████████████████| 1500/1500 [00:37<00:00, 40.50it/s]\n",
      "100%|███████████████████████████████████████| 1500/1500 [00:36<00:00, 40.54it/s]\n",
      "100%|███████████████████████████████████████| 1500/1500 [00:37<00:00, 40.26it/s]\n",
      "100%|███████████████████████████████████████| 1500/1500 [00:37<00:00, 40.21it/s]\n",
      "===================================\n",
      "Naive Naive UCB Approach with definite Gaussian arms\n",
      "Action profile: [0.01 0.1  0.13 0.07 0.16 0.04 0.22 0.19 0.9  0.25]\n",
      "Optimal arm: 8\n",
      "100%|███████████████████████████████████████| 1500/1500 [00:41<00:00, 36.14it/s]\n",
      "100%|███████████████████████████████████████| 1500/1500 [00:41<00:00, 36.13it/s]\n",
      "100%|███████████████████████████████████████| 1500/1500 [00:41<00:00, 36.13it/s]\n",
      "100%|███████████████████████████████████████| 1500/1500 [00:41<00:00, 35.85it/s]\n",
      "100%|███████████████████████████████████████| 1500/1500 [00:41<00:00, 35.98it/s]\n",
      "===================================\n",
      "Naive UCB-delta Algorithm with definite Bernoulli arms\n",
      "Action profile: [0.1  0.07 0.16 0.19 0.04 0.25 0.22 0.9  0.13 0.01]\n",
      "Optimal arm: 7\n",
      "100%|███████████████████████████████████████| 1500/1500 [00:36<00:00, 40.75it/s]\n",
      "100%|███████████████████████████████████████| 1500/1500 [00:37<00:00, 40.48it/s]\n",
      "100%|███████████████████████████████████████| 1500/1500 [00:36<00:00, 40.64it/s]\n",
      "100%|███████████████████████████████████████| 1500/1500 [00:36<00:00, 40.62it/s]\n",
      "100%|███████████████████████████████████████| 1500/1500 [00:37<00:00, 40.48it/s]\n",
      "100%|███████████████████████████████████████| 1500/1500 [00:37<00:00, 40.35it/s]\n",
      "===================================\n",
      "Naive UCB-delta Algorithm with definite Gaussian arms\n",
      "Action profile: [0.1  0.25 0.04 0.13 0.01 0.16 0.19 0.07 0.22 0.9 ]\n",
      "Optimal arm: 9\n",
      "100%|███████████████████████████████████████| 1500/1500 [00:41<00:00, 36.48it/s]\n",
      "100%|███████████████████████████████████████| 1500/1500 [00:41<00:00, 36.11it/s]\n",
      "100%|███████████████████████████████████████| 1500/1500 [00:41<00:00, 36.24it/s]\n",
      "100%|███████████████████████████████████████| 1500/1500 [00:41<00:00, 36.19it/s]\n",
      "100%|███████████████████████████████████████| 1500/1500 [00:41<00:00, 35.98it/s]\n",
      "100%|███████████████████████████████████████| 1500/1500 [00:41<00:00, 36.09it/s]\n",
      "===================================\n",
      "Naive Asymptotically Optimal UCB with definite Bernoulli arms\n",
      "Action profile: [0.16 0.1  0.25 0.9  0.07 0.01 0.19 0.04 0.13 0.22]\n",
      "Optimal arm: 3\n",
      "100%|███████████████████████████████████████| 1500/1500 [00:40<00:00, 37.20it/s]\n",
      "===================================\n",
      "Naive Asymptotically Optimal UCB with definite Gaussian arms\n",
      "Action profile: [0.22 0.07 0.13 0.9  0.16 0.01 0.04 0.25 0.19 0.1 ]\n",
      "Optimal arm: 3\n",
      "100%|███████████████████████████████████████| 1500/1500 [00:46<00:00, 31.99it/s]\n",
      "===================================\n",
      "Naive UCB MOSS Algorithm with definite Bernoulli arms\n",
      "Action profile: [0.13 0.04 0.22 0.19 0.07 0.1  0.25 0.9  0.01 0.16]\n",
      "Optimal arm: 7\n",
      "100%|███████████████████████████████████████| 1500/1500 [00:39<00:00, 37.57it/s]\n",
      "===================================\n",
      "Naive UCB MOSS Algorithm with definite Gaussian arms\n",
      "Action profile: [0.1  0.07 0.04 0.19 0.13 0.9  0.16 0.25 0.01 0.22]\n",
      "Optimal arm: 5\n",
      "100%|███████████████████████████████████████| 1500/1500 [00:44<00:00, 33.68it/s]\n"
     ]
    }
   ],
   "source": [
    "!python3 main.py --nsim $NSIM --nsteps $NSTEPS --bernoulli --n_arms $N_ARMS --tqdm --model ucbnaive --is_definite\n",
    "print(f\"=\" * 35)\n",
    "!python3 main.py --nsim $NSIM --nsteps $NSTEPS --n_arms $N_ARMS --tqdm --model ucbnaive --is_definite\n",
    "print(f\"=\" * 35)\n",
    "!python3 main.py --nsim $NSIM --nsteps $NSTEPS --bernoulli --n_arms $N_ARMS --tqdm --model ucbdelta --is_definite\n",
    "print(f\"=\" * 35)\n",
    "!python3 main.py --nsim $NSIM --nsteps $NSTEPS --n_arms $N_ARMS --tqdm --model ucbdelta --is_definite\n",
    "print(f\"=\" * 35)\n",
    "!python3 main.py --nsim $NSIM --nsteps $NSTEPS --bernoulli --n_arms $N_ARMS --tqdm --model ucbasym --is_definite\n",
    "print(f\"=\" * 35)\n",
    "!python3 main.py --nsim $NSIM --nsteps $NSTEPS --n_arms $N_ARMS --tqdm --model ucbasym --is_definite\n",
    "print(f\"=\" * 35)\n",
    "!python3 main.py --nsim $NSIM --nsteps $NSTEPS --bernoulli --n_arms $N_ARMS --tqdm --model ucbmoss --is_definite\n",
    "print(f\"=\" * 35)\n",
    "!python3 main.py --nsim $NSIM --nsteps $NSTEPS --n_arms $N_ARMS --tqdm --model ucbmoss --is_definite"
   ]
  },
  {
   "cell_type": "code",
   "execution_count": 11,
   "id": "ab5dec72",
   "metadata": {
    "execution": {
     "iopub.execute_input": "2023-02-20T06:47:09.674521Z",
     "iopub.status.busy": "2023-02-20T06:47:09.674025Z",
     "iopub.status.idle": "2023-02-20T07:35:47.750502Z",
     "shell.execute_reply": "2023-02-20T07:35:47.749520Z"
    }
   },
   "outputs": [
    {
     "name": "stdout",
     "output_type": "stream",
     "text": [
      "Naive Naive UCB Approach with ambiguous Bernoulli arms\n",
      "Action profile: [0.8  0.95 0.65 0.76 0.84 0.91 0.88 0.69 0.73 0.99]\n",
      "Optimal arm: 9\n",
      "100%|███████████████████████████████████████| 1500/1500 [00:36<00:00, 41.09it/s]\n",
      "100%|███████████████████████████████████████| 1500/1500 [00:36<00:00, 40.82it/s]\n",
      "100%|███████████████████████████████████████| 1500/1500 [00:36<00:00, 41.04it/s]\n",
      "100%|███████████████████████████████████████| 1500/1500 [00:36<00:00, 41.03it/s]\n",
      "100%|███████████████████████████████████████| 1500/1500 [00:36<00:00, 40.63it/s]\n",
      "===================================\n",
      "Naive Naive UCB Approach with ambiguous Gaussian arms\n",
      "Action profile: [0.65 0.8  0.69 0.76 0.95 0.91 0.88 0.99 0.84 0.73]\n",
      "Optimal arm: 7\n",
      "100%|███████████████████████████████████████| 1500/1500 [00:42<00:00, 35.10it/s]\n",
      "100%|███████████████████████████████████████| 1500/1500 [00:42<00:00, 34.98it/s]\n",
      "100%|███████████████████████████████████████| 1500/1500 [00:42<00:00, 34.97it/s]\n",
      "100%|███████████████████████████████████████| 1500/1500 [00:42<00:00, 35.31it/s]\n",
      "100%|███████████████████████████████████████| 1500/1500 [00:42<00:00, 34.94it/s]\n",
      "===================================\n",
      "Naive UCB-delta Algorithm with ambiguous Bernoulli arms\n",
      "Action profile: [0.99 0.65 0.95 0.69 0.88 0.84 0.8  0.91 0.73 0.76]\n",
      "Optimal arm: 0\n",
      "100%|███████████████████████████████████████| 1500/1500 [00:37<00:00, 40.52it/s]\n",
      "100%|███████████████████████████████████████| 1500/1500 [00:37<00:00, 40.23it/s]\n",
      "100%|███████████████████████████████████████| 1500/1500 [00:37<00:00, 40.23it/s]\n",
      "100%|███████████████████████████████████████| 1500/1500 [00:37<00:00, 40.49it/s]\n",
      "100%|███████████████████████████████████████| 1500/1500 [00:37<00:00, 40.16it/s]\n",
      "100%|███████████████████████████████████████| 1500/1500 [00:37<00:00, 40.09it/s]\n",
      "===================================\n",
      "Naive UCB-delta Algorithm with ambiguous Gaussian arms\n",
      "Action profile: [0.88 0.84 0.65 0.8  0.95 0.69 0.73 0.76 0.91 0.99]\n",
      "Optimal arm: 9\n",
      "100%|███████████████████████████████████████| 1500/1500 [00:41<00:00, 35.80it/s]\n",
      "100%|███████████████████████████████████████| 1500/1500 [00:42<00:00, 35.51it/s]\n",
      "100%|███████████████████████████████████████| 1500/1500 [00:42<00:00, 35.62it/s]\n",
      "100%|███████████████████████████████████████| 1500/1500 [00:42<00:00, 35.56it/s]\n",
      "100%|███████████████████████████████████████| 1500/1500 [00:42<00:00, 35.66it/s]\n",
      "100%|███████████████████████████████████████| 1500/1500 [00:42<00:00, 35.59it/s]\n",
      "===================================\n",
      "Naive Asymptotically Optimal UCB with ambiguous Bernoulli arms\n",
      "Action profile: [0.76 0.69 0.88 0.91 0.73 0.95 0.8  0.99 0.84 0.65]\n",
      "Optimal arm: 7\n",
      "100%|███████████████████████████████████████| 1500/1500 [00:39<00:00, 38.10it/s]\n",
      "===================================\n",
      "Naive Asymptotically Optimal UCB with ambiguous Gaussian arms\n",
      "Action profile: [0.91 0.76 0.99 0.95 0.69 0.8  0.84 0.88 0.73 0.65]\n",
      "Optimal arm: 2\n",
      "100%|███████████████████████████████████████| 1500/1500 [00:46<00:00, 32.00it/s]\n",
      "===================================\n",
      "Naive UCB MOSS Algorithm with ambiguous Bernoulli arms\n",
      "Action profile: [0.73 0.8  0.69 0.76 0.95 0.65 0.88 0.84 0.91 0.99]\n",
      "Optimal arm: 9\n",
      "100%|███████████████████████████████████████| 1500/1500 [00:40<00:00, 37.06it/s]\n",
      "===================================\n",
      "Naive UCB MOSS Algorithm with ambiguous Gaussian arms\n",
      "Action profile: [0.84 0.99 0.95 0.8  0.65 0.76 0.69 0.91 0.88 0.73]\n",
      "Optimal arm: 1\n",
      "100%|███████████████████████████████████████| 1500/1500 [00:45<00:00, 33.08it/s]\n"
     ]
    }
   ],
   "source": [
    "!python3 main.py --nsim $NSIM --nsteps $NSTEPS --bernoulli --n_arms $N_ARMS --tqdm --model ucbnaive\n",
    "print(f\"=\" * 35)\n",
    "!python3 main.py --nsim $NSIM --nsteps $NSTEPS --n_arms $N_ARMS --tqdm --model ucbnaive\n",
    "print(f\"=\" * 35)\n",
    "!python3 main.py --nsim $NSIM --nsteps $NSTEPS --bernoulli --n_arms $N_ARMS --tqdm --model ucbdelta\n",
    "print(f\"=\" * 35)\n",
    "!python3 main.py --nsim $NSIM --nsteps $NSTEPS --n_arms $N_ARMS --tqdm --model ucbdelta\n",
    "print(f\"=\" * 35)\n",
    "!python3 main.py --nsim $NSIM --nsteps $NSTEPS --bernoulli --n_arms $N_ARMS --tqdm --model ucbasym\n",
    "print(f\"=\" * 35)\n",
    "!python3 main.py --nsim $NSIM --nsteps $NSTEPS --n_arms $N_ARMS --tqdm --model ucbasym\n",
    "print(f\"=\" * 35)\n",
    "!python3 main.py --nsim $NSIM --nsteps $NSTEPS --bernoulli --n_arms $N_ARMS --tqdm --model ucbmoss\n",
    "print(f\"=\" * 35)\n",
    "!python3 main.py --nsim $NSIM --nsteps $NSTEPS --n_arms $N_ARMS --tqdm --model ucbmoss"
   ]
  },
  {
   "cell_type": "code",
   "execution_count": 12,
   "id": "807c934f",
   "metadata": {
    "execution": {
     "iopub.execute_input": "2023-02-20T07:35:47.755951Z",
     "iopub.status.busy": "2023-02-20T07:35:47.755159Z",
     "iopub.status.idle": "2023-02-20T07:43:41.885807Z",
     "shell.execute_reply": "2023-02-20T07:43:41.884844Z"
    }
   },
   "outputs": [
    {
     "name": "stdout",
     "output_type": "stream",
     "text": [
      "Naive Thompson Sampling with definite Bernoulli arms\n",
      "Action profile: [0.22 0.01 0.9  0.16 0.13 0.19 0.04 0.07 0.1  0.25]\n",
      "Optimal arm: 2\n",
      "100%|███████████████████████████████████████| 1500/1500 [00:52<00:00, 28.67it/s]\n",
      "===================================\n",
      "Naive Thompson Sampling with definite Gaussian arms\n",
      "Action profile: [0.07 0.25 0.1  0.13 0.9  0.01 0.19 0.16 0.22 0.04]\n",
      "Optimal arm: 4\n",
      "100%|███████████████████████████████████████| 1500/1500 [01:27<00:00, 17.13it/s]\n"
     ]
    }
   ],
   "source": [
    "!python3 main.py --nsim $NSIM --nsteps $NSTEPS --bernoulli --n_arms $N_ARMS --tqdm --model thompson --is_definite\n",
    "print(f\"=\" * 35)\n",
    "!python3 main.py --nsim $NSIM --nsteps $NSTEPS --n_arms $N_ARMS --tqdm --model thompson --is_definite"
   ]
  },
  {
   "cell_type": "code",
   "execution_count": 13,
   "id": "febc892f",
   "metadata": {
    "execution": {
     "iopub.execute_input": "2023-02-20T07:43:41.890443Z",
     "iopub.status.busy": "2023-02-20T07:43:41.890098Z",
     "iopub.status.idle": "2023-02-20T07:51:30.470056Z",
     "shell.execute_reply": "2023-02-20T07:51:30.469186Z"
    }
   },
   "outputs": [
    {
     "name": "stdout",
     "output_type": "stream",
     "text": [
      "Naive Thompson Sampling with ambiguous Bernoulli arms\n",
      "Action profile: [0.99 0.69 0.65 0.91 0.76 0.88 0.73 0.8  0.84 0.95]\n",
      "Optimal arm: 0\n",
      "100%|███████████████████████████████████████| 1500/1500 [00:53<00:00, 27.89it/s]\n",
      "===================================\n",
      "Naive Thompson Sampling with ambiguous Gaussian arms\n",
      "Action profile: [0.99 0.73 0.91 0.84 0.76 0.8  0.95 0.65 0.69 0.88]\n",
      "Optimal arm: 0\n",
      "100%|███████████████████████████████████████| 1500/1500 [01:27<00:00, 17.11it/s]\n"
     ]
    }
   ],
   "source": [
    "!python3 main.py --nsim $NSIM --nsteps $NSTEPS --bernoulli --n_arms $N_ARMS --tqdm --model thompson\n",
    "print(f\"=\" * 35)\n",
    "!python3 main.py --nsim $NSIM --nsteps $NSTEPS --n_arms $N_ARMS --tqdm --model thompson"
   ]
  },
  {
   "cell_type": "code",
   "execution_count": 14,
   "id": "fbba7a69",
   "metadata": {
    "execution": {
     "iopub.execute_input": "2023-02-20T07:51:30.474646Z",
     "iopub.status.busy": "2023-02-20T07:51:30.474156Z",
     "iopub.status.idle": "2023-02-20T08:01:55.729669Z",
     "shell.execute_reply": "2023-02-20T08:01:55.728812Z"
    }
   },
   "outputs": [
    {
     "name": "stdout",
     "output_type": "stream",
     "text": [
      "Naive Explore-then-commit with definite Bernoulli arms\n",
      "Action profile: [0.9  0.13 0.25 0.1  0.07 0.01 0.22 0.19 0.04 0.16]\n",
      "Optimal arm: 0\n",
      "100%|███████████████████████████████████████| 1500/1500 [00:28<00:00, 52.84it/s]\n",
      "100%|███████████████████████████████████████| 1500/1500 [00:26<00:00, 57.66it/s]\n",
      "100%|███████████████████████████████████████| 1500/1500 [00:22<00:00, 66.83it/s]\n",
      "100%|███████████████████████████████████████| 1500/1500 [00:16<00:00, 92.00it/s]\n",
      "===================================\n",
      "Naive Explore-then-commit with definite Gaussian arms\n",
      "Action profile: [0.04 0.1  0.22 0.19 0.07 0.25 0.16 0.01 0.9  0.13]\n",
      "Optimal arm: 8\n",
      "100%|███████████████████████████████████████| 1500/1500 [00:33<00:00, 45.25it/s]\n",
      "100%|███████████████████████████████████████| 1500/1500 [00:30<00:00, 48.56it/s]\n",
      "100%|███████████████████████████████████████| 1500/1500 [00:27<00:00, 55.47it/s]\n",
      "100%|███████████████████████████████████████| 1500/1500 [00:20<00:00, 72.16it/s]\n"
     ]
    }
   ],
   "source": [
    "!python3 main.py --nsim $NSIM --nsteps $NSTEPS --bernoulli --n_arms $N_ARMS --tqdm --model etc --is_definite\n",
    "print(f\"=\" * 35)\n",
    "!python3 main.py --nsim $NSIM --nsteps $NSTEPS --n_arms $N_ARMS --tqdm --model etc --is_definite"
   ]
  },
  {
   "cell_type": "code",
   "execution_count": 15,
   "id": "62cd83e1",
   "metadata": {
    "execution": {
     "iopub.execute_input": "2023-02-20T08:01:55.734477Z",
     "iopub.status.busy": "2023-02-20T08:01:55.734136Z",
     "iopub.status.idle": "2023-02-20T08:12:45.404814Z",
     "shell.execute_reply": "2023-02-20T08:12:45.403944Z"
    }
   },
   "outputs": [
    {
     "name": "stdout",
     "output_type": "stream",
     "text": [
      "Naive Explore-then-commit with ambiguous Bernoulli arms\n",
      "Action profile: [0.76 0.69 0.8  0.84 0.65 0.91 0.99 0.88 0.95 0.73]\n",
      "Optimal arm: 6\n",
      "100%|███████████████████████████████████████| 1500/1500 [00:28<00:00, 53.36it/s]\n",
      "100%|███████████████████████████████████████| 1500/1500 [00:25<00:00, 57.77it/s]\n",
      "100%|███████████████████████████████████████| 1500/1500 [00:22<00:00, 67.47it/s]\n",
      "100%|███████████████████████████████████████| 1500/1500 [00:16<00:00, 92.01it/s]\n",
      "===================================\n",
      "Naive Explore-then-commit with ambiguous Gaussian arms\n",
      "Action profile: [0.73 0.65 0.95 0.91 0.8  0.99 0.84 0.76 0.88 0.69]\n",
      "Optimal arm: 5\n",
      "100%|███████████████████████████████████████| 1500/1500 [00:33<00:00, 45.10it/s]\n",
      "100%|███████████████████████████████████████| 1500/1500 [00:30<00:00, 48.94it/s]\n",
      "100%|███████████████████████████████████████| 1500/1500 [00:27<00:00, 55.38it/s]\n",
      "100%|███████████████████████████████████████| 1500/1500 [00:20<00:00, 72.63it/s]\n"
     ]
    }
   ],
   "source": [
    "!python3 main.py --nsim $NSIM --nsteps $NSTEPS --bernoulli --n_arms $N_ARMS --tqdm --model etc\n",
    "print(f\"=\" * 35)\n",
    "!python3 main.py --nsim $NSIM --nsteps $NSTEPS --n_arms $N_ARMS --tqdm --model etc"
   ]
  },
  {
   "cell_type": "code",
   "execution_count": null,
   "id": "a082d94d",
   "metadata": {},
   "outputs": [],
   "source": []
  }
 ],
 "metadata": {
  "kernelspec": {
   "display_name": "Python 3 (ipykernel)",
   "language": "python",
   "name": "python3"
  },
  "language_info": {
   "codemirror_mode": {
    "name": "ipython",
    "version": 3
   },
   "file_extension": ".py",
   "mimetype": "text/x-python",
   "name": "python",
   "nbconvert_exporter": "python",
   "pygments_lexer": "ipython3",
   "version": "3.10.9"
  },
  "vscode": {
   "interpreter": {
    "hash": "e90c9ac2d6e92c8c249d5242e1615b613a567b2927e7cc02c2f651ab2958e181"
   }
  }
 },
 "nbformat": 4,
 "nbformat_minor": 5
}
