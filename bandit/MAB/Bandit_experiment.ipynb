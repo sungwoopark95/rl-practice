{
 "cells": [
  {
   "cell_type": "code",
   "execution_count": 1,
   "id": "bb444f43",
   "metadata": {},
   "outputs": [
    {
     "name": "stdout",
     "output_type": "stream",
     "text": [
      "arms.py\t\t       Bandit_experiment.ipynb\tcfg.py\tmain.py      test.ipynb\r\n",
      "Bandit_Analysis.ipynb  base_analysis.ipynb\tmab.py\t__pycache__\r\n"
     ]
    }
   ],
   "source": [
    "import pickle\n",
    "import numpy as np\n",
    "import pandas as pd\n",
    "from tqdm import tqdm\n",
    "import matplotlib.pyplot as plt\n",
    "from IPython.display import display\n",
    "\n",
    "!ls"
   ]
  },
  {
   "cell_type": "code",
   "execution_count": 2,
   "id": "5863881a",
   "metadata": {},
   "outputs": [],
   "source": [
    "!rm -rf -r *.pkl"
   ]
  },
  {
   "cell_type": "code",
   "execution_count": 3,
   "id": "e814fe9e",
   "metadata": {},
   "outputs": [
    {
     "name": "stdout",
     "output_type": "stream",
     "text": [
      "arms.py\t\t       Bandit_experiment.ipynb\tcfg.py\tmain.py      test.ipynb\r\n",
      "Bandit_Analysis.ipynb  base_analysis.ipynb\tmab.py\t__pycache__\r\n"
     ]
    }
   ],
   "source": [
    "!ls"
   ]
  },
  {
   "cell_type": "code",
   "execution_count": null,
   "id": "d7b9001e",
   "metadata": {
    "scrolled": false
   },
   "outputs": [
    {
     "name": "stdout",
     "output_type": "stream",
     "text": [
      "Naive K-armed Bandit with Bernoulli Arm\n",
      "Action profile: [0.74 0.63 0.58 0.05 0.16]\n",
      "Optimal arm: 0\n",
      "100%|███████████████████████████████████████| 2000/2000 [00:33<00:00, 59.68it/s]\n",
      "100%|███████████████████████████████████████| 2000/2000 [00:33<00:00, 59.11it/s]\n",
      "100%|███████████████████████████████████████| 2000/2000 [00:31<00:00, 62.77it/s]\n",
      "100%|███████████████████████████████████████| 2000/2000 [00:28<00:00, 71.02it/s]\n",
      "100%|███████████████████████████████████████| 2000/2000 [00:21<00:00, 94.14it/s]\n",
      "===================================\n",
      "Naive K-armed Bandit with Gaussian Arm\n",
      "Action profile: [ 0.47  0.26  0.16 -0.89 -0.68]\n",
      "Optimal arm: 0\n",
      "100%|███████████████████████████████████████| 2000/2000 [00:36<00:00, 55.34it/s]\n",
      "100%|███████████████████████████████████████| 2000/2000 [00:36<00:00, 54.84it/s]\n",
      "100%|███████████████████████████████████████| 2000/2000 [00:34<00:00, 57.90it/s]\n",
      "100%|███████████████████████████████████████| 2000/2000 [00:30<00:00, 65.27it/s]\n",
      "100%|███████████████████████████████████████| 2000/2000 [00:23<00:00, 86.29it/s]\n",
      "===================================\n",
      "Naive K-armed Bandit with Bernoulli Arm\n",
      "Action profile: [0.74 0.63 0.58 0.05 0.16]\n",
      "Optimal arm: 0\n",
      "100%|███████████████████████████████████████| 2000/2000 [00:34<00:00, 58.31it/s]\n",
      "100%|███████████████████████████████████████| 2000/2000 [00:34<00:00, 57.61it/s]\n",
      " 69%|███████████████████████████            | 1386/2000 [00:23<00:10, 57.77it/s]"
     ]
    }
   ],
   "source": [
    "!python3 main.py --nsim 2000 --nsteps 1000 --bernoulli --n_arms 5 --tqdm --model mab --seed 777\n",
    "print(f\"=\" * 35)\n",
    "!python3 main.py --nsim 2000 --nsteps 1000 --n_arms 5 --tqdm --model mab --seed 777\n",
    "print(f\"=\" * 35)\n",
    "!python3 main.py --nsim 2000 --nsteps 1000 --bernoulli --n_arms 5 --tqdm --alpha 0.5 --model mab --seed 777\n",
    "print(f\"=\" * 35)\n",
    "!python3 main.py --nsim 2000 --nsteps 1000 --n_arms 5 --tqdm --alpha 0.5 --model mab --seed 777"
   ]
  },
  {
   "cell_type": "code",
   "execution_count": null,
   "id": "7611c6ce",
   "metadata": {},
   "outputs": [],
   "source": [
    "!python3 main.py --nsim 2000 --nsteps 1000 --bernoulli --n_arms 5 --tqdm --model mab --initial 10 --seed 777\n",
    "print(f\"=\" * 35)\n",
    "!python3 main.py --nsim 2000 --nsteps 1000 --n_arms 5 --tqdm --model mab --initial 10 --seed 777\n",
    "print(f\"=\" * 359503\n",
    "!python3 main.py --nsim 2000 --nsteps 1000 --bernoulli --n_arms 5 --tqdm --alpha 0.5 --model mab --initial 10 --seed 777\n",
    "print(f\"=\" * 35)\n",
    "!python3 main.py --nsim 2000 --nsteps 1000 --n_arms 5 --tqdm --alpha 0.5 --model mab --initial 10 --seed 777"
   ]
  },
  {
   "cell_type": "code",
   "execution_count": null,
   "id": "91a96d49",
   "metadata": {},
   "outputs": [],
   "source": [
    "!python3 main.py --nsim 2000 --nsteps 1000 --bernoulli --n_arms 5 --tqdm --model ucb --seed 777\n",
    "print(f\"=\" * 35)\n",
    "!python3 main.py --nsim 2000 --nsteps 1000 --n_arms 5 --tqdm --model ucb --seed 777"
   ]
  },
  {
   "cell_type": "code",
   "execution_count": null,
   "id": "e9034cd0",
   "metadata": {},
   "outputs": [],
   "source": [
    "!python3 main.py --nsim 2000 --nsteps 1000 --bernoulli --n_arms 5 --tqdm --model etc --seed 777\n",
    "print(f\"=\" * 35)\n",
    "!python3 main.py --nsim 2000 --nsteps 1000 --n_arms 5 --tqdm --model etc --seed 777\n",
    "print(f\"=\" * 35)\n",
    "!python3 main.py --nsim 2000 --nsteps 1000 --bernoulli --n_arms 5 --tqdm --model etc --initial 10 --seed 777\n",
    "print(f\"=\" * 35)\n",
    "!python3 main.py --nsim 2000 --nsteps 1000 --n_arms 5 --tqdm --model etc --initial 10 --seed 777"
   ]
  },
  {
   "cell_type": "code",
   "execution_count": null,
   "id": "807c934f",
   "metadata": {},
   "outputs": [],
   "source": [
    "!python3 main.py --nsim 2000 --nsteps 1000 --bernoulli --n_arms 5 --tqdm --model thompson --seed 777\n",
    "print(f\"=\" * 35)\n",
    "!python3 main.py --nsim 2000 --nsteps 1000 --n_arms 5 --tqdm --model thompson --seed 777"
   ]
  },
  {
   "cell_type": "code",
   "execution_count": null,
   "id": "d3bab6e6",
   "metadata": {},
   "outputs": [],
   "source": []
  }
 ],
 "metadata": {
  "kernelspec": {
   "display_name": "Python 3",
   "language": "python",
   "name": "python3"
  },
  "language_info": {
   "codemirror_mode": {
    "name": "ipython",
    "version": 3
   },
   "file_extension": ".py",
   "mimetype": "text/x-python",
   "name": "python",
   "nbconvert_exporter": "python",
   "pygments_lexer": "ipython3",
   "version": "3.9.15"
  }
 },
 "nbformat": 4,
 "nbformat_minor": 5
}
