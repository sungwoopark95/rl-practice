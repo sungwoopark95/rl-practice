{
 "cells": [
  {
   "cell_type": "code",
   "execution_count": 1,
   "id": "bb444f43",
   "metadata": {
    "execution": {
     "iopub.execute_input": "2023-02-20T03:22:42.071130Z",
     "iopub.status.busy": "2023-02-20T03:22:42.070466Z",
     "iopub.status.idle": "2023-02-20T03:22:45.497067Z",
     "shell.execute_reply": "2023-02-20T03:22:45.496381Z"
    }
   },
   "outputs": [],
   "source": [
    "import pickle\n",
    "import numpy as np\n",
    "import pandas as pd\n",
    "from tqdm import tqdm\n",
    "import matplotlib.pyplot as plt\n",
    "from IPython.display import display"
   ]
  },
  {
   "cell_type": "code",
   "execution_count": 2,
   "id": "d36218ec",
   "metadata": {},
   "outputs": [],
   "source": [
    "!if [ ! -d ./definite ]; then mkdir -p ./definite; fi\n",
    "!if [ ! -d ./indefinite ]; then mkdir -p ./indefinite; fi"
   ]
  },
  {
   "cell_type": "code",
   "execution_count": 3,
   "id": "5863881a",
   "metadata": {
    "execution": {
     "iopub.execute_input": "2023-02-20T03:22:45.759078Z",
     "iopub.status.busy": "2023-02-20T03:22:45.758395Z",
     "iopub.status.idle": "2023-02-20T03:22:48.490620Z",
     "shell.execute_reply": "2023-02-20T03:22:48.489708Z"
    }
   },
   "outputs": [],
   "source": [
    "!rm -rf -r ./definite/*.pkl\n",
    "!rm -rf -r ./indefinite/*.pkl"
   ]
  },
  {
   "cell_type": "code",
   "execution_count": 4,
   "id": "e814fe9e",
   "metadata": {
    "execution": {
     "iopub.execute_input": "2023-02-20T03:22:48.495272Z",
     "iopub.status.busy": "2023-02-20T03:22:48.494789Z",
     "iopub.status.idle": "2023-02-20T03:22:48.743368Z",
     "shell.execute_reply": "2023-02-20T03:22:48.742515Z"
    }
   },
   "outputs": [
    {
     "name": "stdout",
     "output_type": "stream",
     "text": [
      "===================================\n"
     ]
    }
   ],
   "source": [
    "!ls ./definite\n",
    "print(\"=\"*35)\n",
    "!ls ./indefinite"
   ]
  },
  {
   "cell_type": "code",
   "execution_count": 2,
   "id": "038103dd",
   "metadata": {
    "execution": {
     "iopub.execute_input": "2023-02-20T03:22:48.747670Z",
     "iopub.status.busy": "2023-02-20T03:22:48.747206Z",
     "iopub.status.idle": "2023-02-20T03:22:48.751742Z",
     "shell.execute_reply": "2023-02-20T03:22:48.751187Z"
    }
   },
   "outputs": [],
   "source": [
    "NSIM = 800\n",
    "NSTEPS = 4000\n",
    "N_ARMS = 5\n",
    "INITIAL = 2.5\n",
    "ALPHA = 0.5"
   ]
  },
  {
   "cell_type": "code",
   "execution_count": 6,
   "id": "d7b9001e",
   "metadata": {
    "execution": {
     "iopub.execute_input": "2023-02-20T03:22:48.754293Z",
     "iopub.status.busy": "2023-02-20T03:22:48.753998Z",
     "iopub.status.idle": "2023-02-20T04:01:27.755048Z",
     "shell.execute_reply": "2023-02-20T04:01:27.754050Z"
    },
    "scrolled": false
   },
   "outputs": [
    {
     "name": "stdout",
     "output_type": "stream",
     "text": [
      "Naive K-armed Bandit with definite Bernoulli arms\n",
      "Action profile: [0.09 0.25 0.17 0.01 0.9 ]\n",
      "Optimal arm: 4\n",
      "100%|█████████████████████████████████████████| 800/800 [01:03<00:00, 12.51it/s]\n",
      "100%|█████████████████████████████████████████| 800/800 [01:04<00:00, 12.37it/s]\n",
      "100%|█████████████████████████████████████████| 800/800 [01:05<00:00, 12.30it/s]\n",
      "100%|█████████████████████████████████████████| 800/800 [00:56<00:00, 14.18it/s]\n",
      "100%|█████████████████████████████████████████| 800/800 [00:46<00:00, 17.13it/s]\n",
      "100%|█████████████████████████████████████████| 800/800 [00:42<00:00, 18.69it/s]\n",
      "===================================\n",
      "Naive K-armed Bandit with definite Gaussian arms\n",
      "Action profile: [0.17 0.9  0.01 0.09 0.25]\n",
      "Optimal arm: 1\n",
      "100%|█████████████████████████████████████████| 800/800 [01:05<00:00, 12.22it/s]\n",
      "100%|█████████████████████████████████████████| 800/800 [01:05<00:00, 12.23it/s]\n",
      "100%|█████████████████████████████████████████| 800/800 [01:03<00:00, 12.50it/s]\n",
      "100%|█████████████████████████████████████████| 800/800 [00:55<00:00, 14.34it/s]\n",
      "100%|█████████████████████████████████████████| 800/800 [00:45<00:00, 17.41it/s]\n",
      "100%|█████████████████████████████████████████| 800/800 [00:43<00:00, 18.34it/s]\n",
      "===================================\n",
      "Naive K-armed Bandit with definite Bernoulli arms\n",
      "Action profile: [0.17 0.25 0.01 0.9  0.09]\n",
      "Optimal arm: 3\n",
      "100%|█████████████████████████████████████████| 800/800 [01:06<00:00, 11.99it/s]\n",
      "100%|█████████████████████████████████████████| 800/800 [01:07<00:00, 11.89it/s]\n",
      "100%|█████████████████████████████████████████| 800/800 [01:08<00:00, 11.66it/s]\n",
      "100%|█████████████████████████████████████████| 800/800 [01:07<00:00, 11.87it/s]\n",
      "100%|█████████████████████████████████████████| 800/800 [01:08<00:00, 11.76it/s]\n",
      "100%|█████████████████████████████████████████| 800/800 [01:08<00:00, 11.73it/s]\n",
      "===================================\n",
      "Naive K-armed Bandit with definite Gaussian arms\n",
      "Action profile: [0.09 0.17 0.9  0.25 0.01]\n",
      "Optimal arm: 2\n",
      "100%|█████████████████████████████████████████| 800/800 [01:05<00:00, 12.29it/s]\n",
      "100%|█████████████████████████████████████████| 800/800 [01:05<00:00, 12.17it/s]\n",
      "100%|█████████████████████████████████████████| 800/800 [01:05<00:00, 12.20it/s]\n",
      "100%|█████████████████████████████████████████| 800/800 [01:05<00:00, 12.21it/s]\n",
      "100%|█████████████████████████████████████████| 800/800 [01:05<00:00, 12.20it/s]\n",
      "100%|█████████████████████████████████████████| 800/800 [01:05<00:00, 12.18it/s]\n"
     ]
    }
   ],
   "source": [
    "!python3 main.py --nsim $NSIM --nsteps $NSTEPS --bernoulli --n_arms $N_ARMS --tqdm --model mab --is_definite\n",
    "print(f\"=\" * 35)\n",
    "!python3 main.py --nsim $NSIM --nsteps $NSTEPS --n_arms $N_ARMS --tqdm --model mab --is_definite\n",
    "print(f\"=\" * 35)\n",
    "!python3 main.py --nsim $NSIM --nsteps $NSTEPS --bernoulli --n_arms $N_ARMS --tqdm --alpha $ALPHA --model mab --is_definite\n",
    "print(f\"=\" * 35)\n",
    "!python3 main.py --nsim $NSIM --nsteps $NSTEPS --n_arms $N_ARMS --tqdm --alpha $ALPHA --model mab --is_definite"
   ]
  },
  {
   "cell_type": "code",
   "execution_count": 7,
   "id": "c8b92940",
   "metadata": {
    "execution": {
     "iopub.execute_input": "2023-02-20T04:01:27.760325Z",
     "iopub.status.busy": "2023-02-20T04:01:27.759744Z",
     "iopub.status.idle": "2023-02-20T04:39:56.270719Z",
     "shell.execute_reply": "2023-02-20T04:39:56.269732Z"
    },
    "scrolled": false
   },
   "outputs": [
    {
     "name": "stdout",
     "output_type": "stream",
     "text": [
      "Naive K-armed Bandit with ambiguous Bernoulli arms\n",
      "Action profile: [0.82 0.74 0.99 0.9  0.65]\n",
      "Optimal arm: 2\n",
      "100%|█████████████████████████████████████████| 800/800 [01:06<00:00, 11.97it/s]\n",
      "100%|█████████████████████████████████████████| 800/800 [01:06<00:00, 11.99it/s]\n",
      "100%|█████████████████████████████████████████| 800/800 [01:05<00:00, 12.17it/s]\n",
      "100%|█████████████████████████████████████████| 800/800 [00:57<00:00, 13.83it/s]\n",
      "100%|█████████████████████████████████████████| 800/800 [00:48<00:00, 16.48it/s]\n",
      "100%|█████████████████████████████████████████| 800/800 [00:45<00:00, 17.56it/s]\n",
      "===================================\n",
      "Naive K-armed Bandit with ambiguous Gaussian arms\n",
      "Action profile: [0.65 0.9  0.99 0.74 0.82]\n",
      "Optimal arm: 2\n",
      "100%|█████████████████████████████████████████| 800/800 [01:05<00:00, 12.20it/s]\n",
      "100%|█████████████████████████████████████████| 800/800 [01:05<00:00, 12.19it/s]\n",
      "100%|█████████████████████████████████████████| 800/800 [01:03<00:00, 12.55it/s]\n",
      "100%|█████████████████████████████████████████| 800/800 [00:56<00:00, 14.22it/s]\n",
      "100%|█████████████████████████████████████████| 800/800 [00:46<00:00, 17.20it/s]\n",
      "100%|█████████████████████████████████████████| 800/800 [00:43<00:00, 18.33it/s]\n",
      "===================================\n",
      "Naive K-armed Bandit with ambiguous Bernoulli arms\n",
      "Action profile: [0.82 0.74 0.9  0.99 0.65]\n",
      "Optimal arm: 3\n",
      "100%|█████████████████████████████████████████| 800/800 [01:05<00:00, 12.15it/s]\n",
      "100%|█████████████████████████████████████████| 800/800 [01:06<00:00, 12.10it/s]\n",
      "100%|█████████████████████████████████████████| 800/800 [01:05<00:00, 12.17it/s]\n",
      "100%|█████████████████████████████████████████| 800/800 [01:05<00:00, 12.14it/s]\n",
      "100%|█████████████████████████████████████████| 800/800 [01:05<00:00, 12.15it/s]\n",
      "100%|█████████████████████████████████████████| 800/800 [01:05<00:00, 12.15it/s]\n",
      "===================================\n",
      "Naive K-armed Bandit with ambiguous Gaussian arms\n",
      "Action profile: [0.99 0.74 0.65 0.82 0.9 ]\n",
      "Optimal arm: 0\n",
      "100%|█████████████████████████████████████████| 800/800 [01:03<00:00, 12.59it/s]\n",
      "100%|█████████████████████████████████████████| 800/800 [01:04<00:00, 12.49it/s]\n",
      "100%|█████████████████████████████████████████| 800/800 [01:03<00:00, 12.55it/s]\n",
      "100%|█████████████████████████████████████████| 800/800 [01:03<00:00, 12.53it/s]\n",
      "100%|█████████████████████████████████████████| 800/800 [01:03<00:00, 12.51it/s]\n",
      "100%|█████████████████████████████████████████| 800/800 [01:04<00:00, 12.46it/s]\n"
     ]
    }
   ],
   "source": [
    "!python3 main.py --nsim $NSIM --nsteps $NSTEPS --bernoulli --n_arms $N_ARMS --tqdm --model mab\n",
    "print(f\"=\" * 35)\n",
    "!python3 main.py --nsim $NSIM --nsteps $NSTEPS --n_arms $N_ARMS --tqdm --model mab\n",
    "print(f\"=\" * 35)\n",
    "!python3 main.py --nsim $NSIM --nsteps $NSTEPS --bernoulli --n_arms $N_ARMS --tqdm --alpha $ALPHA --model mab\n",
    "print(f\"=\" * 35)\n",
    "!python3 main.py --nsim $NSIM --nsteps $NSTEPS --n_arms $N_ARMS --tqdm --alpha $ALPHA --model mab"
   ]
  },
  {
   "cell_type": "code",
   "execution_count": 8,
   "id": "7611c6ce",
   "metadata": {
    "execution": {
     "iopub.execute_input": "2023-02-20T04:39:56.275692Z",
     "iopub.status.busy": "2023-02-20T04:39:56.275359Z",
     "iopub.status.idle": "2023-02-20T05:18:50.266274Z",
     "shell.execute_reply": "2023-02-20T05:18:50.265265Z"
    },
    "scrolled": false
   },
   "outputs": [
    {
     "name": "stdout",
     "output_type": "stream",
     "text": [
      "Optimistic K-armed Bandit with definite Bernoulli arms\n",
      "Action profile: [0.17 0.09 0.01 0.9  0.25]\n",
      "Optimal arm: 3\n",
      "100%|█████████████████████████████████████████| 800/800 [01:17<00:00, 10.37it/s]\n",
      "100%|█████████████████████████████████████████| 800/800 [01:17<00:00, 10.28it/s]\n",
      "100%|█████████████████████████████████████████| 800/800 [01:15<00:00, 10.59it/s]\n",
      "100%|█████████████████████████████████████████| 800/800 [01:07<00:00, 11.94it/s]\n",
      "100%|█████████████████████████████████████████| 800/800 [00:56<00:00, 14.13it/s]\n",
      "100%|█████████████████████████████████████████| 800/800 [00:53<00:00, 14.97it/s]\n",
      "===================================\n",
      "Optimistic K-armed Bandit with definite Gaussian arms\n",
      "Action profile: [0.9  0.25 0.09 0.17 0.01]\n",
      "Optimal arm: 0\n",
      "100%|█████████████████████████████████████████| 800/800 [01:18<00:00, 10.15it/s]\n",
      "100%|█████████████████████████████████████████| 800/800 [01:19<00:00, 10.11it/s]\n",
      "100%|█████████████████████████████████████████| 800/800 [01:17<00:00, 10.37it/s]\n",
      "100%|█████████████████████████████████████████| 800/800 [01:08<00:00, 11.69it/s]\n",
      "100%|█████████████████████████████████████████| 800/800 [00:58<00:00, 13.77it/s]\n",
      "100%|█████████████████████████████████████████| 800/800 [00:55<00:00, 14.44it/s]\n",
      "===================================\n",
      "Optimistic K-armed Bandit with definite Bernoulli arms\n",
      "Action profile: [0.01 0.9  0.09 0.25 0.17]\n",
      "Optimal arm: 1\n",
      "100%|█████████████████████████████████████████| 800/800 [01:06<00:00, 12.08it/s]\n",
      "100%|█████████████████████████████████████████| 800/800 [01:06<00:00, 11.99it/s]\n",
      "100%|█████████████████████████████████████████| 800/800 [01:06<00:00, 11.99it/s]\n",
      "100%|█████████████████████████████████████████| 800/800 [01:06<00:00, 11.98it/s]\n",
      "100%|█████████████████████████████████████████| 800/800 [01:06<00:00, 12.03it/s]\n",
      "100%|█████████████████████████████████████████| 800/800 [01:06<00:00, 12.00it/s]\n",
      "===================================\n",
      "Optimistic K-armed Bandit with definite Gaussian arms\n",
      "Action profile: [0.25 0.01 0.17 0.09 0.9 ]\n",
      "Optimal arm: 4\n",
      "100%|█████████████████████████████████████████| 800/800 [01:03<00:00, 12.61it/s]\n",
      "100%|█████████████████████████████████████████| 800/800 [01:04<00:00, 12.48it/s]\n",
      "100%|█████████████████████████████████████████| 800/800 [01:04<00:00, 12.44it/s]\n",
      "100%|█████████████████████████████████████████| 800/800 [01:04<00:00, 12.46it/s]\n",
      "100%|█████████████████████████████████████████| 800/800 [01:04<00:00, 12.45it/s]\n",
      "100%|█████████████████████████████████████████| 800/800 [01:04<00:00, 12.45it/s]\n"
     ]
    }
   ],
   "source": [
    "!python3 main.py --nsim $NSIM --nsteps $NSTEPS --bernoulli --n_arms $N_ARMS --tqdm --model mab --initial $INITIAL --is_definite\n",
    "print(f\"=\" * 35)\n",
    "!python3 main.py --nsim $NSIM --nsteps $NSTEPS --n_arms $N_ARMS --tqdm --model mab --initial $INITIAL --is_definite                                                     \n",
    "print(f\"=\" * 35)\n",
    "!python3 main.py --nsim $NSIM --nsteps $NSTEPS --bernoulli --n_arms $N_ARMS --tqdm --alpha $ALPHA --model mab --initial $INITIAL --is_definite\n",
    "print(f\"=\" * 35)\n",
    "!python3 main.py --nsim $NSIM --nsteps $NSTEPS --n_arms $N_ARMS --tqdm --alpha $ALPHA --model mab --initial $INITIAL --is_definite"
   ]
  },
  {
   "cell_type": "code",
   "execution_count": 9,
   "id": "32176091",
   "metadata": {
    "execution": {
     "iopub.execute_input": "2023-02-20T05:18:50.271261Z",
     "iopub.status.busy": "2023-02-20T05:18:50.270758Z",
     "iopub.status.idle": "2023-02-20T05:58:28.209902Z",
     "shell.execute_reply": "2023-02-20T05:58:28.208872Z"
    },
    "scrolled": false
   },
   "outputs": [
    {
     "name": "stdout",
     "output_type": "stream",
     "text": [
      "Optimistic K-armed Bandit with ambiguous Bernoulli arms\n",
      "Action profile: [0.99 0.82 0.74 0.65 0.9 ]\n",
      "Optimal arm: 0\n",
      "100%|█████████████████████████████████████████| 800/800 [01:05<00:00, 12.28it/s]\n",
      "100%|█████████████████████████████████████████| 800/800 [01:05<00:00, 12.22it/s]\n",
      "100%|█████████████████████████████████████████| 800/800 [01:03<00:00, 12.50it/s]\n",
      "100%|█████████████████████████████████████████| 800/800 [00:55<00:00, 14.30it/s]\n",
      "100%|█████████████████████████████████████████| 800/800 [00:46<00:00, 17.24it/s]\n",
      "100%|█████████████████████████████████████████| 800/800 [00:43<00:00, 18.25it/s]\n",
      "===================================\n",
      "Optimistic K-armed Bandit with ambiguous Gaussian arms\n",
      "Action profile: [0.82 0.65 0.9  0.99 0.74]\n",
      "Optimal arm: 3\n",
      "100%|█████████████████████████████████████████| 800/800 [01:06<00:00, 12.08it/s]\n",
      "100%|█████████████████████████████████████████| 800/800 [01:06<00:00, 12.07it/s]\n",
      "100%|█████████████████████████████████████████| 800/800 [01:04<00:00, 12.36it/s]\n",
      "100%|█████████████████████████████████████████| 800/800 [00:56<00:00, 14.14it/s]\n",
      "100%|█████████████████████████████████████████| 800/800 [00:46<00:00, 17.05it/s]\n",
      "100%|█████████████████████████████████████████| 800/800 [00:44<00:00, 18.12it/s]\n",
      "===================================\n",
      "Optimistic K-armed Bandit with ambiguous Bernoulli arms\n",
      "Action profile: [0.9  0.99 0.82 0.74 0.65]\n",
      "Optimal arm: 1\n",
      "100%|█████████████████████████████████████████| 800/800 [01:17<00:00, 10.31it/s]\n",
      "100%|█████████████████████████████████████████| 800/800 [01:17<00:00, 10.30it/s]\n",
      "100%|█████████████████████████████████████████| 800/800 [01:17<00:00, 10.31it/s]\n",
      "100%|█████████████████████████████████████████| 800/800 [01:17<00:00, 10.32it/s]\n",
      "100%|█████████████████████████████████████████| 800/800 [01:17<00:00, 10.31it/s]\n",
      "100%|█████████████████████████████████████████| 800/800 [01:17<00:00, 10.27it/s]\n",
      "===================================\n",
      "Optimistic K-armed Bandit with ambiguous Gaussian arms\n",
      "Action profile: [0.82 0.74 0.99 0.65 0.9 ]\n",
      "Optimal arm: 2\n",
      "100%|█████████████████████████████████████████| 800/800 [01:05<00:00, 12.18it/s]\n",
      "100%|█████████████████████████████████████████| 800/800 [01:06<00:00, 12.10it/s]\n",
      "100%|█████████████████████████████████████████| 800/800 [01:05<00:00, 12.15it/s]\n",
      "100%|█████████████████████████████████████████| 800/800 [01:05<00:00, 12.23it/s]\n",
      "100%|█████████████████████████████████████████| 800/800 [01:05<00:00, 12.18it/s]\n",
      "100%|█████████████████████████████████████████| 800/800 [01:05<00:00, 12.16it/s]\n"
     ]
    }
   ],
   "source": [
    "!python3 main.py --nsim $NSIM --nsteps $NSTEPS --bernoulli --n_arms $N_ARMS --tqdm --model mab --initial $INITIAL\n",
    "print(f\"=\" * 35)\n",
    "!python3 main.py --nsim $NSIM --nsteps $NSTEPS --n_arms $N_ARMS --tqdm --model mab --initial $INITIAL                                               \n",
    "print(f\"=\" * 35)\n",
    "!python3 main.py --nsim $NSIM --nsteps $NSTEPS --bernoulli --n_arms $N_ARMS --tqdm --alpha $ALPHA --model mab --initial $INITIAL\n",
    "print(f\"=\" * 35)\n",
    "!python3 main.py --nsim $NSIM --nsteps $NSTEPS --n_arms $N_ARMS --tqdm --alpha $ALPHA --model mab --initial $INITIAL"
   ]
  },
  {
   "cell_type": "code",
   "execution_count": null,
   "id": "91a96d49",
   "metadata": {
    "execution": {
     "iopub.execute_input": "2023-02-20T05:58:28.214634Z",
     "iopub.status.busy": "2023-02-20T05:58:28.214252Z",
     "iopub.status.idle": "2023-02-20T06:47:09.669328Z",
     "shell.execute_reply": "2023-02-20T06:47:09.668377Z"
    }
   },
   "outputs": [
    {
     "name": "stdout",
     "output_type": "stream",
     "text": [
      "Naive Naive UCB Approach with definite Bernoulli arms\n",
      "Action profile: [0.9  0.01 0.09 0.17 0.25]\n",
      "Optimal arm: 0\n",
      "100%|█████████████████████████████████████████| 800/800 [01:19<00:00, 10.06it/s]\n",
      "100%|█████████████████████████████████████████| 800/800 [01:20<00:00,  9.96it/s]\n",
      "100%|█████████████████████████████████████████| 800/800 [01:19<00:00, 10.02it/s]\n",
      "100%|█████████████████████████████████████████| 800/800 [01:20<00:00,  9.98it/s]\n",
      "100%|█████████████████████████████████████████| 800/800 [01:20<00:00,  9.98it/s]\n",
      "===================================\n",
      "Naive Naive UCB Approach with definite Gaussian arms\n",
      "Action profile: [0.9  0.09 0.17 0.25 0.01]\n",
      "Optimal arm: 0\n",
      "100%|█████████████████████████████████████████| 800/800 [01:10<00:00, 11.35it/s]\n",
      "100%|█████████████████████████████████████████| 800/800 [01:10<00:00, 11.32it/s]\n",
      "100%|█████████████████████████████████████████| 800/800 [01:10<00:00, 11.34it/s]\n",
      "100%|█████████████████████████████████████████| 800/800 [01:10<00:00, 11.31it/s]\n",
      "100%|█████████████████████████████████████████| 800/800 [01:10<00:00, 11.31it/s]\n",
      "===================================\n",
      "Naive UCB-delta Algorithm with definite Bernoulli arms\n",
      "Action profile: [0.9  0.09 0.17 0.25 0.01]\n",
      "Optimal arm: 0\n",
      "100%|█████████████████████████████████████████| 800/800 [01:07<00:00, 11.86it/s]\n",
      "100%|█████████████████████████████████████████| 800/800 [01:07<00:00, 11.78it/s]\n",
      "100%|█████████████████████████████████████████| 800/800 [01:07<00:00, 11.79it/s]\n",
      "100%|█████████████████████████████████████████| 800/800 [01:07<00:00, 11.78it/s]\n",
      "100%|█████████████████████████████████████████| 800/800 [01:08<00:00, 11.72it/s]\n",
      "100%|█████████████████████████████████████████| 800/800 [01:07<00:00, 11.78it/s]\n",
      "===================================\n",
      "Naive UCB-delta Algorithm with definite Gaussian arms\n",
      "Action profile: [0.09 0.01 0.17 0.9  0.25]\n",
      "Optimal arm: 3\n",
      "100%|█████████████████████████████████████████| 800/800 [01:10<00:00, 11.31it/s]\n",
      " 74%|██████████████████████████████▏          | 590/800 [00:52<00:18, 11.40it/s]"
     ]
    }
   ],
   "source": [
    "!python3 main.py --nsim $NSIM --nsteps $NSTEPS --bernoulli --n_arms $N_ARMS --tqdm --model ucbnaive --is_definite\n",
    "print(f\"=\" * 35)\n",
    "!python3 main.py --nsim $NSIM --nsteps $NSTEPS --n_arms $N_ARMS --tqdm --model ucbnaive --is_definite\n",
    "print(f\"=\" * 35)\n",
    "!python3 main.py --nsim $NSIM --nsteps $NSTEPS --bernoulli --n_arms $N_ARMS --tqdm --model ucbdelta --is_definite\n",
    "print(f\"=\" * 35)\n",
    "!python3 main.py --nsim $NSIM --nsteps $NSTEPS --n_arms $N_ARMS --tqdm --model ucbdelta --is_definite\n",
    "print(f\"=\" * 35)\n",
    "!python3 main.py --nsim $NSIM --nsteps $NSTEPS --bernoulli --n_arms $N_ARMS --tqdm --model ucbasym --is_definite\n",
    "print(f\"=\" * 35)\n",
    "!python3 main.py --nsim $NSIM --nsteps $NSTEPS --n_arms $N_ARMS --tqdm --model ucbasym --is_definite\n",
    "print(f\"=\" * 35)\n",
    "!python3 main.py --nsim $NSIM --nsteps $NSTEPS --bernoulli --n_arms $N_ARMS --tqdm --model ucbmoss --is_definite\n",
    "print(f\"=\" * 35)\n",
    "!python3 main.py --nsim $NSIM --nsteps $NSTEPS --n_arms $N_ARMS --tqdm --model ucbmoss --is_definite"
   ]
  },
  {
   "cell_type": "code",
   "execution_count": 3,
   "id": "4e0ace37",
   "metadata": {},
   "outputs": [
    {
     "name": "stdout",
     "output_type": "stream",
     "text": [
      "Naive UCB-delta Algorithm with definite Gaussian arms\n",
      "Action profile: [0.09 0.01 0.9  0.17 0.25]\n",
      "Optimal arm: 2\n",
      "100%|█████████████████████████████████████████| 800/800 [01:10<00:00, 11.41it/s]\n",
      "100%|█████████████████████████████████████████| 800/800 [01:10<00:00, 11.35it/s]\n",
      "100%|█████████████████████████████████████████| 800/800 [01:10<00:00, 11.36it/s]\n",
      "100%|█████████████████████████████████████████| 800/800 [01:10<00:00, 11.35it/s]\n",
      "100%|█████████████████████████████████████████| 800/800 [01:10<00:00, 11.38it/s]\n",
      "100%|█████████████████████████████████████████| 800/800 [01:10<00:00, 11.35it/s]\n",
      "===================================\n",
      "Naive Asymptotically Optimal UCB with definite Bernoulli arms\n",
      "Action profile: [0.17 0.9  0.25 0.09 0.01]\n",
      "Optimal arm: 1\n",
      "100%|█████████████████████████████████████████| 800/800 [01:11<00:00, 11.17it/s]\n",
      "===================================\n",
      "Naive Asymptotically Optimal UCB with definite Gaussian arms\n",
      "Action profile: [0.17 0.25 0.01 0.9  0.09]\n",
      "Optimal arm: 3\n",
      "100%|█████████████████████████████████████████| 800/800 [01:13<00:00, 10.85it/s]\n",
      "===================================\n",
      "Naive UCB MOSS Algorithm with definite Bernoulli arms\n",
      "Action profile: [0.01 0.25 0.09 0.17 0.9 ]\n",
      "Optimal arm: 4\n",
      "100%|█████████████████████████████████████████| 800/800 [01:11<00:00, 11.23it/s]\n",
      "===================================\n",
      "Naive UCB MOSS Algorithm with definite Gaussian arms\n",
      "Action profile: [0.9  0.17 0.01 0.09 0.25]\n",
      "Optimal arm: 0\n",
      "100%|█████████████████████████████████████████| 800/800 [01:14<00:00, 10.71it/s]\n"
     ]
    }
   ],
   "source": [
    "!python3 main.py --nsim $NSIM --nsteps $NSTEPS --n_arms $N_ARMS --tqdm --model ucbdelta --is_definite\n",
    "print(f\"=\" * 35)\n",
    "!python3 main.py --nsim $NSIM --nsteps $NSTEPS --bernoulli --n_arms $N_ARMS --tqdm --model ucbasym --is_definite\n",
    "print(f\"=\" * 35)\n",
    "!python3 main.py --nsim $NSIM --nsteps $NSTEPS --n_arms $N_ARMS --tqdm --model ucbasym --is_definite\n",
    "print(f\"=\" * 35)\n",
    "!python3 main.py --nsim $NSIM --nsteps $NSTEPS --bernoulli --n_arms $N_ARMS --tqdm --model ucbmoss --is_definite\n",
    "print(f\"=\" * 35)\n",
    "!python3 main.py --nsim $NSIM --nsteps $NSTEPS --n_arms $N_ARMS --tqdm --model ucbmoss --is_definite"
   ]
  },
  {
   "cell_type": "code",
   "execution_count": 3,
   "id": "ab5dec72",
   "metadata": {
    "execution": {
     "iopub.execute_input": "2023-02-20T06:47:09.674521Z",
     "iopub.status.busy": "2023-02-20T06:47:09.674025Z",
     "iopub.status.idle": "2023-02-20T07:35:47.750502Z",
     "shell.execute_reply": "2023-02-20T07:35:47.749520Z"
    }
   },
   "outputs": [
    {
     "name": "stdout",
     "output_type": "stream",
     "text": [
      "Naive Naive UCB Approach with ambiguous Bernoulli arms\n",
      "Action profile: [0.9  0.99 0.65 0.74 0.82]\n",
      "Optimal arm: 1\n",
      "100%|█████████████████████████████████████████| 800/800 [01:05<00:00, 12.22it/s]\n",
      "100%|█████████████████████████████████████████| 800/800 [01:05<00:00, 12.19it/s]\n",
      "100%|█████████████████████████████████████████| 800/800 [01:05<00:00, 12.17it/s]\n",
      "100%|█████████████████████████████████████████| 800/800 [01:05<00:00, 12.21it/s]\n",
      "100%|█████████████████████████████████████████| 800/800 [01:07<00:00, 11.87it/s]\n",
      "===================================\n",
      "Naive Naive UCB Approach with ambiguous Gaussian arms\n",
      "Action profile: [0.9  0.65 0.99 0.74 0.82]\n",
      "Optimal arm: 2\n",
      "100%|█████████████████████████████████████████| 800/800 [01:13<00:00, 10.92it/s]\n",
      "100%|█████████████████████████████████████████| 800/800 [01:13<00:00, 10.90it/s]\n",
      "100%|█████████████████████████████████████████| 800/800 [01:13<00:00, 10.86it/s]\n",
      "100%|█████████████████████████████████████████| 800/800 [01:13<00:00, 10.95it/s]\n",
      "100%|█████████████████████████████████████████| 800/800 [01:15<00:00, 10.62it/s]\n",
      "===================================\n",
      "Naive UCB-delta Algorithm with ambiguous Bernoulli arms\n",
      "Action profile: [0.74 0.65 0.9  0.99 0.82]\n",
      "Optimal arm: 3\n",
      "100%|█████████████████████████████████████████| 800/800 [01:14<00:00, 10.81it/s]\n",
      "100%|█████████████████████████████████████████| 800/800 [01:13<00:00, 10.88it/s]\n",
      "100%|█████████████████████████████████████████| 800/800 [01:13<00:00, 10.83it/s]\n",
      "100%|█████████████████████████████████████████| 800/800 [01:15<00:00, 10.64it/s]\n",
      "100%|█████████████████████████████████████████| 800/800 [01:19<00:00, 10.09it/s]\n",
      "100%|█████████████████████████████████████████| 800/800 [01:20<00:00,  9.97it/s]\n",
      "===================================\n",
      "Naive UCB-delta Algorithm with ambiguous Gaussian arms\n",
      "Action profile: [0.82 0.99 0.74 0.65 0.9 ]\n",
      "Optimal arm: 1\n",
      "100%|█████████████████████████████████████████| 800/800 [01:24<00:00,  9.43it/s]\n",
      "100%|█████████████████████████████████████████| 800/800 [01:24<00:00,  9.50it/s]\n",
      "100%|█████████████████████████████████████████| 800/800 [01:24<00:00,  9.50it/s]\n",
      "100%|█████████████████████████████████████████| 800/800 [01:25<00:00,  9.37it/s]\n",
      "100%|█████████████████████████████████████████| 800/800 [01:28<00:00,  9.06it/s]\n",
      "100%|█████████████████████████████████████████| 800/800 [01:29<00:00,  8.99it/s]\n",
      "===================================\n",
      "Naive Asymptotically Optimal UCB with ambiguous Bernoulli arms\n",
      "Action profile: [0.99 0.82 0.65 0.74 0.9 ]\n",
      "Optimal arm: 0\n",
      "100%|█████████████████████████████████████████| 800/800 [01:33<00:00,  8.59it/s]\n",
      "===================================\n",
      "Naive Asymptotically Optimal UCB with ambiguous Gaussian arms\n",
      "Action profile: [0.65 0.82 0.99 0.74 0.9 ]\n",
      "Optimal arm: 2\n",
      "100%|█████████████████████████████████████████| 800/800 [01:38<00:00,  8.13it/s]\n",
      "===================================\n",
      "Naive UCB MOSS Algorithm with ambiguous Bernoulli arms\n",
      "Action profile: [0.99 0.82 0.74 0.65 0.9 ]\n",
      "Optimal arm: 0\n",
      "100%|█████████████████████████████████████████| 800/800 [01:37<00:00,  8.16it/s]\n",
      "===================================\n",
      "Naive UCB MOSS Algorithm with ambiguous Gaussian arms\n",
      "Action profile: [0.82 0.74 0.65 0.9  0.99]\n",
      "Optimal arm: 4\n",
      "100%|█████████████████████████████████████████| 800/800 [01:45<00:00,  7.58it/s]\n"
     ]
    }
   ],
   "source": [
    "!python3 main.py --nsim $NSIM --nsteps $NSTEPS --bernoulli --n_arms $N_ARMS --tqdm --model ucbnaive\n",
    "print(f\"=\" * 35)\n",
    "!python3 main.py --nsim $NSIM --nsteps $NSTEPS --n_arms $N_ARMS --tqdm --model ucbnaive\n",
    "print(f\"=\" * 35)\n",
    "!python3 main.py --nsim $NSIM --nsteps $NSTEPS --bernoulli --n_arms $N_ARMS --tqdm --model ucbdelta\n",
    "print(f\"=\" * 35)\n",
    "!python3 main.py --nsim $NSIM --nsteps $NSTEPS --n_arms $N_ARMS --tqdm --model ucbdelta\n",
    "print(f\"=\" * 35)\n",
    "!python3 main.py --nsim $NSIM --nsteps $NSTEPS --bernoulli --n_arms $N_ARMS --tqdm --model ucbasym\n",
    "print(f\"=\" * 35)\n",
    "!python3 main.py --nsim $NSIM --nsteps $NSTEPS --n_arms $N_ARMS --tqdm --model ucbasym\n",
    "print(f\"=\" * 35)\n",
    "!python3 main.py --nsim $NSIM --nsteps $NSTEPS --bernoulli --n_arms $N_ARMS --tqdm --model ucbmoss\n",
    "print(f\"=\" * 35)\n",
    "!python3 main.py --nsim $NSIM --nsteps $NSTEPS --n_arms $N_ARMS --tqdm --model ucbmoss"
   ]
  },
  {
   "cell_type": "code",
   "execution_count": 4,
   "id": "807c934f",
   "metadata": {
    "execution": {
     "iopub.execute_input": "2023-02-20T07:35:47.755951Z",
     "iopub.status.busy": "2023-02-20T07:35:47.755159Z",
     "iopub.status.idle": "2023-02-20T07:43:41.885807Z",
     "shell.execute_reply": "2023-02-20T07:43:41.884844Z"
    }
   },
   "outputs": [
    {
     "name": "stdout",
     "output_type": "stream",
     "text": [
      "Naive Thompson Sampling with definite Bernoulli arms\n",
      "Action profile: [0.01 0.25 0.9  0.09 0.17]\n",
      "Optimal arm: 2\n",
      "100%|█████████████████████████████████████████| 800/800 [01:51<00:00,  7.16it/s]\n",
      "===================================\n",
      "Naive Thompson Sampling with definite Gaussian arms\n",
      "Action profile: [0.9  0.17 0.01 0.09 0.25]\n",
      "Optimal arm: 0\n",
      "100%|█████████████████████████████████████████| 800/800 [01:52<00:00,  7.09it/s]\n"
     ]
    }
   ],
   "source": [
    "!python3 main.py --nsim $NSIM --nsteps $NSTEPS --bernoulli --n_arms $N_ARMS --tqdm --model thompson --is_definite\n",
    "print(f\"=\" * 35)\n",
    "!python3 main.py --nsim $NSIM --nsteps $NSTEPS --n_arms $N_ARMS --tqdm --model thompson --is_definite"
   ]
  },
  {
   "cell_type": "code",
   "execution_count": 5,
   "id": "febc892f",
   "metadata": {
    "execution": {
     "iopub.execute_input": "2023-02-20T07:43:41.890443Z",
     "iopub.status.busy": "2023-02-20T07:43:41.890098Z",
     "iopub.status.idle": "2023-02-20T07:51:30.470056Z",
     "shell.execute_reply": "2023-02-20T07:51:30.469186Z"
    }
   },
   "outputs": [
    {
     "name": "stdout",
     "output_type": "stream",
     "text": [
      "Naive Thompson Sampling with ambiguous Bernoulli arms\n",
      "Action profile: [0.99 0.65 0.82 0.74 0.9 ]\n",
      "Optimal arm: 0\n",
      "100%|█████████████████████████████████████████| 800/800 [01:56<00:00,  6.88it/s]\n",
      "===================================\n",
      "Naive Thompson Sampling with ambiguous Gaussian arms\n",
      "Action profile: [0.99 0.74 0.9  0.65 0.82]\n",
      "Optimal arm: 0\n",
      "100%|█████████████████████████████████████████| 800/800 [02:00<00:00,  6.65it/s]\n"
     ]
    }
   ],
   "source": [
    "!python3 main.py --nsim $NSIM --nsteps $NSTEPS --bernoulli --n_arms $N_ARMS --tqdm --model thompson\n",
    "print(f\"=\" * 35)\n",
    "!python3 main.py --nsim $NSIM --nsteps $NSTEPS --n_arms $N_ARMS --tqdm --model thompson"
   ]
  },
  {
   "cell_type": "code",
   "execution_count": 6,
   "id": "fbba7a69",
   "metadata": {
    "execution": {
     "iopub.execute_input": "2023-02-20T07:51:30.474646Z",
     "iopub.status.busy": "2023-02-20T07:51:30.474156Z",
     "iopub.status.idle": "2023-02-20T08:01:55.729669Z",
     "shell.execute_reply": "2023-02-20T08:01:55.728812Z"
    }
   },
   "outputs": [
    {
     "name": "stdout",
     "output_type": "stream",
     "text": [
      "Naive Explore-then-commit with definite Bernoulli arms\n",
      "Action profile: [0.17 0.09 0.25 0.9  0.01]\n",
      "Optimal arm: 3\n",
      "100%|█████████████████████████████████████████| 800/800 [01:16<00:00, 10.50it/s]\n",
      "100%|█████████████████████████████████████████| 800/800 [01:16<00:00, 10.46it/s]\n",
      "100%|█████████████████████████████████████████| 800/800 [01:12<00:00, 11.04it/s]\n",
      "100%|█████████████████████████████████████████| 800/800 [01:11<00:00, 11.25it/s]\n",
      "===================================\n",
      "Naive Explore-then-commit with definite Gaussian arms\n",
      "Action profile: [0.17 0.25 0.09 0.01 0.9 ]\n",
      "Optimal arm: 4\n",
      "100%|█████████████████████████████████████████| 800/800 [01:19<00:00, 10.08it/s]\n",
      "100%|█████████████████████████████████████████| 800/800 [01:15<00:00, 10.66it/s]\n",
      "100%|█████████████████████████████████████████| 800/800 [01:13<00:00, 10.95it/s]\n",
      "100%|█████████████████████████████████████████| 800/800 [01:09<00:00, 11.54it/s]\n"
     ]
    }
   ],
   "source": [
    "!python3 main.py --nsim $NSIM --nsteps $NSTEPS --bernoulli --n_arms $N_ARMS --tqdm --model etc --is_definite\n",
    "print(f\"=\" * 35)\n",
    "!python3 main.py --nsim $NSIM --nsteps $NSTEPS --n_arms $N_ARMS --tqdm --model etc --is_definite"
   ]
  },
  {
   "cell_type": "code",
   "execution_count": 7,
   "id": "62cd83e1",
   "metadata": {
    "execution": {
     "iopub.execute_input": "2023-02-20T08:01:55.734477Z",
     "iopub.status.busy": "2023-02-20T08:01:55.734136Z",
     "iopub.status.idle": "2023-02-20T08:12:45.404814Z",
     "shell.execute_reply": "2023-02-20T08:12:45.403944Z"
    }
   },
   "outputs": [
    {
     "name": "stdout",
     "output_type": "stream",
     "text": [
      "Naive Explore-then-commit with ambiguous Bernoulli arms\n",
      "Action profile: [0.82 0.99 0.9  0.65 0.74]\n",
      "Optimal arm: 1\n",
      "100%|█████████████████████████████████████████| 800/800 [01:09<00:00, 11.55it/s]\n",
      "100%|█████████████████████████████████████████| 800/800 [01:08<00:00, 11.65it/s]\n",
      "100%|█████████████████████████████████████████| 800/800 [01:06<00:00, 12.07it/s]\n",
      "100%|█████████████████████████████████████████| 800/800 [01:02<00:00, 12.70it/s]\n",
      "===================================\n",
      "Naive Explore-then-commit with ambiguous Gaussian arms\n",
      "Action profile: [0.9  0.65 0.82 0.99 0.74]\n",
      "Optimal arm: 3\n",
      "100%|█████████████████████████████████████████| 800/800 [01:11<00:00, 11.16it/s]\n",
      "100%|█████████████████████████████████████████| 800/800 [01:13<00:00, 10.83it/s]\n",
      "100%|█████████████████████████████████████████| 800/800 [01:10<00:00, 11.27it/s]\n",
      "100%|█████████████████████████████████████████| 800/800 [01:08<00:00, 11.60it/s]\n"
     ]
    }
   ],
   "source": [
    "!python3 main.py --nsim $NSIM --nsteps $NSTEPS --bernoulli --n_arms $N_ARMS --tqdm --model etc\n",
    "print(f\"=\" * 35)\n",
    "!python3 main.py --nsim $NSIM --nsteps $NSTEPS --n_arms $N_ARMS --tqdm --model etc"
   ]
  },
  {
   "cell_type": "code",
   "execution_count": null,
   "id": "a082d94d",
   "metadata": {},
   "outputs": [],
   "source": []
  }
 ],
 "metadata": {
  "kernelspec": {
   "display_name": "Python 3 (ipykernel)",
   "language": "python",
   "name": "python3"
  },
  "language_info": {
   "codemirror_mode": {
    "name": "ipython",
    "version": 3
   },
   "file_extension": ".py",
   "mimetype": "text/x-python",
   "name": "python",
   "nbconvert_exporter": "python",
   "pygments_lexer": "ipython3",
   "version": "3.9.16"
  },
  "vscode": {
   "interpreter": {
    "hash": "e90c9ac2d6e92c8c249d5242e1615b613a567b2927e7cc02c2f651ab2958e181"
   }
  }
 },
 "nbformat": 4,
 "nbformat_minor": 5
}
