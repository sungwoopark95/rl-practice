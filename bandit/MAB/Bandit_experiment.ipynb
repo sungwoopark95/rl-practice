{
 "cells": [
  {
   "cell_type": "code",
   "execution_count": 1,
   "id": "bb444f43",
   "metadata": {
    "execution": {
     "iopub.execute_input": "2023-02-15T17:45:09.558912Z",
     "iopub.status.busy": "2023-02-15T17:45:09.558262Z",
     "iopub.status.idle": "2023-02-15T17:45:50.742442Z",
     "shell.execute_reply": "2023-02-15T17:45:50.742035Z"
    }
   },
   "outputs": [],
   "source": [
    "import pickle\n",
    "import numpy as np\n",
    "import pandas as pd\n",
    "from tqdm import tqdm\n",
    "import matplotlib.pyplot as plt\n",
    "from IPython.display import display"
   ]
  },
  {
   "cell_type": "code",
   "execution_count": 2,
   "id": "5e26b4c9",
   "metadata": {
    "execution": {
     "iopub.execute_input": "2023-02-15T17:45:50.744684Z",
     "iopub.status.busy": "2023-02-15T17:45:50.744540Z",
     "iopub.status.idle": "2023-02-15T17:45:51.184187Z",
     "shell.execute_reply": "2023-02-15T17:45:51.183384Z"
    }
   },
   "outputs": [
    {
     "name": "stdout",
     "output_type": "stream",
     "text": [
      "eGreedyMAB_BernoulliArm_0.5_Naive_results.pkl\r\n",
      "eGreedyMAB_BernoulliArm_0.5_Optimistic_results.pkl\r\n",
      "eGreedyMAB_BernoulliArm_1.0_Naive_results.pkl\r\n",
      "eGreedyMAB_BernoulliArm_1.0_Optimistic_results.pkl\r\n",
      "eGreedyMAB_GaussianArm_0.5_Naive_results.pkl\r\n",
      "eGreedyMAB_GaussianArm_0.5_Optimistic_results.pkl\r\n",
      "eGreedyMAB_GaussianArm_1.0_Naive_results.pkl\r\n",
      "eGreedyMAB_GaussianArm_1.0_Optimistic_results.pkl\r\n",
      "UCBNaive_BernoulliArm_1.0_Naive_results.pkl\r\n",
      "===================================\n",
      "eGreedyMAB_BernoulliArm_0.5_Naive_results.pkl\r\n",
      "eGreedyMAB_BernoulliArm_0.5_Optimistic_results.pkl\r\n",
      "eGreedyMAB_BernoulliArm_1.0_Naive_results.pkl\r\n",
      "eGreedyMAB_BernoulliArm_1.0_Optimistic_results.pkl\r\n",
      "eGreedyMAB_GaussianArm_0.5_Naive_results.pkl\r\n",
      "eGreedyMAB_GaussianArm_0.5_Optimistic_results.pkl\r\n",
      "eGreedyMAB_GaussianArm_1.0_Naive_results.pkl\r\n",
      "eGreedyMAB_GaussianArm_1.0_Optimistic_results.pkl\r\n"
     ]
    }
   ],
   "source": [
    "!ls ./definite\n",
    "print(\"=\"*35)\n",
    "!ls ./indefinite"
   ]
  },
  {
   "cell_type": "code",
   "execution_count": 3,
   "id": "5863881a",
   "metadata": {
    "execution": {
     "iopub.execute_input": "2023-02-15T17:45:51.189535Z",
     "iopub.status.busy": "2023-02-15T17:45:51.187994Z",
     "iopub.status.idle": "2023-02-15T17:45:54.395044Z",
     "shell.execute_reply": "2023-02-15T17:45:54.394144Z"
    }
   },
   "outputs": [],
   "source": [
    "!rm -rf -r ./definite/*.pkl\n",
    "!rm -rf -r ./indefinite/*.pkl"
   ]
  },
  {
   "cell_type": "code",
   "execution_count": 4,
   "id": "e814fe9e",
   "metadata": {
    "execution": {
     "iopub.execute_input": "2023-02-15T17:45:54.399411Z",
     "iopub.status.busy": "2023-02-15T17:45:54.399077Z",
     "iopub.status.idle": "2023-02-15T17:45:54.668851Z",
     "shell.execute_reply": "2023-02-15T17:45:54.667991Z"
    }
   },
   "outputs": [
    {
     "name": "stdout",
     "output_type": "stream",
     "text": [
      "===================================\n"
     ]
    }
   ],
   "source": [
    "!ls ./definite\n",
    "print(\"=\"*35)\n",
    "!ls ./indefinite"
   ]
  },
  {
   "cell_type": "code",
   "execution_count": 5,
   "id": "d7b9001e",
   "metadata": {
    "execution": {
     "iopub.execute_input": "2023-02-15T17:45:54.672969Z",
     "iopub.status.busy": "2023-02-15T17:45:54.672512Z",
     "iopub.status.idle": "2023-02-15T18:00:36.055192Z",
     "shell.execute_reply": "2023-02-15T18:00:36.054220Z"
    },
    "scrolled": false
   },
   "outputs": [
    {
     "name": "stdout",
     "output_type": "stream",
     "text": [
      "Naive K-armed Bandit with definite Bernoulli arms\r\n",
      "Action profile: [0.5  0.74 0.26 0.01 0.99]\r\n",
      "Optimal arm: 4\r\n",
      "100%|███████████████████████████████████████| 1500/1500 [00:33<00:00, 45.27it/s]\r\n",
      "100%|███████████████████████████████████████| 1500/1500 [00:33<00:00, 45.12it/s]\r\n",
      "100%|███████████████████████████████████████| 1500/1500 [00:32<00:00, 46.33it/s]\r\n",
      "100%|███████████████████████████████████████| 1500/1500 [00:28<00:00, 52.65it/s]\r\n",
      "100%|███████████████████████████████████████| 1500/1500 [00:23<00:00, 63.03it/s]\r\n",
      "100%|███████████████████████████████████████| 1500/1500 [00:22<00:00, 67.03it/s]\r\n",
      "===================================\n",
      "Naive K-armed Bandit with definite Gaussian arms\r\n",
      "Action profile: [0.74 0.5  0.26 0.99 0.01]\r\n",
      "Optimal arm: 3\r\n",
      "100%|███████████████████████████████████████| 1500/1500 [00:38<00:00, 39.45it/s]\r\n",
      "100%|███████████████████████████████████████| 1500/1500 [00:37<00:00, 39.68it/s]\r\n",
      "100%|███████████████████████████████████████| 1500/1500 [00:36<00:00, 40.59it/s]\r\n",
      "100%|███████████████████████████████████████| 1500/1500 [00:32<00:00, 45.52it/s]\r\n",
      "100%|███████████████████████████████████████| 1500/1500 [00:28<00:00, 52.88it/s]\r\n",
      "100%|███████████████████████████████████████| 1500/1500 [00:26<00:00, 56.27it/s]\r\n",
      "===================================\n",
      "Naive K-armed Bandit with definite Bernoulli arms\r\n",
      "Action profile: [0.99 0.01 0.74 0.26 0.5 ]\r\n",
      "Optimal arm: 0\r\n",
      "100%|███████████████████████████████████████| 1500/1500 [00:33<00:00, 44.89it/s]\r\n",
      "100%|███████████████████████████████████████| 1500/1500 [00:33<00:00, 45.27it/s]\r\n",
      "100%|███████████████████████████████████████| 1500/1500 [00:33<00:00, 44.90it/s]\r\n",
      "100%|███████████████████████████████████████| 1500/1500 [00:33<00:00, 45.16it/s]\r\n",
      "100%|███████████████████████████████████████| 1500/1500 [00:33<00:00, 45.02it/s]\r\n",
      "100%|███████████████████████████████████████| 1500/1500 [00:33<00:00, 45.33it/s]\r\n",
      "===================================\n",
      "Naive K-armed Bandit with definite Gaussian arms\r\n",
      "Action profile: [0.74 0.99 0.26 0.01 0.5 ]\r\n",
      "Optimal arm: 1\r\n",
      "100%|███████████████████████████████████████| 1500/1500 [00:38<00:00, 39.17it/s]\r\n",
      "100%|███████████████████████████████████████| 1500/1500 [00:38<00:00, 39.08it/s]\r\n",
      "100%|███████████████████████████████████████| 1500/1500 [00:38<00:00, 39.16it/s]\r\n",
      "100%|███████████████████████████████████████| 1500/1500 [00:38<00:00, 39.15it/s]\r\n",
      "100%|███████████████████████████████████████| 1500/1500 [00:38<00:00, 39.10it/s]\r\n",
      "100%|███████████████████████████████████████| 1500/1500 [00:38<00:00, 39.13it/s]\r\n"
     ]
    }
   ],
   "source": [
    "!python3 main.py --nsim 1500 --nsteps 1000 --bernoulli --n_arms 5 --tqdm --model mab --is_definite\n",
    "print(f\"=\" * 35)\n",
    "!python3 main.py --nsim 1500 --nsteps 1000 --n_arms 5 --tqdm --model mab --is_definite\n",
    "print(f\"=\" * 35)\n",
    "!python3 main.py --nsim 1500 --nsteps 1000 --bernoulli --n_arms 5 --tqdm --alpha 0.5 --model mab --is_definite\n",
    "print(f\"=\" * 35)\n",
    "!python3 main.py --nsim 1500 --nsteps 1000 --n_arms 5 --tqdm --alpha 0.5 --model mab --is_definite"
   ]
  },
  {
   "cell_type": "code",
   "execution_count": 6,
   "id": "c8b92940",
   "metadata": {
    "execution": {
     "iopub.execute_input": "2023-02-15T18:00:36.060025Z",
     "iopub.status.busy": "2023-02-15T18:00:36.059666Z",
     "iopub.status.idle": "2023-02-15T18:15:01.749026Z",
     "shell.execute_reply": "2023-02-15T18:15:01.748040Z"
    },
    "scrolled": false
   },
   "outputs": [
    {
     "name": "stdout",
     "output_type": "stream",
     "text": [
      "Naive K-armed Bandit with ambiguous Bernoulli arms\r\n",
      "Action profile: [0.88 0.85 0.82 0.9  0.8 ]\r\n",
      "Optimal arm: 3\r\n",
      "100%|███████████████████████████████████████| 1500/1500 [00:32<00:00, 46.48it/s]\r\n",
      "100%|███████████████████████████████████████| 1500/1500 [00:32<00:00, 45.97it/s]\r\n",
      "100%|███████████████████████████████████████| 1500/1500 [00:31<00:00, 46.88it/s]\r\n",
      "100%|███████████████████████████████████████| 1500/1500 [00:27<00:00, 53.70it/s]\r\n",
      "100%|███████████████████████████████████████| 1500/1500 [00:23<00:00, 63.47it/s]\r\n",
      "100%|███████████████████████████████████████| 1500/1500 [00:22<00:00, 68.09it/s]\r\n",
      "===================================\n",
      "Naive K-armed Bandit with ambiguous Gaussian arms\r\n",
      "Action profile: [0.88 0.8  0.9  0.82 0.85]\r\n",
      "Optimal arm: 2\r\n",
      "100%|███████████████████████████████████████| 1500/1500 [00:37<00:00, 39.90it/s]\r\n",
      "100%|███████████████████████████████████████| 1500/1500 [00:37<00:00, 39.90it/s]\r\n",
      "100%|███████████████████████████████████████| 1500/1500 [00:36<00:00, 40.69it/s]\r\n",
      "100%|███████████████████████████████████████| 1500/1500 [00:33<00:00, 45.29it/s]\r\n",
      "100%|███████████████████████████████████████| 1500/1500 [00:28<00:00, 52.76it/s]\r\n",
      "100%|███████████████████████████████████████| 1500/1500 [00:26<00:00, 55.83it/s]\r\n",
      "===================================\n",
      "Naive K-armed Bandit with ambiguous Bernoulli arms\r\n",
      "Action profile: [0.88 0.9  0.82 0.8  0.85]\r\n",
      "Optimal arm: 1\r\n",
      "100%|███████████████████████████████████████| 1500/1500 [00:31<00:00, 47.11it/s]\r\n",
      "100%|███████████████████████████████████████| 1500/1500 [00:31<00:00, 47.21it/s]\r\n",
      "100%|███████████████████████████████████████| 1500/1500 [00:32<00:00, 46.65it/s]\r\n",
      "100%|███████████████████████████████████████| 1500/1500 [00:31<00:00, 47.26it/s]\r\n",
      "100%|███████████████████████████████████████| 1500/1500 [00:31<00:00, 47.23it/s]\r\n",
      "100%|███████████████████████████████████████| 1500/1500 [00:32<00:00, 46.87it/s]\r\n",
      "===================================\n",
      "Naive K-armed Bandit with ambiguous Gaussian arms\r\n",
      "Action profile: [0.82 0.88 0.8  0.9  0.85]\r\n",
      "Optimal arm: 3\r\n",
      "100%|███████████████████████████████████████| 1500/1500 [00:37<00:00, 40.12it/s]\r\n",
      "100%|███████████████████████████████████████| 1500/1500 [00:37<00:00, 39.98it/s]\r\n",
      "100%|███████████████████████████████████████| 1500/1500 [00:37<00:00, 40.05it/s]\r\n",
      "100%|███████████████████████████████████████| 1500/1500 [00:37<00:00, 40.06it/s]\r\n",
      "100%|███████████████████████████████████████| 1500/1500 [00:37<00:00, 39.90it/s]\r\n",
      "100%|███████████████████████████████████████| 1500/1500 [00:37<00:00, 40.02it/s]\r\n"
     ]
    }
   ],
   "source": [
    "!python3 main.py --nsim 1500 --nsteps 1000 --bernoulli --n_arms 5 --tqdm --model mab\n",
    "print(f\"=\" * 35)\n",
    "!python3 main.py --nsim 1500 --nsteps 1000 --n_arms 5 --tqdm --model mab\n",
    "print(f\"=\" * 35)\n",
    "!python3 main.py --nsim 1500 --nsteps 1000 --bernoulli --n_arms 5 --tqdm --alpha 0.5 --model mab\n",
    "print(f\"=\" * 35)\n",
    "!python3 main.py --nsim 1500 --nsteps 1000 --n_arms 5 --tqdm --alpha 0.5 --model mab"
   ]
  },
  {
   "cell_type": "code",
   "execution_count": 7,
   "id": "7611c6ce",
   "metadata": {
    "execution": {
     "iopub.execute_input": "2023-02-15T18:15:01.754021Z",
     "iopub.status.busy": "2023-02-15T18:15:01.753675Z",
     "iopub.status.idle": "2023-02-15T18:29:44.038521Z",
     "shell.execute_reply": "2023-02-15T18:29:44.037579Z"
    },
    "scrolled": false
   },
   "outputs": [
    {
     "name": "stdout",
     "output_type": "stream",
     "text": [
      "Optimistic K-armed Bandit with definite Bernoulli arms\r\n",
      "Action profile: [0.26 0.5  0.01 0.99 0.74]\r\n",
      "Optimal arm: 3\r\n",
      "100%|███████████████████████████████████████| 1500/1500 [00:32<00:00, 45.93it/s]\r\n",
      "100%|███████████████████████████████████████| 1500/1500 [00:32<00:00, 45.90it/s]\r\n",
      "100%|███████████████████████████████████████| 1500/1500 [00:31<00:00, 47.12it/s]\r\n",
      "100%|███████████████████████████████████████| 1500/1500 [00:28<00:00, 53.52it/s]\r\n",
      "100%|███████████████████████████████████████| 1500/1500 [00:23<00:00, 63.97it/s]\r\n",
      "100%|███████████████████████████████████████| 1500/1500 [00:21<00:00, 68.60it/s]\r\n",
      "===================================\n",
      "Optimistic K-armed Bandit with definite Gaussian arms\r\n",
      "Action profile: [0.01 0.26 0.99 0.74 0.5 ]\r\n",
      "Optimal arm: 2\r\n",
      "100%|███████████████████████████████████████| 1500/1500 [00:38<00:00, 38.57it/s]\r\n",
      "100%|███████████████████████████████████████| 1500/1500 [00:38<00:00, 38.50it/s]\r\n",
      "100%|███████████████████████████████████████| 1500/1500 [00:38<00:00, 39.31it/s]\r\n",
      "100%|███████████████████████████████████████| 1500/1500 [00:34<00:00, 43.95it/s]\r\n",
      "100%|███████████████████████████████████████| 1500/1500 [00:29<00:00, 51.12it/s]\r\n",
      "100%|███████████████████████████████████████| 1500/1500 [00:27<00:00, 54.55it/s]\r\n",
      "===================================\n",
      "Optimistic K-armed Bandit with definite Bernoulli arms\r\n",
      "Action profile: [0.26 0.01 0.74 0.99 0.5 ]\r\n",
      "Optimal arm: 3\r\n",
      "100%|███████████████████████████████████████| 1500/1500 [00:31<00:00, 47.03it/s]\r\n",
      "100%|███████████████████████████████████████| 1500/1500 [00:32<00:00, 46.72it/s]\r\n",
      "100%|███████████████████████████████████████| 1500/1500 [00:31<00:00, 46.96it/s]\r\n",
      "100%|███████████████████████████████████████| 1500/1500 [00:32<00:00, 46.72it/s]\r\n",
      "100%|███████████████████████████████████████| 1500/1500 [00:32<00:00, 46.82it/s]\r\n",
      "100%|███████████████████████████████████████| 1500/1500 [00:32<00:00, 46.78it/s]\r\n",
      "===================================\n",
      "Optimistic K-armed Bandit with definite Gaussian arms\r\n",
      "Action profile: [0.5  0.01 0.26 0.99 0.74]\r\n",
      "Optimal arm: 3\r\n",
      "100%|███████████████████████████████████████| 1500/1500 [00:37<00:00, 40.46it/s]\r\n",
      "100%|███████████████████████████████████████| 1500/1500 [00:37<00:00, 40.11it/s]\r\n",
      "100%|███████████████████████████████████████| 1500/1500 [00:37<00:00, 39.96it/s]\r\n",
      "100%|███████████████████████████████████████| 1500/1500 [00:37<00:00, 39.89it/s]\r\n",
      "100%|███████████████████████████████████████| 1500/1500 [00:37<00:00, 40.06it/s]\r\n",
      "100%|███████████████████████████████████████| 1500/1500 [00:37<00:00, 39.64it/s]\r\n"
     ]
    }
   ],
   "source": [
    "!python3 main.py --nsim 1500 --nsteps 1000 --bernoulli --n_arms 5 --tqdm --model mab --initial 3 --is_definite\n",
    "print(f\"=\" * 35)\n",
    "!python3 main.py --nsim 1500 --nsteps 1000 --n_arms 5 --tqdm --model mab --initial 3 --is_definite                                                     \n",
    "print(f\"=\" * 35)\n",
    "!python3 main.py --nsim 1500 --nsteps 1000 --bernoulli --n_arms 5 --tqdm --alpha 0.5 --model mab --initial 3 --is_definite\n",
    "print(f\"=\" * 35)\n",
    "!python3 main.py --nsim 1500 --nsteps 1000 --n_arms 5 --tqdm --alpha 0.5 --model mab --initial 3 --is_definite"
   ]
  },
  {
   "cell_type": "code",
   "execution_count": 8,
   "id": "32176091",
   "metadata": {
    "execution": {
     "iopub.execute_input": "2023-02-15T18:29:44.043646Z",
     "iopub.status.busy": "2023-02-15T18:29:44.043149Z",
     "iopub.status.idle": "2023-02-15T18:44:30.083863Z",
     "shell.execute_reply": "2023-02-15T18:44:30.082901Z"
    }
   },
   "outputs": [
    {
     "name": "stdout",
     "output_type": "stream",
     "text": [
      "Optimistic K-armed Bandit with ambiguous Bernoulli arms\r\n",
      "Action profile: [0.88 0.85 0.8  0.9  0.82]\r\n",
      "Optimal arm: 3\r\n",
      "100%|███████████████████████████████████████| 1500/1500 [00:32<00:00, 45.71it/s]\r\n",
      "100%|███████████████████████████████████████| 1500/1500 [00:32<00:00, 45.54it/s]\r\n",
      "100%|███████████████████████████████████████| 1500/1500 [00:32<00:00, 46.52it/s]\r\n",
      "100%|███████████████████████████████████████| 1500/1500 [00:28<00:00, 52.73it/s]\r\n",
      "100%|███████████████████████████████████████| 1500/1500 [00:23<00:00, 62.72it/s]\r\n",
      "100%|███████████████████████████████████████| 1500/1500 [00:22<00:00, 67.34it/s]\r\n",
      "===================================\n",
      "Optimistic K-armed Bandit with ambiguous Gaussian arms\r\n",
      "Action profile: [0.8  0.9  0.88 0.82 0.85]\r\n",
      "Optimal arm: 1\r\n",
      "100%|███████████████████████████████████████| 1500/1500 [00:38<00:00, 38.71it/s]\r\n",
      "100%|███████████████████████████████████████| 1500/1500 [00:38<00:00, 38.63it/s]\r\n",
      "100%|███████████████████████████████████████| 1500/1500 [00:38<00:00, 39.43it/s]\r\n",
      "100%|███████████████████████████████████████| 1500/1500 [00:34<00:00, 44.11it/s]\r\n",
      "100%|███████████████████████████████████████| 1500/1500 [00:29<00:00, 51.28it/s]\r\n",
      "100%|███████████████████████████████████████| 1500/1500 [00:27<00:00, 54.88it/s]\r\n",
      "===================================\n",
      "Optimistic K-armed Bandit with ambiguous Bernoulli arms\r\n",
      "Action profile: [0.88 0.9  0.85 0.8  0.82]\r\n",
      "Optimal arm: 1\r\n",
      "100%|███████████████████████████████████████| 1500/1500 [00:32<00:00, 45.86it/s]\r\n",
      "100%|███████████████████████████████████████| 1500/1500 [00:33<00:00, 45.39it/s]\r\n",
      "100%|███████████████████████████████████████| 1500/1500 [00:32<00:00, 45.53it/s]\r\n",
      "100%|███████████████████████████████████████| 1500/1500 [00:32<00:00, 45.89it/s]\r\n",
      "100%|███████████████████████████████████████| 1500/1500 [00:32<00:00, 45.69it/s]\r\n",
      "100%|███████████████████████████████████████| 1500/1500 [00:32<00:00, 45.96it/s]\r\n",
      "===================================\n",
      "Optimistic K-armed Bandit with ambiguous Gaussian arms\r\n",
      "Action profile: [0.9  0.85 0.88 0.8  0.82]\r\n",
      "Optimal arm: 0\r\n",
      "100%|███████████████████████████████████████| 1500/1500 [00:38<00:00, 39.02it/s]\r\n",
      "100%|███████████████████████████████████████| 1500/1500 [00:38<00:00, 38.56it/s]\r\n",
      "100%|███████████████████████████████████████| 1500/1500 [00:38<00:00, 38.79it/s]\r\n",
      "100%|███████████████████████████████████████| 1500/1500 [00:38<00:00, 38.66it/s]\r\n",
      "100%|███████████████████████████████████████| 1500/1500 [00:38<00:00, 38.72it/s]\r\n",
      "100%|███████████████████████████████████████| 1500/1500 [00:38<00:00, 38.79it/s]\r\n"
     ]
    }
   ],
   "source": [
    "!python3 main.py --nsim 1500 --nsteps 1000 --bernoulli --n_arms 5 --tqdm --model mab --initial 3\n",
    "print(f\"=\" * 35)\n",
    "!python3 main.py --nsim 1500 --nsteps 1000 --n_arms 5 --tqdm --model mab --initial 3                                               \n",
    "print(f\"=\" * 35)\n",
    "!python3 main.py --nsim 1500 --nsteps 1000 --bernoulli --n_arms 5 --tqdm --alpha 0.5 --model mab --initial 3\n",
    "print(f\"=\" * 35)\n",
    "!python3 main.py --nsim 1500 --nsteps 1000 --n_arms 5 --tqdm --alpha 0.5 --model mab --initial 3"
   ]
  },
  {
   "cell_type": "code",
   "execution_count": 9,
   "id": "91a96d49",
   "metadata": {
    "execution": {
     "iopub.execute_input": "2023-02-15T18:44:30.088866Z",
     "iopub.status.busy": "2023-02-15T18:44:30.088521Z",
     "iopub.status.idle": "2023-02-15T19:01:57.486240Z",
     "shell.execute_reply": "2023-02-15T19:01:57.485277Z"
    }
   },
   "outputs": [
    {
     "name": "stdout",
     "output_type": "stream",
     "text": [
      "Naive Naive UCB Approach with definite Bernoulli arms\r\n",
      "Action profile: [0.74 0.01 0.26 0.99 0.5 ]\r\n",
      "Optimal arm: 3\r\n",
      "100%|███████████████████████████████████████| 1500/1500 [00:36<00:00, 41.29it/s]\r\n",
      "100%|███████████████████████████████████████| 1500/1500 [00:36<00:00, 41.28it/s]\r\n",
      "100%|███████████████████████████████████████| 1500/1500 [00:36<00:00, 41.23it/s]\r\n",
      "100%|███████████████████████████████████████| 1500/1500 [00:36<00:00, 41.38it/s]\r\n",
      "100%|███████████████████████████████████████| 1500/1500 [00:36<00:00, 41.36it/s]\r\n",
      "===================================\n",
      "Naive Naive UCB Approach with definite Gaussian arms\r\n",
      "Action profile: [0.74 0.99 0.5  0.26 0.01]\r\n",
      "Optimal arm: 1\r\n",
      "100%|███████████████████████████████████████| 1500/1500 [00:42<00:00, 35.60it/s]\r\n",
      "100%|███████████████████████████████████████| 1500/1500 [00:42<00:00, 35.62it/s]\r\n",
      "100%|███████████████████████████████████████| 1500/1500 [00:42<00:00, 35.67it/s]\r\n",
      "100%|███████████████████████████████████████| 1500/1500 [00:42<00:00, 35.47it/s]\r\n",
      "100%|███████████████████████████████████████| 1500/1500 [00:41<00:00, 35.78it/s]\r\n",
      "===================================\n",
      "Naive UCB-delta Algorithm with definite Bernoulli arms\r\n",
      "Action profile: [0.74 0.5  0.26 0.99 0.01]\r\n",
      "Optimal arm: 3\r\n",
      "100%|███████████████████████████████████████| 1500/1500 [00:38<00:00, 39.07it/s]\r\n",
      "100%|███████████████████████████████████████| 1500/1500 [00:38<00:00, 38.82it/s]\r\n",
      "100%|███████████████████████████████████████| 1500/1500 [00:38<00:00, 38.63it/s]\r\n",
      "100%|███████████████████████████████████████| 1500/1500 [00:38<00:00, 38.93it/s]\r\n",
      "100%|███████████████████████████████████████| 1500/1500 [00:38<00:00, 38.65it/s]\r\n",
      "===================================\n",
      "Naive UCB-delta Algorithm with definite Gaussian arms\r\n",
      "Action profile: [0.26 0.99 0.01 0.5  0.74]\r\n",
      "Optimal arm: 1\r\n",
      "100%|███████████████████████████████████████| 1500/1500 [00:41<00:00, 36.48it/s]\r\n",
      "100%|███████████████████████████████████████| 1500/1500 [00:41<00:00, 36.36it/s]\r\n",
      "100%|███████████████████████████████████████| 1500/1500 [00:41<00:00, 36.40it/s]\r\n",
      "100%|███████████████████████████████████████| 1500/1500 [00:41<00:00, 36.27it/s]\r\n",
      "100%|███████████████████████████████████████| 1500/1500 [00:41<00:00, 36.21it/s]\r\n",
      "===================================\n",
      "Naive Asymptotically Optimal UCB with definite Bernoulli arms\r\n",
      "Action profile: [0.01 0.74 0.99 0.26 0.5 ]\r\n",
      "Optimal arm: 2\r\n",
      "100%|███████████████████████████████████████| 1500/1500 [00:39<00:00, 38.19it/s]\r\n",
      "===================================\n",
      "Naive Asymptotically Optimal UCB with definite Gaussian arms\r\n",
      "Action profile: [0.5  0.01 0.26 0.74 0.99]\r\n",
      "Optimal arm: 4\r\n",
      "100%|███████████████████████████████████████| 1500/1500 [00:46<00:00, 32.36it/s]\r\n",
      "===================================\n",
      "Naive UCB MOSS Algorithm with definite Bernoulli arms\r\n",
      "Action profile: [0.26 0.74 0.01 0.99 0.5 ]\r\n",
      "Optimal arm: 3\r\n",
      "100%|███████████████████████████████████████| 1500/1500 [00:40<00:00, 37.07it/s]\r\n",
      "===================================\n",
      "Naive UCB MOSS Algorithm with definite Gaussian arms\r\n",
      "Action profile: [0.26 0.01 0.99 0.74 0.5 ]\r\n",
      "Optimal arm: 2\r\n",
      "100%|███████████████████████████████████████| 1500/1500 [00:44<00:00, 33.38it/s]\r\n"
     ]
    }
   ],
   "source": [
    "!python3 main.py --nsim 1500 --nsteps 1000 --bernoulli --n_arms 5 --tqdm --model ucbnaive --is_definite\n",
    "print(f\"=\" * 35)\n",
    "!python3 main.py --nsim 1500 --nsteps 1000 --n_arms 5 --tqdm --model ucbnaive --is_definite\n",
    "print(f\"=\" * 35)\n",
    "!python3 main.py --nsim 1500 --nsteps 1000 --bernoulli --n_arms 5 --tqdm --model ucbdelta --is_definite\n",
    "print(f\"=\" * 35)\n",
    "!python3 main.py --nsim 1500 --nsteps 1000 --n_arms 5 --tqdm --model ucbdelta --is_definite\n",
    "print(f\"=\" * 35)\n",
    "!python3 main.py --nsim 1500 --nsteps 1000 --bernoulli --n_arms 5 --tqdm --model ucbasym --is_definite\n",
    "print(f\"=\" * 35)\n",
    "!python3 main.py --nsim 1500 --nsteps 1000 --n_arms 5 --tqdm --model ucbasym --is_definite\n",
    "print(f\"=\" * 35)\n",
    "!python3 main.py --nsim 1500 --nsteps 1000 --bernoulli --n_arms 5 --tqdm --model ucbmoss --is_definite\n",
    "print(f\"=\" * 35)\n",
    "!python3 main.py --nsim 1500 --nsteps 1000 --n_arms 5 --tqdm --model ucbmoss --is_definite"
   ]
  },
  {
   "cell_type": "code",
   "execution_count": 10,
   "id": "ab5dec72",
   "metadata": {
    "execution": {
     "iopub.execute_input": "2023-02-15T19:01:57.490958Z",
     "iopub.status.busy": "2023-02-15T19:01:57.490621Z",
     "iopub.status.idle": "2023-02-15T19:19:16.841299Z",
     "shell.execute_reply": "2023-02-15T19:19:16.840346Z"
    }
   },
   "outputs": [
    {
     "name": "stdout",
     "output_type": "stream",
     "text": [
      "Naive Naive UCB Approach with ambiguous Bernoulli arms\r\n",
      "Action profile: [0.85 0.88 0.8  0.9  0.82]\r\n",
      "Optimal arm: 3\r\n",
      "100%|███████████████████████████████████████| 1500/1500 [00:35<00:00, 41.80it/s]\r\n",
      "100%|███████████████████████████████████████| 1500/1500 [00:35<00:00, 41.78it/s]\r\n",
      "100%|███████████████████████████████████████| 1500/1500 [00:35<00:00, 41.84it/s]\r\n",
      "100%|███████████████████████████████████████| 1500/1500 [00:35<00:00, 41.70it/s]\r\n",
      "100%|███████████████████████████████████████| 1500/1500 [00:35<00:00, 41.75it/s]\r\n",
      "===================================\n",
      "Naive Naive UCB Approach with ambiguous Gaussian arms\r\n",
      "Action profile: [0.88 0.85 0.9  0.82 0.8 ]\r\n",
      "Optimal arm: 2\r\n",
      "100%|███████████████████████████████████████| 1500/1500 [00:41<00:00, 36.56it/s]\r\n",
      "100%|███████████████████████████████████████| 1500/1500 [00:41<00:00, 36.49it/s]\r\n",
      "100%|███████████████████████████████████████| 1500/1500 [00:41<00:00, 36.48it/s]\r\n",
      "100%|███████████████████████████████████████| 1500/1500 [00:41<00:00, 36.47it/s]\r\n",
      "100%|███████████████████████████████████████| 1500/1500 [00:41<00:00, 36.35it/s]\r\n",
      "===================================\n",
      "Naive UCB-delta Algorithm with ambiguous Bernoulli arms\r\n",
      "Action profile: [0.9  0.8  0.88 0.85 0.82]\r\n",
      "Optimal arm: 0\r\n",
      "100%|███████████████████████████████████████| 1500/1500 [00:36<00:00, 41.00it/s]\r\n",
      "100%|███████████████████████████████████████| 1500/1500 [00:36<00:00, 40.86it/s]\r\n",
      "100%|███████████████████████████████████████| 1500/1500 [00:36<00:00, 40.77it/s]\r\n",
      "100%|███████████████████████████████████████| 1500/1500 [00:36<00:00, 40.67it/s]\r\n",
      "100%|███████████████████████████████████████| 1500/1500 [00:36<00:00, 40.85it/s]\r\n",
      "===================================\n",
      "Naive UCB-delta Algorithm with ambiguous Gaussian arms\r\n",
      "Action profile: [0.88 0.8  0.82 0.85 0.9 ]\r\n",
      "Optimal arm: 4\r\n",
      "100%|███████████████████████████████████████| 1500/1500 [00:41<00:00, 36.08it/s]\r\n",
      "100%|███████████████████████████████████████| 1500/1500 [00:41<00:00, 35.99it/s]\r\n",
      "100%|███████████████████████████████████████| 1500/1500 [00:41<00:00, 36.19it/s]\r\n",
      "100%|███████████████████████████████████████| 1500/1500 [00:41<00:00, 36.01it/s]\r\n",
      "100%|███████████████████████████████████████| 1500/1500 [00:41<00:00, 36.08it/s]\r\n",
      "===================================\n",
      "Naive Asymptotically Optimal UCB with ambiguous Bernoulli arms\r\n",
      "Action profile: [0.85 0.82 0.88 0.9  0.8 ]\r\n",
      "Optimal arm: 3\r\n",
      "100%|███████████████████████████████████████| 1500/1500 [00:38<00:00, 38.62it/s]\r\n",
      "===================================\n",
      "Naive Asymptotically Optimal UCB with ambiguous Gaussian arms\r\n",
      "Action profile: [0.85 0.82 0.88 0.9  0.8 ]\r\n",
      "Optimal arm: 3\r\n",
      "100%|███████████████████████████████████████| 1500/1500 [00:44<00:00, 33.64it/s]\r\n",
      "===================================\n",
      "Naive UCB MOSS Algorithm with ambiguous Bernoulli arms\r\n",
      "Action profile: [0.85 0.8  0.88 0.9  0.82]\r\n",
      "Optimal arm: 3\r\n",
      "100%|███████████████████████████████████████| 1500/1500 [00:40<00:00, 37.15it/s]\r\n",
      "===================================\n",
      "Naive UCB MOSS Algorithm with ambiguous Gaussian arms\r\n",
      "Action profile: [0.8  0.88 0.85 0.82 0.9 ]\r\n",
      "Optimal arm: 4\r\n",
      "100%|███████████████████████████████████████| 1500/1500 [00:45<00:00, 33.30it/s]\r\n"
     ]
    }
   ],
   "source": [
    "!python3 main.py --nsim 1500 --nsteps 1000 --bernoulli --n_arms 5 --tqdm --model ucbnaive\n",
    "print(f\"=\" * 35)\n",
    "!python3 main.py --nsim 1500 --nsteps 1000 --n_arms 5 --tqdm --model ucbnaive\n",
    "print(f\"=\" * 35)\n",
    "!python3 main.py --nsim 1500 --nsteps 1000 --bernoulli --n_arms 5 --tqdm --model ucbdelta\n",
    "print(f\"=\" * 35)\n",
    "!python3 main.py --nsim 1500 --nsteps 1000 --n_arms 5 --tqdm --model ucbdelta\n",
    "print(f\"=\" * 35)\n",
    "!python3 main.py --nsim 1500 --nsteps 1000 --bernoulli --n_arms 5 --tqdm --model ucbasym\n",
    "print(f\"=\" * 35)\n",
    "!python3 main.py --nsim 1500 --nsteps 1000 --n_arms 5 --tqdm --model ucbasym\n",
    "print(f\"=\" * 35)\n",
    "!python3 main.py --nsim 1500 --nsteps 1000 --bernoulli --n_arms 5 --tqdm --model ucbmoss\n",
    "print(f\"=\" * 35)\n",
    "!python3 main.py --nsim 1500 --nsteps 1000 --n_arms 5 --tqdm --model ucbmoss"
   ]
  },
  {
   "cell_type": "code",
   "execution_count": 11,
   "id": "807c934f",
   "metadata": {
    "execution": {
     "iopub.execute_input": "2023-02-15T19:19:16.846163Z",
     "iopub.status.busy": "2023-02-15T19:19:16.845825Z",
     "iopub.status.idle": "2023-02-15T19:21:11.448319Z",
     "shell.execute_reply": "2023-02-15T19:21:11.447466Z"
    }
   },
   "outputs": [
    {
     "name": "stdout",
     "output_type": "stream",
     "text": [
      "Naive Thompson Sampling with definite Bernoulli arms\r\n",
      "Action profile: [0.74 0.5  0.26 0.99 0.01]\r\n",
      "Optimal arm: 3\r\n",
      "100%|███████████████████████████████████████| 1500/1500 [00:42<00:00, 35.00it/s]\r\n",
      "===================================\n",
      "Naive Thompson Sampling with definite Gaussian arms\r\n",
      "Action profile: [0.01 0.74 0.26 0.5  0.99]\r\n",
      "Optimal arm: 4\r\n",
      "100%|███████████████████████████████████████| 1500/1500 [01:05<00:00, 23.04it/s]\r\n"
     ]
    }
   ],
   "source": [
    "!python3 main.py --nsim 1500 --nsteps 1000 --bernoulli --n_arms 5 --tqdm --model thompson --is_definite\n",
    "print(f\"=\" * 35)\n",
    "!python3 main.py --nsim 1500 --nsteps 1000 --n_arms 5 --tqdm --model thompson --is_definite"
   ]
  },
  {
   "cell_type": "code",
   "execution_count": 12,
   "id": "febc892f",
   "metadata": {
    "execution": {
     "iopub.execute_input": "2023-02-15T19:21:11.452653Z",
     "iopub.status.busy": "2023-02-15T19:21:11.452338Z",
     "iopub.status.idle": "2023-02-15T19:23:05.267722Z",
     "shell.execute_reply": "2023-02-15T19:23:05.266875Z"
    }
   },
   "outputs": [
    {
     "name": "stdout",
     "output_type": "stream",
     "text": [
      "Naive Thompson Sampling with ambiguous Bernoulli arms\r\n",
      "Action profile: [0.85 0.8  0.9  0.88 0.82]\r\n",
      "Optimal arm: 2\r\n",
      "100%|███████████████████████████████████████| 1500/1500 [00:42<00:00, 34.98it/s]\r\n",
      "===================================\n",
      "Naive Thompson Sampling with ambiguous Gaussian arms\r\n",
      "Action profile: [0.8  0.9  0.85 0.88 0.82]\r\n",
      "Optimal arm: 1\r\n",
      "100%|███████████████████████████████████████| 1500/1500 [01:05<00:00, 22.86it/s]\r\n"
     ]
    }
   ],
   "source": [
    "!python3 main.py --nsim 1500 --nsteps 1000 --bernoulli --n_arms 5 --tqdm --model thompson\n",
    "print(f\"=\" * 35)\n",
    "!python3 main.py --nsim 1500 --nsteps 1000 --n_arms 5 --tqdm --model thompson"
   ]
  },
  {
   "cell_type": "code",
   "execution_count": 2,
   "id": "fbba7a69",
   "metadata": {
    "execution": {
     "iopub.execute_input": "2023-02-15T19:19:16.846163Z",
     "iopub.status.busy": "2023-02-15T19:19:16.845825Z",
     "iopub.status.idle": "2023-02-15T19:21:11.448319Z",
     "shell.execute_reply": "2023-02-15T19:21:11.447466Z"
    }
   },
   "outputs": [
    {
     "name": "stdout",
     "output_type": "stream",
     "text": [
      "Naive Explore-then-commit with definite Bernoulli arms\n",
      "Action profile: [0.74 0.99 0.5  0.01 0.26]\n",
      "Optimal arm: 1\n",
      "100%|███████████████████████████████████████| 1500/1500 [00:25<00:00, 57.87it/s]\n",
      "100%|███████████████████████████████████████| 1500/1500 [00:25<00:00, 59.93it/s]\n",
      "100%|███████████████████████████████████████| 1500/1500 [00:23<00:00, 64.11it/s]\n",
      "100%|███████████████████████████████████████| 1500/1500 [00:20<00:00, 73.62it/s]\n",
      "===================================\n",
      "Naive Explore-then-commit with definite Gaussian arms\n",
      "Action profile: [0.26 0.99 0.74 0.5  0.01]\n",
      "Optimal arm: 1\n",
      "100%|███████████████████████████████████████| 1500/1500 [00:27<00:00, 55.44it/s]\n",
      "100%|███████████████████████████████████████| 1500/1500 [00:26<00:00, 57.66it/s]\n",
      "100%|███████████████████████████████████████| 1500/1500 [00:24<00:00, 61.59it/s]\n",
      "100%|███████████████████████████████████████| 1500/1500 [00:21<00:00, 69.66it/s]\n"
     ]
    }
   ],
   "source": [
    "!python3 main.py --nsim 1500 --nsteps 1000 --bernoulli --n_arms 5 --tqdm --model etc --is_definite\n",
    "print(f\"=\" * 35)\n",
    "!python3 main.py --nsim 1500 --nsteps 1000 --n_arms 5 --tqdm --model etc --is_definite"
   ]
  },
  {
   "cell_type": "code",
   "execution_count": 3,
   "id": "62cd83e1",
   "metadata": {
    "execution": {
     "iopub.execute_input": "2023-02-15T19:21:11.452653Z",
     "iopub.status.busy": "2023-02-15T19:21:11.452338Z",
     "iopub.status.idle": "2023-02-15T19:23:05.267722Z",
     "shell.execute_reply": "2023-02-15T19:23:05.266875Z"
    }
   },
   "outputs": [
    {
     "name": "stdout",
     "output_type": "stream",
     "text": [
      "Naive Explore-then-commit with ambiguous Bernoulli arms\n",
      "Action profile: [0.85 0.82 0.9  0.8  0.88]\n",
      "Optimal arm: 2\n",
      "100%|███████████████████████████████████████| 1500/1500 [00:25<00:00, 58.68it/s]\n",
      "100%|███████████████████████████████████████| 1500/1500 [00:24<00:00, 60.57it/s]\n",
      "100%|███████████████████████████████████████| 1500/1500 [00:22<00:00, 65.38it/s]\n",
      "100%|███████████████████████████████████████| 1500/1500 [00:20<00:00, 74.91it/s]\n",
      "===================================\n",
      "Naive Explore-then-commit with ambiguous Gaussian arms\n",
      "Action profile: [0.88 0.9  0.85 0.82 0.8 ]\n",
      "Optimal arm: 1\n",
      "100%|███████████████████████████████████████| 1500/1500 [00:26<00:00, 56.22it/s]\n",
      "100%|███████████████████████████████████████| 1500/1500 [00:25<00:00, 58.30it/s]\n",
      "100%|███████████████████████████████████████| 1500/1500 [00:23<00:00, 62.51it/s]\n",
      "100%|███████████████████████████████████████| 1500/1500 [00:21<00:00, 70.62it/s]\n"
     ]
    }
   ],
   "source": [
    "!python3 main.py --nsim 1500 --nsteps 1000 --bernoulli --n_arms 5 --tqdm --model etc\n",
    "print(f\"=\" * 35)\n",
    "!python3 main.py --nsim 1500 --nsteps 1000 --n_arms 5 --tqdm --model etc"
   ]
  },
  {
   "cell_type": "code",
   "execution_count": null,
   "id": "a082d94d",
   "metadata": {},
   "outputs": [],
   "source": []
  }
 ],
 "metadata": {
  "kernelspec": {
   "display_name": "Python 3",
   "language": "python",
   "name": "python3"
  },
  "language_info": {
   "codemirror_mode": {
    "name": "ipython",
    "version": 3
   },
   "file_extension": ".py",
   "mimetype": "text/x-python",
   "name": "python",
   "nbconvert_exporter": "python",
   "pygments_lexer": "ipython3",
   "version": "3.9.15"
  }
 },
 "nbformat": 4,
 "nbformat_minor": 5
}
