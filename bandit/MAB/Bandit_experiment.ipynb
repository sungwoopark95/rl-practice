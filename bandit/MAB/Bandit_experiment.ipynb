{
 "cells": [
  {
   "cell_type": "code",
   "execution_count": 1,
   "id": "bb444f43",
   "metadata": {
    "execution": {
     "iopub.execute_input": "2023-02-20T03:22:42.071130Z",
     "iopub.status.busy": "2023-02-20T03:22:42.070466Z",
     "iopub.status.idle": "2023-02-20T03:22:45.497067Z",
     "shell.execute_reply": "2023-02-20T03:22:45.496381Z"
    }
   },
   "outputs": [],
   "source": [
    "import pickle\n",
    "import numpy as np\n",
    "import pandas as pd\n",
    "from tqdm import tqdm\n",
    "import matplotlib.pyplot as plt\n",
    "from IPython.display import display"
   ]
  },
  {
   "cell_type": "code",
   "execution_count": 2,
   "id": "5e26b4c9",
   "metadata": {
    "execution": {
     "iopub.execute_input": "2023-02-20T03:22:45.500218Z",
     "iopub.status.busy": "2023-02-20T03:22:45.500013Z",
     "iopub.status.idle": "2023-02-20T03:22:45.754556Z",
     "shell.execute_reply": "2023-02-20T03:22:45.753747Z"
    }
   },
   "outputs": [
    {
     "name": "stdout",
     "output_type": "stream",
     "text": [
      "eGreedyMAB_BernoulliArm_0.5_Naive_results.pkl\r\n",
      "eGreedyMAB_BernoulliArm_0.5_Optimistic_results.pkl\r\n",
      "eGreedyMAB_BernoulliArm_1.0_Naive_results.pkl\r\n",
      "eGreedyMAB_BernoulliArm_1.0_Optimistic_results.pkl\r\n",
      "eGreedyMAB_GaussianArm_0.5_Naive_results.pkl\r\n",
      "eGreedyMAB_GaussianArm_0.5_Optimistic_results.pkl\r\n",
      "eGreedyMAB_GaussianArm_1.0_Naive_results.pkl\r\n",
      "eGreedyMAB_GaussianArm_1.0_Optimistic_results.pkl\r\n",
      "ETC_BernoulliArm_1.0_Naive_results.pkl\r\n",
      "ETC_GaussianArm_1.0_Naive_results.pkl\r\n",
      "ThompsonSampling_BernoulliArm_1.0_Naive_results.pkl\r\n",
      "ThompsonSampling_GaussianArm_1.0_Naive_results.pkl\r\n",
      "UCBAsymptotic_BernoulliArm_1.0_Naive_results.pkl\r\n",
      "UCBAsymptotic_GaussianArm_1.0_Naive_results.pkl\r\n",
      "UCBDelta_BernoulliArm_1.0_Naive_results.pkl\r\n",
      "UCBDelta_GaussianArm_1.0_Naive_results.pkl\r\n",
      "UCBMOSS_BernoulliArm_1.0_Naive_results.pkl\r\n",
      "UCBMOSS_GaussianArm_1.0_Naive_results.pkl\r\n",
      "UCBNaive_BernoulliArm_1.0_Naive_results.pkl\r\n",
      "UCBNaive_GaussianArm_1.0_Naive_results.pkl\r\n",
      "===================================\n",
      "eGreedyMAB_BernoulliArm_0.5_Naive_results.pkl\r\n",
      "eGreedyMAB_BernoulliArm_0.5_Optimistic_results.pkl\r\n",
      "eGreedyMAB_BernoulliArm_1.0_Naive_results.pkl\r\n",
      "eGreedyMAB_BernoulliArm_1.0_Optimistic_results.pkl\r\n",
      "eGreedyMAB_GaussianArm_0.5_Naive_results.pkl\r\n",
      "eGreedyMAB_GaussianArm_0.5_Optimistic_results.pkl\r\n",
      "eGreedyMAB_GaussianArm_1.0_Naive_results.pkl\r\n",
      "eGreedyMAB_GaussianArm_1.0_Optimistic_results.pkl\r\n",
      "ETC_BernoulliArm_1.0_Naive_results.pkl\r\n",
      "ETC_GaussianArm_1.0_Naive_results.pkl\r\n",
      "ThompsonSampling_BernoulliArm_1.0_Naive_results.pkl\r\n",
      "ThompsonSampling_GaussianArm_1.0_Naive_results.pkl\r\n",
      "UCBAsymptotic_BernoulliArm_1.0_Naive_results.pkl\r\n",
      "UCBAsymptotic_GaussianArm_1.0_Naive_results.pkl\r\n",
      "UCBDelta_BernoulliArm_1.0_Naive_results.pkl\r\n",
      "UCBDelta_GaussianArm_1.0_Naive_results.pkl\r\n",
      "UCBMOSS_BernoulliArm_1.0_Naive_results.pkl\r\n",
      "UCBMOSS_GaussianArm_1.0_Naive_results.pkl\r\n",
      "UCBNaive_BernoulliArm_1.0_Naive_results.pkl\r\n",
      "UCBNaive_GaussianArm_1.0_Naive_results.pkl\r\n"
     ]
    }
   ],
   "source": [
    "!ls ./definite\n",
    "print(\"=\"*35)\n",
    "!ls ./indefinite"
   ]
  },
  {
   "cell_type": "code",
   "execution_count": 3,
   "id": "5863881a",
   "metadata": {
    "execution": {
     "iopub.execute_input": "2023-02-20T03:22:45.759078Z",
     "iopub.status.busy": "2023-02-20T03:22:45.758395Z",
     "iopub.status.idle": "2023-02-20T03:22:48.490620Z",
     "shell.execute_reply": "2023-02-20T03:22:48.489708Z"
    }
   },
   "outputs": [],
   "source": [
    "!rm -rf -r ./definite/*.pkl\n",
    "!rm -rf -r ./indefinite/*.pkl"
   ]
  },
  {
   "cell_type": "code",
   "execution_count": 4,
   "id": "e814fe9e",
   "metadata": {
    "execution": {
     "iopub.execute_input": "2023-02-20T03:22:48.495272Z",
     "iopub.status.busy": "2023-02-20T03:22:48.494789Z",
     "iopub.status.idle": "2023-02-20T03:22:48.743368Z",
     "shell.execute_reply": "2023-02-20T03:22:48.742515Z"
    }
   },
   "outputs": [
    {
     "name": "stdout",
     "output_type": "stream",
     "text": [
      "===================================\n"
     ]
    }
   ],
   "source": [
    "!ls ./definite\n",
    "print(\"=\"*35)\n",
    "!ls ./indefinite"
   ]
  },
  {
   "cell_type": "code",
   "execution_count": 5,
   "id": "038103dd",
   "metadata": {
    "execution": {
     "iopub.execute_input": "2023-02-20T03:22:48.747670Z",
     "iopub.status.busy": "2023-02-20T03:22:48.747206Z",
     "iopub.status.idle": "2023-02-20T03:22:48.751742Z",
     "shell.execute_reply": "2023-02-20T03:22:48.751187Z"
    }
   },
   "outputs": [],
   "source": [
    "NSIM = 2000\n",
    "NSTEPS = 2000\n",
    "N_ARMS = 15\n",
    "INITIAL = 5\n",
    "ALPHA = 0.5"
   ]
  },
  {
   "cell_type": "code",
   "execution_count": 6,
   "id": "d7b9001e",
   "metadata": {
    "execution": {
     "iopub.execute_input": "2023-02-20T03:22:48.754293Z",
     "iopub.status.busy": "2023-02-20T03:22:48.753998Z",
     "iopub.status.idle": "2023-02-20T04:01:27.755048Z",
     "shell.execute_reply": "2023-02-20T04:01:27.754050Z"
    },
    "scrolled": false
   },
   "outputs": [
    {
     "name": "stdout",
     "output_type": "stream",
     "text": [
      "Naive K-armed Bandit with definite Bernoulli arms\r\n",
      "Action profile: [0.01 0.25 0.08 0.16 0.05 0.9  0.23 0.1  0.03 0.12 0.18 0.07 0.19 0.14\r\n",
      " 0.21]\r\n",
      "Optimal arm: 5\r\n",
      "100%|███████████████████████████████████████| 2000/2000 [01:31<00:00, 21.92it/s]\r\n",
      "100%|███████████████████████████████████████| 2000/2000 [01:30<00:00, 22.11it/s]\r\n",
      "100%|███████████████████████████████████████| 2000/2000 [01:27<00:00, 22.74it/s]\r\n",
      "100%|███████████████████████████████████████| 2000/2000 [01:17<00:00, 25.79it/s]\r\n",
      "100%|███████████████████████████████████████| 2000/2000 [01:04<00:00, 30.99it/s]\r\n",
      "100%|███████████████████████████████████████| 2000/2000 [01:00<00:00, 33.31it/s]\r\n",
      "===================================\n",
      "Naive K-armed Bandit with definite Gaussian arms\r\n",
      "Action profile: [0.14 0.1  0.03 0.18 0.08 0.9  0.23 0.21 0.07 0.05 0.12 0.16 0.19 0.01\r\n",
      " 0.25]\r\n",
      "Optimal arm: 5\r\n",
      "100%|███████████████████████████████████████| 2000/2000 [01:45<00:00, 18.99it/s]\r\n",
      "100%|███████████████████████████████████████| 2000/2000 [01:45<00:00, 18.96it/s]\r\n",
      "100%|███████████████████████████████████████| 2000/2000 [01:43<00:00, 19.38it/s]\r\n",
      "100%|███████████████████████████████████████| 2000/2000 [01:32<00:00, 21.65it/s]\r\n",
      "100%|███████████████████████████████████████| 2000/2000 [01:19<00:00, 25.14it/s]\r\n",
      "100%|███████████████████████████████████████| 2000/2000 [01:14<00:00, 27.01it/s]\r\n",
      "===================================\n",
      "Naive K-armed Bandit with definite Bernoulli arms\r\n",
      "Action profile: [0.16 0.07 0.21 0.23 0.19 0.08 0.25 0.18 0.9  0.1  0.01 0.03 0.12 0.14\r\n",
      " 0.05]\r\n",
      "Optimal arm: 8\r\n",
      "100%|███████████████████████████████████████| 2000/2000 [01:28<00:00, 22.53it/s]\r\n",
      "100%|███████████████████████████████████████| 2000/2000 [01:29<00:00, 22.44it/s]\r\n",
      "100%|███████████████████████████████████████| 2000/2000 [01:29<00:00, 22.42it/s]\r\n",
      "100%|███████████████████████████████████████| 2000/2000 [01:29<00:00, 22.27it/s]\r\n",
      "100%|███████████████████████████████████████| 2000/2000 [01:29<00:00, 22.40it/s]\r\n",
      "100%|███████████████████████████████████████| 2000/2000 [01:29<00:00, 22.31it/s]\r\n",
      "===================================\n",
      "Naive K-armed Bandit with definite Gaussian arms\r\n",
      "Action profile: [0.14 0.16 0.07 0.18 0.01 0.1  0.03 0.05 0.25 0.08 0.21 0.12 0.23 0.19\r\n",
      " 0.9 ]\r\n",
      "Optimal arm: 14\r\n",
      "100%|███████████████████████████████████████| 2000/2000 [01:42<00:00, 19.49it/s]\r\n",
      "100%|███████████████████████████████████████| 2000/2000 [01:42<00:00, 19.45it/s]\r\n",
      "100%|███████████████████████████████████████| 2000/2000 [01:42<00:00, 19.56it/s]\r\n",
      "100%|███████████████████████████████████████| 2000/2000 [01:42<00:00, 19.46it/s]\r\n",
      "100%|███████████████████████████████████████| 2000/2000 [01:43<00:00, 19.32it/s]\r\n",
      "100%|███████████████████████████████████████| 2000/2000 [01:42<00:00, 19.57it/s]\r\n"
     ]
    }
   ],
   "source": [
    "!python3 main.py --nsim $NSIM --nsteps $NSTEPS --bernoulli --n_arms $N_ARMS --tqdm --model mab --is_definite\n",
    "print(f\"=\" * 35)\n",
    "!python3 main.py --nsim $NSIM --nsteps $NSTEPS --n_arms $N_ARMS --tqdm --model mab --is_definite\n",
    "print(f\"=\" * 35)\n",
    "!python3 main.py --nsim $NSIM --nsteps $NSTEPS --bernoulli --n_arms $N_ARMS --tqdm --alpha $ALPHA --model mab --is_definite\n",
    "print(f\"=\" * 35)\n",
    "!python3 main.py --nsim $NSIM --nsteps $NSTEPS --n_arms $N_ARMS --tqdm --alpha $ALPHA --model mab --is_definite"
   ]
  },
  {
   "cell_type": "code",
   "execution_count": 7,
   "id": "c8b92940",
   "metadata": {
    "execution": {
     "iopub.execute_input": "2023-02-20T04:01:27.760325Z",
     "iopub.status.busy": "2023-02-20T04:01:27.759744Z",
     "iopub.status.idle": "2023-02-20T04:39:56.270719Z",
     "shell.execute_reply": "2023-02-20T04:39:56.269732Z"
    },
    "scrolled": false
   },
   "outputs": [
    {
     "name": "stdout",
     "output_type": "stream",
     "text": [
      "Naive K-armed Bandit with ambiguous Bernoulli arms\r\n",
      "Action profile: [0.84 0.97 0.92 0.99 0.8  0.94 0.72 0.67 0.82 0.89 0.75 0.87 0.65 0.77\r\n",
      " 0.7 ]\r\n",
      "Optimal arm: 3\r\n",
      "100%|███████████████████████████████████████| 2000/2000 [01:29<00:00, 22.26it/s]\r\n",
      "100%|███████████████████████████████████████| 2000/2000 [01:28<00:00, 22.64it/s]\r\n",
      "100%|███████████████████████████████████████| 2000/2000 [01:26<00:00, 23.14it/s]\r\n",
      "100%|███████████████████████████████████████| 2000/2000 [01:16<00:00, 26.24it/s]\r\n",
      "100%|███████████████████████████████████████| 2000/2000 [01:03<00:00, 31.46it/s]\r\n",
      "100%|███████████████████████████████████████| 2000/2000 [00:59<00:00, 33.76it/s]\r\n",
      "===================================\n",
      "Naive K-armed Bandit with ambiguous Gaussian arms\r\n",
      "Action profile: [0.75 0.8  0.77 0.67 0.65 0.99 0.92 0.94 0.82 0.72 0.89 0.87 0.7  0.97\r\n",
      " 0.84]\r\n",
      "Optimal arm: 5\r\n",
      "100%|███████████████████████████████████████| 2000/2000 [01:41<00:00, 19.63it/s]\r\n",
      "100%|███████████████████████████████████████| 2000/2000 [01:41<00:00, 19.65it/s]\r\n",
      "100%|███████████████████████████████████████| 2000/2000 [01:39<00:00, 20.13it/s]\r\n",
      "100%|███████████████████████████████████████| 2000/2000 [01:28<00:00, 22.48it/s]\r\n",
      "100%|███████████████████████████████████████| 2000/2000 [01:15<00:00, 26.41it/s]\r\n",
      "100%|███████████████████████████████████████| 2000/2000 [01:11<00:00, 27.95it/s]\r\n",
      "===================================\n",
      "Naive K-armed Bandit with ambiguous Bernoulli arms\r\n",
      "Action profile: [0.72 0.7  0.97 0.89 0.84 0.75 0.99 0.92 0.94 0.65 0.87 0.67 0.8  0.82\r\n",
      " 0.77]\r\n",
      "Optimal arm: 6\r\n",
      "100%|███████████████████████████████████████| 2000/2000 [01:30<00:00, 22.21it/s]\r\n",
      "100%|███████████████████████████████████████| 2000/2000 [01:31<00:00, 21.87it/s]\r\n",
      "100%|███████████████████████████████████████| 2000/2000 [01:31<00:00, 21.80it/s]\r\n",
      "100%|███████████████████████████████████████| 2000/2000 [01:30<00:00, 22.07it/s]\r\n",
      "100%|███████████████████████████████████████| 2000/2000 [01:30<00:00, 22.14it/s]\r\n",
      "100%|███████████████████████████████████████| 2000/2000 [01:30<00:00, 21.99it/s]\r\n",
      "===================================\n",
      "Naive K-armed Bandit with ambiguous Gaussian arms\r\n",
      "Action profile: [0.84 0.92 0.67 0.82 0.65 0.97 0.87 0.75 0.72 0.99 0.8  0.94 0.89 0.7\r\n",
      " 0.77]\r\n",
      "Optimal arm: 9\r\n",
      "100%|███████████████████████████████████████| 2000/2000 [01:43<00:00, 19.27it/s]\r\n",
      "100%|███████████████████████████████████████| 2000/2000 [01:44<00:00, 19.18it/s]\r\n",
      "100%|███████████████████████████████████████| 2000/2000 [01:44<00:00, 19.16it/s]\r\n",
      "100%|███████████████████████████████████████| 2000/2000 [01:44<00:00, 19.15it/s]\r\n",
      "100%|███████████████████████████████████████| 2000/2000 [01:44<00:00, 19.17it/s]\r\n",
      "100%|███████████████████████████████████████| 2000/2000 [01:44<00:00, 19.12it/s]\r\n"
     ]
    }
   ],
   "source": [
    "!python3 main.py --nsim $NSIM --nsteps $NSTEPS --bernoulli --n_arms $N_ARMS --tqdm --model mab\n",
    "print(f\"=\" * 35)\n",
    "!python3 main.py --nsim $NSIM --nsteps $NSTEPS --n_arms $N_ARMS --tqdm --model mab\n",
    "print(f\"=\" * 35)\n",
    "!python3 main.py --nsim $NSIM --nsteps $NSTEPS --bernoulli --n_arms $N_ARMS --tqdm --alpha $ALPHA --model mab\n",
    "print(f\"=\" * 35)\n",
    "!python3 main.py --nsim $NSIM --nsteps $NSTEPS --n_arms $N_ARMS --tqdm --alpha $ALPHA --model mab"
   ]
  },
  {
   "cell_type": "code",
   "execution_count": 8,
   "id": "7611c6ce",
   "metadata": {
    "execution": {
     "iopub.execute_input": "2023-02-20T04:39:56.275692Z",
     "iopub.status.busy": "2023-02-20T04:39:56.275359Z",
     "iopub.status.idle": "2023-02-20T05:18:50.266274Z",
     "shell.execute_reply": "2023-02-20T05:18:50.265265Z"
    },
    "scrolled": false
   },
   "outputs": [
    {
     "name": "stdout",
     "output_type": "stream",
     "text": [
      "Optimistic K-armed Bandit with definite Bernoulli arms\r\n",
      "Action profile: [0.25 0.23 0.01 0.21 0.14 0.03 0.08 0.07 0.05 0.9  0.18 0.19 0.16 0.12\r\n",
      " 0.1 ]\r\n",
      "Optimal arm: 9\r\n",
      "100%|███████████████████████████████████████| 2000/2000 [01:29<00:00, 22.39it/s]\r\n",
      "100%|███████████████████████████████████████| 2000/2000 [01:29<00:00, 22.36it/s]\r\n",
      "100%|███████████████████████████████████████| 2000/2000 [01:27<00:00, 22.90it/s]\r\n",
      "100%|███████████████████████████████████████| 2000/2000 [01:17<00:00, 25.88it/s]\r\n",
      "100%|███████████████████████████████████████| 2000/2000 [01:04<00:00, 31.06it/s]\r\n",
      "100%|███████████████████████████████████████| 2000/2000 [01:00<00:00, 33.23it/s]\r\n",
      "===================================\n",
      "Optimistic K-armed Bandit with definite Gaussian arms\r\n",
      "Action profile: [0.25 0.23 0.21 0.03 0.18 0.9  0.16 0.12 0.07 0.19 0.05 0.01 0.08 0.14\r\n",
      " 0.1 ]\r\n",
      "Optimal arm: 5\r\n",
      "100%|███████████████████████████████████████| 2000/2000 [01:45<00:00, 19.01it/s]\r\n",
      "100%|███████████████████████████████████████| 2000/2000 [01:45<00:00, 18.88it/s]\r\n",
      "100%|███████████████████████████████████████| 2000/2000 [01:42<00:00, 19.45it/s]\r\n",
      "100%|███████████████████████████████████████| 2000/2000 [01:32<00:00, 21.55it/s]\r\n",
      "100%|███████████████████████████████████████| 2000/2000 [01:18<00:00, 25.37it/s]\r\n",
      "100%|███████████████████████████████████████| 2000/2000 [01:13<00:00, 27.10it/s]\r\n",
      "===================================\n",
      "Optimistic K-armed Bandit with definite Bernoulli arms\r\n",
      "Action profile: [0.05 0.9  0.03 0.25 0.19 0.12 0.07 0.21 0.16 0.23 0.08 0.18 0.01 0.1\r\n",
      " 0.14]\r\n",
      "Optimal arm: 1\r\n",
      "100%|███████████████████████████████████████| 2000/2000 [01:29<00:00, 22.36it/s]\r\n",
      "100%|███████████████████████████████████████| 2000/2000 [01:29<00:00, 22.27it/s]\r\n",
      "100%|███████████████████████████████████████| 2000/2000 [01:29<00:00, 22.27it/s]\r\n",
      "100%|███████████████████████████████████████| 2000/2000 [01:30<00:00, 22.12it/s]\r\n",
      "100%|███████████████████████████████████████| 2000/2000 [01:30<00:00, 22.20it/s]\r\n",
      "100%|███████████████████████████████████████| 2000/2000 [01:29<00:00, 22.23it/s]\r\n",
      "===================================\n",
      "Optimistic K-armed Bandit with definite Gaussian arms\r\n",
      "Action profile: [0.25 0.16 0.03 0.21 0.08 0.18 0.12 0.07 0.14 0.9  0.1  0.19 0.01 0.23\r\n",
      " 0.05]\r\n",
      "Optimal arm: 9\r\n",
      "100%|███████████████████████████████████████| 2000/2000 [01:44<00:00, 19.07it/s]\r\n",
      "100%|███████████████████████████████████████| 2000/2000 [01:44<00:00, 19.08it/s]\r\n",
      "100%|███████████████████████████████████████| 2000/2000 [01:45<00:00, 19.00it/s]\r\n",
      "100%|███████████████████████████████████████| 2000/2000 [01:45<00:00, 18.98it/s]\r\n",
      "100%|███████████████████████████████████████| 2000/2000 [01:45<00:00, 18.90it/s]\r\n",
      "100%|███████████████████████████████████████| 2000/2000 [01:45<00:00, 18.94it/s]\r\n"
     ]
    }
   ],
   "source": [
    "!python3 main.py --nsim $NSIM --nsteps $NSTEPS --bernoulli --n_arms $N_ARMS --tqdm --model mab --initial $INITIAL --is_definite\n",
    "print(f\"=\" * 35)\n",
    "!python3 main.py --nsim $NSIM --nsteps $NSTEPS --n_arms $N_ARMS --tqdm --model mab --initial $INITIAL --is_definite                                                     \n",
    "print(f\"=\" * 35)\n",
    "!python3 main.py --nsim $NSIM --nsteps $NSTEPS --bernoulli --n_arms $N_ARMS --tqdm --alpha $ALPHA --model mab --initial $INITIAL --is_definite\n",
    "print(f\"=\" * 35)\n",
    "!python3 main.py --nsim $NSIM --nsteps $NSTEPS --n_arms $N_ARMS --tqdm --alpha $ALPHA --model mab --initial $INITIAL --is_definite"
   ]
  },
  {
   "cell_type": "code",
   "execution_count": 9,
   "id": "32176091",
   "metadata": {
    "execution": {
     "iopub.execute_input": "2023-02-20T05:18:50.271261Z",
     "iopub.status.busy": "2023-02-20T05:18:50.270758Z",
     "iopub.status.idle": "2023-02-20T05:58:28.209902Z",
     "shell.execute_reply": "2023-02-20T05:58:28.208872Z"
    }
   },
   "outputs": [
    {
     "name": "stdout",
     "output_type": "stream",
     "text": [
      "Optimistic K-armed Bandit with ambiguous Bernoulli arms\r\n",
      "Action profile: [0.65 0.77 0.89 0.92 0.7  0.99 0.87 0.84 0.94 0.97 0.75 0.8  0.67 0.82\r\n",
      " 0.72]\r\n",
      "Optimal arm: 5\r\n",
      "100%|███████████████████████████████████████| 2000/2000 [01:32<00:00, 21.62it/s]\r\n",
      "100%|███████████████████████████████████████| 2000/2000 [01:31<00:00, 21.96it/s]\r\n",
      "100%|███████████████████████████████████████| 2000/2000 [01:29<00:00, 22.43it/s]\r\n",
      "100%|███████████████████████████████████████| 2000/2000 [01:18<00:00, 25.36it/s]\r\n",
      "100%|███████████████████████████████████████| 2000/2000 [01:06<00:00, 29.99it/s]\r\n",
      "100%|███████████████████████████████████████| 2000/2000 [01:00<00:00, 33.00it/s]\r\n",
      "===================================\n",
      "Optimistic K-armed Bandit with ambiguous Gaussian arms\r\n",
      "Action profile: [0.72 0.7  0.92 0.67 0.65 0.8  0.94 0.82 0.75 0.84 0.97 0.89 0.99 0.77\r\n",
      " 0.87]\r\n",
      "Optimal arm: 12\r\n",
      "100%|███████████████████████████████████████| 2000/2000 [01:47<00:00, 18.61it/s]\r\n",
      "100%|███████████████████████████████████████| 2000/2000 [01:49<00:00, 18.21it/s]\r\n",
      "100%|███████████████████████████████████████| 2000/2000 [01:46<00:00, 18.75it/s]\r\n",
      "100%|███████████████████████████████████████| 2000/2000 [01:35<00:00, 21.00it/s]\r\n",
      "100%|███████████████████████████████████████| 2000/2000 [01:19<00:00, 25.06it/s]\r\n",
      "100%|███████████████████████████████████████| 2000/2000 [01:16<00:00, 26.18it/s]\r\n",
      "===================================\n",
      "Optimistic K-armed Bandit with ambiguous Bernoulli arms\r\n",
      "Action profile: [0.87 0.94 0.84 0.75 0.7  0.77 0.8  0.89 0.65 0.72 0.67 0.92 0.82 0.97\r\n",
      " 0.99]\r\n",
      "Optimal arm: 14\r\n",
      "100%|███████████████████████████████████████| 2000/2000 [01:28<00:00, 22.59it/s]\r\n",
      "100%|███████████████████████████████████████| 2000/2000 [01:29<00:00, 22.25it/s]\r\n",
      "100%|███████████████████████████████████████| 2000/2000 [01:29<00:00, 22.28it/s]\r\n",
      "100%|███████████████████████████████████████| 2000/2000 [01:30<00:00, 22.20it/s]\r\n",
      "100%|███████████████████████████████████████| 2000/2000 [01:30<00:00, 22.00it/s]\r\n",
      "100%|███████████████████████████████████████| 2000/2000 [01:30<00:00, 22.01it/s]\r\n",
      "===================================\n",
      "Optimistic K-armed Bandit with ambiguous Gaussian arms\r\n",
      "Action profile: [0.92 0.87 0.65 0.89 0.84 0.67 0.94 0.77 0.7  0.75 0.8  0.72 0.97 0.82\r\n",
      " 0.99]\r\n",
      "Optimal arm: 14\r\n",
      "100%|███████████████████████████████████████| 2000/2000 [01:47<00:00, 18.68it/s]\r\n",
      "100%|███████████████████████████████████████| 2000/2000 [01:48<00:00, 18.44it/s]\r\n",
      "100%|███████████████████████████████████████| 2000/2000 [01:47<00:00, 18.66it/s]\r\n",
      "100%|███████████████████████████████████████| 2000/2000 [01:49<00:00, 18.34it/s]\r\n",
      "100%|███████████████████████████████████████| 2000/2000 [01:47<00:00, 18.59it/s]\r\n",
      "100%|███████████████████████████████████████| 2000/2000 [01:48<00:00, 18.38it/s]\r\n"
     ]
    }
   ],
   "source": [
    "!python3 main.py --nsim $NSIM --nsteps $NSTEPS --bernoulli --n_arms $N_ARMS --tqdm --model mab --initial $INITIAL\n",
    "print(f\"=\" * 35)\n",
    "!python3 main.py --nsim $NSIM --nsteps $NSTEPS --n_arms $N_ARMS --tqdm --model mab --initial $INITIAL                                               \n",
    "print(f\"=\" * 35)\n",
    "!python3 main.py --nsim $NSIM --nsteps $NSTEPS --bernoulli --n_arms $N_ARMS --tqdm --alpha $ALPHA --model mab --initial $INITIAL\n",
    "print(f\"=\" * 35)\n",
    "!python3 main.py --nsim $NSIM --nsteps $NSTEPS --n_arms $N_ARMS --tqdm --alpha $ALPHA --model mab --initial $INITIAL"
   ]
  },
  {
   "cell_type": "code",
   "execution_count": 10,
   "id": "91a96d49",
   "metadata": {
    "execution": {
     "iopub.execute_input": "2023-02-20T05:58:28.214634Z",
     "iopub.status.busy": "2023-02-20T05:58:28.214252Z",
     "iopub.status.idle": "2023-02-20T06:47:09.669328Z",
     "shell.execute_reply": "2023-02-20T06:47:09.668377Z"
    }
   },
   "outputs": [
    {
     "name": "stdout",
     "output_type": "stream",
     "text": [
      "Naive Naive UCB Approach with definite Bernoulli arms\r\n",
      "Action profile: [0.01 0.12 0.07 0.03 0.23 0.21 0.1  0.18 0.19 0.25 0.05 0.16 0.9  0.08\r\n",
      " 0.14]\r\n",
      "Optimal arm: 12\r\n",
      "100%|███████████████████████████████████████| 2000/2000 [01:38<00:00, 20.32it/s]\r\n",
      "100%|███████████████████████████████████████| 2000/2000 [01:39<00:00, 20.18it/s]\r\n",
      "100%|███████████████████████████████████████| 2000/2000 [01:39<00:00, 20.15it/s]\r\n",
      "100%|███████████████████████████████████████| 2000/2000 [01:39<00:00, 20.12it/s]\r\n",
      "100%|███████████████████████████████████████| 2000/2000 [01:39<00:00, 20.08it/s]\r\n",
      "===================================\n",
      "Naive Naive UCB Approach with definite Gaussian arms\r\n",
      "Action profile: [0.05 0.16 0.9  0.03 0.18 0.1  0.21 0.25 0.01 0.14 0.12 0.23 0.07 0.19\r\n",
      " 0.08]\r\n",
      "Optimal arm: 2\r\n",
      "100%|███████████████████████████████████████| 2000/2000 [01:52<00:00, 17.76it/s]\r\n",
      "100%|███████████████████████████████████████| 2000/2000 [01:52<00:00, 17.82it/s]\r\n",
      "100%|███████████████████████████████████████| 2000/2000 [01:52<00:00, 17.80it/s]\r\n",
      "100%|███████████████████████████████████████| 2000/2000 [01:52<00:00, 17.81it/s]\r\n",
      "100%|███████████████████████████████████████| 2000/2000 [01:52<00:00, 17.77it/s]\r\n",
      "===================================\n",
      "Naive UCB-delta Algorithm with definite Bernoulli arms\r\n",
      "Action profile: [0.12 0.03 0.08 0.23 0.9  0.1  0.18 0.07 0.19 0.14 0.01 0.21 0.16 0.25\r\n",
      " 0.05]\r\n",
      "Optimal arm: 4\r\n",
      "100%|███████████████████████████████████████| 2000/2000 [01:36<00:00, 20.71it/s]\r\n",
      "100%|███████████████████████████████████████| 2000/2000 [01:36<00:00, 20.68it/s]\r\n",
      "100%|███████████████████████████████████████| 2000/2000 [01:36<00:00, 20.66it/s]\r\n",
      "100%|███████████████████████████████████████| 2000/2000 [01:36<00:00, 20.71it/s]\r\n",
      "100%|███████████████████████████████████████| 2000/2000 [01:38<00:00, 20.39it/s]\r\n",
      "100%|███████████████████████████████████████| 2000/2000 [01:37<00:00, 20.58it/s]\r\n",
      "===================================\n",
      "Naive UCB-delta Algorithm with definite Gaussian arms\r\n",
      "Action profile: [0.1  0.16 0.25 0.08 0.18 0.12 0.21 0.23 0.9  0.05 0.14 0.03 0.19 0.07\r\n",
      " 0.01]\r\n",
      "Optimal arm: 8\r\n",
      "100%|███████████████████████████████████████| 2000/2000 [01:49<00:00, 18.25it/s]\r\n",
      "100%|███████████████████████████████████████| 2000/2000 [01:50<00:00, 18.08it/s]\r\n",
      "100%|███████████████████████████████████████| 2000/2000 [01:50<00:00, 18.08it/s]\r\n",
      "100%|███████████████████████████████████████| 2000/2000 [01:50<00:00, 18.05it/s]\r\n",
      "100%|███████████████████████████████████████| 2000/2000 [01:50<00:00, 18.03it/s]\r\n",
      "100%|███████████████████████████████████████| 2000/2000 [01:49<00:00, 18.22it/s]\r\n",
      "===================================\n",
      "Naive Asymptotically Optimal UCB with definite Bernoulli arms\r\n",
      "Action profile: [0.07 0.19 0.12 0.1  0.14 0.01 0.08 0.23 0.21 0.05 0.18 0.16 0.25 0.03\r\n",
      " 0.9 ]\r\n",
      "Optimal arm: 14\r\n",
      "100%|███████████████████████████████████████| 2000/2000 [01:49<00:00, 18.28it/s]\r\n",
      "===================================\n",
      "Naive Asymptotically Optimal UCB with definite Gaussian arms\r\n",
      "Action profile: [0.19 0.14 0.03 0.12 0.18 0.21 0.08 0.01 0.07 0.16 0.25 0.05 0.1  0.9\r\n",
      " 0.23]\r\n",
      "Optimal arm: 13\r\n",
      "100%|███████████████████████████████████████| 2000/2000 [02:03<00:00, 16.17it/s]\r\n",
      "===================================\n",
      "Naive UCB MOSS Algorithm with definite Bernoulli arms\r\n",
      "Action profile: [0.12 0.01 0.19 0.18 0.14 0.07 0.25 0.05 0.21 0.03 0.1  0.23 0.08 0.9\r\n",
      " 0.16]\r\n",
      "Optimal arm: 13\r\n",
      "100%|███████████████████████████████████████| 2000/2000 [01:48<00:00, 18.51it/s]\r\n",
      "===================================\n",
      "Naive UCB MOSS Algorithm with definite Gaussian arms\r\n",
      "Action profile: [0.07 0.16 0.21 0.01 0.12 0.18 0.14 0.23 0.05 0.03 0.08 0.9  0.19 0.1\r\n",
      " 0.25]\r\n",
      "Optimal arm: 11\r\n",
      "100%|███████████████████████████████████████| 2000/2000 [02:06<00:00, 15.86it/s]\r\n"
     ]
    }
   ],
   "source": [
    "!python3 main.py --nsim $NSIM --nsteps $NSTEPS --bernoulli --n_arms $N_ARMS --tqdm --model ucbnaive --is_definite\n",
    "print(f\"=\" * 35)\n",
    "!python3 main.py --nsim $NSIM --nsteps $NSTEPS --n_arms $N_ARMS --tqdm --model ucbnaive --is_definite\n",
    "print(f\"=\" * 35)\n",
    "!python3 main.py --nsim $NSIM --nsteps $NSTEPS --bernoulli --n_arms $N_ARMS --tqdm --model ucbdelta --is_definite\n",
    "print(f\"=\" * 35)\n",
    "!python3 main.py --nsim $NSIM --nsteps $NSTEPS --n_arms $N_ARMS --tqdm --model ucbdelta --is_definite\n",
    "print(f\"=\" * 35)\n",
    "!python3 main.py --nsim $NSIM --nsteps $NSTEPS --bernoulli --n_arms $N_ARMS --tqdm --model ucbasym --is_definite\n",
    "print(f\"=\" * 35)\n",
    "!python3 main.py --nsim $NSIM --nsteps $NSTEPS --n_arms $N_ARMS --tqdm --model ucbasym --is_definite\n",
    "print(f\"=\" * 35)\n",
    "!python3 main.py --nsim $NSIM --nsteps $NSTEPS --bernoulli --n_arms $N_ARMS --tqdm --model ucbmoss --is_definite\n",
    "print(f\"=\" * 35)\n",
    "!python3 main.py --nsim $NSIM --nsteps $NSTEPS --n_arms $N_ARMS --tqdm --model ucbmoss --is_definite"
   ]
  },
  {
   "cell_type": "code",
   "execution_count": 11,
   "id": "ab5dec72",
   "metadata": {
    "execution": {
     "iopub.execute_input": "2023-02-20T06:47:09.674521Z",
     "iopub.status.busy": "2023-02-20T06:47:09.674025Z",
     "iopub.status.idle": "2023-02-20T07:35:47.750502Z",
     "shell.execute_reply": "2023-02-20T07:35:47.749520Z"
    }
   },
   "outputs": [
    {
     "name": "stdout",
     "output_type": "stream",
     "text": [
      "Naive Naive UCB Approach with ambiguous Bernoulli arms\r\n",
      "Action profile: [0.94 0.89 0.77 0.7  0.84 0.92 0.99 0.65 0.75 0.67 0.97 0.87 0.82 0.72\r\n",
      " 0.8 ]\r\n",
      "Optimal arm: 6\r\n",
      "100%|███████████████████████████████████████| 2000/2000 [01:38<00:00, 20.22it/s]\r\n",
      "100%|███████████████████████████████████████| 2000/2000 [01:38<00:00, 20.26it/s]\r\n",
      "100%|███████████████████████████████████████| 2000/2000 [01:38<00:00, 20.25it/s]\r\n",
      "100%|███████████████████████████████████████| 2000/2000 [01:38<00:00, 20.32it/s]\r\n",
      "100%|███████████████████████████████████████| 2000/2000 [01:38<00:00, 20.23it/s]\r\n",
      "===================================\n",
      "Naive Naive UCB Approach with ambiguous Gaussian arms\r\n",
      "Action profile: [0.94 0.65 0.75 0.84 0.72 0.97 0.99 0.89 0.7  0.87 0.92 0.8  0.67 0.77\r\n",
      " 0.82]\r\n",
      "Optimal arm: 6\r\n",
      "100%|███████████████████████████████████████| 2000/2000 [01:48<00:00, 18.47it/s]\r\n",
      "100%|███████████████████████████████████████| 2000/2000 [01:50<00:00, 18.03it/s]\r\n",
      "100%|███████████████████████████████████████| 2000/2000 [01:49<00:00, 18.28it/s]\r\n",
      "100%|███████████████████████████████████████| 2000/2000 [01:49<00:00, 18.26it/s]\r\n",
      "100%|███████████████████████████████████████| 2000/2000 [01:49<00:00, 18.31it/s]\r\n",
      "===================================\n",
      "Naive UCB-delta Algorithm with ambiguous Bernoulli arms\r\n",
      "Action profile: [0.87 0.7  0.8  0.82 0.75 0.94 0.77 0.92 0.84 0.99 0.89 0.72 0.67 0.97\r\n",
      " 0.65]\r\n",
      "Optimal arm: 9\r\n",
      "100%|███████████████████████████████████████| 2000/2000 [01:35<00:00, 20.90it/s]\r\n",
      "100%|███████████████████████████████████████| 2000/2000 [01:36<00:00, 20.69it/s]\r\n",
      "100%|███████████████████████████████████████| 2000/2000 [01:36<00:00, 20.79it/s]\r\n",
      "100%|███████████████████████████████████████| 2000/2000 [01:36<00:00, 20.77it/s]\r\n",
      "100%|███████████████████████████████████████| 2000/2000 [01:36<00:00, 20.79it/s]\r\n",
      "100%|███████████████████████████████████████| 2000/2000 [01:36<00:00, 20.69it/s]\r\n",
      "===================================\n",
      "Naive UCB-delta Algorithm with ambiguous Gaussian arms\r\n",
      "Action profile: [0.72 0.99 0.82 0.75 0.97 0.7  0.84 0.8  0.87 0.67 0.92 0.77 0.94 0.65\r\n",
      " 0.89]\r\n",
      "Optimal arm: 1\r\n",
      "100%|███████████████████████████████████████| 2000/2000 [01:49<00:00, 18.34it/s]\r\n",
      "100%|███████████████████████████████████████| 2000/2000 [01:50<00:00, 18.13it/s]\r\n",
      "100%|███████████████████████████████████████| 2000/2000 [01:50<00:00, 18.08it/s]\r\n",
      "100%|███████████████████████████████████████| 2000/2000 [01:51<00:00, 18.01it/s]\r\n",
      "100%|███████████████████████████████████████| 2000/2000 [01:50<00:00, 18.16it/s]\r\n",
      "100%|███████████████████████████████████████| 2000/2000 [01:49<00:00, 18.25it/s]\r\n",
      "===================================\n",
      "Naive Asymptotically Optimal UCB with ambiguous Bernoulli arms\r\n",
      "Action profile: [0.94 0.67 0.97 0.92 0.99 0.75 0.8  0.82 0.84 0.65 0.89 0.87 0.7  0.77\r\n",
      " 0.72]\r\n",
      "Optimal arm: 4\r\n",
      "100%|███████████████████████████████████████| 2000/2000 [01:52<00:00, 17.81it/s]\r\n",
      "===================================\n",
      "Naive Asymptotically Optimal UCB with ambiguous Gaussian arms\r\n",
      "Action profile: [0.84 0.99 0.97 0.92 0.72 0.77 0.75 0.8  0.94 0.82 0.87 0.89 0.7  0.65\r\n",
      " 0.67]\r\n",
      "Optimal arm: 1\r\n",
      "100%|███████████████████████████████████████| 2000/2000 [02:03<00:00, 16.13it/s]\r\n",
      "===================================\n",
      "Naive UCB MOSS Algorithm with ambiguous Bernoulli arms\r\n",
      "Action profile: [0.75 0.87 0.67 0.89 0.82 0.92 0.8  0.94 0.99 0.84 0.77 0.65 0.7  0.72\r\n",
      " 0.97]\r\n",
      "Optimal arm: 8\r\n",
      "100%|███████████████████████████████████████| 2000/2000 [01:46<00:00, 18.73it/s]\r\n",
      "===================================\n",
      "Naive UCB MOSS Algorithm with ambiguous Gaussian arms\r\n",
      "Action profile: [0.99 0.94 0.72 0.75 0.67 0.89 0.8  0.65 0.84 0.97 0.87 0.77 0.7  0.82\r\n",
      " 0.92]\r\n",
      "Optimal arm: 0\r\n",
      "100%|███████████████████████████████████████| 2000/2000 [02:05<00:00, 15.89it/s]\r\n"
     ]
    }
   ],
   "source": [
    "!python3 main.py --nsim $NSIM --nsteps $NSTEPS --bernoulli --n_arms $N_ARMS --tqdm --model ucbnaive\n",
    "print(f\"=\" * 35)\n",
    "!python3 main.py --nsim $NSIM --nsteps $NSTEPS --n_arms $N_ARMS --tqdm --model ucbnaive\n",
    "print(f\"=\" * 35)\n",
    "!python3 main.py --nsim $NSIM --nsteps $NSTEPS --bernoulli --n_arms $N_ARMS --tqdm --model ucbdelta\n",
    "print(f\"=\" * 35)\n",
    "!python3 main.py --nsim $NSIM --nsteps $NSTEPS --n_arms $N_ARMS --tqdm --model ucbdelta\n",
    "print(f\"=\" * 35)\n",
    "!python3 main.py --nsim $NSIM --nsteps $NSTEPS --bernoulli --n_arms $N_ARMS --tqdm --model ucbasym\n",
    "print(f\"=\" * 35)\n",
    "!python3 main.py --nsim $NSIM --nsteps $NSTEPS --n_arms $N_ARMS --tqdm --model ucbasym\n",
    "print(f\"=\" * 35)\n",
    "!python3 main.py --nsim $NSIM --nsteps $NSTEPS --bernoulli --n_arms $N_ARMS --tqdm --model ucbmoss\n",
    "print(f\"=\" * 35)\n",
    "!python3 main.py --nsim $NSIM --nsteps $NSTEPS --n_arms $N_ARMS --tqdm --model ucbmoss"
   ]
  },
  {
   "cell_type": "code",
   "execution_count": 12,
   "id": "807c934f",
   "metadata": {
    "execution": {
     "iopub.execute_input": "2023-02-20T07:35:47.755951Z",
     "iopub.status.busy": "2023-02-20T07:35:47.755159Z",
     "iopub.status.idle": "2023-02-20T07:43:41.885807Z",
     "shell.execute_reply": "2023-02-20T07:43:41.884844Z"
    }
   },
   "outputs": [
    {
     "name": "stdout",
     "output_type": "stream",
     "text": [
      "Naive Thompson Sampling with definite Bernoulli arms\r\n",
      "Action profile: [0.12 0.05 0.1  0.03 0.14 0.9  0.23 0.25 0.01 0.08 0.16 0.07 0.18 0.21\r\n",
      " 0.19]\r\n",
      "Optimal arm: 5\r\n",
      "100%|███████████████████████████████████████| 2000/2000 [02:35<00:00, 12.86it/s]\r\n",
      "===================================\n",
      "Naive Thompson Sampling with definite Gaussian arms\r\n",
      "Action profile: [0.16 0.18 0.05 0.25 0.12 0.01 0.03 0.9  0.1  0.21 0.23 0.19 0.08 0.14\r\n",
      " 0.07]\r\n",
      "Optimal arm: 7\r\n",
      "100%|███████████████████████████████████████| 2000/2000 [05:06<00:00,  6.53it/s]\r\n"
     ]
    }
   ],
   "source": [
    "!python3 main.py --nsim $NSIM --nsteps $NSTEPS --bernoulli --n_arms $N_ARMS --tqdm --model thompson --is_definite\n",
    "print(f\"=\" * 35)\n",
    "!python3 main.py --nsim $NSIM --nsteps $NSTEPS --n_arms $N_ARMS --tqdm --model thompson --is_definite"
   ]
  },
  {
   "cell_type": "code",
   "execution_count": 13,
   "id": "febc892f",
   "metadata": {
    "execution": {
     "iopub.execute_input": "2023-02-20T07:43:41.890443Z",
     "iopub.status.busy": "2023-02-20T07:43:41.890098Z",
     "iopub.status.idle": "2023-02-20T07:51:30.470056Z",
     "shell.execute_reply": "2023-02-20T07:51:30.469186Z"
    }
   },
   "outputs": [
    {
     "name": "stdout",
     "output_type": "stream",
     "text": [
      "Naive Thompson Sampling with ambiguous Bernoulli arms\r\n",
      "Action profile: [0.8  0.7  0.89 0.94 0.77 0.75 0.67 0.72 0.84 0.99 0.92 0.97 0.65 0.87\r\n",
      " 0.82]\r\n",
      "Optimal arm: 9\r\n",
      "100%|███████████████████████████████████████| 2000/2000 [02:32<00:00, 13.13it/s]\r\n",
      "===================================\n",
      "Naive Thompson Sampling with ambiguous Gaussian arms\r\n",
      "Action profile: [0.99 0.87 0.94 0.67 0.77 0.65 0.7  0.82 0.84 0.89 0.8  0.97 0.92 0.75\r\n",
      " 0.72]\r\n",
      "Optimal arm: 0\r\n",
      "100%|███████████████████████████████████████| 2000/2000 [05:03<00:00,  6.58it/s]\r\n"
     ]
    }
   ],
   "source": [
    "!python3 main.py --nsim $NSIM --nsteps $NSTEPS --bernoulli --n_arms $N_ARMS --tqdm --model thompson\n",
    "print(f\"=\" * 35)\n",
    "!python3 main.py --nsim $NSIM --nsteps $NSTEPS --n_arms $N_ARMS --tqdm --model thompson"
   ]
  },
  {
   "cell_type": "code",
   "execution_count": 14,
   "id": "fbba7a69",
   "metadata": {
    "execution": {
     "iopub.execute_input": "2023-02-20T07:51:30.474646Z",
     "iopub.status.busy": "2023-02-20T07:51:30.474156Z",
     "iopub.status.idle": "2023-02-20T08:01:55.729669Z",
     "shell.execute_reply": "2023-02-20T08:01:55.728812Z"
    }
   },
   "outputs": [
    {
     "name": "stdout",
     "output_type": "stream",
     "text": [
      "Naive Explore-then-commit with definite Bernoulli arms\r\n",
      "Action profile: [0.25 0.19 0.1  0.23 0.07 0.21 0.9  0.12 0.01 0.03 0.08 0.18 0.14 0.16\r\n",
      " 0.05]\r\n",
      "Optimal arm: 6\r\n",
      "100%|███████████████████████████████████████| 2000/2000 [01:14<00:00, 26.91it/s]\r\n",
      "100%|███████████████████████████████████████| 2000/2000 [01:09<00:00, 28.69it/s]\r\n",
      "100%|███████████████████████████████████████| 2000/2000 [01:02<00:00, 31.90it/s]\r\n",
      "100%|███████████████████████████████████████| 2000/2000 [00:51<00:00, 39.13it/s]\r\n",
      "===================================\n",
      "Naive Explore-then-commit with definite Gaussian arms\r\n",
      "Action profile: [0.03 0.01 0.05 0.23 0.12 0.16 0.9  0.18 0.14 0.1  0.25 0.21 0.08 0.07\r\n",
      " 0.19]\r\n",
      "Optimal arm: 6\r\n",
      "100%|███████████████████████████████████████| 2000/2000 [01:30<00:00, 22.09it/s]\r\n",
      "100%|███████████████████████████████████████| 2000/2000 [01:25<00:00, 23.50it/s]\r\n",
      "100%|███████████████████████████████████████| 2000/2000 [01:17<00:00, 25.70it/s]\r\n",
      "100%|███████████████████████████████████████| 2000/2000 [01:05<00:00, 30.68it/s]\r\n"
     ]
    }
   ],
   "source": [
    "!python3 main.py --nsim $NSIM --nsteps $NSTEPS --bernoulli --n_arms $N_ARMS --tqdm --model etc --is_definite\n",
    "print(f\"=\" * 35)\n",
    "!python3 main.py --nsim $NSIM --nsteps $NSTEPS --n_arms $N_ARMS --tqdm --model etc --is_definite"
   ]
  },
  {
   "cell_type": "code",
   "execution_count": 15,
   "id": "62cd83e1",
   "metadata": {
    "execution": {
     "iopub.execute_input": "2023-02-20T08:01:55.734477Z",
     "iopub.status.busy": "2023-02-20T08:01:55.734136Z",
     "iopub.status.idle": "2023-02-20T08:12:45.404814Z",
     "shell.execute_reply": "2023-02-20T08:12:45.403944Z"
    }
   },
   "outputs": [
    {
     "name": "stdout",
     "output_type": "stream",
     "text": [
      "Naive Explore-then-commit with ambiguous Bernoulli arms\r\n",
      "Action profile: [0.72 0.89 0.97 0.92 0.67 0.84 0.82 0.77 0.99 0.7  0.8  0.75 0.94 0.87\r\n",
      " 0.65]\r\n",
      "Optimal arm: 8\r\n",
      "100%|███████████████████████████████████████| 2000/2000 [01:17<00:00, 25.78it/s]\r\n",
      "100%|███████████████████████████████████████| 2000/2000 [01:14<00:00, 26.98it/s]\r\n",
      "100%|███████████████████████████████████████| 2000/2000 [01:05<00:00, 30.44it/s]\r\n",
      "100%|███████████████████████████████████████| 2000/2000 [00:53<00:00, 37.20it/s]\r\n",
      "===================================\n",
      "Naive Explore-then-commit with ambiguous Gaussian arms\r\n",
      "Action profile: [0.82 0.89 0.84 0.97 0.77 0.75 0.67 0.87 0.92 0.72 0.8  0.99 0.65 0.7\r\n",
      " 0.94]\r\n",
      "Optimal arm: 11\r\n",
      "100%|███████████████████████████████████████| 2000/2000 [01:32<00:00, 21.68it/s]\r\n",
      "100%|███████████████████████████████████████| 2000/2000 [01:27<00:00, 22.86it/s]\r\n",
      "100%|███████████████████████████████████████| 2000/2000 [01:20<00:00, 24.99it/s]\r\n",
      "100%|███████████████████████████████████████| 2000/2000 [01:07<00:00, 29.85it/s]\r\n"
     ]
    }
   ],
   "source": [
    "!python3 main.py --nsim $NSIM --nsteps $NSTEPS --bernoulli --n_arms $N_ARMS --tqdm --model etc\n",
    "print(f\"=\" * 35)\n",
    "!python3 main.py --nsim $NSIM --nsteps $NSTEPS --n_arms $N_ARMS --tqdm --model etc"
   ]
  },
  {
   "cell_type": "code",
   "execution_count": null,
   "id": "a082d94d",
   "metadata": {},
   "outputs": [],
   "source": []
  }
 ],
 "metadata": {
  "kernelspec": {
   "display_name": "main",
   "language": "python",
   "name": "python3"
  },
  "language_info": {
   "codemirror_mode": {
    "name": "ipython",
    "version": 3
   },
   "file_extension": ".py",
   "mimetype": "text/x-python",
   "name": "python",
   "nbconvert_exporter": "python",
   "pygments_lexer": "ipython3",
   "version": "3.9.12"
  },
  "vscode": {
   "interpreter": {
    "hash": "e90c9ac2d6e92c8c249d5242e1615b613a567b2927e7cc02c2f651ab2958e181"
   }
  }
 },
 "nbformat": 4,
 "nbformat_minor": 5
}
