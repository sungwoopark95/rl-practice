{
 "cells": [
  {
   "cell_type": "code",
   "execution_count": 1,
   "id": "bb444f43",
   "metadata": {},
   "outputs": [
    {
     "name": "stdout",
     "output_type": "stream",
     "text": [
      "arms.py\r\n",
      "Bandit_Analysis.ipynb\r\n",
      "Bandit_experiment.ipynb\r\n",
      "Bandit_Regret_Analysis.ipynb\r\n",
      "base_analysis.ipynb\r\n",
      "cfg.py\r\n",
      "eGreedyMAB_BernoulliArm_0.5_Naive_results.pkl\r\n",
      "eGreedyMAB_BernoulliArm_0.5_Optimistic_results.pkl\r\n",
      "eGreedyMAB_BernoulliArm_1.0_Naive_results.pkl\r\n",
      "eGreedyMAB_BernoulliArm_1.0_Optimistic_results.pkl\r\n",
      "eGreedyMAB_GaussianArm_0.5_Naive_results.pkl\r\n",
      "eGreedyMAB_GaussianArm_0.5_Optimistic_results.pkl\r\n",
      "eGreedyMAB_GaussianArm_1.0_Naive_results.pkl\r\n",
      "eGreedyMAB_GaussianArm_1.0_Optimistic_results.pkl\r\n",
      "ETC_BernoulliArm_1.0_Naive_results.pkl\r\n",
      "ETC_GaussianArm_1.0_Naive_results.pkl\r\n",
      "mab.py\r\n",
      "main.py\r\n",
      "__pycache__\r\n",
      "test.ipynb\r\n",
      "ThompsonSampling_BernoulliArm_1.0_Naive_results.pkl\r\n",
      "ThompsonSampling_GaussianArm_1.0_Naive_results.pkl\r\n",
      "UCB_BernoulliArm_1.0_Naive_results.pkl\r\n",
      "UCB_BernoulliArm_1.0_Optimistic_results.pkl\r\n",
      "UCB_GaussianArm_1.0_Naive_results.pkl\r\n",
      "UCB_GaussianArm_1.0_Optimistic_results.pkl\r\n"
     ]
    }
   ],
   "source": [
    "import pickle\n",
    "import numpy as np\n",
    "import pandas as pd\n",
    "from tqdm import tqdm\n",
    "import matplotlib.pyplot as plt\n",
    "from IPython.display import display\n",
    "\n",
    "!ls"
   ]
  },
  {
   "cell_type": "code",
   "execution_count": 2,
   "id": "5863881a",
   "metadata": {},
   "outputs": [],
   "source": [
    "!rm -rf -r *.pkl"
   ]
  },
  {
   "cell_type": "code",
   "execution_count": 3,
   "id": "e814fe9e",
   "metadata": {},
   "outputs": [
    {
     "name": "stdout",
     "output_type": "stream",
     "text": [
      "arms.py\t\t\t Bandit_Regret_Analysis.ipynb  mab.py\t    test.ipynb\r\n",
      "Bandit_Analysis.ipynb\t base_analysis.ipynb\t       main.py\r\n",
      "Bandit_experiment.ipynb  cfg.py\t\t\t       __pycache__\r\n"
     ]
    }
   ],
   "source": [
    "!ls"
   ]
  },
  {
   "cell_type": "code",
   "execution_count": 4,
   "id": "d7b9001e",
   "metadata": {
    "scrolled": false
   },
   "outputs": [
    {
     "name": "stdout",
     "output_type": "stream",
     "text": [
      "Naive K-armed Bandit with Bernoulli Arm\n",
      "Action profile: [0.82 0.35 0.46 0.6  0.42]\n",
      "Optimal arm: 0\n",
      "100%|███████████████████████████████████████| 2000/2000 [00:28<00:00, 70.24it/s]\n",
      "100%|███████████████████████████████████████| 2000/2000 [00:29<00:00, 67.70it/s]\n",
      "100%|███████████████████████████████████████| 2000/2000 [00:34<00:00, 58.77it/s]\n",
      "100%|███████████████████████████████████████| 2000/2000 [00:37<00:00, 53.25it/s]\n",
      "100%|███████████████████████████████████████| 2000/2000 [00:36<00:00, 55.16it/s]\n",
      "100%|███████████████████████████████████████| 2000/2000 [00:22<00:00, 90.57it/s]\n",
      "===================================\n",
      "Naive K-armed Bandit with Gaussian Arm\n",
      "Action profile: [1.64 0.7  0.92 1.21 0.85]\n",
      "Optimal arm: 0\n",
      "100%|███████████████████████████████████████| 2000/2000 [00:38<00:00, 51.72it/s]\n",
      "100%|███████████████████████████████████████| 2000/2000 [00:37<00:00, 52.69it/s]\n",
      "100%|███████████████████████████████████████| 2000/2000 [00:39<00:00, 50.75it/s]\n",
      "100%|███████████████████████████████████████| 2000/2000 [00:37<00:00, 53.08it/s]\n",
      "100%|███████████████████████████████████████| 2000/2000 [00:33<00:00, 59.35it/s]\n",
      "100%|███████████████████████████████████████| 2000/2000 [00:23<00:00, 83.39it/s]\n",
      "===================================\n",
      "Naive K-armed Bandit with Bernoulli Arm\n",
      "Action profile: [0.82 0.35 0.46 0.6  0.42]\n",
      "Optimal arm: 0\n",
      "100%|███████████████████████████████████████| 2000/2000 [00:34<00:00, 57.29it/s]\n",
      "100%|███████████████████████████████████████| 2000/2000 [00:34<00:00, 58.46it/s]\n",
      "100%|███████████████████████████████████████| 2000/2000 [00:34<00:00, 57.85it/s]\n",
      "100%|███████████████████████████████████████| 2000/2000 [00:35<00:00, 56.66it/s]\n",
      "100%|███████████████████████████████████████| 2000/2000 [00:35<00:00, 56.57it/s]\n",
      "100%|███████████████████████████████████████| 2000/2000 [00:34<00:00, 58.20it/s]\n",
      "===================================\n",
      "Naive K-armed Bandit with Gaussian Arm\n",
      "Action profile: [1.64 0.7  0.92 1.21 0.85]\n",
      "Optimal arm: 0\n",
      "100%|███████████████████████████████████████| 2000/2000 [00:38<00:00, 51.64it/s]\n",
      "100%|███████████████████████████████████████| 2000/2000 [00:37<00:00, 53.48it/s]\n",
      "100%|███████████████████████████████████████| 2000/2000 [00:39<00:00, 51.04it/s]\n",
      "100%|███████████████████████████████████████| 2000/2000 [00:38<00:00, 51.52it/s]\n",
      "100%|███████████████████████████████████████| 2000/2000 [00:37<00:00, 54.03it/s]\n",
      "100%|███████████████████████████████████████| 2000/2000 [00:43<00:00, 46.36it/s]\n"
     ]
    }
   ],
   "source": [
    "!python3 main.py --nsim 2000 --nsteps 800 --bernoulli --n_arms 5 --tqdm --model mab --seed 1028\n",
    "print(f\"=\" * 35)\n",
    "!python3 main.py --nsim 2000 --nsteps 800 --n_arms 5 --tqdm --model mab --seed 1028\n",
    "print(f\"=\" * 35)\n",
    "!python3 main.py --nsim 2000 --nsteps 800 --bernoulli --n_arms 5 --tqdm --alpha 0.5 --model mab --seed 1028\n",
    "print(f\"=\" * 35)\n",
    "!python3 main.py --nsim 2000 --nsteps 800 --n_arms 5 --tqdm --alpha 0.5 --model mab --seed 1028"
   ]
  },
  {
   "cell_type": "code",
   "execution_count": 5,
   "id": "7611c6ce",
   "metadata": {},
   "outputs": [
    {
     "name": "stdout",
     "output_type": "stream",
     "text": [
      "Optimistic K-armed Bandit with Bernoulli Arm\n",
      "Action profile: [0.82 0.35 0.46 0.6  0.42]\n",
      "Optimal arm: 0\n",
      "100%|███████████████████████████████████████| 2000/2000 [00:36<00:00, 54.18it/s]\n",
      "100%|███████████████████████████████████████| 2000/2000 [00:37<00:00, 53.80it/s]\n",
      "100%|███████████████████████████████████████| 2000/2000 [00:36<00:00, 55.08it/s]\n",
      "100%|███████████████████████████████████████| 2000/2000 [00:33<00:00, 60.07it/s]\n",
      "100%|███████████████████████████████████████| 2000/2000 [00:30<00:00, 64.53it/s]\n",
      "100%|███████████████████████████████████████| 2000/2000 [00:24<00:00, 81.33it/s]\n",
      "===================================\n",
      "Optimistic K-armed Bandit with Gaussian Arm\n",
      "Action profile: [1.64 0.7  0.92 1.21 0.85]\n",
      "Optimal arm: 0\n",
      "100%|███████████████████████████████████████| 2000/2000 [00:39<00:00, 50.40it/s]\n",
      "100%|███████████████████████████████████████| 2000/2000 [00:40<00:00, 49.85it/s]\n",
      "100%|███████████████████████████████████████| 2000/2000 [00:38<00:00, 52.27it/s]\n",
      "100%|███████████████████████████████████████| 2000/2000 [00:35<00:00, 55.85it/s]\n",
      "100%|███████████████████████████████████████| 2000/2000 [00:33<00:00, 60.39it/s]\n",
      "100%|███████████████████████████████████████| 2000/2000 [00:24<00:00, 83.26it/s]\n",
      "===================================\n",
      "Optimistic K-armed Bandit with Bernoulli Arm\n",
      "Action profile: [0.82 0.35 0.46 0.6  0.42]\n",
      "Optimal arm: 0\n",
      "100%|███████████████████████████████████████| 2000/2000 [00:35<00:00, 56.31it/s]\n",
      "100%|███████████████████████████████████████| 2000/2000 [00:35<00:00, 56.34it/s]\n",
      "100%|███████████████████████████████████████| 2000/2000 [00:35<00:00, 56.90it/s]\n",
      "100%|███████████████████████████████████████| 2000/2000 [00:35<00:00, 56.66it/s]\n",
      "100%|███████████████████████████████████████| 2000/2000 [00:35<00:00, 56.46it/s]\n",
      "100%|███████████████████████████████████████| 2000/2000 [00:36<00:00, 55.22it/s]\n",
      "===================================\n",
      "Optimistic K-armed Bandit with Gaussian Arm\n",
      "Action profile: [1.64 0.7  0.92 1.21 0.85]\n",
      "Optimal arm: 0\n",
      "100%|███████████████████████████████████████| 2000/2000 [00:37<00:00, 52.81it/s]\n",
      "100%|███████████████████████████████████████| 2000/2000 [00:37<00:00, 52.86it/s]\n",
      "100%|███████████████████████████████████████| 2000/2000 [00:37<00:00, 53.22it/s]\n",
      "100%|███████████████████████████████████████| 2000/2000 [00:37<00:00, 54.03it/s]\n",
      "100%|███████████████████████████████████████| 2000/2000 [00:36<00:00, 54.37it/s]\n",
      "100%|███████████████████████████████████████| 2000/2000 [00:36<00:00, 55.54it/s]\n"
     ]
    }
   ],
   "source": [
    "!python3 main.py --nsim 2000 --nsteps 800 --bernoulli --n_arms 5 --tqdm --model mab --initial 5 --seed 1028\n",
    "print(f\"=\" * 35)\n",
    "!python3 main.py --nsim 2000 --nsteps 800 --n_arms 5 --tqdm --model mab --initial 5 --seed 1028                                                      \n",
    "print(f\"=\" * 35)\n",
    "!python3 main.py --nsim 2000 --nsteps 800 --bernoulli --n_arms 5 --tqdm --alpha 0.5 --model mab --initial 5 --seed 1028\n",
    "print(f\"=\" * 35)\n",
    "!python3 main.py --nsim 2000 --nsteps 800 --n_arms 5 --tqdm --alpha 0.5 --model mab --initial 5 --seed 1028"
   ]
  },
  {
   "cell_type": "code",
   "execution_count": 10,
   "id": "91a96d49",
   "metadata": {},
   "outputs": [
    {
     "name": "stdout",
     "output_type": "stream",
     "text": [
      "Naive UCB Approach with Bernoulli Arm\n",
      "Action profile: [0.82 0.35 0.46 0.6  0.42]\n",
      "Optimal arm: 0\n",
      "100%|███████████████████████████████████████| 2000/2000 [00:51<00:00, 38.86it/s]\n",
      "100%|███████████████████████████████████████| 2000/2000 [00:50<00:00, 39.22it/s]\n",
      "100%|███████████████████████████████████████| 2000/2000 [00:50<00:00, 39.97it/s]\n",
      "100%|███████████████████████████████████████| 2000/2000 [00:46<00:00, 43.16it/s]\n",
      "100%|███████████████████████████████████████| 2000/2000 [00:46<00:00, 43.15it/s]\n",
      "===================================\n",
      "Naive UCB Approach with Gaussian Arm\n",
      "Action profile: [1.64 0.7  0.92 1.21 0.85]\n",
      "Optimal arm: 0\n",
      "100%|███████████████████████████████████████| 2000/2000 [00:50<00:00, 39.87it/s]\n",
      "100%|███████████████████████████████████████| 2000/2000 [00:50<00:00, 39.33it/s]\n",
      "100%|███████████████████████████████████████| 2000/2000 [00:47<00:00, 41.79it/s]\n",
      "100%|███████████████████████████████████████| 2000/2000 [00:47<00:00, 42.22it/s]\n",
      "100%|███████████████████████████████████████| 2000/2000 [00:48<00:00, 40.95it/s]\n",
      "===================================\n",
      "Optimistic UCB Approach with Bernoulli Arm\n",
      "Action profile: [0.82 0.35 0.46 0.6  0.42]\n",
      "Optimal arm: 0\n",
      "100%|███████████████████████████████████████| 2000/2000 [00:47<00:00, 42.32it/s]\n",
      "100%|███████████████████████████████████████| 2000/2000 [00:48<00:00, 40.82it/s]\n",
      "100%|███████████████████████████████████████| 2000/2000 [00:45<00:00, 43.71it/s]\n",
      "100%|███████████████████████████████████████| 2000/2000 [00:47<00:00, 41.70it/s]\n",
      "100%|███████████████████████████████████████| 2000/2000 [00:45<00:00, 43.64it/s]\n",
      "===================================\n",
      "Optimistic UCB Approach with Gaussian Arm\n",
      "Action profile: [1.64 0.7  0.92 1.21 0.85]\n",
      "Optimal arm: 0\n",
      "100%|███████████████████████████████████████| 2000/2000 [00:48<00:00, 40.99it/s]\n",
      "100%|███████████████████████████████████████| 2000/2000 [00:48<00:00, 41.66it/s]\n",
      "100%|███████████████████████████████████████| 2000/2000 [00:47<00:00, 42.29it/s]\n",
      "100%|███████████████████████████████████████| 2000/2000 [00:47<00:00, 41.98it/s]\n",
      "100%|███████████████████████████████████████| 2000/2000 [00:49<00:00, 40.66it/s]\n"
     ]
    }
   ],
   "source": [
    "!python3 main.py --nsim 2000 --nsteps 800 --bernoulli --n_arms 5 --tqdm --model ucb --seed 1028\n",
    "print(f\"=\" * 35)\n",
    "!python3 main.py --nsim 2000 --nsteps 800 --n_arms 5 --tqdm --model ucb --seed 1028\n",
    "print(f\"=\" * 35)\n",
    "!python3 main.py --nsim 2000 --nsteps 800 --bernoulli --n_arms 5 --tqdm --model ucb --seed 1028 --initial 5\n",
    "print(f\"=\" * 35)\n",
    "!python3 main.py --nsim 2000 --nsteps 800 --n_arms 5 --tqdm --model ucb --seed 1028 --initial 5"
   ]
  },
  {
   "cell_type": "code",
   "execution_count": 7,
   "id": "e9034cd0",
   "metadata": {},
   "outputs": [
    {
     "name": "stdout",
     "output_type": "stream",
     "text": [
      "Naive Explore-then-commit with Bernoulli Arm\n",
      "Action profile: [0.82 0.35 0.46 0.6  0.42]\n",
      "Optimal arm: 0\n",
      "100%|███████████████████████████████████████| 2000/2000 [00:36<00:00, 55.55it/s]\n",
      "100%|███████████████████████████████████████| 2000/2000 [00:32<00:00, 61.25it/s]\n",
      "100%|███████████████████████████████████████| 2000/2000 [00:30<00:00, 66.66it/s]\n",
      "100%|███████████████████████████████████████| 2000/2000 [00:25<00:00, 76.94it/s]\n",
      "100%|██████████████████████████████████████| 2000/2000 [00:17<00:00, 114.49it/s]\n",
      "===================================\n",
      "Naive Explore-then-commit with Gaussian Arm\n",
      "Action profile: [1.64 0.7  0.92 1.21 0.85]\n",
      "Optimal arm: 0\n",
      "100%|███████████████████████████████████████| 2000/2000 [00:35<00:00, 56.09it/s]\n",
      "100%|███████████████████████████████████████| 2000/2000 [00:33<00:00, 59.11it/s]\n",
      "100%|███████████████████████████████████████| 2000/2000 [00:31<00:00, 63.45it/s]\n",
      "100%|███████████████████████████████████████| 2000/2000 [00:25<00:00, 77.34it/s]\n",
      "100%|██████████████████████████████████████| 2000/2000 [00:17<00:00, 114.48it/s]\n"
     ]
    }
   ],
   "source": [
    "!python3 main.py --nsim 2000 --nsteps 800 --bernoulli --n_arms 5 --tqdm --model etc --seed 1028\n",
    "print(f\"=\" * 35)\n",
    "!python3 main.py --nsim 2000 --nsteps 800 --n_arms 5 --tqdm --model etc --seed 1028"
   ]
  },
  {
   "cell_type": "code",
   "execution_count": 8,
   "id": "807c934f",
   "metadata": {},
   "outputs": [
    {
     "name": "stdout",
     "output_type": "stream",
     "text": [
      "Naive Thompson Sampling with Bernoulli Arm\n",
      "Action profile: [0.82 0.35 0.46 0.6  0.42]\n",
      "Optimal arm: 0\n",
      "100%|███████████████████████████████████████| 2000/2000 [00:53<00:00, 37.12it/s]\n",
      "===================================\n",
      "Naive Thompson Sampling with Gaussian Arm\n",
      "Action profile: [1.64 0.7  0.92 1.21 0.85]\n",
      "Optimal arm: 0\n",
      "100%|███████████████████████████████████████| 2000/2000 [00:55<00:00, 35.76it/s]\n"
     ]
    }
   ],
   "source": [
    "!python3 main.py --nsim 2000 --nsteps 800 --bernoulli --n_arms 5 --tqdm --model thompson --seed 1028\n",
    "print(f\"=\" * 35)\n",
    "!python3 main.py --nsim 2000 --nsteps 800 --n_arms 5 --tqdm --model thompson --seed 1028"
   ]
  },
  {
   "cell_type": "code",
   "execution_count": null,
   "id": "febc892f",
   "metadata": {},
   "outputs": [],
   "source": []
  }
 ],
 "metadata": {
  "kernelspec": {
   "display_name": "Python 3",
   "language": "python",
   "name": "python3"
  },
  "language_info": {
   "codemirror_mode": {
    "name": "ipython",
    "version": 3
   },
   "file_extension": ".py",
   "mimetype": "text/x-python",
   "name": "python",
   "nbconvert_exporter": "python",
   "pygments_lexer": "ipython3",
   "version": "3.9.15"
  }
 },
 "nbformat": 4,
 "nbformat_minor": 5
}
