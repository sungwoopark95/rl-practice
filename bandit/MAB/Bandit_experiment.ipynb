{
 "cells": [
  {
   "cell_type": "code",
   "execution_count": 1,
   "id": "bb444f43",
   "metadata": {},
   "outputs": [
    {
     "name": "stdout",
     "output_type": "stream",
     "text": [
      "arms.py\r\n",
      "Bandit_Analysis.ipynb\r\n",
      "Bandit_experiment.ipynb\r\n",
      "Bandit_Regret_Analysis.ipynb\r\n",
      "base_analysis.ipynb\r\n",
      "cfg.py\r\n",
      "eGreedyMAB_BernoulliArm_0.5_Naive_results.pkl\r\n",
      "eGreedyMAB_BernoulliArm_0.5_Optimistic_results.pkl\r\n",
      "eGreedyMAB_BernoulliArm_1.0_Naive_results.pkl\r\n",
      "eGreedyMAB_BernoulliArm_1.0_Optimistic_results.pkl\r\n",
      "eGreedyMAB_GaussianArm_0.5_Naive_results.pkl\r\n",
      "eGreedyMAB_GaussianArm_0.5_Optimistic_results.pkl\r\n",
      "eGreedyMAB_GaussianArm_1.0_Naive_results.pkl\r\n",
      "eGreedyMAB_GaussianArm_1.0_Optimistic_results.pkl\r\n",
      "ETC_BernoulliArm_1.0_Naive_results.pkl\r\n",
      "ETC_GaussianArm_1.0_Naive_results.pkl\r\n",
      "mab.py\r\n",
      "main.py\r\n",
      "__pycache__\r\n",
      "test.ipynb\r\n",
      "ThompsonSampling_BernoulliArm_1.0_Naive_results.pkl\r\n",
      "ThompsonSampling_GaussianArm_1.0_Naive_results.pkl\r\n",
      "UCB_BernoulliArm_1.0_Naive_results.pkl\r\n",
      "UCB_BernoulliArm_1.0_Optimistic_results.pkl\r\n",
      "UCB_GaussianArm_1.0_Naive_results.pkl\r\n"
     ]
    }
   ],
   "source": [
    "import pickle\n",
    "import numpy as np\n",
    "import pandas as pd\n",
    "from tqdm import tqdm\n",
    "import matplotlib.pyplot as plt\n",
    "from IPython.display import display\n",
    "\n",
    "!ls"
   ]
  },
  {
   "cell_type": "code",
   "execution_count": 2,
   "id": "5863881a",
   "metadata": {},
   "outputs": [],
   "source": [
    "!rm -rf -r *.pkl"
   ]
  },
  {
   "cell_type": "code",
   "execution_count": 3,
   "id": "e814fe9e",
   "metadata": {},
   "outputs": [
    {
     "name": "stdout",
     "output_type": "stream",
     "text": [
      "arms.py\t\t\t Bandit_Regret_Analysis.ipynb  mab.py\t    test.ipynb\r\n",
      "Bandit_Analysis.ipynb\t base_analysis.ipynb\t       main.py\r\n",
      "Bandit_experiment.ipynb  cfg.py\t\t\t       __pycache__\r\n"
     ]
    }
   ],
   "source": [
    "!ls"
   ]
  },
  {
   "cell_type": "code",
   "execution_count": 4,
   "id": "d7b9001e",
   "metadata": {
    "scrolled": false
   },
   "outputs": [
    {
     "name": "stdout",
     "output_type": "stream",
     "text": [
      "Naive K-armed Bandit with Bernoulli Arm\n",
      "Action profile: [0.82 0.35 0.46 0.6  0.42]\n",
      "Optimal arm: 0\n",
      "100%|███████████████████████████████████████| 2000/2000 [00:36<00:00, 54.57it/s]\n",
      "100%|███████████████████████████████████████| 2000/2000 [00:36<00:00, 55.04it/s]\n",
      "100%|███████████████████████████████████████| 2000/2000 [00:35<00:00, 56.76it/s]\n",
      "100%|███████████████████████████████████████| 2000/2000 [00:32<00:00, 60.71it/s]\n",
      "100%|███████████████████████████████████████| 2000/2000 [00:30<00:00, 65.80it/s]\n",
      "100%|███████████████████████████████████████| 2000/2000 [00:23<00:00, 85.83it/s]\n",
      "===================================\n",
      "Naive K-armed Bandit with Gaussian Arm\n",
      "Action profile: [1.64 0.7  0.92 1.21 0.85]\n",
      "Optimal arm: 0\n",
      "100%|███████████████████████████████████████| 2000/2000 [00:39<00:00, 50.46it/s]\n",
      "100%|███████████████████████████████████████| 2000/2000 [00:38<00:00, 52.00it/s]\n",
      "100%|███████████████████████████████████████| 2000/2000 [00:38<00:00, 51.62it/s]\n",
      "100%|███████████████████████████████████████| 2000/2000 [00:33<00:00, 59.50it/s]\n",
      "100%|███████████████████████████████████████| 2000/2000 [00:30<00:00, 64.80it/s]\n",
      "100%|███████████████████████████████████████| 2000/2000 [00:24<00:00, 83.13it/s]\n",
      "===================================\n",
      "Naive K-armed Bandit with Bernoulli Arm\n",
      "Action profile: [0.82 0.35 0.46 0.6  0.42]\n",
      "Optimal arm: 0\n",
      "100%|███████████████████████████████████████| 2000/2000 [00:35<00:00, 56.25it/s]\n",
      "100%|███████████████████████████████████████| 2000/2000 [00:37<00:00, 53.87it/s]\n",
      "100%|███████████████████████████████████████| 2000/2000 [00:35<00:00, 56.13it/s]\n",
      "100%|███████████████████████████████████████| 2000/2000 [00:34<00:00, 57.24it/s]\n",
      "100%|███████████████████████████████████████| 2000/2000 [00:36<00:00, 55.26it/s]\n",
      "100%|███████████████████████████████████████| 2000/2000 [00:36<00:00, 54.89it/s]\n",
      "===================================\n",
      "Naive K-armed Bandit with Gaussian Arm\n",
      "Action profile: [1.64 0.7  0.92 1.21 0.85]\n",
      "Optimal arm: 0\n",
      "100%|███████████████████████████████████████| 2000/2000 [00:38<00:00, 52.08it/s]\n",
      "100%|███████████████████████████████████████| 2000/2000 [00:38<00:00, 52.43it/s]\n",
      "100%|███████████████████████████████████████| 2000/2000 [00:39<00:00, 50.51it/s]\n",
      "100%|███████████████████████████████████████| 2000/2000 [00:40<00:00, 49.72it/s]\n",
      "100%|███████████████████████████████████████| 2000/2000 [00:39<00:00, 51.08it/s]\n",
      "100%|███████████████████████████████████████| 2000/2000 [00:38<00:00, 52.37it/s]\n"
     ]
    }
   ],
   "source": [
    "!python3 main.py --nsim 2000 --nsteps 800 --bernoulli --n_arms 5 --tqdm --model mab --seed 1028\n",
    "print(f\"=\" * 35)\n",
    "!python3 main.py --nsim 2000 --nsteps 800 --n_arms 5 --tqdm --model mab --seed 1028\n",
    "print(f\"=\" * 35)\n",
    "!python3 main.py --nsim 2000 --nsteps 800 --bernoulli --n_arms 5 --tqdm --alpha 0.5 --model mab --seed 1028\n",
    "print(f\"=\" * 35)\n",
    "!python3 main.py --nsim 2000 --nsteps 800 --n_arms 5 --tqdm --alpha 0.5 --model mab --seed 1028"
   ]
  },
  {
   "cell_type": "code",
   "execution_count": 5,
   "id": "7611c6ce",
   "metadata": {},
   "outputs": [
    {
     "name": "stdout",
     "output_type": "stream",
     "text": [
      "Optimistic K-armed Bandit with Bernoulli Arm\n",
      "Action profile: [0.82 0.35 0.46 0.6  0.42]\n",
      "Optimal arm: 0\n",
      "100%|███████████████████████████████████████| 2000/2000 [00:34<00:00, 57.32it/s]\n",
      "100%|███████████████████████████████████████| 2000/2000 [00:35<00:00, 55.96it/s]\n",
      "100%|███████████████████████████████████████| 2000/2000 [00:34<00:00, 58.06it/s]\n",
      "100%|███████████████████████████████████████| 2000/2000 [00:31<00:00, 62.62it/s]\n",
      "100%|███████████████████████████████████████| 2000/2000 [00:28<00:00, 69.39it/s]\n",
      "100%|███████████████████████████████████████| 2000/2000 [00:22<00:00, 90.42it/s]\n",
      "===================================\n",
      "Optimistic K-armed Bandit with Gaussian Arm\n",
      "Action profile: [1.64 0.7  0.92 1.21 0.85]\n",
      "Optimal arm: 0\n",
      "100%|███████████████████████████████████████| 2000/2000 [00:39<00:00, 51.16it/s]\n",
      "100%|███████████████████████████████████████| 2000/2000 [00:38<00:00, 52.04it/s]\n",
      "100%|███████████████████████████████████████| 2000/2000 [00:36<00:00, 54.57it/s]\n",
      "100%|███████████████████████████████████████| 2000/2000 [00:36<00:00, 54.81it/s]\n",
      "100%|███████████████████████████████████████| 2000/2000 [00:32<00:00, 61.90it/s]\n",
      "100%|███████████████████████████████████████| 2000/2000 [00:25<00:00, 79.01it/s]\n",
      "===================================\n",
      "Optimistic K-armed Bandit with Bernoulli Arm\n",
      "Action profile: [0.82 0.35 0.46 0.6  0.42]\n",
      "Optimal arm: 0\n",
      "100%|███████████████████████████████████████| 2000/2000 [00:35<00:00, 55.62it/s]\n",
      "100%|███████████████████████████████████████| 2000/2000 [00:36<00:00, 55.07it/s]\n",
      "100%|███████████████████████████████████████| 2000/2000 [00:35<00:00, 55.77it/s]\n",
      "100%|███████████████████████████████████████| 2000/2000 [00:35<00:00, 56.04it/s]\n",
      "100%|███████████████████████████████████████| 2000/2000 [00:35<00:00, 56.34it/s]\n",
      "100%|███████████████████████████████████████| 2000/2000 [00:35<00:00, 56.68it/s]\n",
      "===================================\n",
      "Optimistic K-armed Bandit with Gaussian Arm\n",
      "Action profile: [1.64 0.7  0.92 1.21 0.85]\n",
      "Optimal arm: 0\n",
      "100%|███████████████████████████████████████| 2000/2000 [00:38<00:00, 51.62it/s]\n",
      "100%|███████████████████████████████████████| 2000/2000 [00:40<00:00, 49.63it/s]\n",
      "100%|███████████████████████████████████████| 2000/2000 [00:39<00:00, 50.30it/s]\n",
      "100%|███████████████████████████████████████| 2000/2000 [00:39<00:00, 50.47it/s]\n",
      "100%|███████████████████████████████████████| 2000/2000 [00:39<00:00, 50.21it/s]\n",
      "100%|███████████████████████████████████████| 2000/2000 [00:39<00:00, 50.19it/s]\n"
     ]
    }
   ],
   "source": [
    "!python3 main.py --nsim 2000 --nsteps 800 --bernoulli --n_arms 5 --tqdm --model mab --initial 5 --seed 1028\n",
    "print(f\"=\" * 35)\n",
    "!python3 main.py --nsim 2000 --nsteps 800 --n_arms 5 --tqdm --model mab --initial 5 --seed 1028                                                      \n",
    "print(f\"=\" * 35)\n",
    "!python3 main.py --nsim 2000 --nsteps 800 --bernoulli --n_arms 5 --tqdm --alpha 0.5 --model mab --initial 5 --seed 1028\n",
    "print(f\"=\" * 35)\n",
    "!python3 main.py --nsim 2000 --nsteps 800 --n_arms 5 --tqdm --alpha 0.5 --model mab --initial 5 --seed 1028"
   ]
  },
  {
   "cell_type": "code",
   "execution_count": 6,
   "id": "91a96d49",
   "metadata": {},
   "outputs": [
    {
     "name": "stdout",
     "output_type": "stream",
     "text": [
      "Naive UCB Approach with Bernoulli Arm\n",
      "Action profile: [0.82 0.35 0.46 0.6  0.42]\n",
      "Optimal arm: 0\n",
      "100%|███████████████████████████████████████| 2000/2000 [00:42<00:00, 46.87it/s]\n",
      "100%|███████████████████████████████████████| 2000/2000 [00:43<00:00, 46.12it/s]\n",
      "100%|███████████████████████████████████████| 2000/2000 [00:43<00:00, 46.39it/s]\n",
      "100%|███████████████████████████████████████| 2000/2000 [00:41<00:00, 48.57it/s]\n",
      "100%|███████████████████████████████████████| 2000/2000 [00:41<00:00, 48.09it/s]\n",
      "===================================\n",
      "Naive UCB Approach with Gaussian Arm\n",
      "Action profile: [1.64 0.7  0.92 1.21 0.85]\n",
      "Optimal arm: 0\n",
      "100%|███████████████████████████████████████| 2000/2000 [00:44<00:00, 45.37it/s]\n",
      "100%|███████████████████████████████████████| 2000/2000 [00:44<00:00, 45.30it/s]\n",
      "100%|███████████████████████████████████████| 2000/2000 [00:44<00:00, 45.02it/s]\n",
      "100%|███████████████████████████████████████| 2000/2000 [00:43<00:00, 46.44it/s]\n",
      "100%|███████████████████████████████████████| 2000/2000 [00:45<00:00, 44.23it/s]\n",
      "===================================\n",
      "Optimistic UCB Approach with Bernoulli Arm\n",
      "Action profile: [0.82 0.35 0.46 0.6  0.42]\n",
      "Optimal arm: 0\n",
      "100%|███████████████████████████████████████| 2000/2000 [00:45<00:00, 43.68it/s]\n",
      "100%|███████████████████████████████████████| 2000/2000 [00:44<00:00, 45.23it/s]\n",
      "100%|███████████████████████████████████████| 2000/2000 [00:45<00:00, 43.75it/s]\n",
      "100%|███████████████████████████████████████| 2000/2000 [00:46<00:00, 42.98it/s]\n",
      "100%|███████████████████████████████████████| 2000/2000 [00:46<00:00, 42.99it/s]\n",
      "===================================\n",
      "Optimistic UCB Approach with Gaussian Arm\n",
      "Action profile: [1.64 0.7  0.92 1.21 0.85]\n",
      "Optimal arm: 0\n",
      "100%|███████████████████████████████████████| 2000/2000 [00:46<00:00, 43.38it/s]\n",
      "100%|███████████████████████████████████████| 2000/2000 [00:45<00:00, 44.01it/s]\n",
      "100%|███████████████████████████████████████| 2000/2000 [00:46<00:00, 43.31it/s]\n",
      "100%|███████████████████████████████████████| 2000/2000 [00:44<00:00, 44.72it/s]\n",
      "100%|███████████████████████████████████████| 2000/2000 [00:46<00:00, 42.68it/s]\n"
     ]
    }
   ],
   "source": [
    "!python3 main.py --nsim 2000 --nsteps 800 --bernoulli --n_arms 5 --tqdm --model ucb --seed 1028\n",
    "print(f\"=\" * 35)\n",
    "!python3 main.py --nsim 2000 --nsteps 800 --n_arms 5 --tqdm --model ucb --seed 1028\n",
    "print(f\"=\" * 35)\n",
    "!python3 main.py --nsim 2000 --nsteps 800 --bernoulli --n_arms 5 --tqdm --model ucb --seed 1028 --initial 5\n",
    "print(f\"=\" * 35)\n",
    "!python3 main.py --nsim 2000 --nsteps 800 --n_arms 5 --tqdm --model ucb --seed 1028 --initial 5"
   ]
  },
  {
   "cell_type": "code",
   "execution_count": 7,
   "id": "e9034cd0",
   "metadata": {},
   "outputs": [
    {
     "name": "stdout",
     "output_type": "stream",
     "text": [
      "Naive Explore-then-commit with Bernoulli Arm\n",
      "Action profile: [0.82 0.35 0.46 0.6  0.42]\n",
      "Optimal arm: 0\n",
      "100%|███████████████████████████████████████| 2000/2000 [00:32<00:00, 61.23it/s]\n",
      "100%|███████████████████████████████████████| 2000/2000 [00:30<00:00, 64.52it/s]\n",
      "100%|███████████████████████████████████████| 2000/2000 [00:28<00:00, 69.17it/s]\n",
      "100%|███████████████████████████████████████| 2000/2000 [00:24<00:00, 82.35it/s]\n",
      "100%|██████████████████████████████████████| 2000/2000 [00:15<00:00, 129.54it/s]\n",
      "===================================\n",
      "Naive Explore-then-commit with Gaussian Arm\n",
      "Action profile: [1.64 0.7  0.92 1.21 0.85]\n",
      "Optimal arm: 0\n",
      "100%|███████████████████████████████████████| 2000/2000 [00:36<00:00, 55.14it/s]\n",
      "100%|███████████████████████████████████████| 2000/2000 [00:34<00:00, 58.29it/s]\n",
      "100%|███████████████████████████████████████| 2000/2000 [00:31<00:00, 63.16it/s]\n",
      "100%|███████████████████████████████████████| 2000/2000 [00:27<00:00, 73.15it/s]\n",
      "100%|██████████████████████████████████████| 2000/2000 [00:18<00:00, 109.67it/s]\n"
     ]
    }
   ],
   "source": [
    "!python3 main.py --nsim 2000 --nsteps 800 --bernoulli --n_arms 5 --tqdm --model etc --seed 1028\n",
    "print(f\"=\" * 35)\n",
    "!python3 main.py --nsim 2000 --nsteps 800 --n_arms 5 --tqdm --model etc --seed 1028"
   ]
  },
  {
   "cell_type": "code",
   "execution_count": 8,
   "id": "807c934f",
   "metadata": {},
   "outputs": [
    {
     "name": "stdout",
     "output_type": "stream",
     "text": [
      "Naive Thompson Sampling with Bernoulli Arm\n",
      "Action profile: [0.82 0.35 0.46 0.6  0.42]\n",
      "Optimal arm: 0\n",
      "100%|███████████████████████████████████████| 2000/2000 [00:55<00:00, 36.14it/s]\n",
      "===================================\n",
      "Naive Thompson Sampling with Gaussian Arm\n",
      "Action profile: [1.64 0.7  0.92 1.21 0.85]\n",
      "Optimal arm: 0\n",
      "100%|███████████████████████████████████████| 2000/2000 [00:57<00:00, 34.95it/s]\n"
     ]
    }
   ],
   "source": [
    "!python3 main.py --nsim 2000 --nsteps 800 --bernoulli --n_arms 5 --tqdm --model thompson --seed 1028\n",
    "print(f\"=\" * 35)\n",
    "!python3 main.py --nsim 2000 --nsteps 800 --n_arms 5 --tqdm --model thompson --seed 1028"
   ]
  },
  {
   "cell_type": "code",
   "execution_count": null,
   "id": "d3bab6e6",
   "metadata": {},
   "outputs": [],
   "source": []
  },
  {
   "cell_type": "code",
   "execution_count": null,
   "id": "febc892f",
   "metadata": {},
   "outputs": [],
   "source": []
  }
 ],
 "metadata": {
  "kernelspec": {
   "display_name": "Python 3",
   "language": "python",
   "name": "python3"
  },
  "language_info": {
   "codemirror_mode": {
    "name": "ipython",
    "version": 3
   },
   "file_extension": ".py",
   "mimetype": "text/x-python",
   "name": "python",
   "nbconvert_exporter": "python",
   "pygments_lexer": "ipython3",
   "version": "3.9.15"
  }
 },
 "nbformat": 4,
 "nbformat_minor": 5
}
