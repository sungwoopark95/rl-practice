{
 "cells": [
  {
   "cell_type": "code",
   "execution_count": 1,
   "id": "bb444f43",
   "metadata": {
    "execution": {
     "iopub.execute_input": "2023-02-19T08:00:42.792766Z",
     "iopub.status.busy": "2023-02-19T08:00:42.792339Z",
     "iopub.status.idle": "2023-02-19T08:00:47.588797Z",
     "shell.execute_reply": "2023-02-19T08:00:47.588162Z"
    }
   },
   "outputs": [],
   "source": [
    "import pickle\n",
    "import numpy as np\n",
    "import pandas as pd\n",
    "from tqdm import tqdm\n",
    "import matplotlib.pyplot as plt\n",
    "from IPython.display import display"
   ]
  },
  {
   "cell_type": "code",
   "execution_count": 2,
   "id": "5e26b4c9",
   "metadata": {
    "execution": {
     "iopub.execute_input": "2023-02-19T08:00:47.592229Z",
     "iopub.status.busy": "2023-02-19T08:00:47.591840Z",
     "iopub.status.idle": "2023-02-19T08:00:47.846678Z",
     "shell.execute_reply": "2023-02-19T08:00:47.845784Z"
    }
   },
   "outputs": [
    {
     "name": "stdout",
     "output_type": "stream",
     "text": [
      "eGreedyMAB_BernoulliArm_0.5_Naive_results.pkl\r\n",
      "eGreedyMAB_BernoulliArm_0.5_Optimistic_results.pkl\r\n",
      "eGreedyMAB_BernoulliArm_1.0_Naive_results.pkl\r\n",
      "eGreedyMAB_BernoulliArm_1.0_Optimistic_results.pkl\r\n",
      "eGreedyMAB_GaussianArm_0.5_Naive_results.pkl\r\n",
      "eGreedyMAB_GaussianArm_0.5_Optimistic_results.pkl\r\n",
      "eGreedyMAB_GaussianArm_1.0_Naive_results.pkl\r\n",
      "eGreedyMAB_GaussianArm_1.0_Optimistic_results.pkl\r\n",
      "ETC_BernoulliArm_1.0_Naive_results.pkl\r\n",
      "ETC_GaussianArm_1.0_Naive_results.pkl\r\n",
      "ThompsonSampling_BernoulliArm_1.0_Naive_results.pkl\r\n",
      "ThompsonSampling_GaussianArm_1.0_Naive_results.pkl\r\n",
      "UCBAsymptotic_BernoulliArm_1.0_Naive_results.pkl\r\n",
      "UCBAsymptotic_GaussianArm_1.0_Naive_results.pkl\r\n",
      "UCBDelta_BernoulliArm_1.0_Naive_results.pkl\r\n",
      "UCBDelta_GaussianArm_1.0_Naive_results.pkl\r\n",
      "UCBMOSS_BernoulliArm_1.0_Naive_results.pkl\r\n",
      "UCBMOSS_GaussianArm_1.0_Naive_results.pkl\r\n",
      "UCBNaive_BernoulliArm_1.0_Naive_results.pkl\r\n",
      "UCBNaive_GaussianArm_1.0_Naive_results.pkl\r\n",
      "===================================\n",
      "eGreedyMAB_BernoulliArm_0.5_Naive_results.pkl\r\n",
      "eGreedyMAB_BernoulliArm_0.5_Optimistic_results.pkl\r\n",
      "eGreedyMAB_BernoulliArm_1.0_Naive_results.pkl\r\n",
      "eGreedyMAB_BernoulliArm_1.0_Optimistic_results.pkl\r\n",
      "eGreedyMAB_GaussianArm_0.5_Naive_results.pkl\r\n",
      "eGreedyMAB_GaussianArm_0.5_Optimistic_results.pkl\r\n",
      "eGreedyMAB_GaussianArm_1.0_Naive_results.pkl\r\n",
      "eGreedyMAB_GaussianArm_1.0_Optimistic_results.pkl\r\n",
      "ETC_BernoulliArm_1.0_Naive_results.pkl\r\n",
      "ETC_GaussianArm_1.0_Naive_results.pkl\r\n",
      "ThompsonSampling_BernoulliArm_1.0_Naive_results.pkl\r\n",
      "ThompsonSampling_GaussianArm_1.0_Naive_results.pkl\r\n",
      "UCBAsymptotic_BernoulliArm_1.0_Naive_results.pkl\r\n",
      "UCBAsymptotic_GaussianArm_1.0_Naive_results.pkl\r\n",
      "UCBDelta_BernoulliArm_1.0_Naive_results.pkl\r\n",
      "UCBDelta_GaussianArm_1.0_Naive_results.pkl\r\n",
      "UCBMOSS_BernoulliArm_1.0_Naive_results.pkl\r\n",
      "UCBMOSS_GaussianArm_1.0_Naive_results.pkl\r\n",
      "UCBNaive_BernoulliArm_1.0_Naive_results.pkl\r\n",
      "UCBNaive_GaussianArm_1.0_Naive_results.pkl\r\n"
     ]
    }
   ],
   "source": [
    "!ls ./definite\n",
    "print(\"=\"*35)\n",
    "!ls ./indefinite"
   ]
  },
  {
   "cell_type": "code",
   "execution_count": 3,
   "id": "5863881a",
   "metadata": {
    "execution": {
     "iopub.execute_input": "2023-02-19T08:00:47.850833Z",
     "iopub.status.busy": "2023-02-19T08:00:47.850511Z",
     "iopub.status.idle": "2023-02-19T08:00:49.710595Z",
     "shell.execute_reply": "2023-02-19T08:00:49.709596Z"
    }
   },
   "outputs": [],
   "source": [
    "!rm -rf -r ./definite/*.pkl\n",
    "!rm -rf -r ./indefinite/*.pkl"
   ]
  },
  {
   "cell_type": "code",
   "execution_count": 4,
   "id": "e814fe9e",
   "metadata": {
    "execution": {
     "iopub.execute_input": "2023-02-19T08:00:49.714968Z",
     "iopub.status.busy": "2023-02-19T08:00:49.714521Z",
     "iopub.status.idle": "2023-02-19T08:00:49.965494Z",
     "shell.execute_reply": "2023-02-19T08:00:49.964610Z"
    }
   },
   "outputs": [
    {
     "name": "stdout",
     "output_type": "stream",
     "text": [
      "===================================\n"
     ]
    }
   ],
   "source": [
    "!ls ./definite\n",
    "print(\"=\"*35)\n",
    "!ls ./indefinite"
   ]
  },
  {
   "cell_type": "code",
   "execution_count": 5,
   "id": "038103dd",
   "metadata": {
    "execution": {
     "iopub.execute_input": "2023-02-19T08:00:49.969397Z",
     "iopub.status.busy": "2023-02-19T08:00:49.969085Z",
     "iopub.status.idle": "2023-02-19T08:00:49.973211Z",
     "shell.execute_reply": "2023-02-19T08:00:49.972318Z"
    }
   },
   "outputs": [],
   "source": [
    "NSIM = 2000\n",
    "NSTEPS = 1000\n",
    "N_ARMS = 20\n",
    "INITIAL = 5\n",
    "ALPHA = 0.5"
   ]
  },
  {
   "cell_type": "code",
   "execution_count": 6,
   "id": "d7b9001e",
   "metadata": {
    "execution": {
     "iopub.execute_input": "2023-02-19T08:00:49.975646Z",
     "iopub.status.busy": "2023-02-19T08:00:49.975430Z",
     "iopub.status.idle": "2023-02-19T08:20:13.058738Z",
     "shell.execute_reply": "2023-02-19T08:20:13.057629Z"
    },
    "scrolled": false
   },
   "outputs": [
    {
     "name": "stdout",
     "output_type": "stream",
     "text": [
      "Naive K-armed Bandit with definite Bernoulli arms\r\n",
      "Action profile: [0.21 0.16 0.08 0.2  0.12 0.13 0.18 0.14 0.05 0.22 0.02 0.06 0.04 0.1\r\n",
      " 0.9  0.17 0.24 0.01 0.25 0.09]\r\n",
      "Optimal arm: 14\r\n",
      "100%|███████████████████████████████████████| 2000/2000 [00:41<00:00, 48.25it/s]\r\n",
      "100%|███████████████████████████████████████| 2000/2000 [00:41<00:00, 47.85it/s]\r\n",
      "100%|███████████████████████████████████████| 2000/2000 [00:40<00:00, 49.61it/s]\r\n",
      "100%|███████████████████████████████████████| 2000/2000 [00:35<00:00, 56.58it/s]\r\n",
      "100%|███████████████████████████████████████| 2000/2000 [00:29<00:00, 67.81it/s]\r\n",
      "100%|███████████████████████████████████████| 2000/2000 [00:27<00:00, 72.20it/s]\r\n",
      "===================================\n",
      "Naive K-armed Bandit with definite Gaussian arms\r\n",
      "Action profile: [0.06 0.09 0.14 0.9  0.13 0.04 0.16 0.02 0.1  0.24 0.17 0.2  0.12 0.25\r\n",
      " 0.22 0.21 0.01 0.08 0.18 0.05]\r\n",
      "Optimal arm: 3\r\n",
      "100%|███████████████████████████████████████| 2000/2000 [00:40<00:00, 48.89it/s]\r\n",
      "100%|███████████████████████████████████████| 2000/2000 [00:41<00:00, 48.75it/s]\r\n",
      "100%|███████████████████████████████████████| 2000/2000 [00:39<00:00, 50.15it/s]\r\n",
      "100%|███████████████████████████████████████| 2000/2000 [00:35<00:00, 57.03it/s]\r\n",
      "100%|███████████████████████████████████████| 2000/2000 [00:29<00:00, 68.18it/s]\r\n",
      "100%|███████████████████████████████████████| 2000/2000 [00:27<00:00, 72.48it/s]\r\n",
      "===================================\n",
      "Naive K-armed Bandit with definite Bernoulli arms\r\n",
      "Action profile: [0.21 0.14 0.16 0.17 0.13 0.18 0.06 0.09 0.2  0.25 0.24 0.02 0.05 0.04\r\n",
      " 0.12 0.9  0.01 0.1  0.08 0.22]\r\n",
      "Optimal arm: 15\r\n",
      "100%|███████████████████████████████████████| 2000/2000 [00:40<00:00, 49.91it/s]\r\n",
      "100%|███████████████████████████████████████| 2000/2000 [00:40<00:00, 49.31it/s]\r\n",
      "100%|███████████████████████████████████████| 2000/2000 [00:40<00:00, 49.60it/s]\r\n",
      "100%|███████████████████████████████████████| 2000/2000 [00:40<00:00, 49.58it/s]\r\n",
      "100%|███████████████████████████████████████| 2000/2000 [00:40<00:00, 49.66it/s]\r\n",
      "100%|███████████████████████████████████████| 2000/2000 [00:40<00:00, 49.65it/s]\r\n",
      "===================================\n",
      "Naive K-armed Bandit with definite Gaussian arms\r\n",
      "Action profile: [0.13 0.21 0.02 0.09 0.12 0.1  0.2  0.08 0.01 0.24 0.17 0.22 0.25 0.9\r\n",
      " 0.18 0.05 0.04 0.06 0.14 0.16]\r\n",
      "Optimal arm: 13\r\n",
      "100%|███████████████████████████████████████| 2000/2000 [00:40<00:00, 48.80it/s]\r\n",
      "100%|███████████████████████████████████████| 2000/2000 [00:41<00:00, 48.30it/s]\r\n",
      "100%|███████████████████████████████████████| 2000/2000 [00:41<00:00, 48.39it/s]\r\n",
      "100%|███████████████████████████████████████| 2000/2000 [00:41<00:00, 48.49it/s]\r\n",
      "100%|███████████████████████████████████████| 2000/2000 [00:41<00:00, 48.43it/s]\r\n",
      "100%|███████████████████████████████████████| 2000/2000 [00:41<00:00, 48.37it/s]\r\n"
     ]
    }
   ],
   "source": [
    "!python3 main.py --nsim $NSIM --nsteps $NSTEPS --bernoulli --n_arms $N_ARMS --tqdm --model mab --is_definite\n",
    "print(f\"=\" * 35)\n",
    "!python3 main.py --nsim $NSIM --nsteps $NSTEPS --n_arms $N_ARMS --tqdm --model mab --is_definite\n",
    "print(f\"=\" * 35)\n",
    "!python3 main.py --nsim $NSIM --nsteps $NSTEPS --bernoulli --n_arms $N_ARMS --tqdm --alpha $ALPHA --model mab --is_definite\n",
    "print(f\"=\" * 35)\n",
    "!python3 main.py --nsim $NSIM --nsteps $NSTEPS --n_arms $N_ARMS --tqdm --alpha $ALPHA --model mab --is_definite"
   ]
  },
  {
   "cell_type": "code",
   "execution_count": 7,
   "id": "c8b92940",
   "metadata": {
    "execution": {
     "iopub.execute_input": "2023-02-19T08:20:13.063642Z",
     "iopub.status.busy": "2023-02-19T08:20:13.063279Z",
     "iopub.status.idle": "2023-02-19T08:39:49.757702Z",
     "shell.execute_reply": "2023-02-19T08:39:49.756560Z"
    },
    "scrolled": false
   },
   "outputs": [
    {
     "name": "stdout",
     "output_type": "stream",
     "text": [
      "Naive K-armed Bandit with ambiguous Bernoulli arms\r\n",
      "Action profile: [0.99 0.67 0.76 0.72 0.92 0.69 0.86 0.79 0.83 0.7  0.9  0.65 0.95 0.81\r\n",
      " 0.97 0.74 0.88 0.78 0.94 0.85]\r\n",
      "Optimal arm: 0\r\n",
      "100%|███████████████████████████████████████| 2000/2000 [00:41<00:00, 48.31it/s]\r\n",
      "100%|███████████████████████████████████████| 2000/2000 [00:41<00:00, 48.28it/s]\r\n",
      "100%|███████████████████████████████████████| 2000/2000 [00:40<00:00, 49.48it/s]\r\n",
      "100%|███████████████████████████████████████| 2000/2000 [00:35<00:00, 56.59it/s]\r\n",
      "100%|███████████████████████████████████████| 2000/2000 [00:29<00:00, 67.73it/s]\r\n",
      "100%|███████████████████████████████████████| 2000/2000 [00:27<00:00, 72.53it/s]\r\n",
      "===================================\n",
      "Naive K-armed Bandit with ambiguous Gaussian arms\r\n",
      "Action profile: [0.95 0.99 0.94 0.79 0.72 0.83 0.9  0.88 0.78 0.67 0.76 0.74 0.69 0.97\r\n",
      " 0.81 0.92 0.7  0.85 0.86 0.65]\r\n",
      "Optimal arm: 1\r\n",
      "100%|███████████████████████████████████████| 2000/2000 [00:42<00:00, 47.58it/s]\r\n",
      "100%|███████████████████████████████████████| 2000/2000 [00:42<00:00, 47.39it/s]\r\n",
      "100%|███████████████████████████████████████| 2000/2000 [00:41<00:00, 48.43it/s]\r\n",
      "100%|███████████████████████████████████████| 2000/2000 [00:36<00:00, 55.08it/s]\r\n",
      "100%|███████████████████████████████████████| 2000/2000 [00:30<00:00, 65.79it/s]\r\n",
      "100%|███████████████████████████████████████| 2000/2000 [00:28<00:00, 70.60it/s]\r\n",
      "===================================\n",
      "Naive K-armed Bandit with ambiguous Bernoulli arms\r\n",
      "Action profile: [0.9  0.94 0.88 0.69 0.92 0.78 0.76 0.81 0.74 0.72 0.67 0.79 0.7  0.65\r\n",
      " 0.83 0.85 0.97 0.95 0.86 0.99]\r\n",
      "Optimal arm: 19\r\n",
      "100%|███████████████████████████████████████| 2000/2000 [00:40<00:00, 49.67it/s]\r\n",
      "100%|███████████████████████████████████████| 2000/2000 [00:40<00:00, 48.86it/s]\r\n",
      "100%|███████████████████████████████████████| 2000/2000 [00:40<00:00, 49.31it/s]\r\n",
      "100%|███████████████████████████████████████| 2000/2000 [00:40<00:00, 49.42it/s]\r\n",
      "100%|███████████████████████████████████████| 2000/2000 [00:40<00:00, 49.29it/s]\r\n",
      "100%|███████████████████████████████████████| 2000/2000 [00:40<00:00, 49.45it/s]\r\n",
      "===================================\n",
      "Naive K-armed Bandit with ambiguous Gaussian arms\r\n",
      "Action profile: [0.78 0.9  0.94 0.69 0.88 0.67 0.99 0.7  0.85 0.76 0.74 0.72 0.86 0.97\r\n",
      " 0.83 0.81 0.65 0.92 0.95 0.79]\r\n",
      "Optimal arm: 6\r\n",
      "100%|███████████████████████████████████████| 2000/2000 [00:42<00:00, 47.31it/s]\r\n",
      "100%|███████████████████████████████████████| 2000/2000 [00:42<00:00, 46.67it/s]\r\n",
      "100%|███████████████████████████████████████| 2000/2000 [00:42<00:00, 46.66it/s]\r\n",
      "100%|███████████████████████████████████████| 2000/2000 [00:42<00:00, 47.40it/s]\r\n",
      "100%|███████████████████████████████████████| 2000/2000 [00:42<00:00, 47.07it/s]\r\n",
      "100%|███████████████████████████████████████| 2000/2000 [00:42<00:00, 47.34it/s]\r\n"
     ]
    }
   ],
   "source": [
    "!python3 main.py --nsim $NSIM --nsteps $NSTEPS --bernoulli --n_arms $N_ARMS --tqdm --model mab\n",
    "print(f\"=\" * 35)\n",
    "!python3 main.py --nsim $NSIM --nsteps $NSTEPS --n_arms $N_ARMS --tqdm --model mab\n",
    "print(f\"=\" * 35)\n",
    "!python3 main.py --nsim $NSIM --nsteps $NSTEPS --bernoulli --n_arms $N_ARMS --tqdm --alpha $ALPHA --model mab\n",
    "print(f\"=\" * 35)\n",
    "!python3 main.py --nsim $NSIM --nsteps $NSTEPS --n_arms $N_ARMS --tqdm --alpha $ALPHA --model mab"
   ]
  },
  {
   "cell_type": "code",
   "execution_count": 8,
   "id": "7611c6ce",
   "metadata": {
    "execution": {
     "iopub.execute_input": "2023-02-19T08:39:49.762666Z",
     "iopub.status.busy": "2023-02-19T08:39:49.762326Z",
     "iopub.status.idle": "2023-02-19T08:59:16.232378Z",
     "shell.execute_reply": "2023-02-19T08:59:16.231199Z"
    },
    "scrolled": false
   },
   "outputs": [
    {
     "name": "stdout",
     "output_type": "stream",
     "text": [
      "Optimistic K-armed Bandit with definite Bernoulli arms\r\n",
      "Action profile: [0.21 0.12 0.04 0.9  0.1  0.05 0.22 0.18 0.13 0.09 0.06 0.14 0.08 0.2\r\n",
      " 0.17 0.24 0.01 0.16 0.25 0.02]\r\n",
      "Optimal arm: 3\r\n",
      "100%|███████████████████████████████████████| 2000/2000 [00:40<00:00, 49.21it/s]\r\n",
      "100%|███████████████████████████████████████| 2000/2000 [00:41<00:00, 48.52it/s]\r\n",
      "100%|███████████████████████████████████████| 2000/2000 [00:40<00:00, 49.59it/s]\r\n",
      "100%|███████████████████████████████████████| 2000/2000 [00:34<00:00, 57.30it/s]\r\n",
      "100%|███████████████████████████████████████| 2000/2000 [00:29<00:00, 66.83it/s]\r\n",
      "100%|███████████████████████████████████████| 2000/2000 [00:27<00:00, 73.21it/s]\r\n",
      "===================================\n",
      "Optimistic K-armed Bandit with definite Gaussian arms\r\n",
      "Action profile: [0.14 0.13 0.2  0.06 0.9  0.09 0.16 0.12 0.24 0.02 0.25 0.22 0.17 0.18\r\n",
      " 0.04 0.01 0.21 0.05 0.1  0.08]\r\n",
      "Optimal arm: 4\r\n",
      "100%|███████████████████████████████████████| 2000/2000 [00:41<00:00, 48.32it/s]\r\n",
      "100%|███████████████████████████████████████| 2000/2000 [00:41<00:00, 48.18it/s]\r\n",
      "100%|███████████████████████████████████████| 2000/2000 [00:40<00:00, 49.06it/s]\r\n",
      "100%|███████████████████████████████████████| 2000/2000 [00:35<00:00, 56.08it/s]\r\n",
      "100%|███████████████████████████████████████| 2000/2000 [00:29<00:00, 66.82it/s]\r\n",
      "100%|███████████████████████████████████████| 2000/2000 [00:28<00:00, 71.37it/s]\r\n",
      "===================================\n",
      "Optimistic K-armed Bandit with definite Bernoulli arms\r\n",
      "Action profile: [0.01 0.02 0.18 0.05 0.08 0.21 0.04 0.2  0.16 0.17 0.22 0.9  0.14 0.12\r\n",
      " 0.09 0.25 0.1  0.06 0.24 0.13]\r\n",
      "Optimal arm: 11\r\n",
      "100%|███████████████████████████████████████| 2000/2000 [00:40<00:00, 48.92it/s]\r\n",
      "100%|███████████████████████████████████████| 2000/2000 [00:41<00:00, 48.47it/s]\r\n",
      "100%|███████████████████████████████████████| 2000/2000 [00:40<00:00, 49.04it/s]\r\n",
      "100%|███████████████████████████████████████| 2000/2000 [00:40<00:00, 49.17it/s]\r\n",
      "100%|███████████████████████████████████████| 2000/2000 [00:40<00:00, 49.25it/s]\r\n",
      "100%|███████████████████████████████████████| 2000/2000 [00:40<00:00, 49.02it/s]\r\n",
      "===================================\n",
      "Optimistic K-armed Bandit with definite Gaussian arms\r\n",
      "Action profile: [0.25 0.17 0.18 0.06 0.09 0.08 0.02 0.04 0.13 0.24 0.05 0.9  0.2  0.1\r\n",
      " 0.01 0.16 0.21 0.12 0.14 0.22]\r\n",
      "Optimal arm: 11\r\n",
      "100%|███████████████████████████████████████| 2000/2000 [00:40<00:00, 48.79it/s]\r\n",
      "100%|███████████████████████████████████████| 2000/2000 [00:41<00:00, 48.44it/s]\r\n",
      "100%|███████████████████████████████████████| 2000/2000 [00:41<00:00, 48.45it/s]\r\n",
      "100%|███████████████████████████████████████| 2000/2000 [00:41<00:00, 48.67it/s]\r\n",
      "100%|███████████████████████████████████████| 2000/2000 [00:41<00:00, 48.72it/s]\r\n",
      "100%|███████████████████████████████████████| 2000/2000 [00:41<00:00, 48.56it/s]\r\n"
     ]
    }
   ],
   "source": [
    "!python3 main.py --nsim $NSIM --nsteps $NSTEPS --bernoulli --n_arms $N_ARMS --tqdm --model mab --initial $INITIAL --is_definite\n",
    "print(f\"=\" * 35)\n",
    "!python3 main.py --nsim $NSIM --nsteps $NSTEPS --n_arms $N_ARMS --tqdm --model mab --initial $INITIAL --is_definite                                                     \n",
    "print(f\"=\" * 35)\n",
    "!python3 main.py --nsim $NSIM --nsteps $NSTEPS --bernoulli --n_arms $N_ARMS --tqdm --alpha $ALPHA --model mab --initial $INITIAL --is_definite\n",
    "print(f\"=\" * 35)\n",
    "!python3 main.py --nsim $NSIM --nsteps $NSTEPS --n_arms $N_ARMS --tqdm --alpha $ALPHA --model mab --initial $INITIAL --is_definite"
   ]
  },
  {
   "cell_type": "code",
   "execution_count": 9,
   "id": "32176091",
   "metadata": {
    "execution": {
     "iopub.execute_input": "2023-02-19T08:59:16.237191Z",
     "iopub.status.busy": "2023-02-19T08:59:16.236864Z",
     "iopub.status.idle": "2023-02-19T09:18:51.610379Z",
     "shell.execute_reply": "2023-02-19T09:18:51.609248Z"
    }
   },
   "outputs": [
    {
     "name": "stdout",
     "output_type": "stream",
     "text": [
      "Optimistic K-armed Bandit with ambiguous Bernoulli arms\r\n",
      "Action profile: [0.67 0.95 0.72 0.65 0.9  0.97 0.7  0.78 0.92 0.76 0.88 0.81 0.94 0.99\r\n",
      " 0.86 0.79 0.85 0.69 0.74 0.83]\r\n",
      "Optimal arm: 13\r\n",
      "100%|███████████████████████████████████████| 2000/2000 [00:40<00:00, 49.36it/s]\r\n",
      "100%|███████████████████████████████████████| 2000/2000 [00:41<00:00, 48.43it/s]\r\n",
      "100%|███████████████████████████████████████| 2000/2000 [00:39<00:00, 50.10it/s]\r\n",
      "100%|███████████████████████████████████████| 2000/2000 [00:34<00:00, 57.63it/s]\r\n",
      "100%|███████████████████████████████████████| 2000/2000 [00:29<00:00, 68.14it/s]\r\n",
      "100%|███████████████████████████████████████| 2000/2000 [00:27<00:00, 73.42it/s]\r\n",
      "===================================\n",
      "Optimistic K-armed Bandit with ambiguous Gaussian arms\r\n",
      "Action profile: [0.97 0.95 0.69 0.86 0.99 0.85 0.9  0.92 0.78 0.65 0.67 0.94 0.74 0.83\r\n",
      " 0.7  0.76 0.79 0.88 0.72 0.81]\r\n",
      "Optimal arm: 4\r\n",
      "100%|███████████████████████████████████████| 2000/2000 [00:41<00:00, 47.64it/s]\r\n",
      "100%|███████████████████████████████████████| 2000/2000 [00:41<00:00, 48.00it/s]\r\n",
      "100%|███████████████████████████████████████| 2000/2000 [00:40<00:00, 48.89it/s]\r\n",
      "100%|███████████████████████████████████████| 2000/2000 [00:35<00:00, 55.60it/s]\r\n",
      "100%|███████████████████████████████████████| 2000/2000 [00:30<00:00, 66.01it/s]\r\n",
      "100%|███████████████████████████████████████| 2000/2000 [00:28<00:00, 70.10it/s]\r\n",
      "===================================\n",
      "Optimistic K-armed Bandit with ambiguous Bernoulli arms\r\n",
      "Action profile: [0.97 0.81 0.92 0.86 0.9  0.99 0.74 0.85 0.65 0.7  0.79 0.95 0.76 0.88\r\n",
      " 0.94 0.67 0.78 0.69 0.83 0.72]\r\n",
      "Optimal arm: 5\r\n",
      "100%|███████████████████████████████████████| 2000/2000 [00:40<00:00, 48.88it/s]\r\n",
      "100%|███████████████████████████████████████| 2000/2000 [00:41<00:00, 48.21it/s]\r\n",
      "100%|███████████████████████████████████████| 2000/2000 [00:41<00:00, 48.35it/s]\r\n",
      "100%|███████████████████████████████████████| 2000/2000 [00:41<00:00, 48.53it/s]\r\n",
      "100%|███████████████████████████████████████| 2000/2000 [00:41<00:00, 48.57it/s]\r\n",
      "100%|███████████████████████████████████████| 2000/2000 [00:41<00:00, 48.57it/s]\r\n",
      "===================================\n",
      "Optimistic K-armed Bandit with ambiguous Gaussian arms\r\n",
      "Action profile: [0.81 0.7  0.72 0.78 0.92 0.94 0.79 0.76 0.88 0.85 0.65 0.67 0.99 0.74\r\n",
      " 0.86 0.9  0.83 0.97 0.95 0.69]\r\n",
      "Optimal arm: 12\r\n",
      "100%|███████████████████████████████████████| 2000/2000 [00:42<00:00, 47.61it/s]\r\n",
      "100%|███████████████████████████████████████| 2000/2000 [00:42<00:00, 47.29it/s]\r\n",
      "100%|███████████████████████████████████████| 2000/2000 [00:42<00:00, 47.29it/s]\r\n",
      "100%|███████████████████████████████████████| 2000/2000 [00:42<00:00, 47.34it/s]\r\n",
      "100%|███████████████████████████████████████| 2000/2000 [00:42<00:00, 47.50it/s]\r\n",
      "100%|███████████████████████████████████████| 2000/2000 [00:42<00:00, 47.34it/s]\r\n"
     ]
    }
   ],
   "source": [
    "!python3 main.py --nsim $NSIM --nsteps $NSTEPS --bernoulli --n_arms $N_ARMS --tqdm --model mab --initial $INITIAL\n",
    "print(f\"=\" * 35)\n",
    "!python3 main.py --nsim $NSIM --nsteps $NSTEPS --n_arms $N_ARMS --tqdm --model mab --initial $INITIAL                                               \n",
    "print(f\"=\" * 35)\n",
    "!python3 main.py --nsim $NSIM --nsteps $NSTEPS --bernoulli --n_arms $N_ARMS --tqdm --alpha $ALPHA --model mab --initial $INITIAL\n",
    "print(f\"=\" * 35)\n",
    "!python3 main.py --nsim $NSIM --nsteps $NSTEPS --n_arms $N_ARMS --tqdm --alpha $ALPHA --model mab --initial $INITIAL"
   ]
  },
  {
   "cell_type": "code",
   "execution_count": 10,
   "id": "91a96d49",
   "metadata": {
    "execution": {
     "iopub.execute_input": "2023-02-19T09:18:51.615009Z",
     "iopub.status.busy": "2023-02-19T09:18:51.614683Z",
     "iopub.status.idle": "2023-02-19T09:43:43.197680Z",
     "shell.execute_reply": "2023-02-19T09:43:43.196551Z"
    }
   },
   "outputs": [
    {
     "name": "stdout",
     "output_type": "stream",
     "text": [
      "Naive Naive UCB Approach with definite Bernoulli arms\r\n",
      "Action profile: [0.13 0.06 0.1  0.14 0.9  0.02 0.21 0.2  0.04 0.16 0.08 0.09 0.24 0.12\r\n",
      " 0.22 0.01 0.17 0.05 0.25 0.18]\r\n",
      "Optimal arm: 4\r\n",
      "100%|███████████████████████████████████████| 2000/2000 [00:44<00:00, 44.88it/s]\r\n",
      "100%|███████████████████████████████████████| 2000/2000 [00:45<00:00, 43.80it/s]\r\n",
      "100%|███████████████████████████████████████| 2000/2000 [00:45<00:00, 43.94it/s]\r\n",
      "100%|███████████████████████████████████████| 2000/2000 [00:45<00:00, 43.59it/s]\r\n",
      "100%|███████████████████████████████████████| 2000/2000 [00:45<00:00, 44.06it/s]\r\n",
      "===================================\n",
      "Naive Naive UCB Approach with definite Gaussian arms\r\n",
      "Action profile: [0.16 0.17 0.21 0.13 0.01 0.08 0.18 0.2  0.09 0.1  0.12 0.9  0.06 0.04\r\n",
      " 0.14 0.24 0.02 0.25 0.05 0.22]\r\n",
      "Optimal arm: 11\r\n",
      "100%|███████████████████████████████████████| 2000/2000 [00:46<00:00, 43.18it/s]\r\n",
      "100%|███████████████████████████████████████| 2000/2000 [00:46<00:00, 43.12it/s]\r\n",
      "100%|███████████████████████████████████████| 2000/2000 [00:46<00:00, 43.04it/s]\r\n",
      "100%|███████████████████████████████████████| 2000/2000 [00:46<00:00, 43.13it/s]\r\n",
      "100%|███████████████████████████████████████| 2000/2000 [00:46<00:00, 43.01it/s]\r\n",
      "===================================\n",
      "Naive UCB-delta Algorithm with definite Bernoulli arms\r\n",
      "Action profile: [0.24 0.2  0.16 0.9  0.08 0.25 0.1  0.01 0.09 0.04 0.05 0.22 0.21 0.17\r\n",
      " 0.18 0.06 0.13 0.02 0.12 0.14]\r\n",
      "Optimal arm: 3\r\n",
      "100%|███████████████████████████████████████| 2000/2000 [00:45<00:00, 44.19it/s]\r\n",
      "100%|███████████████████████████████████████| 2000/2000 [00:45<00:00, 43.82it/s]\r\n",
      "100%|███████████████████████████████████████| 2000/2000 [00:45<00:00, 44.42it/s]\r\n",
      "100%|███████████████████████████████████████| 2000/2000 [00:44<00:00, 44.52it/s]\r\n",
      "100%|███████████████████████████████████████| 2000/2000 [00:44<00:00, 44.54it/s]\r\n",
      "100%|███████████████████████████████████████| 2000/2000 [00:44<00:00, 44.63it/s]\r\n",
      "===================================\n",
      "Naive UCB-delta Algorithm with definite Gaussian arms\r\n",
      "Action profile: [0.18 0.2  0.05 0.24 0.16 0.06 0.14 0.9  0.17 0.1  0.22 0.02 0.09 0.25\r\n",
      " 0.21 0.13 0.08 0.01 0.04 0.12]\r\n",
      "Optimal arm: 7\r\n",
      "100%|███████████████████████████████████████| 2000/2000 [00:46<00:00, 43.11it/s]\r\n",
      "100%|███████████████████████████████████████| 2000/2000 [00:46<00:00, 42.94it/s]\r\n",
      "100%|███████████████████████████████████████| 2000/2000 [00:46<00:00, 42.90it/s]\r\n",
      "100%|███████████████████████████████████████| 2000/2000 [00:46<00:00, 43.05it/s]\r\n",
      "100%|███████████████████████████████████████| 2000/2000 [00:46<00:00, 43.09it/s]\r\n",
      "100%|███████████████████████████████████████| 2000/2000 [00:46<00:00, 43.03it/s]\r\n",
      "===================================\n",
      "Naive Asymptotically Optimal UCB with definite Bernoulli arms\r\n",
      "Action profile: [0.24 0.06 0.09 0.25 0.17 0.1  0.13 0.05 0.9  0.02 0.14 0.12 0.21 0.18\r\n",
      " 0.01 0.08 0.2  0.22 0.04 0.16]\r\n",
      "Optimal arm: 8\r\n",
      "100%|███████████████████████████████████████| 2000/2000 [00:48<00:00, 41.02it/s]\r\n",
      "===================================\n",
      "Naive Asymptotically Optimal UCB with definite Gaussian arms\r\n",
      "Action profile: [0.21 0.09 0.22 0.12 0.25 0.14 0.9  0.24 0.1  0.08 0.13 0.17 0.16 0.04\r\n",
      " 0.01 0.05 0.02 0.18 0.06 0.2 ]\r\n",
      "Optimal arm: 6\r\n",
      "100%|███████████████████████████████████████| 2000/2000 [00:49<00:00, 40.24it/s]\r\n",
      "===================================\n",
      "Naive UCB MOSS Algorithm with definite Bernoulli arms\r\n",
      "Action profile: [0.14 0.04 0.12 0.02 0.08 0.24 0.13 0.9  0.2  0.21 0.22 0.06 0.09 0.01\r\n",
      " 0.1  0.16 0.17 0.18 0.05 0.25]\r\n",
      "Optimal arm: 7\r\n",
      "100%|███████████████████████████████████████| 2000/2000 [00:47<00:00, 42.31it/s]\r\n",
      "===================================\n",
      "Naive UCB MOSS Algorithm with definite Gaussian arms\r\n",
      "Action profile: [0.25 0.21 0.16 0.9  0.22 0.17 0.01 0.2  0.09 0.12 0.02 0.14 0.13 0.18\r\n",
      " 0.24 0.04 0.08 0.05 0.1  0.06]\r\n",
      "Optimal arm: 3\r\n",
      "100%|███████████████████████████████████████| 2000/2000 [00:47<00:00, 42.29it/s]\r\n"
     ]
    }
   ],
   "source": [
    "!python3 main.py --nsim $NSIM --nsteps $NSTEPS --bernoulli --n_arms $N_ARMS --tqdm --model ucbnaive --is_definite\n",
    "print(f\"=\" * 35)\n",
    "!python3 main.py --nsim $NSIM --nsteps $NSTEPS --n_arms $N_ARMS --tqdm --model ucbnaive --is_definite\n",
    "print(f\"=\" * 35)\n",
    "!python3 main.py --nsim $NSIM --nsteps $NSTEPS --bernoulli --n_arms $N_ARMS --tqdm --model ucbdelta --is_definite\n",
    "print(f\"=\" * 35)\n",
    "!python3 main.py --nsim $NSIM --nsteps $NSTEPS --n_arms $N_ARMS --tqdm --model ucbdelta --is_definite\n",
    "print(f\"=\" * 35)\n",
    "!python3 main.py --nsim $NSIM --nsteps $NSTEPS --bernoulli --n_arms $N_ARMS --tqdm --model ucbasym --is_definite\n",
    "print(f\"=\" * 35)\n",
    "!python3 main.py --nsim $NSIM --nsteps $NSTEPS --n_arms $N_ARMS --tqdm --model ucbasym --is_definite\n",
    "print(f\"=\" * 35)\n",
    "!python3 main.py --nsim $NSIM --nsteps $NSTEPS --bernoulli --n_arms $N_ARMS --tqdm --model ucbmoss --is_definite\n",
    "print(f\"=\" * 35)\n",
    "!python3 main.py --nsim $NSIM --nsteps $NSTEPS --n_arms $N_ARMS --tqdm --model ucbmoss --is_definite"
   ]
  },
  {
   "cell_type": "code",
   "execution_count": 11,
   "id": "ab5dec72",
   "metadata": {
    "execution": {
     "iopub.execute_input": "2023-02-19T09:43:43.202638Z",
     "iopub.status.busy": "2023-02-19T09:43:43.202315Z",
     "iopub.status.idle": "2023-02-19T10:08:22.017640Z",
     "shell.execute_reply": "2023-02-19T10:08:22.016495Z"
    }
   },
   "outputs": [
    {
     "name": "stdout",
     "output_type": "stream",
     "text": [
      "Naive Naive UCB Approach with ambiguous Bernoulli arms\r\n",
      "Action profile: [0.95 0.9  0.79 0.92 0.69 0.97 0.81 0.74 0.85 0.65 0.94 0.83 0.86 0.67\r\n",
      " 0.99 0.7  0.72 0.76 0.88 0.78]\r\n",
      "Optimal arm: 14\r\n",
      "100%|███████████████████████████████████████| 2000/2000 [00:43<00:00, 45.48it/s]\r\n",
      "100%|███████████████████████████████████████| 2000/2000 [00:43<00:00, 45.48it/s]\r\n",
      "100%|███████████████████████████████████████| 2000/2000 [00:44<00:00, 45.27it/s]\r\n",
      "100%|███████████████████████████████████████| 2000/2000 [00:44<00:00, 45.41it/s]\r\n",
      "100%|███████████████████████████████████████| 2000/2000 [00:44<00:00, 45.34it/s]\r\n",
      "===================================\n",
      "Naive Naive UCB Approach with ambiguous Gaussian arms\r\n",
      "Action profile: [0.74 0.81 0.7  0.72 0.65 0.78 0.95 0.69 0.97 0.83 0.88 0.92 0.79 0.9\r\n",
      " 0.67 0.94 0.76 0.85 0.86 0.99]\r\n",
      "Optimal arm: 19\r\n",
      "100%|███████████████████████████████████████| 2000/2000 [00:45<00:00, 43.92it/s]\r\n",
      "100%|███████████████████████████████████████| 2000/2000 [00:45<00:00, 43.58it/s]\r\n",
      "100%|███████████████████████████████████████| 2000/2000 [00:45<00:00, 43.55it/s]\r\n",
      "100%|███████████████████████████████████████| 2000/2000 [00:45<00:00, 43.54it/s]\r\n",
      "100%|███████████████████████████████████████| 2000/2000 [00:45<00:00, 43.64it/s]\r\n",
      "===================================\n",
      "Naive UCB-delta Algorithm with ambiguous Bernoulli arms\r\n",
      "Action profile: [0.88 0.67 0.65 0.81 0.85 0.72 0.78 0.86 0.99 0.76 0.83 0.69 0.94 0.97\r\n",
      " 0.79 0.92 0.95 0.74 0.7  0.9 ]\r\n",
      "Optimal arm: 8\r\n",
      "100%|███████████████████████████████████████| 2000/2000 [00:44<00:00, 44.49it/s]\r\n",
      "100%|███████████████████████████████████████| 2000/2000 [00:44<00:00, 44.85it/s]\r\n",
      "100%|███████████████████████████████████████| 2000/2000 [00:44<00:00, 44.66it/s]\r\n",
      "100%|███████████████████████████████████████| 2000/2000 [00:44<00:00, 44.84it/s]\r\n",
      "100%|███████████████████████████████████████| 2000/2000 [00:44<00:00, 44.80it/s]\r\n",
      "100%|███████████████████████████████████████| 2000/2000 [00:44<00:00, 44.70it/s]\r\n",
      "===================================\n",
      "Naive UCB-delta Algorithm with ambiguous Gaussian arms\r\n",
      "Action profile: [0.85 0.65 0.67 0.86 0.69 0.92 0.81 0.88 0.78 0.99 0.74 0.95 0.9  0.83\r\n",
      " 0.72 0.79 0.76 0.7  0.97 0.94]\r\n",
      "Optimal arm: 9\r\n",
      "100%|███████████████████████████████████████| 2000/2000 [00:45<00:00, 43.91it/s]\r\n",
      "100%|███████████████████████████████████████| 2000/2000 [00:46<00:00, 43.44it/s]\r\n",
      "100%|███████████████████████████████████████| 2000/2000 [00:45<00:00, 43.79it/s]\r\n",
      "100%|███████████████████████████████████████| 2000/2000 [00:45<00:00, 43.69it/s]\r\n",
      "100%|███████████████████████████████████████| 2000/2000 [00:45<00:00, 43.90it/s]\r\n",
      "100%|███████████████████████████████████████| 2000/2000 [00:45<00:00, 43.68it/s]\r\n",
      "===================================\n",
      "Naive Asymptotically Optimal UCB with ambiguous Bernoulli arms\r\n",
      "Action profile: [0.94 0.76 0.65 0.72 0.86 0.83 0.95 0.97 0.78 0.69 0.74 0.79 0.88 0.9\r\n",
      " 0.81 0.67 0.7  0.85 0.99 0.92]\r\n",
      "Optimal arm: 18\r\n",
      "100%|███████████████████████████████████████| 2000/2000 [00:47<00:00, 42.05it/s]\r\n",
      "===================================\n",
      "Naive Asymptotically Optimal UCB with ambiguous Gaussian arms\r\n",
      "Action profile: [0.88 0.81 0.79 0.65 0.92 0.9  0.69 0.86 0.94 0.85 0.72 0.76 0.78 0.95\r\n",
      " 0.97 0.7  0.99 0.67 0.74 0.83]\r\n",
      "Optimal arm: 16\r\n",
      "100%|███████████████████████████████████████| 2000/2000 [00:49<00:00, 40.01it/s]\r\n",
      "===================================\n",
      "Naive UCB MOSS Algorithm with ambiguous Bernoulli arms\r\n",
      "Action profile: [0.86 0.94 0.95 0.65 0.85 0.83 0.67 0.88 0.97 0.79 0.99 0.72 0.74 0.9\r\n",
      " 0.78 0.92 0.69 0.7  0.76 0.81]\r\n",
      "Optimal arm: 10\r\n",
      "100%|███████████████████████████████████████| 2000/2000 [00:47<00:00, 42.55it/s]\r\n",
      "===================================\n",
      "Naive UCB MOSS Algorithm with ambiguous Gaussian arms\r\n",
      "Action profile: [0.72 0.9  0.99 0.95 0.83 0.97 0.81 0.7  0.86 0.65 0.78 0.76 0.92 0.74\r\n",
      " 0.85 0.88 0.94 0.69 0.67 0.79]\r\n",
      "Optimal arm: 2\r\n",
      "100%|███████████████████████████████████████| 2000/2000 [00:48<00:00, 41.19it/s]\r\n"
     ]
    }
   ],
   "source": [
    "!python3 main.py --nsim $NSIM --nsteps $NSTEPS --bernoulli --n_arms $N_ARMS --tqdm --model ucbnaive\n",
    "print(f\"=\" * 35)\n",
    "!python3 main.py --nsim $NSIM --nsteps $NSTEPS --n_arms $N_ARMS --tqdm --model ucbnaive\n",
    "print(f\"=\" * 35)\n",
    "!python3 main.py --nsim $NSIM --nsteps $NSTEPS --bernoulli --n_arms $N_ARMS --tqdm --model ucbdelta\n",
    "print(f\"=\" * 35)\n",
    "!python3 main.py --nsim $NSIM --nsteps $NSTEPS --n_arms $N_ARMS --tqdm --model ucbdelta\n",
    "print(f\"=\" * 35)\n",
    "!python3 main.py --nsim $NSIM --nsteps $NSTEPS --bernoulli --n_arms $N_ARMS --tqdm --model ucbasym\n",
    "print(f\"=\" * 35)\n",
    "!python3 main.py --nsim $NSIM --nsteps $NSTEPS --n_arms $N_ARMS --tqdm --model ucbasym\n",
    "print(f\"=\" * 35)\n",
    "!python3 main.py --nsim $NSIM --nsteps $NSTEPS --bernoulli --n_arms $N_ARMS --tqdm --model ucbmoss\n",
    "print(f\"=\" * 35)\n",
    "!python3 main.py --nsim $NSIM --nsteps $NSTEPS --n_arms $N_ARMS --tqdm --model ucbmoss"
   ]
  },
  {
   "cell_type": "code",
   "execution_count": 12,
   "id": "807c934f",
   "metadata": {
    "execution": {
     "iopub.execute_input": "2023-02-19T10:08:22.022670Z",
     "iopub.status.busy": "2023-02-19T10:08:22.022348Z",
     "iopub.status.idle": "2023-02-19T10:11:40.911430Z",
     "shell.execute_reply": "2023-02-19T10:11:40.910416Z"
    }
   },
   "outputs": [
    {
     "name": "stdout",
     "output_type": "stream",
     "text": [
      "Naive Thompson Sampling with definite Bernoulli arms\r\n",
      "Action profile: [0.09 0.04 0.01 0.22 0.02 0.14 0.9  0.13 0.08 0.25 0.2  0.05 0.18 0.24\r\n",
      " 0.06 0.1  0.16 0.21 0.17 0.12]\r\n",
      "Optimal arm: 6\r\n",
      "100%|███████████████████████████████████████| 2000/2000 [01:27<00:00, 22.98it/s]\r\n",
      "===================================\n",
      "Naive Thompson Sampling with definite Gaussian arms\r\n",
      "Action profile: [0.18 0.06 0.1  0.08 0.24 0.13 0.02 0.14 0.2  0.09 0.25 0.04 0.17 0.22\r\n",
      " 0.05 0.21 0.12 0.16 0.01 0.9 ]\r\n",
      "Optimal arm: 19\r\n",
      "100%|███████████████████████████████████████| 2000/2000 [01:28<00:00, 22.56it/s]\r\n"
     ]
    }
   ],
   "source": [
    "!python3 main.py --nsim $NSIM --nsteps $NSTEPS --bernoulli --n_arms $N_ARMS --tqdm --model thompson --is_definite\n",
    "print(f\"=\" * 35)\n",
    "!python3 main.py --nsim $NSIM --nsteps $NSTEPS --n_arms $N_ARMS --tqdm --model thompson --is_definite"
   ]
  },
  {
   "cell_type": "code",
   "execution_count": 13,
   "id": "febc892f",
   "metadata": {
    "execution": {
     "iopub.execute_input": "2023-02-19T10:11:40.916024Z",
     "iopub.status.busy": "2023-02-19T10:11:40.915708Z",
     "iopub.status.idle": "2023-02-19T10:15:01.068712Z",
     "shell.execute_reply": "2023-02-19T10:15:01.067732Z"
    }
   },
   "outputs": [
    {
     "name": "stdout",
     "output_type": "stream",
     "text": [
      "Naive Thompson Sampling with ambiguous Bernoulli arms\r\n",
      "Action profile: [0.85 0.97 0.65 0.83 0.67 0.7  0.76 0.81 0.69 0.79 0.9  0.92 0.88 0.86\r\n",
      " 0.99 0.74 0.94 0.78 0.72 0.95]\r\n",
      "Optimal arm: 14\r\n",
      "100%|███████████████████████████████████████| 2000/2000 [01:29<00:00, 22.39it/s]\r\n",
      "===================================\n",
      "Naive Thompson Sampling with ambiguous Gaussian arms\r\n",
      "Action profile: [0.95 0.69 0.83 0.85 0.79 0.94 0.78 0.88 0.92 0.9  0.74 0.97 0.72 0.67\r\n",
      " 0.7  0.81 0.99 0.86 0.76 0.65]\r\n",
      "Optimal arm: 16\r\n",
      "100%|███████████████████████████████████████| 2000/2000 [01:27<00:00, 22.82it/s]\r\n"
     ]
    }
   ],
   "source": [
    "!python3 main.py --nsim $NSIM --nsteps $NSTEPS --bernoulli --n_arms $N_ARMS --tqdm --model thompson\n",
    "print(f\"=\" * 35)\n",
    "!python3 main.py --nsim $NSIM --nsteps $NSTEPS --n_arms $N_ARMS --tqdm --model thompson"
   ]
  },
  {
   "cell_type": "code",
   "execution_count": 14,
   "id": "fbba7a69",
   "metadata": {
    "execution": {
     "iopub.execute_input": "2023-02-19T10:15:01.072950Z",
     "iopub.status.busy": "2023-02-19T10:15:01.072636Z",
     "iopub.status.idle": "2023-02-19T10:18:53.042126Z",
     "shell.execute_reply": "2023-02-19T10:18:53.041145Z"
    }
   },
   "outputs": [
    {
     "name": "stdout",
     "output_type": "stream",
     "text": [
      "Naive Explore-then-commit with definite Bernoulli arms\r\n",
      "Action profile: [0.09 0.05 0.02 0.06 0.9  0.1  0.22 0.16 0.14 0.21 0.24 0.17 0.2  0.25\r\n",
      " 0.04 0.13 0.12 0.18 0.01 0.08]\r\n",
      "Optimal arm: 4\r\n",
      "100%|███████████████████████████████████████| 2000/2000 [00:34<00:00, 57.91it/s]\r\n",
      "100%|███████████████████████████████████████| 2000/2000 [00:28<00:00, 70.00it/s]\r\n",
      "100%|██████████████████████████████████████| 2000/2000 [00:19<00:00, 101.19it/s]\r\n",
      "Traceback (most recent call last):\r\n",
      "  File \"/home/sungwoopark/rl-practice/bandit/MAB/main.py\", line 150, in <module>\r\n",
      "    learner = ETC(n_arms=cfg.n_arms, explore=exp, horizon=cfg.nsteps)\r\n",
      "  File \"/home/sungwoopark/rl-practice/bandit/MAB/mab.py\", line 61, in __init__\r\n",
      "    assert explore * n_arms < horizon\r\n",
      "AssertionError\r\n",
      "===================================\n",
      "Naive Explore-then-commit with definite Gaussian arms\r\n",
      "Action profile: [0.05 0.01 0.24 0.14 0.9  0.06 0.22 0.17 0.12 0.02 0.1  0.13 0.18 0.25\r\n",
      " 0.08 0.16 0.21 0.04 0.2  0.09]\r\n",
      "Optimal arm: 4\r\n",
      "100%|███████████████████████████████████████| 2000/2000 [00:36<00:00, 55.05it/s]\r\n",
      "100%|███████████████████████████████████████| 2000/2000 [00:30<00:00, 65.75it/s]\r\n",
      "100%|███████████████████████████████████████| 2000/2000 [00:21<00:00, 94.52it/s]\r\n",
      "Traceback (most recent call last):\r\n",
      "  File \"/home/sungwoopark/rl-practice/bandit/MAB/main.py\", line 150, in <module>\r\n",
      "    learner = ETC(n_arms=cfg.n_arms, explore=exp, horizon=cfg.nsteps)\r\n",
      "  File \"/home/sungwoopark/rl-practice/bandit/MAB/mab.py\", line 61, in __init__\r\n",
      "    assert explore * n_arms < horizon\r\n",
      "AssertionError\r\n"
     ]
    }
   ],
   "source": [
    "!python3 main.py --nsim $NSIM --nsteps $NSTEPS --bernoulli --n_arms $N_ARMS --tqdm --model etc --is_definite\n",
    "print(f\"=\" * 35)\n",
    "!python3 main.py --nsim $NSIM --nsteps $NSTEPS --n_arms $N_ARMS --tqdm --model etc --is_definite"
   ]
  },
  {
   "cell_type": "code",
   "execution_count": 15,
   "id": "62cd83e1",
   "metadata": {
    "execution": {
     "iopub.execute_input": "2023-02-19T10:18:53.046656Z",
     "iopub.status.busy": "2023-02-19T10:18:53.046212Z",
     "iopub.status.idle": "2023-02-19T10:22:45.173596Z",
     "shell.execute_reply": "2023-02-19T10:22:45.172623Z"
    }
   },
   "outputs": [
    {
     "name": "stdout",
     "output_type": "stream",
     "text": [
      "Naive Explore-then-commit with ambiguous Bernoulli arms\r\n",
      "Action profile: [0.86 0.99 0.76 0.65 0.78 0.95 0.97 0.88 0.79 0.9  0.7  0.94 0.72 0.81\r\n",
      " 0.85 0.69 0.92 0.67 0.74 0.83]\r\n",
      "Optimal arm: 1\r\n",
      "100%|███████████████████████████████████████| 2000/2000 [00:34<00:00, 57.72it/s]\r\n",
      "100%|███████████████████████████████████████| 2000/2000 [00:28<00:00, 69.45it/s]\r\n",
      "100%|██████████████████████████████████████| 2000/2000 [00:19<00:00, 100.67it/s]\r\n",
      "Traceback (most recent call last):\r\n",
      "  File \"/home/sungwoopark/rl-practice/bandit/MAB/main.py\", line 150, in <module>\r\n",
      "    learner = ETC(n_arms=cfg.n_arms, explore=exp, horizon=cfg.nsteps)\r\n",
      "  File \"/home/sungwoopark/rl-practice/bandit/MAB/mab.py\", line 61, in __init__\r\n",
      "    assert explore * n_arms < horizon\r\n",
      "AssertionError\r\n",
      "===================================\n",
      "Naive Explore-then-commit with ambiguous Gaussian arms\r\n",
      "Action profile: [0.86 0.83 0.95 0.99 0.74 0.81 0.97 0.72 0.79 0.76 0.9  0.7  0.88 0.65\r\n",
      " 0.85 0.92 0.94 0.67 0.78 0.69]\r\n",
      "Optimal arm: 3\r\n",
      "100%|███████████████████████████████████████| 2000/2000 [00:36<00:00, 55.16it/s]\r\n",
      "100%|███████████████████████████████████████| 2000/2000 [00:30<00:00, 65.89it/s]\r\n",
      "100%|███████████████████████████████████████| 2000/2000 [00:21<00:00, 93.98it/s]\r\n",
      "Traceback (most recent call last):\r\n",
      "  File \"/home/sungwoopark/rl-practice/bandit/MAB/main.py\", line 150, in <module>\r\n",
      "    learner = ETC(n_arms=cfg.n_arms, explore=exp, horizon=cfg.nsteps)\r\n",
      "  File \"/home/sungwoopark/rl-practice/bandit/MAB/mab.py\", line 61, in __init__\r\n",
      "    assert explore * n_arms < horizon\r\n",
      "AssertionError\r\n"
     ]
    }
   ],
   "source": [
    "!python3 main.py --nsim $NSIM --nsteps $NSTEPS --bernoulli --n_arms $N_ARMS --tqdm --model etc\n",
    "print(f\"=\" * 35)\n",
    "!python3 main.py --nsim $NSIM --nsteps $NSTEPS --n_arms $N_ARMS --tqdm --model etc"
   ]
  },
  {
   "cell_type": "code",
   "execution_count": null,
   "id": "a082d94d",
   "metadata": {},
   "outputs": [],
   "source": []
  }
 ],
 "metadata": {
  "kernelspec": {
   "display_name": "Python 3",
   "language": "python",
   "name": "python3"
  },
  "language_info": {
   "codemirror_mode": {
    "name": "ipython",
    "version": 3
   },
   "file_extension": ".py",
   "mimetype": "text/x-python",
   "name": "python",
   "nbconvert_exporter": "python",
   "pygments_lexer": "ipython3",
   "version": "3.9.15"
  }
 },
 "nbformat": 4,
 "nbformat_minor": 5
}
